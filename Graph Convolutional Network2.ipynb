{
  "cells": [
    {
      "cell_type": "markdown",
      "metadata": {
        "id": "view-in-github",
        "colab_type": "text"
      },
      "source": [
        "<a href=\"https://colab.research.google.com/github/JHyunjun/SNU/blob/main/Graph%20Convolutional%20Network2.ipynb\" target=\"_parent\"><img src=\"https://colab.research.google.com/assets/colab-badge.svg\" alt=\"Open In Colab\"/></a>"
      ]
    },
    {
      "cell_type": "markdown",
      "metadata": {
        "id": "TCE0-ikY_eMM"
      },
      "source": [
        "# Graph Convolutional Network - Lab 2"
      ]
    },
    {
      "cell_type": "markdown",
      "metadata": {
        "id": "P_BS-Fcn_eMW"
      },
      "source": [
        "## Data Preprocessing"
      ]
    },
    {
      "cell_type": "code",
      "execution_count": 2,
      "metadata": {
        "id": "N7IvSeiK_eMY"
      },
      "outputs": [],
      "source": [
        "import numpy as np\n",
        "import tensorflow as tf\n",
        "import pandas as pd"
      ]
    },
    {
      "cell_type": "code",
      "execution_count": 3,
      "metadata": {
        "id": "xDVmPPRY_eMc",
        "outputId": "4c2fbf15-e4f7-40f7-b7b5-079cd54c4388",
        "colab": {
          "base_uri": "https://localhost:8080/",
          "height": 299
        }
      },
      "outputs": [
        {
          "output_type": "execute_result",
          "data": {
            "text/plain": [
              "      0     1     2     3     4     5     6     7     8     9     ...  1425  \\\n",
              "0    31336     0     0     0     0     0     0     0     0     0  ...     0   \n",
              "1  1061127     0     0     0     0     0     0     0     0     0  ...     0   \n",
              "2  1106406     0     0     0     0     0     0     0     0     0  ...     0   \n",
              "3    13195     0     0     0     0     0     0     0     0     0  ...     0   \n",
              "4    37879     0     0     0     0     0     0     0     0     0  ...     0   \n",
              "\n",
              "   1426  1427  1428  1429  1430  1431  1432  1433                    1434  \n",
              "0     0     1     0     0     0     0     0     0         Neural_Networks  \n",
              "1     1     0     0     0     0     0     0     0           Rule_Learning  \n",
              "2     0     0     0     0     0     0     0     0  Reinforcement_Learning  \n",
              "3     0     0     0     0     0     0     0     0  Reinforcement_Learning  \n",
              "4     0     0     0     0     0     0     0     0   Probabilistic_Methods  \n",
              "\n",
              "[5 rows x 1435 columns]"
            ],
            "text/html": [
              "\n",
              "  <div id=\"df-cd70c866-5968-4c42-b049-e49e049d1765\">\n",
              "    <div class=\"colab-df-container\">\n",
              "      <div>\n",
              "<style scoped>\n",
              "    .dataframe tbody tr th:only-of-type {\n",
              "        vertical-align: middle;\n",
              "    }\n",
              "\n",
              "    .dataframe tbody tr th {\n",
              "        vertical-align: top;\n",
              "    }\n",
              "\n",
              "    .dataframe thead th {\n",
              "        text-align: right;\n",
              "    }\n",
              "</style>\n",
              "<table border=\"1\" class=\"dataframe\">\n",
              "  <thead>\n",
              "    <tr style=\"text-align: right;\">\n",
              "      <th></th>\n",
              "      <th>0</th>\n",
              "      <th>1</th>\n",
              "      <th>2</th>\n",
              "      <th>3</th>\n",
              "      <th>4</th>\n",
              "      <th>5</th>\n",
              "      <th>6</th>\n",
              "      <th>7</th>\n",
              "      <th>8</th>\n",
              "      <th>9</th>\n",
              "      <th>...</th>\n",
              "      <th>1425</th>\n",
              "      <th>1426</th>\n",
              "      <th>1427</th>\n",
              "      <th>1428</th>\n",
              "      <th>1429</th>\n",
              "      <th>1430</th>\n",
              "      <th>1431</th>\n",
              "      <th>1432</th>\n",
              "      <th>1433</th>\n",
              "      <th>1434</th>\n",
              "    </tr>\n",
              "  </thead>\n",
              "  <tbody>\n",
              "    <tr>\n",
              "      <th>0</th>\n",
              "      <td>31336</td>\n",
              "      <td>0</td>\n",
              "      <td>0</td>\n",
              "      <td>0</td>\n",
              "      <td>0</td>\n",
              "      <td>0</td>\n",
              "      <td>0</td>\n",
              "      <td>0</td>\n",
              "      <td>0</td>\n",
              "      <td>0</td>\n",
              "      <td>...</td>\n",
              "      <td>0</td>\n",
              "      <td>0</td>\n",
              "      <td>1</td>\n",
              "      <td>0</td>\n",
              "      <td>0</td>\n",
              "      <td>0</td>\n",
              "      <td>0</td>\n",
              "      <td>0</td>\n",
              "      <td>0</td>\n",
              "      <td>Neural_Networks</td>\n",
              "    </tr>\n",
              "    <tr>\n",
              "      <th>1</th>\n",
              "      <td>1061127</td>\n",
              "      <td>0</td>\n",
              "      <td>0</td>\n",
              "      <td>0</td>\n",
              "      <td>0</td>\n",
              "      <td>0</td>\n",
              "      <td>0</td>\n",
              "      <td>0</td>\n",
              "      <td>0</td>\n",
              "      <td>0</td>\n",
              "      <td>...</td>\n",
              "      <td>0</td>\n",
              "      <td>1</td>\n",
              "      <td>0</td>\n",
              "      <td>0</td>\n",
              "      <td>0</td>\n",
              "      <td>0</td>\n",
              "      <td>0</td>\n",
              "      <td>0</td>\n",
              "      <td>0</td>\n",
              "      <td>Rule_Learning</td>\n",
              "    </tr>\n",
              "    <tr>\n",
              "      <th>2</th>\n",
              "      <td>1106406</td>\n",
              "      <td>0</td>\n",
              "      <td>0</td>\n",
              "      <td>0</td>\n",
              "      <td>0</td>\n",
              "      <td>0</td>\n",
              "      <td>0</td>\n",
              "      <td>0</td>\n",
              "      <td>0</td>\n",
              "      <td>0</td>\n",
              "      <td>...</td>\n",
              "      <td>0</td>\n",
              "      <td>0</td>\n",
              "      <td>0</td>\n",
              "      <td>0</td>\n",
              "      <td>0</td>\n",
              "      <td>0</td>\n",
              "      <td>0</td>\n",
              "      <td>0</td>\n",
              "      <td>0</td>\n",
              "      <td>Reinforcement_Learning</td>\n",
              "    </tr>\n",
              "    <tr>\n",
              "      <th>3</th>\n",
              "      <td>13195</td>\n",
              "      <td>0</td>\n",
              "      <td>0</td>\n",
              "      <td>0</td>\n",
              "      <td>0</td>\n",
              "      <td>0</td>\n",
              "      <td>0</td>\n",
              "      <td>0</td>\n",
              "      <td>0</td>\n",
              "      <td>0</td>\n",
              "      <td>...</td>\n",
              "      <td>0</td>\n",
              "      <td>0</td>\n",
              "      <td>0</td>\n",
              "      <td>0</td>\n",
              "      <td>0</td>\n",
              "      <td>0</td>\n",
              "      <td>0</td>\n",
              "      <td>0</td>\n",
              "      <td>0</td>\n",
              "      <td>Reinforcement_Learning</td>\n",
              "    </tr>\n",
              "    <tr>\n",
              "      <th>4</th>\n",
              "      <td>37879</td>\n",
              "      <td>0</td>\n",
              "      <td>0</td>\n",
              "      <td>0</td>\n",
              "      <td>0</td>\n",
              "      <td>0</td>\n",
              "      <td>0</td>\n",
              "      <td>0</td>\n",
              "      <td>0</td>\n",
              "      <td>0</td>\n",
              "      <td>...</td>\n",
              "      <td>0</td>\n",
              "      <td>0</td>\n",
              "      <td>0</td>\n",
              "      <td>0</td>\n",
              "      <td>0</td>\n",
              "      <td>0</td>\n",
              "      <td>0</td>\n",
              "      <td>0</td>\n",
              "      <td>0</td>\n",
              "      <td>Probabilistic_Methods</td>\n",
              "    </tr>\n",
              "  </tbody>\n",
              "</table>\n",
              "<p>5 rows × 1435 columns</p>\n",
              "</div>\n",
              "      <button class=\"colab-df-convert\" onclick=\"convertToInteractive('df-cd70c866-5968-4c42-b049-e49e049d1765')\"\n",
              "              title=\"Convert this dataframe to an interactive table.\"\n",
              "              style=\"display:none;\">\n",
              "        \n",
              "  <svg xmlns=\"http://www.w3.org/2000/svg\" height=\"24px\"viewBox=\"0 0 24 24\"\n",
              "       width=\"24px\">\n",
              "    <path d=\"M0 0h24v24H0V0z\" fill=\"none\"/>\n",
              "    <path d=\"M18.56 5.44l.94 2.06.94-2.06 2.06-.94-2.06-.94-.94-2.06-.94 2.06-2.06.94zm-11 1L8.5 8.5l.94-2.06 2.06-.94-2.06-.94L8.5 2.5l-.94 2.06-2.06.94zm10 10l.94 2.06.94-2.06 2.06-.94-2.06-.94-.94-2.06-.94 2.06-2.06.94z\"/><path d=\"M17.41 7.96l-1.37-1.37c-.4-.4-.92-.59-1.43-.59-.52 0-1.04.2-1.43.59L10.3 9.45l-7.72 7.72c-.78.78-.78 2.05 0 2.83L4 21.41c.39.39.9.59 1.41.59.51 0 1.02-.2 1.41-.59l7.78-7.78 2.81-2.81c.8-.78.8-2.07 0-2.86zM5.41 20L4 18.59l7.72-7.72 1.47 1.35L5.41 20z\"/>\n",
              "  </svg>\n",
              "      </button>\n",
              "      \n",
              "  <style>\n",
              "    .colab-df-container {\n",
              "      display:flex;\n",
              "      flex-wrap:wrap;\n",
              "      gap: 12px;\n",
              "    }\n",
              "\n",
              "    .colab-df-convert {\n",
              "      background-color: #E8F0FE;\n",
              "      border: none;\n",
              "      border-radius: 50%;\n",
              "      cursor: pointer;\n",
              "      display: none;\n",
              "      fill: #1967D2;\n",
              "      height: 32px;\n",
              "      padding: 0 0 0 0;\n",
              "      width: 32px;\n",
              "    }\n",
              "\n",
              "    .colab-df-convert:hover {\n",
              "      background-color: #E2EBFA;\n",
              "      box-shadow: 0px 1px 2px rgba(60, 64, 67, 0.3), 0px 1px 3px 1px rgba(60, 64, 67, 0.15);\n",
              "      fill: #174EA6;\n",
              "    }\n",
              "\n",
              "    [theme=dark] .colab-df-convert {\n",
              "      background-color: #3B4455;\n",
              "      fill: #D2E3FC;\n",
              "    }\n",
              "\n",
              "    [theme=dark] .colab-df-convert:hover {\n",
              "      background-color: #434B5C;\n",
              "      box-shadow: 0px 1px 3px 1px rgba(0, 0, 0, 0.15);\n",
              "      filter: drop-shadow(0px 1px 2px rgba(0, 0, 0, 0.3));\n",
              "      fill: #FFFFFF;\n",
              "    }\n",
              "  </style>\n",
              "\n",
              "      <script>\n",
              "        const buttonEl =\n",
              "          document.querySelector('#df-cd70c866-5968-4c42-b049-e49e049d1765 button.colab-df-convert');\n",
              "        buttonEl.style.display =\n",
              "          google.colab.kernel.accessAllowed ? 'block' : 'none';\n",
              "\n",
              "        async function convertToInteractive(key) {\n",
              "          const element = document.querySelector('#df-cd70c866-5968-4c42-b049-e49e049d1765');\n",
              "          const dataTable =\n",
              "            await google.colab.kernel.invokeFunction('convertToInteractive',\n",
              "                                                     [key], {});\n",
              "          if (!dataTable) return;\n",
              "\n",
              "          const docLinkHtml = 'Like what you see? Visit the ' +\n",
              "            '<a target=\"_blank\" href=https://colab.research.google.com/notebooks/data_table.ipynb>data table notebook</a>'\n",
              "            + ' to learn more about interactive tables.';\n",
              "          element.innerHTML = '';\n",
              "          dataTable['output_type'] = 'display_data';\n",
              "          await google.colab.output.renderOutput(dataTable, element);\n",
              "          const docLink = document.createElement('div');\n",
              "          docLink.innerHTML = docLinkHtml;\n",
              "          element.appendChild(docLink);\n",
              "        }\n",
              "      </script>\n",
              "    </div>\n",
              "  </div>\n",
              "  "
            ]
          },
          "metadata": {},
          "execution_count": 3
        }
      ],
      "source": [
        "path = '/content/drive/MyDrive/Colab Notebooks/snu/w4/실습자료/7-29 gcn-cora/cora/cora.content'\n",
        "cora_content = pd.read_csv(path, sep='\\t', header=None)\n",
        "cora_content.head()"
      ]
    },
    {
      "cell_type": "code",
      "execution_count": 4,
      "metadata": {
        "scrolled": true,
        "id": "CiQRCDIj_eMf",
        "colab": {
          "base_uri": "https://localhost:8080/"
        },
        "outputId": "523a7273-ab94-4221-a820-7c0ecb7cbf0e"
      },
      "outputs": [
        {
          "output_type": "stream",
          "name": "stdout",
          "text": [
            "Case_Based 298\n",
            "Genetic_Algorithms 418\n",
            "Neural_Networks 818\n",
            "Probabilistic_Methods 426\n",
            "Reinforcement_Learning 217\n",
            "Rule_Learning 180\n",
            "Theory 351\n"
          ]
        }
      ],
      "source": [
        "ids = cora_content[0].values # paper(node) ids\n",
        "vecs = cora_content.iloc[:, 1:1434].values # node features\n",
        "labels = cora_content[1434].values # node labels\n",
        "\n",
        "for l in np.unique(labels):\n",
        "    print(l, labels[labels == l].shape[0])"
      ]
    },
    {
      "cell_type": "code",
      "execution_count": 5,
      "metadata": {
        "id": "DJ1lruCq_eMh",
        "colab": {
          "base_uri": "https://localhost:8080/"
        },
        "outputId": "cbc5b358-1817-4429-8bba-1e8d8df7c735"
      },
      "outputs": [
        {
          "output_type": "stream",
          "name": "stdout",
          "text": [
            "   Case_Based  Genetic_Algorithms  Neural_Networks  Probabilistic_Methods  \\\n",
            "0           0                   0                1                      0   \n",
            "1           0                   0                0                      0   \n",
            "2           0                   0                0                      0   \n",
            "3           0                   0                0                      0   \n",
            "4           0                   0                0                      1   \n",
            "\n",
            "   Reinforcement_Learning  Rule_Learning  Theory  \n",
            "0                       0              0       0  \n",
            "1                       0              1       0  \n",
            "2                       1              0       0  \n",
            "3                       1              0       0  \n",
            "4                       0              0       0  \n"
          ]
        }
      ],
      "source": [
        "# one hot encode node labels\n",
        "labels_onehot = pd.get_dummies(labels)\n",
        "\n",
        "print(labels_onehot[:5])"
      ]
    },
    {
      "cell_type": "code",
      "execution_count": 6,
      "metadata": {
        "id": "GVJkidXw_eMi",
        "colab": {
          "base_uri": "https://localhost:8080/"
        },
        "outputId": "c5b67434-12ee-4b09-9dde-cbe513fdfe1f"
      },
      "outputs": [
        {
          "output_type": "stream",
          "name": "stdout",
          "text": [
            "(2708,) (2708, 1433) (2708, 7)\n"
          ]
        }
      ],
      "source": [
        "inds = np.arange(ids.shape[0]) # use index at identifying each node\n",
        "x = vecs\n",
        "y = labels_onehot\n",
        "print(ids.shape, x.shape, y.shape)"
      ]
    },
    {
      "cell_type": "code",
      "execution_count": 7,
      "metadata": {
        "id": "SpHxz-gl_eMk",
        "colab": {
          "base_uri": "https://localhost:8080/"
        },
        "outputId": "435f76a6-9103-4469-b5cf-8aa9da98cafc"
      },
      "outputs": [
        {
          "output_type": "stream",
          "name": "stdout",
          "text": [
            "(56,) (14,) (700,)\n"
          ]
        }
      ],
      "source": [
        "from sklearn.model_selection import train_test_split\n",
        "\n",
        "num_classes = 7\n",
        "num_per_train = 10\n",
        "num_per_test = 100\n",
        "\n",
        "y_train, y_test, idx_train, idx_test = train_test_split(\n",
        "    y, inds, stratify=y, random_state=42,\n",
        "    train_size=num_classes * num_per_train,\n",
        "    test_size=num_classes * num_per_test)\n",
        "\n",
        "idx_train, idx_valid = train_test_split(\n",
        "    idx_train, stratify=y_train, random_state=42,\n",
        "    train_size=int(num_classes * num_per_train * 0.8),\n",
        "    test_size=int(num_classes * num_per_train * 0.2))\n",
        "\n",
        "print(idx_train.shape, idx_valid.shape, idx_test.shape)"
      ]
    },
    {
      "cell_type": "markdown",
      "metadata": {
        "id": "EwnU64st_eMl"
      },
      "source": [
        "## Skeleton Codes"
      ]
    },
    {
      "cell_type": "code",
      "execution_count": 8,
      "metadata": {
        "id": "Mc4ouuv2_eMn"
      },
      "outputs": [],
      "source": [
        "from tensorflow import sparse\n",
        "# from tensorflow.layers import Dense\n",
        "from tensorflow.keras.layers import Dense\n",
        "from tensorflow.keras import Model\n"
      ]
    },
    {
      "cell_type": "code",
      "execution_count": 13,
      "metadata": {
        "id": "rMZzBBlb_eMo"
      },
      "outputs": [],
      "source": [
        "class GCN2(Model):\n",
        "    def __init__(self, indices, values, input_dim=1433, \n",
        "                 hid_dim=64, num_classes=7, num_nodes=2708,\n",
        "                num_layers=2):\n",
        "        super(GCN2, self).__init__()\n",
        "        \n",
        "        # Hyperparameters of a model      \n",
        "        self.num_nodes = num_nodes\n",
        "        self.input_dim = input_dim\n",
        "        self.num_classes = num_classes\n",
        "        self.hid_dim = hid_dim    \n",
        "        self.num_layers = num_layers\n",
        "                \n",
        "        self.indices = indices\n",
        "        self.values = tf.cast(values, dtype='float32')\n",
        "        \n",
        "        # Define layers\n",
        "        self.dense_layers = [Dense(self.hid_dim, kernel_initializer='he_normal', activation='relu') \n",
        "                             for _ in range(self.num_layers)]\n",
        "        self.dense_layers.append(Dense(self.num_classes, kernel_initializer='he_normal'))\n",
        "        \n",
        "    def call(self, x):\n",
        "        A_size = (self.num_nodes, self.num_nodes)\n",
        "        A = sparse.SparseTensor(self.indices, self.values, A_size)\n",
        "\n",
        "        L = tf.cast(x, 'float32')\n",
        "\n",
        "        for l in range(self.num_layers) : \n",
        "          L_new = sparse.sparse_dense_matmul(A,L)\n",
        "          L_new = self.dense_layers[l](L_new)\n",
        "          if l > 0 : \n",
        "            L_new = L + L_new\n",
        "          L = L_new\n",
        "        return self.dense_layers[-1](L)\n",
        "        \n",
        "    def loss_fn(self,logits, labels, indices):\n",
        "        _labels = tf.gather_nd(labels, indices)\n",
        "        _logits = tf.gather_nd(logits, indices)\n",
        "        loss = tf.nn.softmax_cross_entropy_with_logits(labels=_labels, logits=_logits)\n",
        "        return tf.reduce_mean(loss)\n",
        "    \n",
        "    def evaluate(self, x, labels, indices):\n",
        "        logits = self.call(x)\n",
        "        loss = self.loss_fn(logits, labels, indices)        \n",
        "        _logits = tf.gather_nd(logits, indices)\n",
        "        _labels = tf.gather_nd(labels, indices)\n",
        " \n",
        "        pred = tf.argmax(_logits, axis=1)\n",
        "        ans = tf.argmax(_labels, axis=1)\n",
        "        correct = tf.equal(pred, ans)\n",
        "        acc = tf.reduce_mean(tf.cast(correct, tf.float32))\n",
        "        return loss, acc\n",
        "    \n",
        "    def train(self, x, labels, idx_train, idx_val, optimizer, max_epochs=20):\n",
        "        for epoch in range(1, max_epochs+1):\n",
        "            with tf.GradientTape() as tape:\n",
        "                logits = self.call(x)\n",
        "                train_loss = self.loss_fn(logits, labels, idx_train)\n",
        "            \n",
        "            grad_list = tape.gradient(train_loss, self.weights)\n",
        "            grads_and_vars = zip(grad_list, self.weights)\n",
        "            optimizer.apply_gradients(grads_and_vars)\n",
        "            \n",
        "            # Evaluation\n",
        "            train_loss, train_acc = self.evaluate(x, labels, idx_train)\n",
        "            valid_loss, valid_acc = self.evaluate(x, labels, idx_val)\n",
        "            print(f\"Epoch {epoch:3d}: {train_loss:.4f}, {train_acc*100:.2f},\" \n",
        "                  ,f\"{valid_loss:.4f}, {valid_acc*100:.2f}\")            "
      ]
    },
    {
      "cell_type": "code",
      "execution_count": 17,
      "metadata": {
        "id": "uma9E-IT_eMr"
      },
      "outputs": [],
      "source": [
        "def get_adj_matrix(ids):\n",
        "    num_nodes = ids.shape[0]\n",
        "    cites = np.loadtxt('/content/drive/MyDrive/Colab Notebooks/snu/w4/실습자료/7-29 gcn-cora/cora/cora.cites', dtype = np.int32)\n",
        "    id_map = {v : u for u, v in enumerate(ids)}\n",
        "    indices = [(e,e) for e in range(num_nodes)]\n",
        "\n",
        "    for node1, node2 in cites : \n",
        "      if node1 != node2 : \n",
        "        idx1 = id_map[node1]\n",
        "        idx2 = id_map[node2]\n",
        "        indices.append((idx1, idx2))\n",
        "        indices.append((idx2, idx1))\n",
        "    indices = np.array(indices)\n",
        "    values = np.ones(indices.shape[0])\n",
        "\n",
        "    return indices, values"
      ]
    },
    {
      "cell_type": "code",
      "execution_count": 21,
      "metadata": {
        "id": "g7Bmn59x_eMs"
      },
      "outputs": [],
      "source": [
        "def normalize(indices, values, num_nodes, way='both'):\n",
        "    values_sum = np.ones(num_nodes)\n",
        "    for node1, node2 in indices : \n",
        "      values_sum[node1] += 1\n",
        "      values_sum[node2] += 1\n",
        "\n",
        "    if way == 'both' : \n",
        "      values /= np.sqrt(values_sum[indices[:,1]])\n",
        "      values /= np.sqrt(values_sum[indices[:,0]])\n",
        "    \n",
        "    elif way == 'row' : \n",
        "      values /= values_sum[indices[:,0]]\n",
        "    \n",
        "    elif way == 'col' : \n",
        "      values /= values_sum[indices[:,1]]\n",
        "\n",
        "    else : \n",
        "      raise ValueError()\n",
        "\n",
        "    return values # normalized values "
      ]
    },
    {
      "cell_type": "code",
      "execution_count": 22,
      "metadata": {
        "id": "et8Sw-QR_eMs",
        "colab": {
          "base_uri": "https://localhost:8080/"
        },
        "outputId": "576a4630-613b-4342-855f-bbbc4c551536"
      },
      "outputs": [
        {
          "output_type": "stream",
          "name": "stdout",
          "text": [
            "Epoch   1: 1.7670, 85.71, 1.8838, 42.86\n",
            "Epoch   2: 1.5403, 85.71, 1.7915, 50.00\n",
            "Epoch   3: 1.2744, 85.71, 1.6822, 50.00\n",
            "Epoch   4: 1.0027, 87.50, 1.5737, 57.14\n",
            "Epoch   5: 0.7506, 92.86, 1.4641, 64.29\n",
            "Epoch   6: 0.5300, 98.21, 1.3492, 71.43\n",
            "Epoch   7: 0.3504, 100.00, 1.2321, 71.43\n",
            "Epoch   8: 0.2168, 100.00, 1.1241, 78.57\n",
            "Epoch   9: 0.1257, 100.00, 1.0281, 71.43\n",
            "Epoch  10: 0.0695, 100.00, 0.9431, 64.29\n",
            "Epoch  11: 0.0375, 100.00, 0.8767, 64.29\n",
            "Epoch  12: 0.0202, 100.00, 0.8337, 71.43\n",
            "Epoch  13: 0.0112, 100.00, 0.8138, 71.43\n",
            "Epoch  14: 0.0064, 100.00, 0.8127, 78.57\n",
            "Epoch  15: 0.0037, 100.00, 0.8222, 78.57\n",
            "Epoch  16: 0.0023, 100.00, 0.8375, 78.57\n",
            "Epoch  17: 0.0014, 100.00, 0.8553, 78.57\n",
            "Epoch  18: 0.0009, 100.00, 0.8740, 78.57\n",
            "Epoch  19: 0.0006, 100.00, 0.8928, 78.57\n",
            "Epoch  20: 0.0004, 100.00, 0.9113, 78.57\n"
          ]
        }
      ],
      "source": [
        "num_nodes = ids.shape[0]\n",
        "indices, values = get_adj_matrix(ids)\n",
        "values = normalize(indices, values, num_nodes, way='both')\n",
        "\n",
        "train_mask = np.expand_dims(idx_train, axis=1)\n",
        "optimizer = tf.keras.optimizers.Adam(learning_rate=0.01)\n",
        "\n",
        "gcn2 = GCN2(indices=indices, values=values,\n",
        "           input_dim=x.shape[1], hid_dim=64, num_classes=num_classes, \n",
        "            num_nodes=x.shape[0], num_layers=2)\n",
        "_idx_train = np.expand_dims(idx_train, axis=1)\n",
        "_idx_val = np.expand_dims(idx_valid, axis=1)\n",
        "\n",
        "gcn2.train(x=x, labels=y, idx_train=_idx_train, idx_val=_idx_val, optimizer=optimizer, max_epochs=20)"
      ]
    },
    {
      "cell_type": "code",
      "execution_count": 23,
      "metadata": {
        "id": "7Kr47ioJ_eMt",
        "colab": {
          "base_uri": "https://localhost:8080/"
        },
        "outputId": "6ca98967-91c9-4d14-8f72-a7377d7ed4d6"
      },
      "outputs": [
        {
          "output_type": "stream",
          "name": "stdout",
          "text": [
            "tf.Tensor(0.67714286, shape=(), dtype=float32)\n"
          ]
        }
      ],
      "source": [
        "test_mask = np.expand_dims(idx_test, axis=1)\n",
        "test_loss, test_acc = gcn2.evaluate(x=x, labels=y, indices=np.expand_dims(idx_test, axis=1))\n",
        "print(test_acc)"
      ]
    }
  ],
  "metadata": {
    "kernelspec": {
      "display_name": "tf2",
      "language": "python",
      "name": "tf2"
    },
    "language_info": {
      "codemirror_mode": {
        "name": "ipython",
        "version": 3
      },
      "file_extension": ".py",
      "mimetype": "text/x-python",
      "name": "python",
      "nbconvert_exporter": "python",
      "pygments_lexer": "ipython3",
      "version": "3.7.0"
    },
    "colab": {
      "name": "lab-gcn-cora-2-skeleton-TFv2.ipynb",
      "provenance": [],
      "collapsed_sections": [],
      "include_colab_link": true
    },
    "accelerator": "GPU",
    "gpuClass": "standard"
  },
  "nbformat": 4,
  "nbformat_minor": 0
}