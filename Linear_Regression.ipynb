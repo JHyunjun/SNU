{
  "cells": [
    {
      "cell_type": "markdown",
      "metadata": {
        "id": "view-in-github",
        "colab_type": "text"
      },
      "source": [
        "<a href=\"https://colab.research.google.com/github/JHyunjun/SNU/blob/main/Linear_Regression.ipynb\" target=\"_parent\"><img src=\"https://colab.research.google.com/assets/colab-badge.svg\" alt=\"Open In Colab\"/></a>"
      ]
    },
    {
      "cell_type": "code",
      "execution_count": 2,
      "metadata": {
        "id": "EdLvvN24byyp"
      },
      "outputs": [],
      "source": [
        "%matplotlib inline #코드에서 matplotlib을 확인할 수 있게하는 것\n",
        "import numpy as np\n",
        "import pandas as pd\n",
        "import matplotlib.pyplot as plt\n",
        "from sklearn.linear_model import LinearRegression"
      ]
    },
    {
      "cell_type": "code",
      "source": [
        "from google.colab import drive\n",
        "drive.mount('/content/drive')"
      ],
      "metadata": {
        "colab": {
          "base_uri": "https://localhost:8080/"
        },
        "id": "tDhcN7Rg9gzU",
        "outputId": "2c016675-ee39-455a-f364-d2fa16370c9d"
      },
      "execution_count": 1,
      "outputs": [
        {
          "output_type": "stream",
          "name": "stdout",
          "text": [
            "Mounted at /content/drive\n"
          ]
        }
      ]
    },
    {
      "cell_type": "markdown",
      "metadata": {
        "id": "fRx8rJ6s9dzU"
      },
      "source": [
        "## Fire and Theft"
      ]
    },
    {
      "cell_type": "code",
      "execution_count": 39,
      "metadata": {
        "colab": {
          "base_uri": "https://localhost:8080/",
          "height": 206
        },
        "id": "ui34j6dB9dzW",
        "outputId": "7f2172aa-e7af-4649-a4ab-c9bc324886e7"
      },
      "outputs": [
        {
          "output_type": "execute_result",
          "data": {
            "text/plain": [
              "      X   Y\n",
              "0   6.2  29\n",
              "1   9.5  44\n",
              "2  10.5  36\n",
              "3   7.7  37\n",
              "4   8.6  53"
            ],
            "text/html": [
              "\n",
              "  <div id=\"df-6aa47322-3b67-42a0-8bfa-bd235887a0d7\">\n",
              "    <div class=\"colab-df-container\">\n",
              "      <div>\n",
              "<style scoped>\n",
              "    .dataframe tbody tr th:only-of-type {\n",
              "        vertical-align: middle;\n",
              "    }\n",
              "\n",
              "    .dataframe tbody tr th {\n",
              "        vertical-align: top;\n",
              "    }\n",
              "\n",
              "    .dataframe thead th {\n",
              "        text-align: right;\n",
              "    }\n",
              "</style>\n",
              "<table border=\"1\" class=\"dataframe\">\n",
              "  <thead>\n",
              "    <tr style=\"text-align: right;\">\n",
              "      <th></th>\n",
              "      <th>X</th>\n",
              "      <th>Y</th>\n",
              "    </tr>\n",
              "  </thead>\n",
              "  <tbody>\n",
              "    <tr>\n",
              "      <th>0</th>\n",
              "      <td>6.2</td>\n",
              "      <td>29</td>\n",
              "    </tr>\n",
              "    <tr>\n",
              "      <th>1</th>\n",
              "      <td>9.5</td>\n",
              "      <td>44</td>\n",
              "    </tr>\n",
              "    <tr>\n",
              "      <th>2</th>\n",
              "      <td>10.5</td>\n",
              "      <td>36</td>\n",
              "    </tr>\n",
              "    <tr>\n",
              "      <th>3</th>\n",
              "      <td>7.7</td>\n",
              "      <td>37</td>\n",
              "    </tr>\n",
              "    <tr>\n",
              "      <th>4</th>\n",
              "      <td>8.6</td>\n",
              "      <td>53</td>\n",
              "    </tr>\n",
              "  </tbody>\n",
              "</table>\n",
              "</div>\n",
              "      <button class=\"colab-df-convert\" onclick=\"convertToInteractive('df-6aa47322-3b67-42a0-8bfa-bd235887a0d7')\"\n",
              "              title=\"Convert this dataframe to an interactive table.\"\n",
              "              style=\"display:none;\">\n",
              "        \n",
              "  <svg xmlns=\"http://www.w3.org/2000/svg\" height=\"24px\"viewBox=\"0 0 24 24\"\n",
              "       width=\"24px\">\n",
              "    <path d=\"M0 0h24v24H0V0z\" fill=\"none\"/>\n",
              "    <path d=\"M18.56 5.44l.94 2.06.94-2.06 2.06-.94-2.06-.94-.94-2.06-.94 2.06-2.06.94zm-11 1L8.5 8.5l.94-2.06 2.06-.94-2.06-.94L8.5 2.5l-.94 2.06-2.06.94zm10 10l.94 2.06.94-2.06 2.06-.94-2.06-.94-.94-2.06-.94 2.06-2.06.94z\"/><path d=\"M17.41 7.96l-1.37-1.37c-.4-.4-.92-.59-1.43-.59-.52 0-1.04.2-1.43.59L10.3 9.45l-7.72 7.72c-.78.78-.78 2.05 0 2.83L4 21.41c.39.39.9.59 1.41.59.51 0 1.02-.2 1.41-.59l7.78-7.78 2.81-2.81c.8-.78.8-2.07 0-2.86zM5.41 20L4 18.59l7.72-7.72 1.47 1.35L5.41 20z\"/>\n",
              "  </svg>\n",
              "      </button>\n",
              "      \n",
              "  <style>\n",
              "    .colab-df-container {\n",
              "      display:flex;\n",
              "      flex-wrap:wrap;\n",
              "      gap: 12px;\n",
              "    }\n",
              "\n",
              "    .colab-df-convert {\n",
              "      background-color: #E8F0FE;\n",
              "      border: none;\n",
              "      border-radius: 50%;\n",
              "      cursor: pointer;\n",
              "      display: none;\n",
              "      fill: #1967D2;\n",
              "      height: 32px;\n",
              "      padding: 0 0 0 0;\n",
              "      width: 32px;\n",
              "    }\n",
              "\n",
              "    .colab-df-convert:hover {\n",
              "      background-color: #E2EBFA;\n",
              "      box-shadow: 0px 1px 2px rgba(60, 64, 67, 0.3), 0px 1px 3px 1px rgba(60, 64, 67, 0.15);\n",
              "      fill: #174EA6;\n",
              "    }\n",
              "\n",
              "    [theme=dark] .colab-df-convert {\n",
              "      background-color: #3B4455;\n",
              "      fill: #D2E3FC;\n",
              "    }\n",
              "\n",
              "    [theme=dark] .colab-df-convert:hover {\n",
              "      background-color: #434B5C;\n",
              "      box-shadow: 0px 1px 3px 1px rgba(0, 0, 0, 0.15);\n",
              "      filter: drop-shadow(0px 1px 2px rgba(0, 0, 0, 0.3));\n",
              "      fill: #FFFFFF;\n",
              "    }\n",
              "  </style>\n",
              "\n",
              "      <script>\n",
              "        const buttonEl =\n",
              "          document.querySelector('#df-6aa47322-3b67-42a0-8bfa-bd235887a0d7 button.colab-df-convert');\n",
              "        buttonEl.style.display =\n",
              "          google.colab.kernel.accessAllowed ? 'block' : 'none';\n",
              "\n",
              "        async function convertToInteractive(key) {\n",
              "          const element = document.querySelector('#df-6aa47322-3b67-42a0-8bfa-bd235887a0d7');\n",
              "          const dataTable =\n",
              "            await google.colab.kernel.invokeFunction('convertToInteractive',\n",
              "                                                     [key], {});\n",
              "          if (!dataTable) return;\n",
              "\n",
              "          const docLinkHtml = 'Like what you see? Visit the ' +\n",
              "            '<a target=\"_blank\" href=https://colab.research.google.com/notebooks/data_table.ipynb>data table notebook</a>'\n",
              "            + ' to learn more about interactive tables.';\n",
              "          element.innerHTML = '';\n",
              "          dataTable['output_type'] = 'display_data';\n",
              "          await google.colab.output.renderOutput(dataTable, element);\n",
              "          const docLink = document.createElement('div');\n",
              "          docLink.innerHTML = docLinkHtml;\n",
              "          element.appendChild(docLink);\n",
              "        }\n",
              "      </script>\n",
              "    </div>\n",
              "  </div>\n",
              "  "
            ]
          },
          "metadata": {},
          "execution_count": 39
        }
      ],
      "source": [
        "# Single Linear Regression\n",
        "#화재와 범죄율의 관계를 확인, x:1000명당 화재율, y:1000가구당 범죄율\n",
        "df = pd.read_csv('/content/drive/MyDrive/Colab Notebooks/SNU_AI-Master/week1/220707/fire_theft.csv')\n",
        "df.head()\n"
      ]
    },
    {
      "cell_type": "code",
      "execution_count": 28,
      "metadata": {
        "colab": {
          "base_uri": "https://localhost:8080/"
        },
        "id": "fI152a8x9dzX",
        "outputId": "8c8bde00-5d99-4a69-c721-9f5143c39702"
      },
      "outputs": [
        {
          "output_type": "stream",
          "name": "stdout",
          "text": [
            "(42,)\n",
            "(42,)\n"
          ]
        }
      ],
      "source": [
        "x_o = df['X'].values #전체가 하나의 벡터 [~~~~]  #.values : numpy array배열로 바꿈(1차원)\n",
        "print(x_o.shape)\n",
        "x = df['X'].values.reshape([-1, 1]) #한개씩 각각 벡터 [~],[~],... \n",
        "#Reshape은 1차원짜리 Array를 2차원 Array로 바꾸어줌\n",
        "y = df['Y'].values\n"
      ]
    },
    {
      "cell_type": "code",
      "execution_count": 25,
      "metadata": {
        "colab": {
          "base_uri": "https://localhost:8080/"
        },
        "id": "-__Kae07xkyL",
        "outputId": "8b9af855-e887-4b0d-f63c-2990c2cb232f"
      },
      "outputs": [
        {
          "output_type": "stream",
          "name": "stdout",
          "text": [
            "Coefficient:\n",
            " [1.313456]\n",
            "Intercept:\n",
            " 16.99515723273957\n"
          ]
        }
      ],
      "source": [
        "# Fit linear model\n",
        "reg = LinearRegression().fit(x, y)\n",
        "print('Coefficient:\\n', reg.coef_) #y=ax+b에서 a가 coefficient, b가 Interception\n",
        "print('Intercept:\\n', reg.intercept_)"
      ]
    },
    {
      "cell_type": "code",
      "execution_count": 17,
      "metadata": {
        "colab": {
          "base_uri": "https://localhost:8080/",
          "height": 279
        },
        "id": "bJ6NZIKG9dzY",
        "outputId": "81b2503e-afba-4f64-c3d8-f70ed4a8e4aa"
      },
      "outputs": [
        {
          "output_type": "display_data",
          "data": {
            "text/plain": [
              "<Figure size 432x288 with 1 Axes>"
            ],
            "image/png": "[encoded data removed]"
          },
          "metadata": {
            "needs_background": "light"
          }
        }
      ],
      "source": [
        "# Draw a scatter plot\n",
        "plt.scatter(x, y, marker='o', edgecolors='b', facecolor='none')\n",
        "\n",
        "# Draw the linear regression model\n",
        "coef = reg.coef_\n",
        "intercept = reg.intercept_\n",
        "line_x = np.linspace(0, 40, 100)\n",
        "line_y = coef[0] * line_x + intercept\n",
        "plt.plot(line_x, line_y, c='red')\n",
        "\n",
        "plt.xlabel('Fire')\n",
        "plt.ylabel('Theft')\n",
        "plt.show()"
      ]
    },
    {
      "cell_type": "code",
      "execution_count": 95,
      "metadata": {
        "colab": {
          "base_uri": "https://localhost:8080/"
        },
        "id": "IuIKyt_h9dzZ",
        "outputId": "141e5fdf-1b45-4472-aa20-52aecf338993"
      },
      "outputs": [
        {
          "output_type": "stream",
          "name": "stdout",
          "text": [
            "(1599, 12)\n"
          ]
        }
      ],
      "source": [
        "# Multiple Linear Regression\n",
        "df = pd.read_csv('/content/drive/MyDrive/Colab Notebooks/SNU_AI-Master/week1/220707/winequality_red.csv', sep=';')\n",
        "df.head()\n",
        "print(df.shape) #[1599,12]"
      ]
    },
    {
      "cell_type": "code",
      "execution_count": 112,
      "metadata": {
        "colab": {
          "base_uri": "https://localhost:8080/",
          "height": 531
        },
        "id": "zjueK5bO9dzZ",
        "outputId": "964b5275-5858-4612-975c-8a69059847d9"
      },
      "outputs": [
        {
          "output_type": "display_data",
          "data": {
            "text/plain": [
              "<Figure size 432x288 with 1 Axes>"
            ],
            "image/png": "[encoded data removed]"
          },
          "metadata": {
            "needs_background": "light"
          }
        },
        {
          "output_type": "execute_result",
          "data": {
            "text/plain": [
              "[<matplotlib.lines.Line2D at 0x7fe57f257690>]"
            ]
          },
          "metadata": {},
          "execution_count": 112
        },
        {
          "output_type": "display_data",
          "data": {
            "text/plain": [
              "<Figure size 432x288 with 1 Axes>"
            ],
            "image/png": "[encoded data removed]"
          },
          "metadata": {
            "needs_background": "light"
          }
        }
      ],
      "source": [
        "x = df.iloc[:,:-1].values #앞에 11개가 input\n",
        "y = df['quality'].values.reshape([-1, 1])\n",
        "plt.show()\n",
        "plt.plot(y)\n",
        "y_ss = StandardScaler().fit_transform(y)\n",
        "plt.show()\n",
        "plt.plot(y_ss)"
      ]
    },
    {
      "cell_type": "code",
      "source": [
        "# Data-Preprocessing\n",
        "from sklearn.preprocessing import StandardScaler\n",
        "x = StandardScaler().fit_transform(x) #평균이 1이고 표준편차가 1인 Normal Distribution으로 Normalizing\n",
        "#y = StandardScaler().fit_transform(y)\n",
        "print(x.shape)"
      ],
      "metadata": {
        "colab": {
          "base_uri": "https://localhost:8080/"
        },
        "id": "39nj6aoDHk2E",
        "outputId": "dd0fd69a-ed35-4a67-e7a0-b2dcd258c59c"
      },
      "execution_count": 107,
      "outputs": [
        {
          "output_type": "stream",
          "name": "stdout",
          "text": [
            "(1599, 11)\n"
          ]
        }
      ]
    },
    {
      "cell_type": "code",
      "execution_count": 98,
      "metadata": {
        "colab": {
          "base_uri": "https://localhost:8080/"
        },
        "id": "sdSHAqNT9dza",
        "outputId": "83080f9c-ee9b-4ed0-cf83-b4fb43644c51"
      },
      "outputs": [
        {
          "output_type": "stream",
          "name": "stdout",
          "text": [
            "Coefficient:\n",
            " [[ 0.04349735 -0.19396667 -0.03555254  0.02301871 -0.08818339  0.04560596\n",
            "  -0.10735582 -0.03373717 -0.06384247  0.1552765   0.29424288]]\n",
            "Intercept:\n",
            " [5.63602251] (1,)\n"
          ]
        }
      ],
      "source": [
        "# Fit linear model\n",
        "reg = LinearRegression().fit(x, y)\n",
        "print('Coefficient:\\n', reg.coef_) #[1,11]\n",
        "print('Intercept:\\n', reg.intercept_, reg.intercept_.shape) # [1,]"
      ]
    },
    {
      "cell_type": "markdown",
      "metadata": {
        "id": "5tjQAmSK9dza"
      },
      "source": [
        "## Wine Quality Prediction"
      ]
    },
    {
      "cell_type": "code",
      "execution_count": 99,
      "metadata": {
        "colab": {
          "base_uri": "https://localhost:8080/"
        },
        "id": "4lFZHufY9dzb",
        "outputId": "31d72efd-de94-4546-c0b6-4463b0ccaaaa"
      },
      "outputs": [
        {
          "output_type": "stream",
          "name": "stdout",
          "text": [
            "1\n",
            "2\n",
            "3\n",
            "4\n",
            "5\n",
            "6\n",
            "7\n",
            "8\n",
            "9\n",
            "10\n",
            "(1440,) (159,)\n",
            "Coefficient:\n",
            " [[ 0.05125745 -0.18728028 -0.02439727  0.02381672 -0.08344703  0.03961133\n",
            "  -0.11578455 -0.04257436 -0.03951569  0.15011286  0.28480593]]\n",
            "Intercept:\n",
            " [5.64517785]\n",
            "0.6985130757721069\n"
          ]
        }
      ],
      "source": [
        "from sklearn.model_selection import KFold\n",
        "\n",
        "n_splits = 10\n",
        "kf = KFold(n_splits)\n",
        "rmse = 0\n",
        "count=0\n",
        "\n",
        "'''\n",
        "for train_idx, valid_idx in kf.split(x): #10등분을했기에 10번돈다.\n",
        "    x_train, x_valid = x[train_idx], x[valid_idx] #x_train:[1439,11], x_valid:[160,11]\n",
        "    y_train, y_valid = y[train_idx], y[valid_idx]\n",
        "    print(train_idx.shape, valid_idx.shape)\n",
        "pass\n",
        "'''\n",
        "for train_idx, valid_idx in kf.split(x): #10등분을했기에 10번돈다? Why?\n",
        "    count+=1\n",
        "    print(count)\n",
        "    pass\n",
        "x_train, x_valid = x[train_idx], x[valid_idx] #x_train:[1439,11], x_valid:[160,11]\n",
        "y_train, y_valid = y[train_idx], y[valid_idx]\n",
        "print(train_idx.shape, valid_idx.shape)\n",
        "\n",
        "x_train.reshape([-1,1])\n",
        "x_valid.reshape([-1,1])\n",
        "\n",
        "reg1 = LinearRegression().fit(x_train, y_train)\n",
        "print('Coefficient:\\n', reg1.coef_) #y=ax+b에서 a가 coefficient, b가 Interception\n",
        "print('Intercept:\\n', reg1.intercept_)\n",
        "\n",
        "reg1_predict = reg1.predict(x_valid)\n",
        "error = reg1_predict - y_valid\n",
        "rmse += np.sqrt(np.sum(error**2)/len(y_valid))\n",
        "print(rmse)\n"
      ]
    },
    {
      "cell_type": "code",
      "source": [
        "# My Check\n",
        "wine = np.array([2.5, 0.9, 0.5, 2.0, 0.4, 1.1, 5.5, 4.1, 7.7, 3.0, 6.1]).reshape(-1,1)\n",
        "wine = wine.T\n",
        "print(wine)\n",
        "print(wine.shape)\n",
        "wine_predict = reg.predict(wine)\n",
        "print(wine_predict)"
      ],
      "metadata": {
        "colab": {
          "base_uri": "https://localhost:8080/"
        },
        "id": "M6Y6JolsIrbs",
        "outputId": "19896789-7de7-4c0b-e466-c3e9b1c33dd8"
      },
      "execution_count": 113,
      "outputs": [
        {
          "output_type": "stream",
          "name": "stdout",
          "text": [
            "[[2.5 0.9 0.5 2.  0.4 1.1 5.5 4.1 7.7 3.  6.1]]\n",
            "(1, 11)\n",
            "[[6.65369485]]\n"
          ]
        }
      ]
    }
  ],
  "metadata": {
    "colab": {
      "collapsed_sections": [],
      "name": "Linear_Regression.ipynb",
      "provenance": [],
      "include_colab_link": true
    },
    "kernelspec": {
      "display_name": "Python 3",
      "language": "python",
      "name": "python3"
    },
    "language_info": {
      "codemirror_mode": {
        "name": "ipython",
        "version": 3
      },
      "file_extension": ".py",
      "mimetype": "text/x-python",
      "name": "python",
      "nbconvert_exporter": "python",
      "pygments_lexer": "ipython3",
      "version": "3.6.8"
    }
  },
  "nbformat": 4,
  "nbformat_minor": 0
}