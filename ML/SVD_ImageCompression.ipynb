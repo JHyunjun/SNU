{
  "nbformat": 4,
  "nbformat_minor": 0,
  "metadata": {
    "colab": {
      "name": "0704_SVD_ImageCompression.ipynb",
      "private_outputs": true,
      "provenance": [],
      "collapsed_sections": [],
      "mount_file_id": "1lbFvMcNQJbfSn6HMsVF9HAXRdH13mECw",
      "authorship_tag": "ABX9TyNcZoKXB8u7gU4GOndX4rKt",
      "include_colab_link": true
    },
    "kernelspec": {
      "name": "python3",
      "display_name": "Python 3"
    },
    "language_info": {
      "name": "python"
    }
  },
  "cells": [
    {
      "cell_type": "markdown",
      "metadata": {
        "id": "view-in-github",
        "colab_type": "text"
      },
      "source": [
        "<a href=\"https://colab.research.google.com/github/JHyunjun/Seoul_National_University/blob/main/0704_SVD_ImageCompression.ipynb\" target=\"_parent\"><img src=\"https://colab.research.google.com/assets/colab-badge.svg\" alt=\"Open In Colab\"/></a>"
      ]
    },
    {
      "cell_type": "code",
      "execution_count": null,
      "metadata": {
        "id": "QzJEOtugOcmp"
      },
      "outputs": [],
      "source": [
        "import os\n",
        "import matplotlib.pyplot as plt\n",
        "from PIL import Image\n",
        "\n",
        "path = '/dir'\n",
        "img = Image.open(path)\n",
        "s = float(os.path.getsize(path))\n",
        "print(\"size(dimension) : \",img.size)\n",
        "plt.title(\"Original Image (%0.2f Kb) :\" %s)\n",
        "plt.imshow(img)"
      ]
    }
  ]
}
