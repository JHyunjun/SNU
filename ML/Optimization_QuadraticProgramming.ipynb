{
  "cells": [
    {
      "cell_type": "markdown",
      "metadata": {
        "id": "view-in-github",
        "colab_type": "text"
      },
      "source": [
        "<a href=\"https://colab.research.google.com/github/JHyunjun/Seoul_National_University/blob/main/Optimization_QuadraticProgramming.ipynb\" target=\"_parent\"><img src=\"https://colab.research.google.com/assets/colab-badge.svg\" alt=\"Open In Colab\"/></a>"
      ]
    },
    {
      "cell_type": "markdown",
      "metadata": {
        "id": "hVkI0ggG6C_B"
      },
      "source": [
        "# Optimization-Lab"
      ]
    },
    {
      "cell_type": "code",
      "execution_count": 15,
      "metadata": {
        "colab": {
          "base_uri": "https://localhost:8080/",
          "height": 54
        },
        "id": "NoSG1flP6C_G",
        "outputId": "f6d4c53d-5a1c-4e71-c0a9-fbf36d64a8ad"
      },
      "outputs": [
        {
          "output_type": "execute_result",
          "data": {
            "text/plain": [
              "'\\n[본식]\\n#Find x,y for minimize(x.^2 + 4*(y-4).^2)\\n[문제조건]\\nx+y<=7\\n-x2+y<=4\\ny<=4\\nx>=0\\ny>=0 인 경우에 대해서 찾아라\\n'"
            ],
            "application/vnd.google.colaboratory.intrinsic+json": {
              "type": "string"
            }
          },
          "metadata": {},
          "execution_count": 15
        }
      ],
      "source": [
        "# Import packages\n",
        "import numpy as np\n",
        "from cvxopt import matrix\n",
        "from cvxopt import solvers\n",
        "import matplotlib.pyplot as plt\n",
        "import warnings\n",
        "warnings.filterwarnings(action='ignore')\n",
        "\n",
        "'''\n",
        "[본식]\n",
        "#Find x,y for minimize(x.^2 + 4*(y-4).^2)\n",
        "[문제조건]\n",
        "x+y<=7\n",
        "-x2+y<=4\n",
        "y<=4\n",
        "x>=0\n",
        "y>=0 인 경우에 대해서 찾아라\n",
        "'''"
      ]
    },
    {
      "cell_type": "markdown",
      "metadata": {
        "id": "4eWludY36C_H"
      },
      "source": [
        "# 1. Quadratic Programming in Python\n",
        "## - Standard Form of a QP\n",
        "$$minimize \\;  \\frac{1}{2} x^THx - c^Tx, \\; subject\\; to\\; A^Tx\\ge b$$\n",
        "## - Example problem\n",
        "### minimize\n",
        "$$\\frac{1}{2} \\begin{bmatrix} x\\\\y \\end{bmatrix}^T \n",
        "\\begin{bmatrix} 2 & 0 \\\\ 0 & 8 \\end{bmatrix} \\begin{bmatrix} x\\\\y \\end{bmatrix}\n",
        "- \\begin{bmatrix} 0\\\\32 \\end{bmatrix}^T\n",
        "\\begin{bmatrix} x\\\\y \\end{bmatrix}$$\n",
        "### subject to\n",
        "$$\n",
        "\\begin{bmatrix} -1 & -1\\\\ 1&-2 \\\\ 0 & -1 \\\\ 1 & 0 \\\\ 0 & 1 \\end{bmatrix}\n",
        "\\begin{bmatrix} x\\\\y \\end{bmatrix} \\ge\n",
        "\\begin{bmatrix}-7\\\\-4 \\\\ -4 \\\\0 \\\\0 \\end{bmatrix}\n",
        "$$\n"
      ]
    },
    {
      "cell_type": "code",
      "execution_count": 20,
      "metadata": {
        "colab": {
          "base_uri": "https://localhost:8080/"
        },
        "id": "oJV-skzH6C_I",
        "outputId": "2ac69a4f-d49d-4d09-a6bb-b890d24ab724"
      },
      "outputs": [
        {
          "output_type": "stream",
          "name": "stdout",
          "text": [
            "[ 2.00e+00  0.00e+00]\n",
            "[ 0.00e+00  8.00e+00]\n",
            "\n",
            "[ 0.00e+00]\n",
            "[ 3.20e+01]\n",
            "\n",
            "[-1.00e+00 -1.00e+00]\n",
            "[ 1.00e+00 -2.00e+00]\n",
            "[ 0.00e+00 -1.00e+00]\n",
            "[ 1.00e+00  0.00e+00]\n",
            "[ 0.00e+00  1.00e+00]\n",
            "\n",
            "[-7.00e+00]\n",
            "[-4.00e+00]\n",
            "[-4.00e+00]\n",
            "[ 0.00e+00]\n",
            "[ 0.00e+00]\n",
            "\n",
            "     pcost       dcost       gap    pres   dres\n",
            " 0: -6.1262e+01 -6.5632e+01  5e+01  7e-01  4e-01\n",
            " 1: -5.5119e+01 -6.1870e+01  7e+00  1e-16  2e-16\n",
            " 2: -5.5976e+01 -5.6216e+01  2e-01  1e-16  1e-16\n",
            " 3: -5.6000e+01 -5.6002e+01  2e-03  7e-17  2e-16\n",
            " 4: -5.6000e+01 -5.6000e+01  2e-05  1e-16  5e-16\n",
            "Optimal solution found.\n",
            "[ 2.00e+00]\n",
            "[ 3.00e+00]\n",
            "\n",
            "-55.999997728036654\n"
          ]
        }
      ],
      "source": [
        "# Define QP parameters\n",
        "\n",
        "#H와 c로 x.^2 + 4y^2 -32y 표현, tc = 'd'는 data type을 double로 해준다는말\n",
        "H = matrix(np.array([[2,0],[0,8]]), tc='d') # ★[1,4]인데 절반해주므로 [2,8] (0.5*x.T*H*x) 공식 자체에 맞춰줘야함\n",
        "c = matrix(np.array([0,32]), tc='d')\n",
        "At = matrix(np.array([[-1,-1],[1,-2],[0,-1],[1,0],[0,1]]), tc = 'd') # 문제조건\n",
        "# -x-y>=-7, -2y>=-4, ...\n",
        "b = matrix(np.array([-7,-4,-4,0,0]).T, tc='d') # 문제조건\n",
        "\n",
        "print(H)\n",
        "print(c)\n",
        "print(At)\n",
        "print(b)\n",
        "\n",
        "# Construct the QP, invoke solver\n",
        "# 라이브러리에는 Ax <= b 형식으로 Default로 코딩되어있어서, Ax>=b로 적어낸 식을 부등호를 반대로바꾸어주고자 -At,-b로 기입\n",
        "sol = solvers.qp(H, -c, -At, -b)\n",
        "\n",
        "# Extract optimal value and solution\n",
        "print(sol['x'])\n",
        "print(sol['primal objective'])\n",
        "\n",
        "#최종적으로 x=2, y=3을 본 식에 집어넣은 -56이 정답"
      ]
    },
    {
      "cell_type": "code",
      "source": [
        "from google.colab import drive\n",
        "drive.mount('/content/drive')"
      ],
      "metadata": {
        "colab": {
          "base_uri": "https://localhost:8080/"
        },
        "id": "d6_2yU06_UGM",
        "outputId": "f5655f33-8ba5-4692-c0b2-788da689b697"
      },
      "execution_count": 21,
      "outputs": [
        {
          "output_type": "stream",
          "name": "stdout",
          "text": [
            "Mounted at /content/drive\n"
          ]
        }
      ]
    },
    {
      "cell_type": "markdown",
      "metadata": {
        "id": "slHPAA7s6C_I"
      },
      "source": [
        "# 2. Portfolio Optimization"
      ]
    },
    {
      "cell_type": "markdown",
      "metadata": {
        "id": "POYb7en06C_J"
      },
      "source": [
        "### minimize \n",
        "$$ \\sum_{i,j} p_{ij} = \\sum_{i,j} c_{ij}\\cdot s_i s_j \\cdot x_i x_j$$\n",
        "### subject to\n",
        "$$ \\sum_i x_i = 1$$ $$ \\sum_i m_i x_i \\ge 0.002 $$ $$ x_i \\ge 0 \\; for \\; all \\; i$$ "
      ]
    },
    {
      "cell_type": "code",
      "execution_count": 23,
      "metadata": {
        "id": "MZTgf_dG6C_J"
      },
      "outputs": [],
      "source": [
        "# Read Data\n",
        "# 각 asset별 mean, std (31개)\n",
        "mean, std = np.loadtxt('/content/drive/MyDrive/Colab Notebooks/SNU_AI-Master/week1/220706/assets2.tsv', delimiter = '\\t', skiprows = 1, unpack = True, dtype = np.double())\n",
        "# C i,j는 i번째와 j번째 자산을 투자할때의 Risk coefficient(높을수록 위험도가 큼)\n",
        "# P i,j = Cij * Si*Sj * xi, 이익의 분산(s)이 크고, Risk Coefficient가 클수록 위험한 자산이라고 판단\n",
        "# C.shape은 (31,31)로 각각의 asset을 동시에 구매할때의 Risk Coefficient\n",
        "C = np.loadtxt('/content/drive/MyDrive/Colab Notebooks/SNU_AI-Master/week1/220706/assets-corr2.tsv', delimiter = '\\t', usecols = range(0,31), dtype = np.double())"
      ]
    },
    {
      "cell_type": "code",
      "execution_count": 45,
      "metadata": {
        "colab": {
          "base_uri": "https://localhost:8080/",
          "height": 72
        },
        "id": "BrXUS6r16C_K",
        "outputId": "2236dbc0-3694-4f22-8c21-3fe114a34e25"
      },
      "outputs": [
        {
          "output_type": "stream",
          "name": "stdout",
          "text": [
            "H :  (31, 31)\n",
            "At :  (32, 31)\n"
          ]
        },
        {
          "output_type": "execute_result",
          "data": {
            "text/plain": [
              "' At와 b의 첫번째 행에 수식이 있음. mi*xi >= 0.002(최소수익 0.2%), Sigma(xi)=1\\nprint(At)\\nprint(b)\\n'"
            ],
            "application/vnd.google.colaboratory.intrinsic+json": {
              "type": "string"
            }
          },
          "metadata": {},
          "execution_count": 45
        }
      ],
      "source": [
        "# Define QP parameters\n",
        "# 1. Define arrays using numpy\n",
        "N = len(mean) #31\n",
        "H = C * std.reshape(1,-1).T * std.reshape(1,-1) # C_i,j * si * sj 이며, x_i(asset별 Risk)를 찾는게 문제, *:element 곱셈 : H11=c11*s1*s1\n",
        "# std.reshape(1,-1).T : Column Vector형태로 만든다 -> column vector * row vector = Matrix\n",
        "print('H : ',H.shape)\n",
        "c = np.zeros(N)\n",
        "At = np.vstack((mean, np.identity(N)))\n",
        "print('At : ', At.shape)\n",
        "b = np.concatenate((np.array([0.002]), np.zeros(N))) #최소 기대수익률 0.2%이상 만족하는 경우를 찾으며 && min(Risk)\n",
        "P = np.ones((1,N)) #[1,31]\n",
        "q = np.array(([1])) #[1,]\n",
        "\n",
        "# 2. Transform numpy arrays to the CVXOPT's matrix type\n",
        "H = matrix(H, tc='d')\n",
        "c = matrix(c, tc='d')\n",
        "At = matrix(At, tc='d')\n",
        "b = matrix(b, tc='d')\n",
        "#P*x = q이므로 이게 Sigma(x) = 1을 의미함\n",
        "P = matrix(P,tc='d')\n",
        "q = matrix(q, tc='d')\n",
        "''' At와 b의 첫번째 행에 수식이 있음. mi*xi >= 0.002(최소수익 0.2%), Sigma(xi)=1\n",
        "print(At)\n",
        "print(b)\n",
        "'''"
      ]
    },
    {
      "cell_type": "code",
      "execution_count": 46,
      "metadata": {
        "colab": {
          "base_uri": "https://localhost:8080/"
        },
        "id": "uw08KDer6C_K",
        "outputId": "6429bdb1-36e9-486e-9874-c6bee459814e"
      },
      "outputs": [
        {
          "output_type": "stream",
          "name": "stdout",
          "text": [
            "     pcost       dcost       gap    pres   dres\n",
            " 0:  5.6362e-04 -1.0016e+00  1e+00  2e-16  6e+00\n",
            " 1:  5.6350e-04 -1.0084e-02  1e-02  3e-17  6e-02\n",
            " 2:  5.5302e-04 -1.5793e-04  7e-04  4e-17  4e-03\n",
            " 3:  3.7518e-04 -1.1807e-04  5e-04  2e-16  1e-18\n",
            " 4:  3.5185e-04  2.6269e-04  9e-05  2e-16  9e-19\n",
            " 5:  3.2954e-04  3.0686e-04  2e-05  1e-16  5e-19\n",
            " 6:  3.2217e-04  3.2045e-04  2e-06  1e-16  7e-19\n",
            " 7:  3.2118e-04  3.2111e-04  6e-08  2e-16  8e-19\n",
            "Optimal solution found.\n"
          ]
        }
      ],
      "source": [
        "# Construct the QP, invoke solver\n",
        "sol = solvers.qp(H, -c, -At, -b, P, q)"
      ]
    },
    {
      "cell_type": "code",
      "execution_count": 47,
      "metadata": {
        "colab": {
          "base_uri": "https://localhost:8080/"
        },
        "id": "YPP4VkP36C_L",
        "outputId": "b2610b84-07cc-4fb2-95bb-7d31972b9602"
      },
      "outputs": [
        {
          "output_type": "stream",
          "name": "stdout",
          "text": [
            "[5.04030371e-04 1.14328418e-02 5.55229472e-05 1.07503393e-05\n",
            " 6.80042323e-04 3.18699985e-06 2.96398792e-06 7.74533612e-06\n",
            " 1.76346865e-03 3.38249405e-06 6.44407059e-06 2.89092017e-05\n",
            " 4.72485091e-02 5.40470931e-06 7.55166200e-02 1.06204238e-01\n",
            " 4.60936212e-02 6.09601230e-06 6.53897405e-06 3.86047698e-06\n",
            " 4.97036796e-06 1.00386503e-04 9.39322553e-06 2.65778839e-06\n",
            " 2.38087690e-06 1.45084655e-01 3.64250709e-06 3.06375999e-01\n",
            " 6.17318871e-02 1.35570966e-01 6.15288846e-02]\n",
            "0.0003211770254786336\n",
            "(31,)\n"
          ]
        }
      ],
      "source": [
        "# Extract optimal value and solution\n",
        "xs = np.array(sol['x'].T).squeeze()\n",
        "print(xs)\n",
        "print(sol['primal objective'])\n",
        "print(xs.shape) #(31,)"
      ]
    },
    {
      "cell_type": "code",
      "execution_count": 48,
      "metadata": {
        "colab": {
          "base_uri": "https://localhost:8080/",
          "height": 388
        },
        "id": "5CxylND06C_L",
        "outputId": "764b69b3-1d16-4575-b743-fefecbb7822b"
      },
      "outputs": [
        {
          "output_type": "display_data",
          "data": {
            "text/plain": [
              "<Figure size 576x432 with 1 Axes>"
            ],
            "image/png": "[encoded data removed]"
          },
          "metadata": {}
        }
      ],
      "source": [
        "# Visualization\n",
        "num = 9\n",
        "sorted_indices = np.argsort(xs*(-1))\n",
        "labels = [ f'x{idx}' for idx in sorted_indices[:num]]\n",
        "labels += [ 'etc.']\n",
        "\n",
        "sorted_xs = np.sort(xs)[::-1]\n",
        "sorted_xs = np.append(sorted_xs[:num], [sorted_xs[num:].sum()])\n",
        "\n",
        "# Plotting\n",
        "plt.rcParams['figure.figsize'] = [8, 6]\n",
        "plt.pie(np.array(sorted_xs).T.squeeze(), autopct = '%1.2f', labels = labels, textprops = {'fontsize':15})\n",
        "plt.axis('equal')\n",
        "plt.title('optimal fractions of the assets', fontsize = 24)\n",
        "plt.show()"
      ]
    },
    {
      "cell_type": "markdown",
      "metadata": {
        "id": "LuO_ikoC6C_L"
      },
      "source": [
        "# 3. Exercise Problem\n",
        "### minimize\n",
        "$$ \\frac{1}{2} x^2 + 3x + 4y $$\n",
        "### subject to\n",
        "$$ x,y \\ge 0,\\; x+3y\\ge 15,\\; 2x+5y \\le 100,\\; 3x+4y \\le80 $$ "
      ]
    },
    {
      "cell_type": "code",
      "execution_count": 54,
      "metadata": {
        "colab": {
          "base_uri": "https://localhost:8080/"
        },
        "id": "MuopVVZ76C_M",
        "outputId": "afd8565b-d394-4187-8ba5-6fa15d03374c"
      },
      "outputs": [
        {
          "output_type": "stream",
          "name": "stdout",
          "text": [
            "     pcost       dcost       gap    pres   dres\n",
            " 0:  8.3415e+01 -7.3339e+02  8e+02  0e+00  4e+01\n",
            " 1:  7.2959e+01  1.2755e+00  7e+01  3e-16  3e+00\n",
            " 2:  6.0655e+01  4.6219e+01  1e+01  6e-17  9e-01\n",
            " 3:  1.9890e+01  2.5701e+00  2e+01  6e-17  8e-01\n",
            " 4:  3.8154e+01  1.6150e+01  2e+01  1e-16  6e-01\n",
            " 5:  1.8806e+01  9.2247e+00  1e+01  2e-16  1e-01\n",
            " 6:  1.8613e+01  1.8514e+01  1e-01  8e-17  2e-03\n",
            " 7:  1.8611e+01  1.8610e+01  1e-03  1e-16  2e-05\n",
            " 8:  1.8611e+01  1.8611e+01  1e-05  4e-17  2e-07\n",
            " 9:  1.8611e+01  1.8611e+01  1e-07  2e-16  2e-09\n",
            "Optimal solution found.\n",
            "[-1.67e+00]\n",
            "[ 5.56e+00]\n",
            "\n",
            "18.61111111305836\n"
          ]
        }
      ],
      "source": [
        "#H와 c로 0.5x^2+3x+4y 표현, tc = 'd'는 data type을 double로 해준다는말\n",
        "H = matrix(np.array([[1,0],[0,0]]), tc='d')\n",
        "c = matrix(np.array([-3,-4]), tc='d')\n",
        "At = matrix(np.array([[1,1],[1,3],[-2,-5],[-3,-4]]), tc = 'd') # 문제조건\n",
        "# -x-y>=-7, -2y>=-4, ...\n",
        "b = matrix(np.array([0,15,-100,-80]).T, tc='d') # 문제조건\n",
        "sol = solvers.qp(H, -c, -At, -b)\n",
        "\n",
        "# Extract optimal value and solution\n",
        "print(sol['x'])\n",
        "print(sol['primal objective'])\n"
      ]
    },
    {
      "cell_type": "markdown",
      "metadata": {
        "id": "o9HMxRZO6C_M"
      },
      "source": [
        "### maximize\n",
        "$$ \\frac{1}{2} x^2 + 3x + 4y $$\n",
        "### subject to\n",
        "$$ x,y \\ge 0,\\; x+3y\\ge 15,\\; 2x+5y \\le 100,\\; 3x+4y \\le80 $$ "
      ]
    },
    {
      "cell_type": "code",
      "execution_count": 64,
      "metadata": {
        "colab": {
          "base_uri": "https://localhost:8080/"
        },
        "id": "tuZokM_D6C_N",
        "outputId": "61e643cd-9e7a-4da1-fd5f-f906a8a16141"
      },
      "outputs": [
        {
          "output_type": "stream",
          "name": "stdout",
          "text": [
            "     pcost       dcost       gap    pres   dres\n",
            " 0: -1.1351e+04 -1.4128e+03  1e+04  6e-01  1e+02\n",
            " 1: -4.3910e+03 -5.6590e+03  1e+03  3e-17  5e-12\n",
            " 2: -4.7552e+03 -4.7978e+03  4e+01  3e-16  6e-13\n",
            " 3: -4.7877e+03 -4.7881e+03  4e-01  0e+00  2e-13\n",
            " 4: -4.7880e+03 -4.7880e+03  4e-03  2e-16  4e-13\n",
            "Optimal solution found.\n",
            "[ 9.60e+01]\n",
            "[-2.70e+01]\n",
            "\n",
            "-4787.996708705156\n"
          ]
        }
      ],
      "source": [
        "#H와 c로 0.5x^2+3x+4y 표현, tc = 'd'는 data type을 double로 해준다는말\n",
        "H = matrix(np.array([[1,0],[0,0]]), tc='d')\n",
        "c = matrix(np.array([-3,-4]), tc='d')\n",
        "At = matrix(np.array([[1,1],[1,3],[-2,-5],[-3,-4]]), tc = 'd') # 문제조건\n",
        "# -x-y>=-7, -2y>=-4, ...\n",
        "b = matrix(np.array([0,15,-100,-180]).T, tc='d') # 문제조건\n",
        "sol = solvers.qp(-H, c, -At, -b)\n",
        "\n",
        "# Extract optimal value and solution\n",
        "print(sol['x'])\n",
        "print(sol['primal objective'])"
      ]
    },
    {
      "cell_type": "code",
      "execution_count": null,
      "metadata": {
        "id": "R2S9wkKa6C_N"
      },
      "outputs": [],
      "source": [
        ""
      ]
    }
  ],
  "metadata": {
    "kernelspec": {
      "display_name": "SK",
      "language": "python",
      "name": "sk"
    },
    "language_info": {
      "codemirror_mode": {
        "name": "ipython",
        "version": 3
      },
      "file_extension": ".py",
      "mimetype": "text/x-python",
      "name": "python",
      "nbconvert_exporter": "python",
      "pygments_lexer": "ipython3",
      "version": "3.7.9"
    },
    "colab": {
      "name": "Optimization_QuadraticProgramming.ipynb",
      "provenance": [],
      "collapsed_sections": [],
      "include_colab_link": true
    }
  },
  "nbformat": 4,
  "nbformat_minor": 0
}
