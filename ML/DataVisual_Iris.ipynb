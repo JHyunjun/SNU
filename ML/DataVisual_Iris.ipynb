{
  "nbformat": 4,
  "nbformat_minor": 0,
  "metadata": {
    "colab": {
      "name": "0704_DataVisual_Iris.ipynb",
      "private_outputs": true,
      "provenance": [],
      "collapsed_sections": [],
      "authorship_tag": "ABX9TyMV3pDrgiekPSr/kfnZwUjH",
      "include_colab_link": true
    },
    "kernelspec": {
      "name": "python3",
      "display_name": "Python 3"
    },
    "language_info": {
      "name": "python"
    }
  },
  "cells": [
    {
      "cell_type": "markdown",
      "metadata": {
        "id": "view-in-github",
        "colab_type": "text"
      },
      "source": [
        "<a href=\"https://colab.research.google.com/github/JHyunjun/Seoul_National_University/blob/main/0704_DataVisual_Iris.ipynb\" target=\"_parent\"><img src=\"https://colab.research.google.com/assets/colab-badge.svg\" alt=\"Open In Colab\"/></a>"
      ]
    },
    {
      "cell_type": "code",
      "execution_count": null,
      "metadata": {
        "id": "zw79mIF9MQvS"
      },
      "outputs": [],
      "source": [
        "%matplotlib inline\n",
        "import matplotlib.pyplot as plt\n",
        "import numpy as np\n",
        "import pandas as pd\n",
        "import sklearn.datasets\n",
        "\n",
        "iris = sklearn.datasets.load_iris()\n",
        "df_iris = pd.DataFrame(iris.data, columns = iris.feature_names)\n",
        "print(df_iris.shape)\n",
        "df_iris.head()"
      ]
    },
    {
      "cell_type": "code",
      "source": [
        "U_iris, S_iris, Vt_iris = np.linalg.svd(df_iris)\n",
        "print(U_iris.shape)\n",
        "print(S_iris.shape,S_iris)\n",
        "print(Vt_iris.shape)"
      ],
      "metadata": {
        "id": "EydSW47_MpWN"
      },
      "execution_count": null,
      "outputs": []
    },
    {
      "cell_type": "code",
      "source": [
        "# 3개만 선택\n",
        "#Label 0에 대한 instance, 1에 대한 instance, 2에대한 instance 각각 분할\n",
        "idx_setosa = np.where(iris.target ==0)[0]\n",
        "idx_versicolor = np.where(iris.target ==1)[0]\n",
        "idx_virginica = np.where(iris.target ==2)[0]\n",
        "\n",
        "#여기서 U는 U*Gamma 이므로, V는 basis를 의미하고 U*Gamma는 좌표를 의미한다고 봐도됨\n",
        "setosa_x = U_iris[idx_setosa, 0]\n",
        "setosa_y = U_iris[idx_setosa, 1]\n",
        "\n",
        "versicolor_x = U_iris[idx_versicolor,0]\n",
        "versicolor_y = U_iris[idx_versicolor,1]\n",
        "\n",
        "virginica_x = U_iris[idx_virginica, 0]\n",
        "virginica_y = U_iris[idx_virginica, 1]\n"
      ],
      "metadata": {
        "id": "rUfDKCe5M1Lu"
      },
      "execution_count": null,
      "outputs": []
    },
    {
      "cell_type": "code",
      "source": [
        "fig = plt.figure(figsize = (7.0, 5.5))\n",
        "ax = fig.add_subplot(111)\n",
        "\n",
        "plt.scatter(setosa_x, setosa_y, marker = 'o')\n",
        "plt.scatter(versicolor_x, versicolor_y, marker = 'D')\n",
        "plt.scatter(virginica_x, virginica_y, marker = '^')"
      ],
      "metadata": {
        "id": "YNj9Un4fN8Hq"
      },
      "execution_count": null,
      "outputs": []
    }
  ]
}
