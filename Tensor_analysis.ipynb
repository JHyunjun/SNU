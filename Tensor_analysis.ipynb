{
  "nbformat": 4,
  "nbformat_minor": 0,
  "metadata": {
    "kernelspec": {
      "display_name": "Python 3",
      "language": "python",
      "name": "python3"
    },
    "language_info": {
      "codemirror_mode": {
        "name": "ipython",
        "version": 3
      },
      "file_extension": ".py",
      "mimetype": "text/x-python",
      "name": "python",
      "nbconvert_exporter": "python",
      "pygments_lexer": "ipython3",
      "version": "3.6.10"
    },
    "colab": {
      "name": "TensorAnalysis.ipynb",
      "provenance": [],
      "collapsed_sections": [],
      "include_colab_link": true
    },
    "accelerator": "GPU",
    "gpuClass": "standard"
  },
  "cells": [
    {
      "cell_type": "markdown",
      "metadata": {
        "id": "view-in-github",
        "colab_type": "text"
      },
      "source": [
        "<a href=\"https://colab.research.google.com/github/JHyunjun/SNU/blob/main/Tensor_analysis.ipynb\" target=\"_parent\"><img src=\"https://colab.research.google.com/assets/colab-badge.svg\" alt=\"Open In Colab\"/></a>"
      ]
    },
    {
      "cell_type": "code",
      "metadata": {
        "id": "wYxn2kXtVr6F"
      },
      "source": [
        "import numpy as np\n",
        "import pandas as pd\n",
        "import matplotlib.pyplot as plt\n",
        "from tqdm import tqdm\n",
        "import scipy\n",
        "import scipy.stats as ss"
      ],
      "execution_count": 59,
      "outputs": []
    },
    {
      "cell_type": "markdown",
      "metadata": {
        "id": "GA7yyF6SVr6I"
      },
      "source": [
        "# Load Data"
      ]
    },
    {
      "cell_type": "code",
      "metadata": {
        "id": "4dPMSdgnVr6K"
      },
      "source": [
        "date_df = pd.read_csv('/content/drive/MyDrive/Colab Notebooks/snu/w4/실습자료/tensor/tensor/data/date_dic', sep='\\t')"
      ],
      "execution_count": 60,
      "outputs": []
    },
    {
      "cell_type": "code",
      "metadata": {
        "id": "gD18LhvBVr6K"
      },
      "source": [
        "feature_df = pd.read_csv('/content/drive/MyDrive/Colab Notebooks/snu/w4/실습자료/tensor/tensor/data/feature_dic', sep='\\t')"
      ],
      "execution_count": 61,
      "outputs": []
    },
    {
      "cell_type": "code",
      "metadata": {
        "id": "3_cZYZhXVr6L"
      },
      "source": [
        "stock_df = pd.read_csv('/content/drive/MyDrive/Colab Notebooks/snu/w4/실습자료/tensor/tensor/data/stock_dic', sep='\\t', dtype='str')"
      ],
      "execution_count": 62,
      "outputs": []
    },
    {
      "cell_type": "code",
      "metadata": {
        "id": "DUxMIYWvVr6L",
        "colab": {
          "base_uri": "https://localhost:8080/",
          "height": 206
        },
        "outputId": "b33cdb0f-c638-430e-d901-d4caa6a844c5"
      },
      "source": [
        "date_df.head()"
      ],
      "execution_count": 63,
      "outputs": [
        {
          "output_type": "execute_result",
          "data": {
            "text/plain": [
              "         date\n",
              "0  2020-01-02\n",
              "1  2020-01-03\n",
              "2  2020-01-06\n",
              "3  2020-01-07\n",
              "4  2020-01-08"
            ],
            "text/html": [
              "\n",
              "  <div id=\"df-7d93f5ac-1b8e-45cc-ac2e-54e8409e3e6e\">\n",
              "    <div class=\"colab-df-container\">\n",
              "      <div>\n",
              "<style scoped>\n",
              "    .dataframe tbody tr th:only-of-type {\n",
              "        vertical-align: middle;\n",
              "    }\n",
              "\n",
              "    .dataframe tbody tr th {\n",
              "        vertical-align: top;\n",
              "    }\n",
              "\n",
              "    .dataframe thead th {\n",
              "        text-align: right;\n",
              "    }\n",
              "</style>\n",
              "<table border=\"1\" class=\"dataframe\">\n",
              "  <thead>\n",
              "    <tr style=\"text-align: right;\">\n",
              "      <th></th>\n",
              "      <th>date</th>\n",
              "    </tr>\n",
              "  </thead>\n",
              "  <tbody>\n",
              "    <tr>\n",
              "      <th>0</th>\n",
              "      <td>2020-01-02</td>\n",
              "    </tr>\n",
              "    <tr>\n",
              "      <th>1</th>\n",
              "      <td>2020-01-03</td>\n",
              "    </tr>\n",
              "    <tr>\n",
              "      <th>2</th>\n",
              "      <td>2020-01-06</td>\n",
              "    </tr>\n",
              "    <tr>\n",
              "      <th>3</th>\n",
              "      <td>2020-01-07</td>\n",
              "    </tr>\n",
              "    <tr>\n",
              "      <th>4</th>\n",
              "      <td>2020-01-08</td>\n",
              "    </tr>\n",
              "  </tbody>\n",
              "</table>\n",
              "</div>\n",
              "      <button class=\"colab-df-convert\" onclick=\"convertToInteractive('df-7d93f5ac-1b8e-45cc-ac2e-54e8409e3e6e')\"\n",
              "              title=\"Convert this dataframe to an interactive table.\"\n",
              "              style=\"display:none;\">\n",
              "        \n",
              "  <svg xmlns=\"http://www.w3.org/2000/svg\" height=\"24px\"viewBox=\"0 0 24 24\"\n",
              "       width=\"24px\">\n",
              "    <path d=\"M0 0h24v24H0V0z\" fill=\"none\"/>\n",
              "    <path d=\"M18.56 5.44l.94 2.06.94-2.06 2.06-.94-2.06-.94-.94-2.06-.94 2.06-2.06.94zm-11 1L8.5 8.5l.94-2.06 2.06-.94-2.06-.94L8.5 2.5l-.94 2.06-2.06.94zm10 10l.94 2.06.94-2.06 2.06-.94-2.06-.94-.94-2.06-.94 2.06-2.06.94z\"/><path d=\"M17.41 7.96l-1.37-1.37c-.4-.4-.92-.59-1.43-.59-.52 0-1.04.2-1.43.59L10.3 9.45l-7.72 7.72c-.78.78-.78 2.05 0 2.83L4 21.41c.39.39.9.59 1.41.59.51 0 1.02-.2 1.41-.59l7.78-7.78 2.81-2.81c.8-.78.8-2.07 0-2.86zM5.41 20L4 18.59l7.72-7.72 1.47 1.35L5.41 20z\"/>\n",
              "  </svg>\n",
              "      </button>\n",
              "      \n",
              "  <style>\n",
              "    .colab-df-container {\n",
              "      display:flex;\n",
              "      flex-wrap:wrap;\n",
              "      gap: 12px;\n",
              "    }\n",
              "\n",
              "    .colab-df-convert {\n",
              "      background-color: #E8F0FE;\n",
              "      border: none;\n",
              "      border-radius: 50%;\n",
              "      cursor: pointer;\n",
              "      display: none;\n",
              "      fill: #1967D2;\n",
              "      height: 32px;\n",
              "      padding: 0 0 0 0;\n",
              "      width: 32px;\n",
              "    }\n",
              "\n",
              "    .colab-df-convert:hover {\n",
              "      background-color: #E2EBFA;\n",
              "      box-shadow: 0px 1px 2px rgba(60, 64, 67, 0.3), 0px 1px 3px 1px rgba(60, 64, 67, 0.15);\n",
              "      fill: #174EA6;\n",
              "    }\n",
              "\n",
              "    [theme=dark] .colab-df-convert {\n",
              "      background-color: #3B4455;\n",
              "      fill: #D2E3FC;\n",
              "    }\n",
              "\n",
              "    [theme=dark] .colab-df-convert:hover {\n",
              "      background-color: #434B5C;\n",
              "      box-shadow: 0px 1px 3px 1px rgba(0, 0, 0, 0.15);\n",
              "      filter: drop-shadow(0px 1px 2px rgba(0, 0, 0, 0.3));\n",
              "      fill: #FFFFFF;\n",
              "    }\n",
              "  </style>\n",
              "\n",
              "      <script>\n",
              "        const buttonEl =\n",
              "          document.querySelector('#df-7d93f5ac-1b8e-45cc-ac2e-54e8409e3e6e button.colab-df-convert');\n",
              "        buttonEl.style.display =\n",
              "          google.colab.kernel.accessAllowed ? 'block' : 'none';\n",
              "\n",
              "        async function convertToInteractive(key) {\n",
              "          const element = document.querySelector('#df-7d93f5ac-1b8e-45cc-ac2e-54e8409e3e6e');\n",
              "          const dataTable =\n",
              "            await google.colab.kernel.invokeFunction('convertToInteractive',\n",
              "                                                     [key], {});\n",
              "          if (!dataTable) return;\n",
              "\n",
              "          const docLinkHtml = 'Like what you see? Visit the ' +\n",
              "            '<a target=\"_blank\" href=https://colab.research.google.com/notebooks/data_table.ipynb>data table notebook</a>'\n",
              "            + ' to learn more about interactive tables.';\n",
              "          element.innerHTML = '';\n",
              "          dataTable['output_type'] = 'display_data';\n",
              "          await google.colab.output.renderOutput(dataTable, element);\n",
              "          const docLink = document.createElement('div');\n",
              "          docLink.innerHTML = docLinkHtml;\n",
              "          element.appendChild(docLink);\n",
              "        }\n",
              "      </script>\n",
              "    </div>\n",
              "  </div>\n",
              "  "
            ]
          },
          "metadata": {},
          "execution_count": 63
        }
      ]
    },
    {
      "cell_type": "code",
      "metadata": {
        "id": "ps7rO9amVr6L",
        "colab": {
          "base_uri": "https://localhost:8080/",
          "height": 206
        },
        "outputId": "6b18782d-7a65-4596-b7b3-a63948519cac"
      },
      "source": [
        "feature_df.head()"
      ],
      "execution_count": 64,
      "outputs": [
        {
          "output_type": "execute_result",
          "data": {
            "text/plain": [
              "   index         feature\n",
              "0      0   opening_price\n",
              "1      1   highest_price\n",
              "2      2    lowest_price\n",
              "3      3   closing_price\n",
              "4      4  trading_volume"
            ],
            "text/html": [
              "\n",
              "  <div id=\"df-400dd15f-fbe7-4994-8db8-a9d1800b235d\">\n",
              "    <div class=\"colab-df-container\">\n",
              "      <div>\n",
              "<style scoped>\n",
              "    .dataframe tbody tr th:only-of-type {\n",
              "        vertical-align: middle;\n",
              "    }\n",
              "\n",
              "    .dataframe tbody tr th {\n",
              "        vertical-align: top;\n",
              "    }\n",
              "\n",
              "    .dataframe thead th {\n",
              "        text-align: right;\n",
              "    }\n",
              "</style>\n",
              "<table border=\"1\" class=\"dataframe\">\n",
              "  <thead>\n",
              "    <tr style=\"text-align: right;\">\n",
              "      <th></th>\n",
              "      <th>index</th>\n",
              "      <th>feature</th>\n",
              "    </tr>\n",
              "  </thead>\n",
              "  <tbody>\n",
              "    <tr>\n",
              "      <th>0</th>\n",
              "      <td>0</td>\n",
              "      <td>opening_price</td>\n",
              "    </tr>\n",
              "    <tr>\n",
              "      <th>1</th>\n",
              "      <td>1</td>\n",
              "      <td>highest_price</td>\n",
              "    </tr>\n",
              "    <tr>\n",
              "      <th>2</th>\n",
              "      <td>2</td>\n",
              "      <td>lowest_price</td>\n",
              "    </tr>\n",
              "    <tr>\n",
              "      <th>3</th>\n",
              "      <td>3</td>\n",
              "      <td>closing_price</td>\n",
              "    </tr>\n",
              "    <tr>\n",
              "      <th>4</th>\n",
              "      <td>4</td>\n",
              "      <td>trading_volume</td>\n",
              "    </tr>\n",
              "  </tbody>\n",
              "</table>\n",
              "</div>\n",
              "      <button class=\"colab-df-convert\" onclick=\"convertToInteractive('df-400dd15f-fbe7-4994-8db8-a9d1800b235d')\"\n",
              "              title=\"Convert this dataframe to an interactive table.\"\n",
              "              style=\"display:none;\">\n",
              "        \n",
              "  <svg xmlns=\"http://www.w3.org/2000/svg\" height=\"24px\"viewBox=\"0 0 24 24\"\n",
              "       width=\"24px\">\n",
              "    <path d=\"M0 0h24v24H0V0z\" fill=\"none\"/>\n",
              "    <path d=\"M18.56 5.44l.94 2.06.94-2.06 2.06-.94-2.06-.94-.94-2.06-.94 2.06-2.06.94zm-11 1L8.5 8.5l.94-2.06 2.06-.94-2.06-.94L8.5 2.5l-.94 2.06-2.06.94zm10 10l.94 2.06.94-2.06 2.06-.94-2.06-.94-.94-2.06-.94 2.06-2.06.94z\"/><path d=\"M17.41 7.96l-1.37-1.37c-.4-.4-.92-.59-1.43-.59-.52 0-1.04.2-1.43.59L10.3 9.45l-7.72 7.72c-.78.78-.78 2.05 0 2.83L4 21.41c.39.39.9.59 1.41.59.51 0 1.02-.2 1.41-.59l7.78-7.78 2.81-2.81c.8-.78.8-2.07 0-2.86zM5.41 20L4 18.59l7.72-7.72 1.47 1.35L5.41 20z\"/>\n",
              "  </svg>\n",
              "      </button>\n",
              "      \n",
              "  <style>\n",
              "    .colab-df-container {\n",
              "      display:flex;\n",
              "      flex-wrap:wrap;\n",
              "      gap: 12px;\n",
              "    }\n",
              "\n",
              "    .colab-df-convert {\n",
              "      background-color: #E8F0FE;\n",
              "      border: none;\n",
              "      border-radius: 50%;\n",
              "      cursor: pointer;\n",
              "      display: none;\n",
              "      fill: #1967D2;\n",
              "      height: 32px;\n",
              "      padding: 0 0 0 0;\n",
              "      width: 32px;\n",
              "    }\n",
              "\n",
              "    .colab-df-convert:hover {\n",
              "      background-color: #E2EBFA;\n",
              "      box-shadow: 0px 1px 2px rgba(60, 64, 67, 0.3), 0px 1px 3px 1px rgba(60, 64, 67, 0.15);\n",
              "      fill: #174EA6;\n",
              "    }\n",
              "\n",
              "    [theme=dark] .colab-df-convert {\n",
              "      background-color: #3B4455;\n",
              "      fill: #D2E3FC;\n",
              "    }\n",
              "\n",
              "    [theme=dark] .colab-df-convert:hover {\n",
              "      background-color: #434B5C;\n",
              "      box-shadow: 0px 1px 3px 1px rgba(0, 0, 0, 0.15);\n",
              "      filter: drop-shadow(0px 1px 2px rgba(0, 0, 0, 0.3));\n",
              "      fill: #FFFFFF;\n",
              "    }\n",
              "  </style>\n",
              "\n",
              "      <script>\n",
              "        const buttonEl =\n",
              "          document.querySelector('#df-400dd15f-fbe7-4994-8db8-a9d1800b235d button.colab-df-convert');\n",
              "        buttonEl.style.display =\n",
              "          google.colab.kernel.accessAllowed ? 'block' : 'none';\n",
              "\n",
              "        async function convertToInteractive(key) {\n",
              "          const element = document.querySelector('#df-400dd15f-fbe7-4994-8db8-a9d1800b235d');\n",
              "          const dataTable =\n",
              "            await google.colab.kernel.invokeFunction('convertToInteractive',\n",
              "                                                     [key], {});\n",
              "          if (!dataTable) return;\n",
              "\n",
              "          const docLinkHtml = 'Like what you see? Visit the ' +\n",
              "            '<a target=\"_blank\" href=https://colab.research.google.com/notebooks/data_table.ipynb>data table notebook</a>'\n",
              "            + ' to learn more about interactive tables.';\n",
              "          element.innerHTML = '';\n",
              "          dataTable['output_type'] = 'display_data';\n",
              "          await google.colab.output.renderOutput(dataTable, element);\n",
              "          const docLink = document.createElement('div');\n",
              "          docLink.innerHTML = docLinkHtml;\n",
              "          element.appendChild(docLink);\n",
              "        }\n",
              "      </script>\n",
              "    </div>\n",
              "  </div>\n",
              "  "
            ]
          },
          "metadata": {},
          "execution_count": 64
        }
      ]
    },
    {
      "cell_type": "code",
      "metadata": {
        "id": "ns1jQJNWVr6M",
        "colab": {
          "base_uri": "https://localhost:8080/",
          "height": 206
        },
        "outputId": "0bc139df-8b5f-45a6-cd4c-f1fe99fc5938"
      },
      "source": [
        "stock_df.head()"
      ],
      "execution_count": 65,
      "outputs": [
        {
          "output_type": "execute_result",
          "data": {
            "text/plain": [
              "   symbol                                          name  \\\n",
              "0  000100                             Yuhan Corporation   \n",
              "1  000120                      CJ Logistics Corporation   \n",
              "2  000270                               Kia Corporation   \n",
              "3  000660                                 SK hynix Inc.   \n",
              "4  000720  Hyundai Engineering & Construction Co., Ltd.   \n",
              "\n",
              "                                         description             sector  \n",
              "0  Yuhan Corporation, a pharmaceutical company, e...         Healthcare  \n",
              "1  CJ Logistics Corporation provides integrated t...        Industrials  \n",
              "2  Kia Corporation, together with its subsidiarie...  Consumer Cyclical  \n",
              "3  SK hynix Inc., together with its subsidiaries,...         Technology  \n",
              "4  Hyundai Engineering & Construction Co., Ltd. e...        Industrials  "
            ],
            "text/html": [
              "\n",
              "  <div id=\"df-1d1de190-cf31-4e19-9914-7d389e94736d\">\n",
              "    <div class=\"colab-df-container\">\n",
              "      <div>\n",
              "<style scoped>\n",
              "    .dataframe tbody tr th:only-of-type {\n",
              "        vertical-align: middle;\n",
              "    }\n",
              "\n",
              "    .dataframe tbody tr th {\n",
              "        vertical-align: top;\n",
              "    }\n",
              "\n",
              "    .dataframe thead th {\n",
              "        text-align: right;\n",
              "    }\n",
              "</style>\n",
              "<table border=\"1\" class=\"dataframe\">\n",
              "  <thead>\n",
              "    <tr style=\"text-align: right;\">\n",
              "      <th></th>\n",
              "      <th>symbol</th>\n",
              "      <th>name</th>\n",
              "      <th>description</th>\n",
              "      <th>sector</th>\n",
              "    </tr>\n",
              "  </thead>\n",
              "  <tbody>\n",
              "    <tr>\n",
              "      <th>0</th>\n",
              "      <td>000100</td>\n",
              "      <td>Yuhan Corporation</td>\n",
              "      <td>Yuhan Corporation, a pharmaceutical company, e...</td>\n",
              "      <td>Healthcare</td>\n",
              "    </tr>\n",
              "    <tr>\n",
              "      <th>1</th>\n",
              "      <td>000120</td>\n",
              "      <td>CJ Logistics Corporation</td>\n",
              "      <td>CJ Logistics Corporation provides integrated t...</td>\n",
              "      <td>Industrials</td>\n",
              "    </tr>\n",
              "    <tr>\n",
              "      <th>2</th>\n",
              "      <td>000270</td>\n",
              "      <td>Kia Corporation</td>\n",
              "      <td>Kia Corporation, together with its subsidiarie...</td>\n",
              "      <td>Consumer Cyclical</td>\n",
              "    </tr>\n",
              "    <tr>\n",
              "      <th>3</th>\n",
              "      <td>000660</td>\n",
              "      <td>SK hynix Inc.</td>\n",
              "      <td>SK hynix Inc., together with its subsidiaries,...</td>\n",
              "      <td>Technology</td>\n",
              "    </tr>\n",
              "    <tr>\n",
              "      <th>4</th>\n",
              "      <td>000720</td>\n",
              "      <td>Hyundai Engineering &amp; Construction Co., Ltd.</td>\n",
              "      <td>Hyundai Engineering &amp; Construction Co., Ltd. e...</td>\n",
              "      <td>Industrials</td>\n",
              "    </tr>\n",
              "  </tbody>\n",
              "</table>\n",
              "</div>\n",
              "      <button class=\"colab-df-convert\" onclick=\"convertToInteractive('df-1d1de190-cf31-4e19-9914-7d389e94736d')\"\n",
              "              title=\"Convert this dataframe to an interactive table.\"\n",
              "              style=\"display:none;\">\n",
              "        \n",
              "  <svg xmlns=\"http://www.w3.org/2000/svg\" height=\"24px\"viewBox=\"0 0 24 24\"\n",
              "       width=\"24px\">\n",
              "    <path d=\"M0 0h24v24H0V0z\" fill=\"none\"/>\n",
              "    <path d=\"M18.56 5.44l.94 2.06.94-2.06 2.06-.94-2.06-.94-.94-2.06-.94 2.06-2.06.94zm-11 1L8.5 8.5l.94-2.06 2.06-.94-2.06-.94L8.5 2.5l-.94 2.06-2.06.94zm10 10l.94 2.06.94-2.06 2.06-.94-2.06-.94-.94-2.06-.94 2.06-2.06.94z\"/><path d=\"M17.41 7.96l-1.37-1.37c-.4-.4-.92-.59-1.43-.59-.52 0-1.04.2-1.43.59L10.3 9.45l-7.72 7.72c-.78.78-.78 2.05 0 2.83L4 21.41c.39.39.9.59 1.41.59.51 0 1.02-.2 1.41-.59l7.78-7.78 2.81-2.81c.8-.78.8-2.07 0-2.86zM5.41 20L4 18.59l7.72-7.72 1.47 1.35L5.41 20z\"/>\n",
              "  </svg>\n",
              "      </button>\n",
              "      \n",
              "  <style>\n",
              "    .colab-df-container {\n",
              "      display:flex;\n",
              "      flex-wrap:wrap;\n",
              "      gap: 12px;\n",
              "    }\n",
              "\n",
              "    .colab-df-convert {\n",
              "      background-color: #E8F0FE;\n",
              "      border: none;\n",
              "      border-radius: 50%;\n",
              "      cursor: pointer;\n",
              "      display: none;\n",
              "      fill: #1967D2;\n",
              "      height: 32px;\n",
              "      padding: 0 0 0 0;\n",
              "      width: 32px;\n",
              "    }\n",
              "\n",
              "    .colab-df-convert:hover {\n",
              "      background-color: #E2EBFA;\n",
              "      box-shadow: 0px 1px 2px rgba(60, 64, 67, 0.3), 0px 1px 3px 1px rgba(60, 64, 67, 0.15);\n",
              "      fill: #174EA6;\n",
              "    }\n",
              "\n",
              "    [theme=dark] .colab-df-convert {\n",
              "      background-color: #3B4455;\n",
              "      fill: #D2E3FC;\n",
              "    }\n",
              "\n",
              "    [theme=dark] .colab-df-convert:hover {\n",
              "      background-color: #434B5C;\n",
              "      box-shadow: 0px 1px 3px 1px rgba(0, 0, 0, 0.15);\n",
              "      filter: drop-shadow(0px 1px 2px rgba(0, 0, 0, 0.3));\n",
              "      fill: #FFFFFF;\n",
              "    }\n",
              "  </style>\n",
              "\n",
              "      <script>\n",
              "        const buttonEl =\n",
              "          document.querySelector('#df-1d1de190-cf31-4e19-9914-7d389e94736d button.colab-df-convert');\n",
              "        buttonEl.style.display =\n",
              "          google.colab.kernel.accessAllowed ? 'block' : 'none';\n",
              "\n",
              "        async function convertToInteractive(key) {\n",
              "          const element = document.querySelector('#df-1d1de190-cf31-4e19-9914-7d389e94736d');\n",
              "          const dataTable =\n",
              "            await google.colab.kernel.invokeFunction('convertToInteractive',\n",
              "                                                     [key], {});\n",
              "          if (!dataTable) return;\n",
              "\n",
              "          const docLinkHtml = 'Like what you see? Visit the ' +\n",
              "            '<a target=\"_blank\" href=https://colab.research.google.com/notebooks/data_table.ipynb>data table notebook</a>'\n",
              "            + ' to learn more about interactive tables.';\n",
              "          element.innerHTML = '';\n",
              "          dataTable['output_type'] = 'display_data';\n",
              "          await google.colab.output.renderOutput(dataTable, element);\n",
              "          const docLink = document.createElement('div');\n",
              "          docLink.innerHTML = docLinkHtml;\n",
              "          element.appendChild(docLink);\n",
              "        }\n",
              "      </script>\n",
              "    </div>\n",
              "  </div>\n",
              "  "
            ]
          },
          "metadata": {},
          "execution_count": 65
        }
      ]
    },
    {
      "cell_type": "code",
      "metadata": {
        "id": "hp1MaJXQVr6M"
      },
      "source": [
        "stock_data = np.load('/content/drive/MyDrive/Colab Notebooks/snu/w4/실습자료/tensor/tensor/data/stock_data.npy')"
      ],
      "execution_count": 66,
      "outputs": []
    },
    {
      "cell_type": "code",
      "metadata": {
        "id": "LCTLgNCdVr6N",
        "colab": {
          "base_uri": "https://localhost:8080/"
        },
        "outputId": "624ab593-982b-4427-9858-143a50c14086"
      },
      "source": [
        "stock_data.shape"
      ],
      "execution_count": 67,
      "outputs": [
        {
          "output_type": "execute_result",
          "data": {
            "text/plain": [
              "(100, 123, 5)"
            ]
          },
          "metadata": {},
          "execution_count": 67
        }
      ]
    },
    {
      "cell_type": "markdown",
      "metadata": {
        "id": "eFyq_JLKVr6N"
      },
      "source": [
        "# Standardization"
      ]
    },
    {
      "cell_type": "code",
      "metadata": {
        "id": "ZIkEHNXdVr6N",
        "colab": {
          "base_uri": "https://localhost:8080/"
        },
        "outputId": "800d6beb-47c3-4004-9c98-236be819bd57"
      },
      "source": [
        "for i in tqdm(range(stock_data.shape[0])):\n",
        "    for k in range(stock_data.shape[2]):\n",
        "        stock_data[i,:,k] = ss.zscore(stock_data[i,:,k])"
      ],
      "execution_count": 68,
      "outputs": [
        {
          "output_type": "stream",
          "name": "stderr",
          "text": [
            "100%|██████████| 100/100 [00:00<00:00, 1870.75it/s]\n"
          ]
        }
      ]
    },
    {
      "cell_type": "code",
      "metadata": {
        "id": "priO-D0gVr6O"
      },
      "source": [
        ""
      ],
      "execution_count": 68,
      "outputs": []
    },
    {
      "cell_type": "markdown",
      "metadata": {
        "id": "MDp57l5JVr6O"
      },
      "source": [
        "# Draw plot"
      ]
    },
    {
      "cell_type": "code",
      "metadata": {
        "id": "wp4ZRhlkVr6O",
        "colab": {
          "base_uri": "https://localhost:8080/",
          "height": 81
        },
        "outputId": "03eb8be6-b5d8-464d-bfdc-06999e2339b9"
      },
      "source": [
        "stock_df[stock_df['symbol']== '005380']"
      ],
      "execution_count": 69,
      "outputs": [
        {
          "output_type": "execute_result",
          "data": {
            "text/plain": [
              "    symbol                   name  \\\n",
              "14  005380  Hyundai Motor Company   \n",
              "\n",
              "                                          description             sector  \n",
              "14  Hyundai Motor Company, together with its subsi...  Consumer Cyclical  "
            ],
            "text/html": [
              "\n",
              "  <div id=\"df-b6cb97d6-8099-4f81-9e98-6c0d20459cf8\">\n",
              "    <div class=\"colab-df-container\">\n",
              "      <div>\n",
              "<style scoped>\n",
              "    .dataframe tbody tr th:only-of-type {\n",
              "        vertical-align: middle;\n",
              "    }\n",
              "\n",
              "    .dataframe tbody tr th {\n",
              "        vertical-align: top;\n",
              "    }\n",
              "\n",
              "    .dataframe thead th {\n",
              "        text-align: right;\n",
              "    }\n",
              "</style>\n",
              "<table border=\"1\" class=\"dataframe\">\n",
              "  <thead>\n",
              "    <tr style=\"text-align: right;\">\n",
              "      <th></th>\n",
              "      <th>symbol</th>\n",
              "      <th>name</th>\n",
              "      <th>description</th>\n",
              "      <th>sector</th>\n",
              "    </tr>\n",
              "  </thead>\n",
              "  <tbody>\n",
              "    <tr>\n",
              "      <th>14</th>\n",
              "      <td>005380</td>\n",
              "      <td>Hyundai Motor Company</td>\n",
              "      <td>Hyundai Motor Company, together with its subsi...</td>\n",
              "      <td>Consumer Cyclical</td>\n",
              "    </tr>\n",
              "  </tbody>\n",
              "</table>\n",
              "</div>\n",
              "      <button class=\"colab-df-convert\" onclick=\"convertToInteractive('df-b6cb97d6-8099-4f81-9e98-6c0d20459cf8')\"\n",
              "              title=\"Convert this dataframe to an interactive table.\"\n",
              "              style=\"display:none;\">\n",
              "        \n",
              "  <svg xmlns=\"http://www.w3.org/2000/svg\" height=\"24px\"viewBox=\"0 0 24 24\"\n",
              "       width=\"24px\">\n",
              "    <path d=\"M0 0h24v24H0V0z\" fill=\"none\"/>\n",
              "    <path d=\"M18.56 5.44l.94 2.06.94-2.06 2.06-.94-2.06-.94-.94-2.06-.94 2.06-2.06.94zm-11 1L8.5 8.5l.94-2.06 2.06-.94-2.06-.94L8.5 2.5l-.94 2.06-2.06.94zm10 10l.94 2.06.94-2.06 2.06-.94-2.06-.94-.94-2.06-.94 2.06-2.06.94z\"/><path d=\"M17.41 7.96l-1.37-1.37c-.4-.4-.92-.59-1.43-.59-.52 0-1.04.2-1.43.59L10.3 9.45l-7.72 7.72c-.78.78-.78 2.05 0 2.83L4 21.41c.39.39.9.59 1.41.59.51 0 1.02-.2 1.41-.59l7.78-7.78 2.81-2.81c.8-.78.8-2.07 0-2.86zM5.41 20L4 18.59l7.72-7.72 1.47 1.35L5.41 20z\"/>\n",
              "  </svg>\n",
              "      </button>\n",
              "      \n",
              "  <style>\n",
              "    .colab-df-container {\n",
              "      display:flex;\n",
              "      flex-wrap:wrap;\n",
              "      gap: 12px;\n",
              "    }\n",
              "\n",
              "    .colab-df-convert {\n",
              "      background-color: #E8F0FE;\n",
              "      border: none;\n",
              "      border-radius: 50%;\n",
              "      cursor: pointer;\n",
              "      display: none;\n",
              "      fill: #1967D2;\n",
              "      height: 32px;\n",
              "      padding: 0 0 0 0;\n",
              "      width: 32px;\n",
              "    }\n",
              "\n",
              "    .colab-df-convert:hover {\n",
              "      background-color: #E2EBFA;\n",
              "      box-shadow: 0px 1px 2px rgba(60, 64, 67, 0.3), 0px 1px 3px 1px rgba(60, 64, 67, 0.15);\n",
              "      fill: #174EA6;\n",
              "    }\n",
              "\n",
              "    [theme=dark] .colab-df-convert {\n",
              "      background-color: #3B4455;\n",
              "      fill: #D2E3FC;\n",
              "    }\n",
              "\n",
              "    [theme=dark] .colab-df-convert:hover {\n",
              "      background-color: #434B5C;\n",
              "      box-shadow: 0px 1px 3px 1px rgba(0, 0, 0, 0.15);\n",
              "      filter: drop-shadow(0px 1px 2px rgba(0, 0, 0, 0.3));\n",
              "      fill: #FFFFFF;\n",
              "    }\n",
              "  </style>\n",
              "\n",
              "      <script>\n",
              "        const buttonEl =\n",
              "          document.querySelector('#df-b6cb97d6-8099-4f81-9e98-6c0d20459cf8 button.colab-df-convert');\n",
              "        buttonEl.style.display =\n",
              "          google.colab.kernel.accessAllowed ? 'block' : 'none';\n",
              "\n",
              "        async function convertToInteractive(key) {\n",
              "          const element = document.querySelector('#df-b6cb97d6-8099-4f81-9e98-6c0d20459cf8');\n",
              "          const dataTable =\n",
              "            await google.colab.kernel.invokeFunction('convertToInteractive',\n",
              "                                                     [key], {});\n",
              "          if (!dataTable) return;\n",
              "\n",
              "          const docLinkHtml = 'Like what you see? Visit the ' +\n",
              "            '<a target=\"_blank\" href=https://colab.research.google.com/notebooks/data_table.ipynb>data table notebook</a>'\n",
              "            + ' to learn more about interactive tables.';\n",
              "          element.innerHTML = '';\n",
              "          dataTable['output_type'] = 'display_data';\n",
              "          await google.colab.output.renderOutput(dataTable, element);\n",
              "          const docLink = document.createElement('div');\n",
              "          docLink.innerHTML = docLinkHtml;\n",
              "          element.appendChild(docLink);\n",
              "        }\n",
              "      </script>\n",
              "    </div>\n",
              "  </div>\n",
              "  "
            ]
          },
          "metadata": {},
          "execution_count": 69
        }
      ]
    },
    {
      "cell_type": "code",
      "metadata": {
        "id": "v1IaopWOVr6P"
      },
      "source": [
        "hyundai_ind = stock_df[stock_df['symbol']== '005380'].index[0]"
      ],
      "execution_count": 70,
      "outputs": []
    },
    {
      "cell_type": "code",
      "metadata": {
        "id": "oVsOlAczVr6P"
      },
      "source": [
        "hyundai_open = stock_data[hyundai_ind, :, 0]\n",
        "hyundai_tv = stock_data[hyundai_ind, :, 4]"
      ],
      "execution_count": 71,
      "outputs": []
    },
    {
      "cell_type": "code",
      "metadata": {
        "id": "pSrLZgBoVr6P",
        "colab": {
          "base_uri": "https://localhost:8080/",
          "height": 283
        },
        "outputId": "0a8f6630-2cf2-4039-ce6e-2d9a2fd26b27"
      },
      "source": [
        "plt.plot(hyundai_open)"
      ],
      "execution_count": 72,
      "outputs": [
        {
          "output_type": "execute_result",
          "data": {
            "text/plain": [
              "[<matplotlib.lines.Line2D at 0x7f0c6e911890>]"
            ]
          },
          "metadata": {},
          "execution_count": 72
        },
        {
          "output_type": "display_data",
          "data": {
            "text/plain": [
              "<Figure size 432x288 with 1 Axes>"
            ],
            "image/png": "[encoded data removed]"
          },
          "metadata": {
            "needs_background": "light"
          }
        }
      ]
    },
    {
      "cell_type": "code",
      "metadata": {
        "id": "NHbrLq1iVr6P",
        "colab": {
          "base_uri": "https://localhost:8080/",
          "height": 283
        },
        "outputId": "9123f04d-68d0-4a4f-c98d-a3caa194fb32"
      },
      "source": [
        "plt.plot(hyundai_tv)"
      ],
      "execution_count": 73,
      "outputs": [
        {
          "output_type": "execute_result",
          "data": {
            "text/plain": [
              "[<matplotlib.lines.Line2D at 0x7f0c6e902050>]"
            ]
          },
          "metadata": {},
          "execution_count": 73
        },
        {
          "output_type": "display_data",
          "data": {
            "text/plain": [
              "<Figure size 432x288 with 1 Axes>"
            ],
            "image/png": "[encoded data removed]"
          },
          "metadata": {
            "needs_background": "light"
          }
        }
      ]
    },
    {
      "cell_type": "markdown",
      "metadata": {
        "id": "LgqwkXjZVr6Q"
      },
      "source": [
        "# PARAFAC Decomposition"
      ]
    },
    {
      "cell_type": "markdown",
      "source": [
        "The following pseudo-code represents PARAFAC2 decomposition for a 3-order tensor.\n",
        "\n",
        "We will implement PARAFAC decomposition in Python. "
      ],
      "metadata": {
        "id": "E6rbxFfQkP9L"
      }
    },
    {
      "cell_type": "code",
      "source": [
        "from IPython.display import Image\n",
        "Image(\"/content/drive/MyDrive/Colab Notebooks/snu/w4/실습자료/tensor/tensor/img/parafac.png\")"
      ],
      "metadata": {
        "colab": {
          "base_uri": "https://localhost:8080/",
          "height": 863
        },
        "id": "6VDjCUtckIiO",
        "outputId": "cdd4c2c5-c378-4e87-e1dd-5ded041ffadd"
      },
      "execution_count": 74,
      "outputs": [
        {
          "output_type": "execute_result",
          "data": {
            "text/plain": [
              "<IPython.core.display.Image object>"
            ],
            "image/png": "[encoded data removed]"
          },
          "metadata": {},
          "execution_count": 74
        }
      ]
    },
    {
      "cell_type": "markdown",
      "metadata": {
        "id": "X7jOp6uqVr6R"
      },
      "source": [
        "## Basic Tensor Operations - Matricization, Khatri–Rao product, Hadamard product"
      ]
    },
    {
      "cell_type": "markdown",
      "metadata": {
        "id": "ELtgSrfHVr6R"
      },
      "source": [
        "### Matricization"
      ]
    },
    {
      "cell_type": "code",
      "metadata": {
        "colab": {
          "base_uri": "https://localhost:8080/"
        },
        "id": "kS4vTLKfVr6R",
        "outputId": "df3e7506-192e-4e84-e545-00a34b9ddac2"
      },
      "source": [
        "stock_data.shape"
      ],
      "execution_count": 75,
      "outputs": [
        {
          "output_type": "execute_result",
          "data": {
            "text/plain": [
              "(100, 123, 5)"
            ]
          },
          "metadata": {},
          "execution_count": 75
        }
      ]
    },
    {
      "cell_type": "code",
      "source": [
        "example_tensor = np.zeros((3,4,2))\n",
        "\n",
        "example_tensor[:,:,0] = np.array([[1,4,7,10],[2,5,8,11],[3,6,9,12]])\n",
        "example_tensor[:,:,1] = np.array([[13,16,19,22],[14,17,20,23],[15,18,21,24]])"
      ],
      "metadata": {
        "id": "HrRfYOM64obV"
      },
      "execution_count": 76,
      "outputs": []
    },
    {
      "cell_type": "code",
      "metadata": {
        "id": "CxtrC3dLVr6S"
      },
      "source": [
        "example_mode1_matricization = example_tensor.reshape(example_tensor.shape[0], -1, order='F')\n",
        "\n",
        "\n",
        "mode1_matricization = stock_data.reshape(stock_data.shape[0], -1, order='F')"
      ],
      "execution_count": 77,
      "outputs": []
    },
    {
      "cell_type": "code",
      "metadata": {
        "id": "REQhFAlLVr6S",
        "colab": {
          "base_uri": "https://localhost:8080/"
        },
        "outputId": "10d1cf5d-ceb8-48f0-8060-b0a99f4f382f"
      },
      "source": [
        "print(example_mode1_matricization)\n",
        "\n",
        "print(mode1_matricization.shape)"
      ],
      "execution_count": 78,
      "outputs": [
        {
          "output_type": "stream",
          "name": "stdout",
          "text": [
            "[[ 1.  4.  7. 10. 13. 16. 19. 22.]\n",
            " [ 2.  5.  8. 11. 14. 17. 20. 23.]\n",
            " [ 3.  6.  9. 12. 15. 18. 21. 24.]]\n",
            "(100, 615)\n"
          ]
        }
      ]
    },
    {
      "cell_type": "code",
      "metadata": {
        "id": "vovrusJjVr6S"
      },
      "source": [
        "example_mode2_matricization = np.transpose(example_tensor, (1, 0, 2))\n",
        "example_mode2_matricization = example_mode2_matricization.reshape(example_tensor.shape[1], -1, order='F')\n",
        "\n",
        "\n",
        "mode2_matricization = np.transpose(stock_data, (1, 0, 2))\n",
        "mode2_matricization = mode2_matricization.reshape(stock_data.shape[1], -1, order='F')\n",
        "\n"
      ],
      "execution_count": 79,
      "outputs": []
    },
    {
      "cell_type": "code",
      "metadata": {
        "id": "iyYijdLaVr6S",
        "colab": {
          "base_uri": "https://localhost:8080/"
        },
        "outputId": "9e37a319-86d8-452a-a284-b71dced83b23"
      },
      "source": [
        "print(example_mode2_matricization)\n",
        "\n",
        "print(mode2_matricization.shape)"
      ],
      "execution_count": 80,
      "outputs": [
        {
          "output_type": "stream",
          "name": "stdout",
          "text": [
            "[[ 1.  2.  3. 13. 14. 15.]\n",
            " [ 4.  5.  6. 16. 17. 18.]\n",
            " [ 7.  8.  9. 19. 20. 21.]\n",
            " [10. 11. 12. 22. 23. 24.]]\n",
            "(123, 500)\n"
          ]
        }
      ]
    },
    {
      "cell_type": "code",
      "metadata": {
        "id": "jMILHRovVr6T"
      },
      "source": [
        "example_mode3_matricization = np.transpose(stock_data, (2, 0, 1))\n",
        "example_mode3_matricization = example_tensor.reshape(example_tensor.shape[2], -1, order='F')\n",
        "\n",
        "mode3_matricization = np.transpose(stock_data, (2, 0, 1))\n",
        "mode3_matricization = mode3_matricization.reshape(stock_data.shape[2], -1, order='F')"
      ],
      "execution_count": 81,
      "outputs": []
    },
    {
      "cell_type": "code",
      "metadata": {
        "id": "_aDH6ifaVr6T",
        "colab": {
          "base_uri": "https://localhost:8080/"
        },
        "outputId": "43583b8f-27be-4fea-ca6c-23be3a088e37"
      },
      "source": [
        "print(example_mode3_matricization)\n",
        "\n",
        "print(mode3_matricization.shape)\n"
      ],
      "execution_count": 82,
      "outputs": [
        {
          "output_type": "stream",
          "name": "stdout",
          "text": [
            "[[ 1.  3.  5.  7.  9. 11. 13. 15. 17. 19. 21. 23.]\n",
            " [ 2.  4.  6.  8. 10. 12. 14. 16. 18. 20. 22. 24.]]\n",
            "(5, 12300)\n"
          ]
        }
      ]
    },
    {
      "cell_type": "markdown",
      "metadata": {
        "id": "WSbs2DhfVr6T"
      },
      "source": [
        "### Khatri-Rao Product"
      ]
    },
    {
      "cell_type": "markdown",
      "metadata": {
        "id": "sskqugk9Vr6T"
      },
      "source": [
        "Khatri-Rao Product is the column-wise Kronecker product between two matrices.\n",
        "$$ \\mathbf{C} =  \\mathbf{A} \\odot \\mathbf{B} $$\n",
        "where $$\\mathbf{C} \\in \\mathbb{R}^{IJ \\times R}, \\mathbf{A} \\in \\mathbb{R}^{I \\times R}, \\mathbf{B} \\in \\mathbb{R}^{J \\times R}$$"
      ]
    },
    {
      "cell_type": "code",
      "metadata": {
        "id": "_qcFG5JQVr6T"
      },
      "source": [
        "factorA = np.random.randn(100, 5)\n",
        "factorB = np.random.randn(123, 5)"
      ],
      "execution_count": 83,
      "outputs": []
    },
    {
      "cell_type": "code",
      "metadata": {
        "id": "setKJeK3Vr6U"
      },
      "source": [
        "def khatri_rao(A, B):\n",
        "    return np.vstack([np.kron(A[:, k], B[:, k]) for k in range(B.shape[1])]).T"
      ],
      "execution_count": 84,
      "outputs": []
    },
    {
      "cell_type": "code",
      "metadata": {
        "id": "WwlIsHYqVr6U"
      },
      "source": [
        "khatriAB = khatri_rao(factorA, factorB)"
      ],
      "execution_count": 85,
      "outputs": []
    },
    {
      "cell_type": "code",
      "metadata": {
        "id": "0DQ73kf1Vr6U",
        "colab": {
          "base_uri": "https://localhost:8080/"
        },
        "outputId": "04928a30-697f-43bc-de4b-6d126f51164b"
      },
      "source": [
        "khatriAB.shape"
      ],
      "execution_count": 86,
      "outputs": [
        {
          "output_type": "execute_result",
          "data": {
            "text/plain": [
              "(12300, 5)"
            ]
          },
          "metadata": {},
          "execution_count": 86
        }
      ]
    },
    {
      "cell_type": "markdown",
      "metadata": {
        "id": "ecJHDOHIVr6U"
      },
      "source": [
        "### Hadamard product"
      ]
    },
    {
      "cell_type": "markdown",
      "metadata": {
        "id": "wjr9VeKFVr6U"
      },
      "source": [
        "Hadamard product is the element-wise product between two matrices.\n",
        "$$ \\mathbf{C} =  \\mathbf{A} * \\mathbf{B} $$\n",
        "where $$\\mathbf{C} \\in \\mathbb{R}^{I \\times R}, \\mathbf{A} \\in \\mathbb{R}^{I \\times R}, \\mathbf{B} \\in \\mathbb{R}^{I \\times R}$$"
      ]
    },
    {
      "cell_type": "code",
      "metadata": {
        "id": "yx9KAcw4Vr6V"
      },
      "source": [
        "factorA = np.random.randn(100, 5)\n",
        "factorB = np.random.randn(100, 5)"
      ],
      "execution_count": 87,
      "outputs": []
    },
    {
      "cell_type": "code",
      "metadata": {
        "id": "tx7-YWcQVr6V"
      },
      "source": [
        "hadamardAB = factorA * factorB"
      ],
      "execution_count": 88,
      "outputs": []
    },
    {
      "cell_type": "code",
      "metadata": {
        "id": "5LyqgPl5Vr6V",
        "colab": {
          "base_uri": "https://localhost:8080/"
        },
        "outputId": "f4e5cda5-a7a4-4638-aec4-473b2328b908"
      },
      "source": [
        "hadamardAB.shape"
      ],
      "execution_count": 89,
      "outputs": [
        {
          "output_type": "execute_result",
          "data": {
            "text/plain": [
              "(100, 5)"
            ]
          },
          "metadata": {},
          "execution_count": 89
        }
      ]
    },
    {
      "cell_type": "markdown",
      "metadata": {
        "id": "3BRCD3DFVr6V"
      },
      "source": [
        "### Reconstruction"
      ]
    },
    {
      "cell_type": "markdown",
      "metadata": {
        "id": "508jocoMVr6V"
      },
      "source": [
        "Given factor matrices and lambda values, we can reconstruct an input tensor using them.\n",
        "$$ \\mathbf{\\mathcal{X}} \\approx [\\![\\lambda ; \\mathbf{A}, \\mathbf{B}, \\mathbf{C} ]\\!] $$\n",
        "\n",
        "<!-- In terms of mode-1:\n",
        "$$ \\mathbf{X}_{(1)} \\approx \\mathbf{A}diag(\\lambda)(\\mathbf{C}\\odot\\mathbf{B})$$\n",
        "\n",
        "In terms of mode-2:\n",
        "$$ \\mathbf{X}_{(2)} \\approx \\mathbf{B}diag(\\lambda)(\\mathbf{C}\\odot\\mathbf{A})$$\n",
        "\n",
        "In terms of mode-3:\n",
        "$$ \\mathbf{X}_{(3)} \\approx \\mathbf{C}diag(\\lambda)(\\mathbf{B}\\odot\\mathbf{A})$$\n",
        " -->"
      ]
    },
    {
      "cell_type": "code",
      "metadata": {
        "id": "d-2OZ22RVr6V"
      },
      "source": [
        "factorA = np.random.randn(100, 3)\n",
        "factorB = np.random.randn(123, 3)\n",
        "factorC = np.random.randn(3, 3)\n",
        "lambdas = np.random.randn(3)"
      ],
      "execution_count": 90,
      "outputs": []
    },
    {
      "cell_type": "code",
      "metadata": {
        "id": "E2OzJwnSVr6W"
      },
      "source": [
        "reconstruction = np.zeros((3,3,3))\n",
        "\n",
        "for i in range(3):\n",
        "    reconstruction[i,i,i] = lambdas[i]\n",
        "    \n",
        "reconstruction = np.einsum('aj, bk, cl, jkl->abc', factorA, factorB, factorC, reconstruction)"
      ],
      "execution_count": 91,
      "outputs": []
    },
    {
      "cell_type": "code",
      "metadata": {
        "id": "3eWc19ibVr6W",
        "colab": {
          "base_uri": "https://localhost:8080/"
        },
        "outputId": "5158717a-51c1-4f40-c137-0b79605f3328"
      },
      "source": [
        "reconstruction.shape"
      ],
      "execution_count": 92,
      "outputs": [
        {
          "output_type": "execute_result",
          "data": {
            "text/plain": [
              "(100, 123, 3)"
            ]
          },
          "metadata": {},
          "execution_count": 92
        }
      ]
    },
    {
      "cell_type": "markdown",
      "metadata": {
        "id": "gv5IOovaVr6W"
      },
      "source": [
        "# Updating Factor Matrix"
      ]
    },
    {
      "cell_type": "code",
      "metadata": {
        "id": "_Ct4EHUpVr6W"
      },
      "source": [
        "def updatingFactor(data, factorA, factorB, factorC, mode):\n",
        "    \n",
        "    updatedFactor = None\n",
        "    lambda_val = None\n",
        "    if mode == 1:\n",
        "        matricization = stock_data.reshape(data.shape[0], -1, order='F')\n",
        "        khatriCB = khatri_rao(factorC, factorB)\n",
        "        inv_hadamardCB = np.linalg.inv(np.matmul(factorC.T, factorC) * np.matmul(factorB.T, factorB))\n",
        "        updatedFactor = np.matmul(matricization, khatriCB) \n",
        "        updatedFactor = np.matmul(updatedFactor, inv_hadamardCB)\n",
        "        lambda_val = np.zeros((updatedFactor.shape[1],))\n",
        "        for k in range(updatedFactor.shape[1]):\n",
        "            lambda_val[k] = np.linalg.norm(updatedFactor[:,k])\n",
        "            updatedFactor[:,k] = updatedFactor[:,k]/lambda_val[k]\n",
        "        \n",
        "    elif mode == 2:\n",
        "        matricization = np.transpose(data, (1, 0, 2))\n",
        "        matricization = matricization.reshape(data.shape[1], -1, order='F')\n",
        "        khatriCA = khatri_rao(factorC, factorA)\n",
        "        inv_hadamardCA = np.linalg.inv(np.matmul(factorC.T, factorC) * np.matmul(factorA.T, factorA))\n",
        "        updatedFactor = np.matmul(matricization, khatriCA) \n",
        "        updatedFactor = np.matmul(updatedFactor, inv_hadamardCA)\n",
        "        lambda_val = np.zeros((updatedFactor.shape[1],))\n",
        "        for k in range(updatedFactor.shape[1]):\n",
        "            lambda_val[k] = np.linalg.norm(updatedFactor[:,k])\n",
        "            updatedFactor[:,k] = updatedFactor[:,k]/lambda_val[k]\n",
        "            \n",
        "    else:\n",
        "        matricization = np.transpose(data, (2, 0, 1))\n",
        "        matricization = matricization.reshape(data.shape[2], -1, order='F')          \n",
        "        khatriBA = khatri_rao(factorB, factorA)\n",
        "        inv_hadamardBA = np.linalg.inv(np.matmul(factorB.T, factorB) * np.matmul(factorA.T, factorA))\n",
        "        updatedFactor = np.matmul(matricization, khatriBA) \n",
        "        updatedFactor = np.matmul(updatedFactor, inv_hadamardBA)        \n",
        "        lambda_val = np.zeros((updatedFactor.shape[1],))\n",
        "        for k in range(updatedFactor.shape[1]):\n",
        "            lambda_val[k] = np.linalg.norm(updatedFactor[:,k])\n",
        "            updatedFactor[:,k] = updatedFactor[:,k]/lambda_val[k]    \n",
        "    \n",
        "    return updatedFactor, lambda_val"
      ],
      "execution_count": 93,
      "outputs": []
    },
    {
      "cell_type": "markdown",
      "metadata": {
        "id": "WeDTjanyVr6X"
      },
      "source": [
        "# Iteratively update factor matrices"
      ]
    },
    {
      "cell_type": "code",
      "metadata": {
        "id": "k6OnNDluVr6X"
      },
      "source": [
        "np.random.seed(seed=4) \n",
        "\n",
        "\n",
        "maxiters = 20\n",
        "rank = 3\n",
        "factorA = np.random.randn(stock_data.shape[0], rank)\n",
        "factorB = np.random.randn(stock_data.shape[1], rank)\n",
        "factorC = np.random.randn(stock_data.shape[2], rank)\n",
        "lambdas = np.zeros((rank,))\n",
        "errors = []"
      ],
      "execution_count": 94,
      "outputs": []
    },
    {
      "cell_type": "code",
      "metadata": {
        "id": "XEeIgUh_Vr6X",
        "colab": {
          "base_uri": "https://localhost:8080/"
        },
        "outputId": "53cbd9aa-4fce-416d-bfb4-ba41082b163b"
      },
      "source": [
        "for iters in tqdm(range(maxiters)):\n",
        "    updatedFactorMatrixA, updated_labmda_val = updatingFactor(stock_data, factorA, factorB, factorC, 1)\n",
        "    factorA = updatedFactorMatrixA\n",
        "    lambdas =  updated_labmda_val\n",
        "    \n",
        "    updatedFactorMatrixB, updated_labmda_val = updatingFactor(stock_data, factorA, factorB, factorC, 2)\n",
        "    factorB = updatedFactorMatrixB\n",
        "    lambdas =  updated_labmda_val\n",
        "\n",
        "    updatedFactorMatrixC, updated_labmda_val = updatingFactor(stock_data, factorA, factorB, factorC, 3)\n",
        "    factorC = updatedFactorMatrixC\n",
        "    lambdas =  updated_labmda_val\n",
        "    \n",
        "    reconstruction = np.zeros((rank, rank, rank))\n",
        "    for i in range(rank):\n",
        "        reconstruction[i,i,i] = lambdas[i]\n",
        "    \n",
        "    reconstruction = np.einsum('aj, bk, cl, jkl->abc', factorA, factorB, factorC, reconstruction)\n",
        "    \n",
        "    error = np.sum(np.square(stock_data - reconstruction))/np.sum(np.square(stock_data))\n",
        "    \n",
        "    errors  = errors + [error]\n",
        "    "
      ],
      "execution_count": 95,
      "outputs": [
        {
          "output_type": "stream",
          "name": "stderr",
          "text": [
            "100%|██████████| 20/20 [00:00<00:00, 29.38it/s]\n"
          ]
        }
      ]
    },
    {
      "cell_type": "code",
      "source": [
        ""
      ],
      "metadata": {
        "id": "mAQCGKBKtMrL"
      },
      "execution_count": 95,
      "outputs": []
    },
    {
      "cell_type": "code",
      "metadata": {
        "id": "EEOwO2zJVr6X",
        "colab": {
          "base_uri": "https://localhost:8080/",
          "height": 279
        },
        "outputId": "94fca711-07a2-4d25-9678-701cdaf37a5d"
      },
      "source": [
        "plt.semilogy(errors, marker='o', markersize=5)\n",
        "plt.ylim(ymin=0.2, ymax=0.8)\n",
        "plt.ylabel('Error')\n",
        "plt.xlabel('# of iterations')\n",
        "plt.grid(True)\n",
        "plt.show()"
      ],
      "execution_count": 96,
      "outputs": [
        {
          "output_type": "display_data",
          "data": {
            "text/plain": [
              "<Figure size 432x288 with 1 Axes>"
            ],
            "image/png": "[encoded data removed]"
          },
          "metadata": {
            "needs_background": "light"
          }
        }
      ]
    },
    {
      "cell_type": "markdown",
      "metadata": {
        "id": "iRK3WECZVr6X"
      },
      "source": [
        "# Trend Analysis"
      ]
    },
    {
      "cell_type": "code",
      "metadata": {
        "id": "SKpt_yPoVr6X",
        "colab": {
          "base_uri": "https://localhost:8080/",
          "height": 283
        },
        "outputId": "84f7a54d-8703-4f29-e308-6170cbbf5701"
      },
      "source": [
        "plt.plot(factorB[:,0])"
      ],
      "execution_count": 97,
      "outputs": [
        {
          "output_type": "execute_result",
          "data": {
            "text/plain": [
              "[<matplotlib.lines.Line2D at 0x7f0c6cfcad50>]"
            ]
          },
          "metadata": {},
          "execution_count": 97
        },
        {
          "output_type": "display_data",
          "data": {
            "text/plain": [
              "<Figure size 432x288 with 1 Axes>"
            ],
            "image/png": "[encoded data removed]"
          },
          "metadata": {
            "needs_background": "light"
          }
        }
      ]
    },
    {
      "cell_type": "code",
      "metadata": {
        "id": "hmTHnHYIVr6X",
        "colab": {
          "base_uri": "https://localhost:8080/",
          "height": 283
        },
        "outputId": "a1c09673-f287-4654-eac4-5fa6fe46816d"
      },
      "source": [
        "plt.plot(factorB[:,1])"
      ],
      "execution_count": 98,
      "outputs": [
        {
          "output_type": "execute_result",
          "data": {
            "text/plain": [
              "[<matplotlib.lines.Line2D at 0x7f0c6cfa9c10>]"
            ]
          },
          "metadata": {},
          "execution_count": 98
        },
        {
          "output_type": "display_data",
          "data": {
            "text/plain": [
              "<Figure size 432x288 with 1 Axes>"
            ],
            "image/png": "[encoded data removed]"
          },
          "metadata": {
            "needs_background": "light"
          }
        }
      ]
    },
    {
      "cell_type": "code",
      "metadata": {
        "id": "EDCpcej6sk0K",
        "colab": {
          "base_uri": "https://localhost:8080/"
        },
        "outputId": "0101d1e5-7696-4c37-d5a0-bc1f0801eba0"
      },
      "source": [
        "lambdas"
      ],
      "execution_count": 99,
      "outputs": [
        {
          "output_type": "execute_result",
          "data": {
            "text/plain": [
              "array([ 96.40864207, 183.14910055,  67.24183161])"
            ]
          },
          "metadata": {},
          "execution_count": 99
        }
      ]
    },
    {
      "cell_type": "markdown",
      "metadata": {
        "id": "l0WgyxQHVr6Y"
      },
      "source": [
        "# Clustering"
      ]
    },
    {
      "cell_type": "code",
      "metadata": {
        "id": "0iKSNhgyVr6Y"
      },
      "source": [
        "from sklearn.cluster import KMeans"
      ],
      "execution_count": 100,
      "outputs": []
    },
    {
      "cell_type": "code",
      "metadata": {
        "id": "j3HURUqTVr6Y"
      },
      "source": [
        "kmeans = KMeans(n_clusters=25, random_state=0).fit(factorA)"
      ],
      "execution_count": 101,
      "outputs": []
    },
    {
      "cell_type": "code",
      "metadata": {
        "id": "VVfUo_iTVr6Y"
      },
      "source": [
        "hyundai_cluster_ind = np.where(kmeans.labels_ == kmeans.labels_[14])[0]"
      ],
      "execution_count": 102,
      "outputs": []
    },
    {
      "cell_type": "code",
      "metadata": {
        "id": "KOO74JxvVr6Y",
        "colab": {
          "base_uri": "https://localhost:8080/",
          "height": 394
        },
        "outputId": "6d855600-b486-4460-d129-1b1ce429b1da"
      },
      "source": [
        "stock_df.loc[hyundai_cluster_ind]"
      ],
      "execution_count": 103,
      "outputs": [
        {
          "output_type": "execute_result",
          "data": {
            "text/plain": [
              "    symbol                                              name  \\\n",
              "2   000270                                   Kia Corporation   \n",
              "9   003490                        Korean Air Lines Co., Ltd.   \n",
              "14  005380                             Hyundai Motor Company   \n",
              "39  012330                             Hyundai Mobis Co.,Ltd   \n",
              "49  021240                                   COWAY Co., Ltd.   \n",
              "54  028670                               Pan Ocean Co., Ltd.   \n",
              "60  034020  Doosan Heavy Industries & Construction Co., Ltd.   \n",
              "78  086790                         Hana Financial Group Inc.   \n",
              "86  161390               Hankook Tire & Technology Co., Ltd.   \n",
              "89  241560                                Doosan Bobcat Inc.   \n",
              "98  316140                        Woori Financial Group Inc.   \n",
              "\n",
              "                                          description              sector  \n",
              "2   Kia Corporation, together with its subsidiarie...   Consumer Cyclical  \n",
              "9   Korean Air Lines Co., Ltd. provides airline se...         Industrials  \n",
              "14  Hyundai Motor Company, together with its subsi...   Consumer Cyclical  \n",
              "39  Hyundai Mobis Co.,Ltd manufactures and sells a...   Consumer Cyclical  \n",
              "49  Coway Co., Ltd. operates in the home wellness ...   Consumer Cyclical  \n",
              "54  Pan Ocean Co., Ltd., together with its subsidi...         Industrials  \n",
              "60  Doosan Heavy Industries & Construction Co., Lt...         Industrials  \n",
              "78  Hana Financial Group Inc., through its subsidi...  Financial Services  \n",
              "86  Hankook Tire & Technology Co., Ltd. manufactur...   Consumer Cyclical  \n",
              "89  Doosan Bobcat Inc. designs, manufactures, mark...         Industrials  \n",
              "98  Woori Financial Group Inc. engages in the bank...  Financial Services  "
            ],
            "text/html": [
              "\n",
              "  <div id=\"df-4887ecba-5add-4610-a610-1472799f52c6\">\n",
              "    <div class=\"colab-df-container\">\n",
              "      <div>\n",
              "<style scoped>\n",
              "    .dataframe tbody tr th:only-of-type {\n",
              "        vertical-align: middle;\n",
              "    }\n",
              "\n",
              "    .dataframe tbody tr th {\n",
              "        vertical-align: top;\n",
              "    }\n",
              "\n",
              "    .dataframe thead th {\n",
              "        text-align: right;\n",
              "    }\n",
              "</style>\n",
              "<table border=\"1\" class=\"dataframe\">\n",
              "  <thead>\n",
              "    <tr style=\"text-align: right;\">\n",
              "      <th></th>\n",
              "      <th>symbol</th>\n",
              "      <th>name</th>\n",
              "      <th>description</th>\n",
              "      <th>sector</th>\n",
              "    </tr>\n",
              "  </thead>\n",
              "  <tbody>\n",
              "    <tr>\n",
              "      <th>2</th>\n",
              "      <td>000270</td>\n",
              "      <td>Kia Corporation</td>\n",
              "      <td>Kia Corporation, together with its subsidiarie...</td>\n",
              "      <td>Consumer Cyclical</td>\n",
              "    </tr>\n",
              "    <tr>\n",
              "      <th>9</th>\n",
              "      <td>003490</td>\n",
              "      <td>Korean Air Lines Co., Ltd.</td>\n",
              "      <td>Korean Air Lines Co., Ltd. provides airline se...</td>\n",
              "      <td>Industrials</td>\n",
              "    </tr>\n",
              "    <tr>\n",
              "      <th>14</th>\n",
              "      <td>005380</td>\n",
              "      <td>Hyundai Motor Company</td>\n",
              "      <td>Hyundai Motor Company, together with its subsi...</td>\n",
              "      <td>Consumer Cyclical</td>\n",
              "    </tr>\n",
              "    <tr>\n",
              "      <th>39</th>\n",
              "      <td>012330</td>\n",
              "      <td>Hyundai Mobis Co.,Ltd</td>\n",
              "      <td>Hyundai Mobis Co.,Ltd manufactures and sells a...</td>\n",
              "      <td>Consumer Cyclical</td>\n",
              "    </tr>\n",
              "    <tr>\n",
              "      <th>49</th>\n",
              "      <td>021240</td>\n",
              "      <td>COWAY Co., Ltd.</td>\n",
              "      <td>Coway Co., Ltd. operates in the home wellness ...</td>\n",
              "      <td>Consumer Cyclical</td>\n",
              "    </tr>\n",
              "    <tr>\n",
              "      <th>54</th>\n",
              "      <td>028670</td>\n",
              "      <td>Pan Ocean Co., Ltd.</td>\n",
              "      <td>Pan Ocean Co., Ltd., together with its subsidi...</td>\n",
              "      <td>Industrials</td>\n",
              "    </tr>\n",
              "    <tr>\n",
              "      <th>60</th>\n",
              "      <td>034020</td>\n",
              "      <td>Doosan Heavy Industries &amp; Construction Co., Ltd.</td>\n",
              "      <td>Doosan Heavy Industries &amp; Construction Co., Lt...</td>\n",
              "      <td>Industrials</td>\n",
              "    </tr>\n",
              "    <tr>\n",
              "      <th>78</th>\n",
              "      <td>086790</td>\n",
              "      <td>Hana Financial Group Inc.</td>\n",
              "      <td>Hana Financial Group Inc., through its subsidi...</td>\n",
              "      <td>Financial Services</td>\n",
              "    </tr>\n",
              "    <tr>\n",
              "      <th>86</th>\n",
              "      <td>161390</td>\n",
              "      <td>Hankook Tire &amp; Technology Co., Ltd.</td>\n",
              "      <td>Hankook Tire &amp; Technology Co., Ltd. manufactur...</td>\n",
              "      <td>Consumer Cyclical</td>\n",
              "    </tr>\n",
              "    <tr>\n",
              "      <th>89</th>\n",
              "      <td>241560</td>\n",
              "      <td>Doosan Bobcat Inc.</td>\n",
              "      <td>Doosan Bobcat Inc. designs, manufactures, mark...</td>\n",
              "      <td>Industrials</td>\n",
              "    </tr>\n",
              "    <tr>\n",
              "      <th>98</th>\n",
              "      <td>316140</td>\n",
              "      <td>Woori Financial Group Inc.</td>\n",
              "      <td>Woori Financial Group Inc. engages in the bank...</td>\n",
              "      <td>Financial Services</td>\n",
              "    </tr>\n",
              "  </tbody>\n",
              "</table>\n",
              "</div>\n",
              "      <button class=\"colab-df-convert\" onclick=\"convertToInteractive('df-4887ecba-5add-4610-a610-1472799f52c6')\"\n",
              "              title=\"Convert this dataframe to an interactive table.\"\n",
              "              style=\"display:none;\">\n",
              "        \n",
              "  <svg xmlns=\"http://www.w3.org/2000/svg\" height=\"24px\"viewBox=\"0 0 24 24\"\n",
              "       width=\"24px\">\n",
              "    <path d=\"M0 0h24v24H0V0z\" fill=\"none\"/>\n",
              "    <path d=\"M18.56 5.44l.94 2.06.94-2.06 2.06-.94-2.06-.94-.94-2.06-.94 2.06-2.06.94zm-11 1L8.5 8.5l.94-2.06 2.06-.94-2.06-.94L8.5 2.5l-.94 2.06-2.06.94zm10 10l.94 2.06.94-2.06 2.06-.94-2.06-.94-.94-2.06-.94 2.06-2.06.94z\"/><path d=\"M17.41 7.96l-1.37-1.37c-.4-.4-.92-.59-1.43-.59-.52 0-1.04.2-1.43.59L10.3 9.45l-7.72 7.72c-.78.78-.78 2.05 0 2.83L4 21.41c.39.39.9.59 1.41.59.51 0 1.02-.2 1.41-.59l7.78-7.78 2.81-2.81c.8-.78.8-2.07 0-2.86zM5.41 20L4 18.59l7.72-7.72 1.47 1.35L5.41 20z\"/>\n",
              "  </svg>\n",
              "      </button>\n",
              "      \n",
              "  <style>\n",
              "    .colab-df-container {\n",
              "      display:flex;\n",
              "      flex-wrap:wrap;\n",
              "      gap: 12px;\n",
              "    }\n",
              "\n",
              "    .colab-df-convert {\n",
              "      background-color: #E8F0FE;\n",
              "      border: none;\n",
              "      border-radius: 50%;\n",
              "      cursor: pointer;\n",
              "      display: none;\n",
              "      fill: #1967D2;\n",
              "      height: 32px;\n",
              "      padding: 0 0 0 0;\n",
              "      width: 32px;\n",
              "    }\n",
              "\n",
              "    .colab-df-convert:hover {\n",
              "      background-color: #E2EBFA;\n",
              "      box-shadow: 0px 1px 2px rgba(60, 64, 67, 0.3), 0px 1px 3px 1px rgba(60, 64, 67, 0.15);\n",
              "      fill: #174EA6;\n",
              "    }\n",
              "\n",
              "    [theme=dark] .colab-df-convert {\n",
              "      background-color: #3B4455;\n",
              "      fill: #D2E3FC;\n",
              "    }\n",
              "\n",
              "    [theme=dark] .colab-df-convert:hover {\n",
              "      background-color: #434B5C;\n",
              "      box-shadow: 0px 1px 3px 1px rgba(0, 0, 0, 0.15);\n",
              "      filter: drop-shadow(0px 1px 2px rgba(0, 0, 0, 0.3));\n",
              "      fill: #FFFFFF;\n",
              "    }\n",
              "  </style>\n",
              "\n",
              "      <script>\n",
              "        const buttonEl =\n",
              "          document.querySelector('#df-4887ecba-5add-4610-a610-1472799f52c6 button.colab-df-convert');\n",
              "        buttonEl.style.display =\n",
              "          google.colab.kernel.accessAllowed ? 'block' : 'none';\n",
              "\n",
              "        async function convertToInteractive(key) {\n",
              "          const element = document.querySelector('#df-4887ecba-5add-4610-a610-1472799f52c6');\n",
              "          const dataTable =\n",
              "            await google.colab.kernel.invokeFunction('convertToInteractive',\n",
              "                                                     [key], {});\n",
              "          if (!dataTable) return;\n",
              "\n",
              "          const docLinkHtml = 'Like what you see? Visit the ' +\n",
              "            '<a target=\"_blank\" href=https://colab.research.google.com/notebooks/data_table.ipynb>data table notebook</a>'\n",
              "            + ' to learn more about interactive tables.';\n",
              "          element.innerHTML = '';\n",
              "          dataTable['output_type'] = 'display_data';\n",
              "          await google.colab.output.renderOutput(dataTable, element);\n",
              "          const docLink = document.createElement('div');\n",
              "          docLink.innerHTML = docLinkHtml;\n",
              "          element.appendChild(docLink);\n",
              "        }\n",
              "      </script>\n",
              "    </div>\n",
              "  </div>\n",
              "  "
            ]
          },
          "metadata": {},
          "execution_count": 103
        }
      ]
    },
    {
      "cell_type": "code",
      "metadata": {
        "id": "4eiRTd-DVr6Y"
      },
      "source": [
        ""
      ],
      "execution_count": 103,
      "outputs": []
    }
  ]
}