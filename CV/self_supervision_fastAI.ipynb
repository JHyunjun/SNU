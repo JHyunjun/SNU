{
  "nbformat": 4,
  "nbformat_minor": 0,
  "metadata": {
    "kernelspec": {
      "display_name": "Python 3",
      "language": "python",
      "name": "python3"
    },
    "language_info": {
      "codemirror_mode": {
        "name": "ipython",
        "version": 3
      },
      "file_extension": ".py",
      "mimetype": "text/x-python",
      "name": "python",
      "nbconvert_exporter": "python",
      "pygments_lexer": "ipython3",
      "version": "3.8.5"
    },
    "colab": {
      "name": "[Day 8-1] Self-Supervision.ipynb",
      "provenance": [],
      "collapsed_sections": [],
      "include_colab_link": true
    },
    "widgets": {
      "application/vnd.jupyter.widget-state+json": {
        "0b72028fd68b4d16a1c741b55b4f4ca1": {
          "model_module": "@jupyter-widgets/controls",
          "model_name": "HBoxModel",
          "model_module_version": "1.5.0",
          "state": {
            "_dom_classes": [],
            "_model_module": "@jupyter-widgets/controls",
            "_model_module_version": "1.5.0",
            "_model_name": "HBoxModel",
            "_view_count": null,
            "_view_module": "@jupyter-widgets/controls",
            "_view_module_version": "1.5.0",
            "_view_name": "HBoxView",
            "box_style": "",
            "children": [
              "IPY_MODEL_d84e7943f65c4817bab5a864caa8fd0a",
              "IPY_MODEL_46ad58d7e9cf422e9a8b5172de64b518",
              "IPY_MODEL_b8d12c2b05254a71b4507135ee3d74aa"
            ],
            "layout": "IPY_MODEL_c65e3b5e53194f24a313491f0db1007f"
          }
        },
        "d84e7943f65c4817bab5a864caa8fd0a": {
          "model_module": "@jupyter-widgets/controls",
          "model_name": "HTMLModel",
          "model_module_version": "1.5.0",
          "state": {
            "_dom_classes": [],
            "_model_module": "@jupyter-widgets/controls",
            "_model_module_version": "1.5.0",
            "_model_name": "HTMLModel",
            "_view_count": null,
            "_view_module": "@jupyter-widgets/controls",
            "_view_module_version": "1.5.0",
            "_view_name": "HTMLView",
            "description": "",
            "description_tooltip": null,
            "layout": "IPY_MODEL_36a92fce732b438bbafe8228ab9a6ed1",
            "placeholder": "​",
            "style": "IPY_MODEL_ed0bca19cd0c492cb1b8a882981eca26",
            "value": ""
          }
        },
        "46ad58d7e9cf422e9a8b5172de64b518": {
          "model_module": "@jupyter-widgets/controls",
          "model_name": "FloatProgressModel",
          "model_module_version": "1.5.0",
          "state": {
            "_dom_classes": [],
            "_model_module": "@jupyter-widgets/controls",
            "_model_module_version": "1.5.0",
            "_model_name": "FloatProgressModel",
            "_view_count": null,
            "_view_module": "@jupyter-widgets/controls",
            "_view_module_version": "1.5.0",
            "_view_name": "ProgressView",
            "bar_style": "success",
            "description": "",
            "description_tooltip": null,
            "layout": "IPY_MODEL_46071c7702814a4283c5b5f49f742893",
            "max": 9912422,
            "min": 0,
            "orientation": "horizontal",
            "style": "IPY_MODEL_b1752ef368d14cc98a86a51d7d3624eb",
            "value": 9912422
          }
        },
        "b8d12c2b05254a71b4507135ee3d74aa": {
          "model_module": "@jupyter-widgets/controls",
          "model_name": "HTMLModel",
          "model_module_version": "1.5.0",
          "state": {
            "_dom_classes": [],
            "_model_module": "@jupyter-widgets/controls",
            "_model_module_version": "1.5.0",
            "_model_name": "HTMLModel",
            "_view_count": null,
            "_view_module": "@jupyter-widgets/controls",
            "_view_module_version": "1.5.0",
            "_view_name": "HTMLView",
            "description": "",
            "description_tooltip": null,
            "layout": "IPY_MODEL_3e6e8e9ff22a4c75bb8b3cfb93e831ae",
            "placeholder": "​",
            "style": "IPY_MODEL_94ec95f0019f44129b3b1fed3e213f7e",
            "value": " 9913344/? [00:00&lt;00:00, 56728572.09it/s]"
          }
        },
        "c65e3b5e53194f24a313491f0db1007f": {
          "model_module": "@jupyter-widgets/base",
          "model_name": "LayoutModel",
          "model_module_version": "1.2.0",
          "state": {
            "_model_module": "@jupyter-widgets/base",
            "_model_module_version": "1.2.0",
            "_model_name": "LayoutModel",
            "_view_count": null,
            "_view_module": "@jupyter-widgets/base",
            "_view_module_version": "1.2.0",
            "_view_name": "LayoutView",
            "align_content": null,
            "align_items": null,
            "align_self": null,
            "border": null,
            "bottom": null,
            "display": null,
            "flex": null,
            "flex_flow": null,
            "grid_area": null,
            "grid_auto_columns": null,
            "grid_auto_flow": null,
            "grid_auto_rows": null,
            "grid_column": null,
            "grid_gap": null,
            "grid_row": null,
            "grid_template_areas": null,
            "grid_template_columns": null,
            "grid_template_rows": null,
            "height": null,
            "justify_content": null,
            "justify_items": null,
            "left": null,
            "margin": null,
            "max_height": null,
            "max_width": null,
            "min_height": null,
            "min_width": null,
            "object_fit": null,
            "object_position": null,
            "order": null,
            "overflow": null,
            "overflow_x": null,
            "overflow_y": null,
            "padding": null,
            "right": null,
            "top": null,
            "visibility": null,
            "width": null
          }
        },
        "36a92fce732b438bbafe8228ab9a6ed1": {
          "model_module": "@jupyter-widgets/base",
          "model_name": "LayoutModel",
          "model_module_version": "1.2.0",
          "state": {
            "_model_module": "@jupyter-widgets/base",
            "_model_module_version": "1.2.0",
            "_model_name": "LayoutModel",
            "_view_count": null,
            "_view_module": "@jupyter-widgets/base",
            "_view_module_version": "1.2.0",
            "_view_name": "LayoutView",
            "align_content": null,
            "align_items": null,
            "align_self": null,
            "border": null,
            "bottom": null,
            "display": null,
            "flex": null,
            "flex_flow": null,
            "grid_area": null,
            "grid_auto_columns": null,
            "grid_auto_flow": null,
            "grid_auto_rows": null,
            "grid_column": null,
            "grid_gap": null,
            "grid_row": null,
            "grid_template_areas": null,
            "grid_template_columns": null,
            "grid_template_rows": null,
            "height": null,
            "justify_content": null,
            "justify_items": null,
            "left": null,
            "margin": null,
            "max_height": null,
            "max_width": null,
            "min_height": null,
            "min_width": null,
            "object_fit": null,
            "object_position": null,
            "order": null,
            "overflow": null,
            "overflow_x": null,
            "overflow_y": null,
            "padding": null,
            "right": null,
            "top": null,
            "visibility": null,
            "width": null
          }
        },
        "ed0bca19cd0c492cb1b8a882981eca26": {
          "model_module": "@jupyter-widgets/controls",
          "model_name": "DescriptionStyleModel",
          "model_module_version": "1.5.0",
          "state": {
            "_model_module": "@jupyter-widgets/controls",
            "_model_module_version": "1.5.0",
            "_model_name": "DescriptionStyleModel",
            "_view_count": null,
            "_view_module": "@jupyter-widgets/base",
            "_view_module_version": "1.2.0",
            "_view_name": "StyleView",
            "description_width": ""
          }
        },
        "46071c7702814a4283c5b5f49f742893": {
          "model_module": "@jupyter-widgets/base",
          "model_name": "LayoutModel",
          "model_module_version": "1.2.0",
          "state": {
            "_model_module": "@jupyter-widgets/base",
            "_model_module_version": "1.2.0",
            "_model_name": "LayoutModel",
            "_view_count": null,
            "_view_module": "@jupyter-widgets/base",
            "_view_module_version": "1.2.0",
            "_view_name": "LayoutView",
            "align_content": null,
            "align_items": null,
            "align_self": null,
            "border": null,
            "bottom": null,
            "display": null,
            "flex": null,
            "flex_flow": null,
            "grid_area": null,
            "grid_auto_columns": null,
            "grid_auto_flow": null,
            "grid_auto_rows": null,
            "grid_column": null,
            "grid_gap": null,
            "grid_row": null,
            "grid_template_areas": null,
            "grid_template_columns": null,
            "grid_template_rows": null,
            "height": null,
            "justify_content": null,
            "justify_items": null,
            "left": null,
            "margin": null,
            "max_height": null,
            "max_width": null,
            "min_height": null,
            "min_width": null,
            "object_fit": null,
            "object_position": null,
            "order": null,
            "overflow": null,
            "overflow_x": null,
            "overflow_y": null,
            "padding": null,
            "right": null,
            "top": null,
            "visibility": null,
            "width": null
          }
        },
        "b1752ef368d14cc98a86a51d7d3624eb": {
          "model_module": "@jupyter-widgets/controls",
          "model_name": "ProgressStyleModel",
          "model_module_version": "1.5.0",
          "state": {
            "_model_module": "@jupyter-widgets/controls",
            "_model_module_version": "1.5.0",
            "_model_name": "ProgressStyleModel",
            "_view_count": null,
            "_view_module": "@jupyter-widgets/base",
            "_view_module_version": "1.2.0",
            "_view_name": "StyleView",
            "bar_color": null,
            "description_width": ""
          }
        },
        "3e6e8e9ff22a4c75bb8b3cfb93e831ae": {
          "model_module": "@jupyter-widgets/base",
          "model_name": "LayoutModel",
          "model_module_version": "1.2.0",
          "state": {
            "_model_module": "@jupyter-widgets/base",
            "_model_module_version": "1.2.0",
            "_model_name": "LayoutModel",
            "_view_count": null,
            "_view_module": "@jupyter-widgets/base",
            "_view_module_version": "1.2.0",
            "_view_name": "LayoutView",
            "align_content": null,
            "align_items": null,
            "align_self": null,
            "border": null,
            "bottom": null,
            "display": null,
            "flex": null,
            "flex_flow": null,
            "grid_area": null,
            "grid_auto_columns": null,
            "grid_auto_flow": null,
            "grid_auto_rows": null,
            "grid_column": null,
            "grid_gap": null,
            "grid_row": null,
            "grid_template_areas": null,
            "grid_template_columns": null,
            "grid_template_rows": null,
            "height": null,
            "justify_content": null,
            "justify_items": null,
            "left": null,
            "margin": null,
            "max_height": null,
            "max_width": null,
            "min_height": null,
            "min_width": null,
            "object_fit": null,
            "object_position": null,
            "order": null,
            "overflow": null,
            "overflow_x": null,
            "overflow_y": null,
            "padding": null,
            "right": null,
            "top": null,
            "visibility": null,
            "width": null
          }
        },
        "94ec95f0019f44129b3b1fed3e213f7e": {
          "model_module": "@jupyter-widgets/controls",
          "model_name": "DescriptionStyleModel",
          "model_module_version": "1.5.0",
          "state": {
            "_model_module": "@jupyter-widgets/controls",
            "_model_module_version": "1.5.0",
            "_model_name": "DescriptionStyleModel",
            "_view_count": null,
            "_view_module": "@jupyter-widgets/base",
            "_view_module_version": "1.2.0",
            "_view_name": "StyleView",
            "description_width": ""
          }
        },
        "6270dc5ede9b415d9164997c18ad2039": {
          "model_module": "@jupyter-widgets/controls",
          "model_name": "HBoxModel",
          "model_module_version": "1.5.0",
          "state": {
            "_dom_classes": [],
            "_model_module": "@jupyter-widgets/controls",
            "_model_module_version": "1.5.0",
            "_model_name": "HBoxModel",
            "_view_count": null,
            "_view_module": "@jupyter-widgets/controls",
            "_view_module_version": "1.5.0",
            "_view_name": "HBoxView",
            "box_style": "",
            "children": [
              "IPY_MODEL_616dc780e20a479a83dac3d1918bc9d8",
              "IPY_MODEL_88ef90750e664b5192f2c4ce51761ca5",
              "IPY_MODEL_6842206f52474767adf6e1743072848b"
            ],
            "layout": "IPY_MODEL_17d3436ec4b3403883193343f93eee07"
          }
        },
        "616dc780e20a479a83dac3d1918bc9d8": {
          "model_module": "@jupyter-widgets/controls",
          "model_name": "HTMLModel",
          "model_module_version": "1.5.0",
          "state": {
            "_dom_classes": [],
            "_model_module": "@jupyter-widgets/controls",
            "_model_module_version": "1.5.0",
            "_model_name": "HTMLModel",
            "_view_count": null,
            "_view_module": "@jupyter-widgets/controls",
            "_view_module_version": "1.5.0",
            "_view_name": "HTMLView",
            "description": "",
            "description_tooltip": null,
            "layout": "IPY_MODEL_3d674324a1d040bdaad8df583fc0b01f",
            "placeholder": "​",
            "style": "IPY_MODEL_8681a55b02d4459eaf88158fbce4f03a",
            "value": ""
          }
        },
        "88ef90750e664b5192f2c4ce51761ca5": {
          "model_module": "@jupyter-widgets/controls",
          "model_name": "FloatProgressModel",
          "model_module_version": "1.5.0",
          "state": {
            "_dom_classes": [],
            "_model_module": "@jupyter-widgets/controls",
            "_model_module_version": "1.5.0",
            "_model_name": "FloatProgressModel",
            "_view_count": null,
            "_view_module": "@jupyter-widgets/controls",
            "_view_module_version": "1.5.0",
            "_view_name": "ProgressView",
            "bar_style": "success",
            "description": "",
            "description_tooltip": null,
            "layout": "IPY_MODEL_7ea7b4c6898d4a73a40149dbb0d39996",
            "max": 28881,
            "min": 0,
            "orientation": "horizontal",
            "style": "IPY_MODEL_d5b43e9b10f24e6e91e9903b4436fcd2",
            "value": 28881
          }
        },
        "6842206f52474767adf6e1743072848b": {
          "model_module": "@jupyter-widgets/controls",
          "model_name": "HTMLModel",
          "model_module_version": "1.5.0",
          "state": {
            "_dom_classes": [],
            "_model_module": "@jupyter-widgets/controls",
            "_model_module_version": "1.5.0",
            "_model_name": "HTMLModel",
            "_view_count": null,
            "_view_module": "@jupyter-widgets/controls",
            "_view_module_version": "1.5.0",
            "_view_name": "HTMLView",
            "description": "",
            "description_tooltip": null,
            "layout": "IPY_MODEL_1db01f6bd7fb47489e925fce4015ca10",
            "placeholder": "​",
            "style": "IPY_MODEL_1aeee3b9ac774eb5b1cbf33e273a7916",
            "value": " 29696/? [00:00&lt;00:00, 475444.32it/s]"
          }
        },
        "17d3436ec4b3403883193343f93eee07": {
          "model_module": "@jupyter-widgets/base",
          "model_name": "LayoutModel",
          "model_module_version": "1.2.0",
          "state": {
            "_model_module": "@jupyter-widgets/base",
            "_model_module_version": "1.2.0",
            "_model_name": "LayoutModel",
            "_view_count": null,
            "_view_module": "@jupyter-widgets/base",
            "_view_module_version": "1.2.0",
            "_view_name": "LayoutView",
            "align_content": null,
            "align_items": null,
            "align_self": null,
            "border": null,
            "bottom": null,
            "display": null,
            "flex": null,
            "flex_flow": null,
            "grid_area": null,
            "grid_auto_columns": null,
            "grid_auto_flow": null,
            "grid_auto_rows": null,
            "grid_column": null,
            "grid_gap": null,
            "grid_row": null,
            "grid_template_areas": null,
            "grid_template_columns": null,
            "grid_template_rows": null,
            "height": null,
            "justify_content": null,
            "justify_items": null,
            "left": null,
            "margin": null,
            "max_height": null,
            "max_width": null,
            "min_height": null,
            "min_width": null,
            "object_fit": null,
            "object_position": null,
            "order": null,
            "overflow": null,
            "overflow_x": null,
            "overflow_y": null,
            "padding": null,
            "right": null,
            "top": null,
            "visibility": null,
            "width": null
          }
        },
        "3d674324a1d040bdaad8df583fc0b01f": {
          "model_module": "@jupyter-widgets/base",
          "model_name": "LayoutModel",
          "model_module_version": "1.2.0",
          "state": {
            "_model_module": "@jupyter-widgets/base",
            "_model_module_version": "1.2.0",
            "_model_name": "LayoutModel",
            "_view_count": null,
            "_view_module": "@jupyter-widgets/base",
            "_view_module_version": "1.2.0",
            "_view_name": "LayoutView",
            "align_content": null,
            "align_items": null,
            "align_self": null,
            "border": null,
            "bottom": null,
            "display": null,
            "flex": null,
            "flex_flow": null,
            "grid_area": null,
            "grid_auto_columns": null,
            "grid_auto_flow": null,
            "grid_auto_rows": null,
            "grid_column": null,
            "grid_gap": null,
            "grid_row": null,
            "grid_template_areas": null,
            "grid_template_columns": null,
            "grid_template_rows": null,
            "height": null,
            "justify_content": null,
            "justify_items": null,
            "left": null,
            "margin": null,
            "max_height": null,
            "max_width": null,
            "min_height": null,
            "min_width": null,
            "object_fit": null,
            "object_position": null,
            "order": null,
            "overflow": null,
            "overflow_x": null,
            "overflow_y": null,
            "padding": null,
            "right": null,
            "top": null,
            "visibility": null,
            "width": null
          }
        },
        "8681a55b02d4459eaf88158fbce4f03a": {
          "model_module": "@jupyter-widgets/controls",
          "model_name": "DescriptionStyleModel",
          "model_module_version": "1.5.0",
          "state": {
            "_model_module": "@jupyter-widgets/controls",
            "_model_module_version": "1.5.0",
            "_model_name": "DescriptionStyleModel",
            "_view_count": null,
            "_view_module": "@jupyter-widgets/base",
            "_view_module_version": "1.2.0",
            "_view_name": "StyleView",
            "description_width": ""
          }
        },
        "7ea7b4c6898d4a73a40149dbb0d39996": {
          "model_module": "@jupyter-widgets/base",
          "model_name": "LayoutModel",
          "model_module_version": "1.2.0",
          "state": {
            "_model_module": "@jupyter-widgets/base",
            "_model_module_version": "1.2.0",
            "_model_name": "LayoutModel",
            "_view_count": null,
            "_view_module": "@jupyter-widgets/base",
            "_view_module_version": "1.2.0",
            "_view_name": "LayoutView",
            "align_content": null,
            "align_items": null,
            "align_self": null,
            "border": null,
            "bottom": null,
            "display": null,
            "flex": null,
            "flex_flow": null,
            "grid_area": null,
            "grid_auto_columns": null,
            "grid_auto_flow": null,
            "grid_auto_rows": null,
            "grid_column": null,
            "grid_gap": null,
            "grid_row": null,
            "grid_template_areas": null,
            "grid_template_columns": null,
            "grid_template_rows": null,
            "height": null,
            "justify_content": null,
            "justify_items": null,
            "left": null,
            "margin": null,
            "max_height": null,
            "max_width": null,
            "min_height": null,
            "min_width": null,
            "object_fit": null,
            "object_position": null,
            "order": null,
            "overflow": null,
            "overflow_x": null,
            "overflow_y": null,
            "padding": null,
            "right": null,
            "top": null,
            "visibility": null,
            "width": null
          }
        },
        "d5b43e9b10f24e6e91e9903b4436fcd2": {
          "model_module": "@jupyter-widgets/controls",
          "model_name": "ProgressStyleModel",
          "model_module_version": "1.5.0",
          "state": {
            "_model_module": "@jupyter-widgets/controls",
            "_model_module_version": "1.5.0",
            "_model_name": "ProgressStyleModel",
            "_view_count": null,
            "_view_module": "@jupyter-widgets/base",
            "_view_module_version": "1.2.0",
            "_view_name": "StyleView",
            "bar_color": null,
            "description_width": ""
          }
        },
        "1db01f6bd7fb47489e925fce4015ca10": {
          "model_module": "@jupyter-widgets/base",
          "model_name": "LayoutModel",
          "model_module_version": "1.2.0",
          "state": {
            "_model_module": "@jupyter-widgets/base",
            "_model_module_version": "1.2.0",
            "_model_name": "LayoutModel",
            "_view_count": null,
            "_view_module": "@jupyter-widgets/base",
            "_view_module_version": "1.2.0",
            "_view_name": "LayoutView",
            "align_content": null,
            "align_items": null,
            "align_self": null,
            "border": null,
            "bottom": null,
            "display": null,
            "flex": null,
            "flex_flow": null,
            "grid_area": null,
            "grid_auto_columns": null,
            "grid_auto_flow": null,
            "grid_auto_rows": null,
            "grid_column": null,
            "grid_gap": null,
            "grid_row": null,
            "grid_template_areas": null,
            "grid_template_columns": null,
            "grid_template_rows": null,
            "height": null,
            "justify_content": null,
            "justify_items": null,
            "left": null,
            "margin": null,
            "max_height": null,
            "max_width": null,
            "min_height": null,
            "min_width": null,
            "object_fit": null,
            "object_position": null,
            "order": null,
            "overflow": null,
            "overflow_x": null,
            "overflow_y": null,
            "padding": null,
            "right": null,
            "top": null,
            "visibility": null,
            "width": null
          }
        },
        "1aeee3b9ac774eb5b1cbf33e273a7916": {
          "model_module": "@jupyter-widgets/controls",
          "model_name": "DescriptionStyleModel",
          "model_module_version": "1.5.0",
          "state": {
            "_model_module": "@jupyter-widgets/controls",
            "_model_module_version": "1.5.0",
            "_model_name": "DescriptionStyleModel",
            "_view_count": null,
            "_view_module": "@jupyter-widgets/base",
            "_view_module_version": "1.2.0",
            "_view_name": "StyleView",
            "description_width": ""
          }
        },
        "b14cc0d7eb4e470d9d05f461083ce6e7": {
          "model_module": "@jupyter-widgets/controls",
          "model_name": "HBoxModel",
          "model_module_version": "1.5.0",
          "state": {
            "_dom_classes": [],
            "_model_module": "@jupyter-widgets/controls",
            "_model_module_version": "1.5.0",
            "_model_name": "HBoxModel",
            "_view_count": null,
            "_view_module": "@jupyter-widgets/controls",
            "_view_module_version": "1.5.0",
            "_view_name": "HBoxView",
            "box_style": "",
            "children": [
              "IPY_MODEL_ade8d4517d5e4820b69d9a0799247bbd",
              "IPY_MODEL_511d8004e6584655b909be987f5ee26b",
              "IPY_MODEL_94cc09acc6294551b55f3792b3054826"
            ],
            "layout": "IPY_MODEL_dc0269fd5d9c463e89dd2582c840aeb2"
          }
        },
        "ade8d4517d5e4820b69d9a0799247bbd": {
          "model_module": "@jupyter-widgets/controls",
          "model_name": "HTMLModel",
          "model_module_version": "1.5.0",
          "state": {
            "_dom_classes": [],
            "_model_module": "@jupyter-widgets/controls",
            "_model_module_version": "1.5.0",
            "_model_name": "HTMLModel",
            "_view_count": null,
            "_view_module": "@jupyter-widgets/controls",
            "_view_module_version": "1.5.0",
            "_view_name": "HTMLView",
            "description": "",
            "description_tooltip": null,
            "layout": "IPY_MODEL_5a20a126bfab4c4c93bb6623d49e4c12",
            "placeholder": "​",
            "style": "IPY_MODEL_16515ffda72442b68d16146a595bbbfd",
            "value": ""
          }
        },
        "511d8004e6584655b909be987f5ee26b": {
          "model_module": "@jupyter-widgets/controls",
          "model_name": "FloatProgressModel",
          "model_module_version": "1.5.0",
          "state": {
            "_dom_classes": [],
            "_model_module": "@jupyter-widgets/controls",
            "_model_module_version": "1.5.0",
            "_model_name": "FloatProgressModel",
            "_view_count": null,
            "_view_module": "@jupyter-widgets/controls",
            "_view_module_version": "1.5.0",
            "_view_name": "ProgressView",
            "bar_style": "success",
            "description": "",
            "description_tooltip": null,
            "layout": "IPY_MODEL_1c2b76cbec204533a93d079b40cb7fe7",
            "max": 1648877,
            "min": 0,
            "orientation": "horizontal",
            "style": "IPY_MODEL_0e76913621a84fe1811c60ef43e7f728",
            "value": 1648877
          }
        },
        "94cc09acc6294551b55f3792b3054826": {
          "model_module": "@jupyter-widgets/controls",
          "model_name": "HTMLModel",
          "model_module_version": "1.5.0",
          "state": {
            "_dom_classes": [],
            "_model_module": "@jupyter-widgets/controls",
            "_model_module_version": "1.5.0",
            "_model_name": "HTMLModel",
            "_view_count": null,
            "_view_module": "@jupyter-widgets/controls",
            "_view_module_version": "1.5.0",
            "_view_name": "HTMLView",
            "description": "",
            "description_tooltip": null,
            "layout": "IPY_MODEL_17998e814627462799cf0b95579a4a7a",
            "placeholder": "​",
            "style": "IPY_MODEL_39b31b31b75f4326805e9bfa5c1f89ad",
            "value": " 1649664/? [00:00&lt;00:00, 6577785.82it/s]"
          }
        },
        "dc0269fd5d9c463e89dd2582c840aeb2": {
          "model_module": "@jupyter-widgets/base",
          "model_name": "LayoutModel",
          "model_module_version": "1.2.0",
          "state": {
            "_model_module": "@jupyter-widgets/base",
            "_model_module_version": "1.2.0",
            "_model_name": "LayoutModel",
            "_view_count": null,
            "_view_module": "@jupyter-widgets/base",
            "_view_module_version": "1.2.0",
            "_view_name": "LayoutView",
            "align_content": null,
            "align_items": null,
            "align_self": null,
            "border": null,
            "bottom": null,
            "display": null,
            "flex": null,
            "flex_flow": null,
            "grid_area": null,
            "grid_auto_columns": null,
            "grid_auto_flow": null,
            "grid_auto_rows": null,
            "grid_column": null,
            "grid_gap": null,
            "grid_row": null,
            "grid_template_areas": null,
            "grid_template_columns": null,
            "grid_template_rows": null,
            "height": null,
            "justify_content": null,
            "justify_items": null,
            "left": null,
            "margin": null,
            "max_height": null,
            "max_width": null,
            "min_height": null,
            "min_width": null,
            "object_fit": null,
            "object_position": null,
            "order": null,
            "overflow": null,
            "overflow_x": null,
            "overflow_y": null,
            "padding": null,
            "right": null,
            "top": null,
            "visibility": null,
            "width": null
          }
        },
        "5a20a126bfab4c4c93bb6623d49e4c12": {
          "model_module": "@jupyter-widgets/base",
          "model_name": "LayoutModel",
          "model_module_version": "1.2.0",
          "state": {
            "_model_module": "@jupyter-widgets/base",
            "_model_module_version": "1.2.0",
            "_model_name": "LayoutModel",
            "_view_count": null,
            "_view_module": "@jupyter-widgets/base",
            "_view_module_version": "1.2.0",
            "_view_name": "LayoutView",
            "align_content": null,
            "align_items": null,
            "align_self": null,
            "border": null,
            "bottom": null,
            "display": null,
            "flex": null,
            "flex_flow": null,
            "grid_area": null,
            "grid_auto_columns": null,
            "grid_auto_flow": null,
            "grid_auto_rows": null,
            "grid_column": null,
            "grid_gap": null,
            "grid_row": null,
            "grid_template_areas": null,
            "grid_template_columns": null,
            "grid_template_rows": null,
            "height": null,
            "justify_content": null,
            "justify_items": null,
            "left": null,
            "margin": null,
            "max_height": null,
            "max_width": null,
            "min_height": null,
            "min_width": null,
            "object_fit": null,
            "object_position": null,
            "order": null,
            "overflow": null,
            "overflow_x": null,
            "overflow_y": null,
            "padding": null,
            "right": null,
            "top": null,
            "visibility": null,
            "width": null
          }
        },
        "16515ffda72442b68d16146a595bbbfd": {
          "model_module": "@jupyter-widgets/controls",
          "model_name": "DescriptionStyleModel",
          "model_module_version": "1.5.0",
          "state": {
            "_model_module": "@jupyter-widgets/controls",
            "_model_module_version": "1.5.0",
            "_model_name": "DescriptionStyleModel",
            "_view_count": null,
            "_view_module": "@jupyter-widgets/base",
            "_view_module_version": "1.2.0",
            "_view_name": "StyleView",
            "description_width": ""
          }
        },
        "1c2b76cbec204533a93d079b40cb7fe7": {
          "model_module": "@jupyter-widgets/base",
          "model_name": "LayoutModel",
          "model_module_version": "1.2.0",
          "state": {
            "_model_module": "@jupyter-widgets/base",
            "_model_module_version": "1.2.0",
            "_model_name": "LayoutModel",
            "_view_count": null,
            "_view_module": "@jupyter-widgets/base",
            "_view_module_version": "1.2.0",
            "_view_name": "LayoutView",
            "align_content": null,
            "align_items": null,
            "align_self": null,
            "border": null,
            "bottom": null,
            "display": null,
            "flex": null,
            "flex_flow": null,
            "grid_area": null,
            "grid_auto_columns": null,
            "grid_auto_flow": null,
            "grid_auto_rows": null,
            "grid_column": null,
            "grid_gap": null,
            "grid_row": null,
            "grid_template_areas": null,
            "grid_template_columns": null,
            "grid_template_rows": null,
            "height": null,
            "justify_content": null,
            "justify_items": null,
            "left": null,
            "margin": null,
            "max_height": null,
            "max_width": null,
            "min_height": null,
            "min_width": null,
            "object_fit": null,
            "object_position": null,
            "order": null,
            "overflow": null,
            "overflow_x": null,
            "overflow_y": null,
            "padding": null,
            "right": null,
            "top": null,
            "visibility": null,
            "width": null
          }
        },
        "0e76913621a84fe1811c60ef43e7f728": {
          "model_module": "@jupyter-widgets/controls",
          "model_name": "ProgressStyleModel",
          "model_module_version": "1.5.0",
          "state": {
            "_model_module": "@jupyter-widgets/controls",
            "_model_module_version": "1.5.0",
            "_model_name": "ProgressStyleModel",
            "_view_count": null,
            "_view_module": "@jupyter-widgets/base",
            "_view_module_version": "1.2.0",
            "_view_name": "StyleView",
            "bar_color": null,
            "description_width": ""
          }
        },
        "17998e814627462799cf0b95579a4a7a": {
          "model_module": "@jupyter-widgets/base",
          "model_name": "LayoutModel",
          "model_module_version": "1.2.0",
          "state": {
            "_model_module": "@jupyter-widgets/base",
            "_model_module_version": "1.2.0",
            "_model_name": "LayoutModel",
            "_view_count": null,
            "_view_module": "@jupyter-widgets/base",
            "_view_module_version": "1.2.0",
            "_view_name": "LayoutView",
            "align_content": null,
            "align_items": null,
            "align_self": null,
            "border": null,
            "bottom": null,
            "display": null,
            "flex": null,
            "flex_flow": null,
            "grid_area": null,
            "grid_auto_columns": null,
            "grid_auto_flow": null,
            "grid_auto_rows": null,
            "grid_column": null,
            "grid_gap": null,
            "grid_row": null,
            "grid_template_areas": null,
            "grid_template_columns": null,
            "grid_template_rows": null,
            "height": null,
            "justify_content": null,
            "justify_items": null,
            "left": null,
            "margin": null,
            "max_height": null,
            "max_width": null,
            "min_height": null,
            "min_width": null,
            "object_fit": null,
            "object_position": null,
            "order": null,
            "overflow": null,
            "overflow_x": null,
            "overflow_y": null,
            "padding": null,
            "right": null,
            "top": null,
            "visibility": null,
            "width": null
          }
        },
        "39b31b31b75f4326805e9bfa5c1f89ad": {
          "model_module": "@jupyter-widgets/controls",
          "model_name": "DescriptionStyleModel",
          "model_module_version": "1.5.0",
          "state": {
            "_model_module": "@jupyter-widgets/controls",
            "_model_module_version": "1.5.0",
            "_model_name": "DescriptionStyleModel",
            "_view_count": null,
            "_view_module": "@jupyter-widgets/base",
            "_view_module_version": "1.2.0",
            "_view_name": "StyleView",
            "description_width": ""
          }
        },
        "4ec595d33e1e47dc921787d8e5632f33": {
          "model_module": "@jupyter-widgets/controls",
          "model_name": "HBoxModel",
          "model_module_version": "1.5.0",
          "state": {
            "_dom_classes": [],
            "_model_module": "@jupyter-widgets/controls",
            "_model_module_version": "1.5.0",
            "_model_name": "HBoxModel",
            "_view_count": null,
            "_view_module": "@jupyter-widgets/controls",
            "_view_module_version": "1.5.0",
            "_view_name": "HBoxView",
            "box_style": "",
            "children": [
              "IPY_MODEL_36288493c7f7438880a35309d3ef9e03",
              "IPY_MODEL_eee1449cc770455581536c8ba491add9",
              "IPY_MODEL_1e0e0700b28348309b0e141f46d296b4"
            ],
            "layout": "IPY_MODEL_d99a42bb07e0455d93ba88f272551cc0"
          }
        },
        "36288493c7f7438880a35309d3ef9e03": {
          "model_module": "@jupyter-widgets/controls",
          "model_name": "HTMLModel",
          "model_module_version": "1.5.0",
          "state": {
            "_dom_classes": [],
            "_model_module": "@jupyter-widgets/controls",
            "_model_module_version": "1.5.0",
            "_model_name": "HTMLModel",
            "_view_count": null,
            "_view_module": "@jupyter-widgets/controls",
            "_view_module_version": "1.5.0",
            "_view_name": "HTMLView",
            "description": "",
            "description_tooltip": null,
            "layout": "IPY_MODEL_cba2901c54fa4a2dbf5d1d1a25ea5ab7",
            "placeholder": "​",
            "style": "IPY_MODEL_94676699ef5242bca6dfacdda75d5259",
            "value": ""
          }
        },
        "eee1449cc770455581536c8ba491add9": {
          "model_module": "@jupyter-widgets/controls",
          "model_name": "FloatProgressModel",
          "model_module_version": "1.5.0",
          "state": {
            "_dom_classes": [],
            "_model_module": "@jupyter-widgets/controls",
            "_model_module_version": "1.5.0",
            "_model_name": "FloatProgressModel",
            "_view_count": null,
            "_view_module": "@jupyter-widgets/controls",
            "_view_module_version": "1.5.0",
            "_view_name": "ProgressView",
            "bar_style": "success",
            "description": "",
            "description_tooltip": null,
            "layout": "IPY_MODEL_5f9ce5131b734bd491cf3c3ffd7a1b56",
            "max": 4542,
            "min": 0,
            "orientation": "horizontal",
            "style": "IPY_MODEL_5d22b641c5bb4ff5bb05ae1492184dc8",
            "value": 4542
          }
        },
        "1e0e0700b28348309b0e141f46d296b4": {
          "model_module": "@jupyter-widgets/controls",
          "model_name": "HTMLModel",
          "model_module_version": "1.5.0",
          "state": {
            "_dom_classes": [],
            "_model_module": "@jupyter-widgets/controls",
            "_model_module_version": "1.5.0",
            "_model_name": "HTMLModel",
            "_view_count": null,
            "_view_module": "@jupyter-widgets/controls",
            "_view_module_version": "1.5.0",
            "_view_name": "HTMLView",
            "description": "",
            "description_tooltip": null,
            "layout": "IPY_MODEL_493044ef2dd24ac895043910eee06a82",
            "placeholder": "​",
            "style": "IPY_MODEL_a398403dabad4853918acb8075985760",
            "value": " 5120/? [00:00&lt;00:00, 138176.48it/s]"
          }
        },
        "d99a42bb07e0455d93ba88f272551cc0": {
          "model_module": "@jupyter-widgets/base",
          "model_name": "LayoutModel",
          "model_module_version": "1.2.0",
          "state": {
            "_model_module": "@jupyter-widgets/base",
            "_model_module_version": "1.2.0",
            "_model_name": "LayoutModel",
            "_view_count": null,
            "_view_module": "@jupyter-widgets/base",
            "_view_module_version": "1.2.0",
            "_view_name": "LayoutView",
            "align_content": null,
            "align_items": null,
            "align_self": null,
            "border": null,
            "bottom": null,
            "display": null,
            "flex": null,
            "flex_flow": null,
            "grid_area": null,
            "grid_auto_columns": null,
            "grid_auto_flow": null,
            "grid_auto_rows": null,
            "grid_column": null,
            "grid_gap": null,
            "grid_row": null,
            "grid_template_areas": null,
            "grid_template_columns": null,
            "grid_template_rows": null,
            "height": null,
            "justify_content": null,
            "justify_items": null,
            "left": null,
            "margin": null,
            "max_height": null,
            "max_width": null,
            "min_height": null,
            "min_width": null,
            "object_fit": null,
            "object_position": null,
            "order": null,
            "overflow": null,
            "overflow_x": null,
            "overflow_y": null,
            "padding": null,
            "right": null,
            "top": null,
            "visibility": null,
            "width": null
          }
        },
        "cba2901c54fa4a2dbf5d1d1a25ea5ab7": {
          "model_module": "@jupyter-widgets/base",
          "model_name": "LayoutModel",
          "model_module_version": "1.2.0",
          "state": {
            "_model_module": "@jupyter-widgets/base",
            "_model_module_version": "1.2.0",
            "_model_name": "LayoutModel",
            "_view_count": null,
            "_view_module": "@jupyter-widgets/base",
            "_view_module_version": "1.2.0",
            "_view_name": "LayoutView",
            "align_content": null,
            "align_items": null,
            "align_self": null,
            "border": null,
            "bottom": null,
            "display": null,
            "flex": null,
            "flex_flow": null,
            "grid_area": null,
            "grid_auto_columns": null,
            "grid_auto_flow": null,
            "grid_auto_rows": null,
            "grid_column": null,
            "grid_gap": null,
            "grid_row": null,
            "grid_template_areas": null,
            "grid_template_columns": null,
            "grid_template_rows": null,
            "height": null,
            "justify_content": null,
            "justify_items": null,
            "left": null,
            "margin": null,
            "max_height": null,
            "max_width": null,
            "min_height": null,
            "min_width": null,
            "object_fit": null,
            "object_position": null,
            "order": null,
            "overflow": null,
            "overflow_x": null,
            "overflow_y": null,
            "padding": null,
            "right": null,
            "top": null,
            "visibility": null,
            "width": null
          }
        },
        "94676699ef5242bca6dfacdda75d5259": {
          "model_module": "@jupyter-widgets/controls",
          "model_name": "DescriptionStyleModel",
          "model_module_version": "1.5.0",
          "state": {
            "_model_module": "@jupyter-widgets/controls",
            "_model_module_version": "1.5.0",
            "_model_name": "DescriptionStyleModel",
            "_view_count": null,
            "_view_module": "@jupyter-widgets/base",
            "_view_module_version": "1.2.0",
            "_view_name": "StyleView",
            "description_width": ""
          }
        },
        "5f9ce5131b734bd491cf3c3ffd7a1b56": {
          "model_module": "@jupyter-widgets/base",
          "model_name": "LayoutModel",
          "model_module_version": "1.2.0",
          "state": {
            "_model_module": "@jupyter-widgets/base",
            "_model_module_version": "1.2.0",
            "_model_name": "LayoutModel",
            "_view_count": null,
            "_view_module": "@jupyter-widgets/base",
            "_view_module_version": "1.2.0",
            "_view_name": "LayoutView",
            "align_content": null,
            "align_items": null,
            "align_self": null,
            "border": null,
            "bottom": null,
            "display": null,
            "flex": null,
            "flex_flow": null,
            "grid_area": null,
            "grid_auto_columns": null,
            "grid_auto_flow": null,
            "grid_auto_rows": null,
            "grid_column": null,
            "grid_gap": null,
            "grid_row": null,
            "grid_template_areas": null,
            "grid_template_columns": null,
            "grid_template_rows": null,
            "height": null,
            "justify_content": null,
            "justify_items": null,
            "left": null,
            "margin": null,
            "max_height": null,
            "max_width": null,
            "min_height": null,
            "min_width": null,
            "object_fit": null,
            "object_position": null,
            "order": null,
            "overflow": null,
            "overflow_x": null,
            "overflow_y": null,
            "padding": null,
            "right": null,
            "top": null,
            "visibility": null,
            "width": null
          }
        },
        "5d22b641c5bb4ff5bb05ae1492184dc8": {
          "model_module": "@jupyter-widgets/controls",
          "model_name": "ProgressStyleModel",
          "model_module_version": "1.5.0",
          "state": {
            "_model_module": "@jupyter-widgets/controls",
            "_model_module_version": "1.5.0",
            "_model_name": "ProgressStyleModel",
            "_view_count": null,
            "_view_module": "@jupyter-widgets/base",
            "_view_module_version": "1.2.0",
            "_view_name": "StyleView",
            "bar_color": null,
            "description_width": ""
          }
        },
        "493044ef2dd24ac895043910eee06a82": {
          "model_module": "@jupyter-widgets/base",
          "model_name": "LayoutModel",
          "model_module_version": "1.2.0",
          "state": {
            "_model_module": "@jupyter-widgets/base",
            "_model_module_version": "1.2.0",
            "_model_name": "LayoutModel",
            "_view_count": null,
            "_view_module": "@jupyter-widgets/base",
            "_view_module_version": "1.2.0",
            "_view_name": "LayoutView",
            "align_content": null,
            "align_items": null,
            "align_self": null,
            "border": null,
            "bottom": null,
            "display": null,
            "flex": null,
            "flex_flow": null,
            "grid_area": null,
            "grid_auto_columns": null,
            "grid_auto_flow": null,
            "grid_auto_rows": null,
            "grid_column": null,
            "grid_gap": null,
            "grid_row": null,
            "grid_template_areas": null,
            "grid_template_columns": null,
            "grid_template_rows": null,
            "height": null,
            "justify_content": null,
            "justify_items": null,
            "left": null,
            "margin": null,
            "max_height": null,
            "max_width": null,
            "min_height": null,
            "min_width": null,
            "object_fit": null,
            "object_position": null,
            "order": null,
            "overflow": null,
            "overflow_x": null,
            "overflow_y": null,
            "padding": null,
            "right": null,
            "top": null,
            "visibility": null,
            "width": null
          }
        },
        "a398403dabad4853918acb8075985760": {
          "model_module": "@jupyter-widgets/controls",
          "model_name": "DescriptionStyleModel",
          "model_module_version": "1.5.0",
          "state": {
            "_model_module": "@jupyter-widgets/controls",
            "_model_module_version": "1.5.0",
            "_model_name": "DescriptionStyleModel",
            "_view_count": null,
            "_view_module": "@jupyter-widgets/base",
            "_view_module_version": "1.2.0",
            "_view_name": "StyleView",
            "description_width": ""
          }
        }
      }
    }
  },
  "cells": [
    {
      "cell_type": "markdown",
      "metadata": {
        "id": "view-in-github",
        "colab_type": "text"
      },
      "source": [
        "<a href=\"https://colab.research.google.com/github/JHyunjun/SNU/blob/main/self_supervision_fastAI.ipynb\" target=\"_parent\"><img src=\"https://colab.research.google.com/assets/colab-badge.svg\" alt=\"Open In Colab\"/></a>"
      ]
    },
    {
      "cell_type": "markdown",
      "metadata": {
        "heading_collapsed": true,
        "id": "o7NUv7Z72U3j"
      },
      "source": [
        "# Self-Supervision with FastAI\n",
        "> A tutorial of rotation-based self-supervision using FastAI2 & PyTorch!"
      ]
    },
    {
      "cell_type": "markdown",
      "metadata": {
        "ExecuteTime": {
          "end_time": "2020-03-23T14:49:40.997471Z",
          "start_time": "2020-03-23T14:49:40.985501Z"
        },
        "heading_collapsed": true,
        "id": "vu7zTGZa2U3n"
      },
      "source": [
        "# Introduction\n",
        "\n",
        "This notebook is an introduction to self-supervised learning. In short, self-supervised learning has 2 components:\n",
        "\n",
        "1. Pretrain on a pretext task, where the labels can come from the data itself!\n",
        "2. Transfer the features, and train on the actual classification labels!\n",
        "\n",
        "Using FastAI2, we'll use rotation as a pretext task for learning representations/features of our data. \n",
        "\n",
        "Here are some great overviews of self-supervised learning that I've come across:"
      ]
    },
    {
      "cell_type": "markdown",
      "metadata": {
        "ExecuteTime": {
          "end_time": "2020-03-23T14:49:40.997471Z",
          "start_time": "2020-03-23T14:49:40.985501Z"
        },
        "hidden": true,
        "id": "BI_cYPFT2U3p"
      },
      "source": [
        "- [Lilian Weng - Self-Supervised Representation Learning](https://lilianweng.github.io/lil-log/2019/11/10/self-supervised-learning)\n",
        "\n",
        "- [Jeremy Howard - Self-supervised learning and computer vision](https://www.fast.ai/2020/01/13/self_supervised/)"
      ]
    },
    {
      "cell_type": "markdown",
      "metadata": {
        "id": "F-oUQ-S32U3q"
      },
      "source": [
        "# Experiment Layout"
      ]
    },
    {
      "cell_type": "markdown",
      "metadata": {
        "id": "XNvffbqh2U3s"
      },
      "source": [
        "In this notebook, we will be using the [MNIST dataset](https://en.wikipedia.org/wiki/MNIST_database).\n",
        "\n",
        "Also check out [ImageWang](https://github.com/fastai/imagenette#image%E7%BD%91) from FastAI themselves! It's a dataset designed for self-supervision tasks!\n",
        "\n",
        "1. Train a model on a rotation prediction task.\n",
        "  - We will use *all* the training data for rotation prediction.\n",
        "  - Input: A rotated image.\n",
        "  - Target/Label: Classify the amount of degrees rotated.\n",
        "  - Our model should learn useful features that can transfer well for a classification task.\n",
        "  - (The model should learn what digits look like in order to be able to successfully predict the amount of rotation).\n",
        "\n",
        "2. Transfer our rotation pretraining features to solve the classification task with *much fewer* labels, < 1% of the original data.\n",
        "  - Input: A normal image.\n",
        "  - Target/Label: The images' *original* categorical label.\n",
        "  - Classification accuracy should be decent, even with only using < 1% of the original data.\n",
        "\n",
        "3. Train a classifier from scratch on the same amount of data used in experiment 2.\n",
        "  - Input: A normal image.\n",
        "  - Target/Label: The images' *original* categorical label.\n",
        "  - Classification accuracy should be low (lack of transfer learning & too few labeled data!)\n",
        "  - Model may overfit.  "
      ]
    },
    {
      "cell_type": "markdown",
      "metadata": {
        "id": "ts8YLc_Y2U3t"
      },
      "source": [
        "# FastAI Vision Model Creation Methods"
      ]
    },
    {
      "cell_type": "markdown",
      "metadata": {
        "id": "4lUzz3bi2U3u"
      },
      "source": [
        "> Warning: This Jupyter notebook runs with fastai2! Make sure you have it installed, use the cell below to install it :)"
      ]
    },
    {
      "cell_type": "code",
      "metadata": {
        "ExecuteTime": {
          "end_time": "2021-03-10T22:05:13.201652Z",
          "start_time": "2021-03-10T22:04:58.559155Z"
        },
        "id": "ysBvurzE2U3y",
        "colab": {
          "base_uri": "https://localhost:8080/"
        },
        "outputId": "e192bca9-b4a6-4eb4-b30e-a7addcd33a63"
      },
      "source": [
        "!pip install fastai==2.5.2\n",
        "\n",
        "# Uncomment and run the below line to get a fresh install of fastai, if needed\n",
        "# !pip install fastai --upgrade"
      ],
      "execution_count": 1,
      "outputs": [
        {
          "output_type": "stream",
          "name": "stdout",
          "text": [
            "Looking in indexes: https://pypi.org/simple, https://us-python.pkg.dev/colab-wheels/public/simple/\n",
            "Collecting fastai==2.5.2\n",
            "  Downloading fastai-2.5.2-py3-none-any.whl (186 kB)\n",
            "\u001b[K     |████████████████████████████████| 186 kB 13.8 MB/s \n",
            "\u001b[?25hRequirement already satisfied: scipy in /usr/local/lib/python3.7/dist-packages (from fastai==2.5.2) (1.7.3)\n",
            "Requirement already satisfied: pip in /usr/local/lib/python3.7/dist-packages (from fastai==2.5.2) (21.1.3)\n",
            "Requirement already satisfied: fastprogress>=0.2.4 in /usr/local/lib/python3.7/dist-packages (from fastai==2.5.2) (1.0.3)\n",
            "Requirement already satisfied: spacy<4 in /usr/local/lib/python3.7/dist-packages (from fastai==2.5.2) (3.4.1)\n",
            "Requirement already satisfied: requests in /usr/local/lib/python3.7/dist-packages (from fastai==2.5.2) (2.23.0)\n",
            "Requirement already satisfied: packaging in /usr/local/lib/python3.7/dist-packages (from fastai==2.5.2) (21.3)\n",
            "Requirement already satisfied: pillow>6.0.0 in /usr/local/lib/python3.7/dist-packages (from fastai==2.5.2) (7.1.2)\n",
            "Requirement already satisfied: scikit-learn in /usr/local/lib/python3.7/dist-packages (from fastai==2.5.2) (1.0.2)\n",
            "Requirement already satisfied: pyyaml in /usr/local/lib/python3.7/dist-packages (from fastai==2.5.2) (3.13)\n",
            "Collecting torch<1.10,>=1.7.0\n",
            "  Downloading torch-1.9.1-cp37-cp37m-manylinux1_x86_64.whl (831.4 MB)\n",
            "\u001b[K     |████████████████████████████████| 831.4 MB 7.7 kB/s \n",
            "\u001b[?25hRequirement already satisfied: torchvision>=0.8.2 in /usr/local/lib/python3.7/dist-packages (from fastai==2.5.2) (0.13.1+cu113)\n",
            "Requirement already satisfied: fastdownload<2,>=0.0.5 in /usr/local/lib/python3.7/dist-packages (from fastai==2.5.2) (0.0.7)\n",
            "Requirement already satisfied: matplotlib in /usr/local/lib/python3.7/dist-packages (from fastai==2.5.2) (3.2.2)\n",
            "Requirement already satisfied: pandas in /usr/local/lib/python3.7/dist-packages (from fastai==2.5.2) (1.3.5)\n",
            "Collecting fastcore<1.4,>=1.3.8\n",
            "  Downloading fastcore-1.3.29-py3-none-any.whl (55 kB)\n",
            "\u001b[K     |████████████████████████████████| 55 kB 5.3 MB/s \n",
            "\u001b[?25hRequirement already satisfied: tqdm<5.0.0,>=4.38.0 in /usr/local/lib/python3.7/dist-packages (from spacy<4->fastai==2.5.2) (4.64.0)\n",
            "Requirement already satisfied: cymem<2.1.0,>=2.0.2 in /usr/local/lib/python3.7/dist-packages (from spacy<4->fastai==2.5.2) (2.0.6)\n",
            "Requirement already satisfied: jinja2 in /usr/local/lib/python3.7/dist-packages (from spacy<4->fastai==2.5.2) (2.11.3)\n",
            "Requirement already satisfied: catalogue<2.1.0,>=2.0.6 in /usr/local/lib/python3.7/dist-packages (from spacy<4->fastai==2.5.2) (2.0.8)\n",
            "Requirement already satisfied: pathy>=0.3.5 in /usr/local/lib/python3.7/dist-packages (from spacy<4->fastai==2.5.2) (0.6.2)\n",
            "Requirement already satisfied: srsly<3.0.0,>=2.4.3 in /usr/local/lib/python3.7/dist-packages (from spacy<4->fastai==2.5.2) (2.4.4)\n",
            "Requirement already satisfied: murmurhash<1.1.0,>=0.28.0 in /usr/local/lib/python3.7/dist-packages (from spacy<4->fastai==2.5.2) (1.0.7)\n",
            "Requirement already satisfied: spacy-legacy<3.1.0,>=3.0.9 in /usr/local/lib/python3.7/dist-packages (from spacy<4->fastai==2.5.2) (3.0.9)\n",
            "Requirement already satisfied: typer<0.5.0,>=0.3.0 in /usr/local/lib/python3.7/dist-packages (from spacy<4->fastai==2.5.2) (0.4.2)\n",
            "Requirement already satisfied: spacy-loggers<2.0.0,>=1.0.0 in /usr/local/lib/python3.7/dist-packages (from spacy<4->fastai==2.5.2) (1.0.3)\n",
            "Requirement already satisfied: thinc<8.2.0,>=8.1.0 in /usr/local/lib/python3.7/dist-packages (from spacy<4->fastai==2.5.2) (8.1.0)\n",
            "Requirement already satisfied: pydantic!=1.8,!=1.8.1,<1.10.0,>=1.7.4 in /usr/local/lib/python3.7/dist-packages (from spacy<4->fastai==2.5.2) (1.9.1)\n",
            "Requirement already satisfied: langcodes<4.0.0,>=3.2.0 in /usr/local/lib/python3.7/dist-packages (from spacy<4->fastai==2.5.2) (3.3.0)\n",
            "Requirement already satisfied: numpy>=1.15.0 in /usr/local/lib/python3.7/dist-packages (from spacy<4->fastai==2.5.2) (1.21.6)\n",
            "Requirement already satisfied: setuptools in /usr/local/lib/python3.7/dist-packages (from spacy<4->fastai==2.5.2) (57.4.0)\n",
            "Requirement already satisfied: typing-extensions<4.2.0,>=3.7.4 in /usr/local/lib/python3.7/dist-packages (from spacy<4->fastai==2.5.2) (4.1.1)\n",
            "Requirement already satisfied: preshed<3.1.0,>=3.0.2 in /usr/local/lib/python3.7/dist-packages (from spacy<4->fastai==2.5.2) (3.0.6)\n",
            "Requirement already satisfied: wasabi<1.1.0,>=0.9.1 in /usr/local/lib/python3.7/dist-packages (from spacy<4->fastai==2.5.2) (0.10.1)\n",
            "Requirement already satisfied: zipp>=0.5 in /usr/local/lib/python3.7/dist-packages (from catalogue<2.1.0,>=2.0.6->spacy<4->fastai==2.5.2) (3.8.1)\n",
            "Requirement already satisfied: pyparsing!=3.0.5,>=2.0.2 in /usr/local/lib/python3.7/dist-packages (from packaging->fastai==2.5.2) (3.0.9)\n",
            "Requirement already satisfied: smart-open<6.0.0,>=5.2.1 in /usr/local/lib/python3.7/dist-packages (from pathy>=0.3.5->spacy<4->fastai==2.5.2) (5.2.1)\n",
            "Requirement already satisfied: urllib3!=1.25.0,!=1.25.1,<1.26,>=1.21.1 in /usr/local/lib/python3.7/dist-packages (from requests->fastai==2.5.2) (1.24.3)\n",
            "Requirement already satisfied: idna<3,>=2.5 in /usr/local/lib/python3.7/dist-packages (from requests->fastai==2.5.2) (2.10)\n",
            "Requirement already satisfied: chardet<4,>=3.0.2 in /usr/local/lib/python3.7/dist-packages (from requests->fastai==2.5.2) (3.0.4)\n",
            "Requirement already satisfied: certifi>=2017.4.17 in /usr/local/lib/python3.7/dist-packages (from requests->fastai==2.5.2) (2022.6.15)\n",
            "Requirement already satisfied: blis<0.8.0,>=0.7.8 in /usr/local/lib/python3.7/dist-packages (from thinc<8.2.0,>=8.1.0->spacy<4->fastai==2.5.2) (0.7.8)\n",
            "Collecting torchvision>=0.8.2\n",
            "  Downloading torchvision-0.13.1-cp37-cp37m-manylinux1_x86_64.whl (19.1 MB)\n",
            "\u001b[K     |████████████████████████████████| 19.1 MB 1.1 MB/s \n",
            "\u001b[?25h  Downloading torchvision-0.13.0-cp37-cp37m-manylinux1_x86_64.whl (19.1 MB)\n",
            "\u001b[K     |████████████████████████████████| 19.1 MB 1.1 MB/s \n",
            "\u001b[?25h  Downloading torchvision-0.12.0-cp37-cp37m-manylinux1_x86_64.whl (21.0 MB)\n",
            "\u001b[K     |████████████████████████████████| 21.0 MB 1.2 MB/s \n",
            "\u001b[?25h  Downloading torchvision-0.11.3-cp37-cp37m-manylinux1_x86_64.whl (23.2 MB)\n",
            "\u001b[K     |████████████████████████████████| 23.2 MB 1.2 MB/s \n",
            "\u001b[?25h  Downloading torchvision-0.11.2-cp37-cp37m-manylinux1_x86_64.whl (23.3 MB)\n",
            "\u001b[K     |████████████████████████████████| 23.3 MB 1.2 MB/s \n",
            "\u001b[?25h  Downloading torchvision-0.11.1-cp37-cp37m-manylinux1_x86_64.whl (23.3 MB)\n",
            "\u001b[K     |████████████████████████████████| 23.3 MB 1.2 MB/s \n",
            "\u001b[?25h  Downloading torchvision-0.10.1-cp37-cp37m-manylinux1_x86_64.whl (22.1 MB)\n",
            "\u001b[K     |████████████████████████████████| 22.1 MB 1.2 MB/s \n",
            "\u001b[?25hRequirement already satisfied: click<9.0.0,>=7.1.1 in /usr/local/lib/python3.7/dist-packages (from typer<0.5.0,>=0.3.0->spacy<4->fastai==2.5.2) (7.1.2)\n",
            "Requirement already satisfied: MarkupSafe>=0.23 in /usr/local/lib/python3.7/dist-packages (from jinja2->spacy<4->fastai==2.5.2) (2.0.1)\n",
            "Requirement already satisfied: cycler>=0.10 in /usr/local/lib/python3.7/dist-packages (from matplotlib->fastai==2.5.2) (0.11.0)\n",
            "Requirement already satisfied: kiwisolver>=1.0.1 in /usr/local/lib/python3.7/dist-packages (from matplotlib->fastai==2.5.2) (1.4.4)\n",
            "Requirement already satisfied: python-dateutil>=2.1 in /usr/local/lib/python3.7/dist-packages (from matplotlib->fastai==2.5.2) (2.8.2)\n",
            "Requirement already satisfied: six>=1.5 in /usr/local/lib/python3.7/dist-packages (from python-dateutil>=2.1->matplotlib->fastai==2.5.2) (1.15.0)\n",
            "Requirement already satisfied: pytz>=2017.3 in /usr/local/lib/python3.7/dist-packages (from pandas->fastai==2.5.2) (2022.1)\n",
            "Requirement already satisfied: joblib>=0.11 in /usr/local/lib/python3.7/dist-packages (from scikit-learn->fastai==2.5.2) (1.1.0)\n",
            "Requirement already satisfied: threadpoolctl>=2.0.0 in /usr/local/lib/python3.7/dist-packages (from scikit-learn->fastai==2.5.2) (3.1.0)\n",
            "Installing collected packages: torch, fastcore, torchvision, fastai\n",
            "  Attempting uninstall: torch\n",
            "    Found existing installation: torch 1.12.1+cu113\n",
            "    Uninstalling torch-1.12.1+cu113:\n",
            "      Successfully uninstalled torch-1.12.1+cu113\n",
            "  Attempting uninstall: fastcore\n",
            "    Found existing installation: fastcore 1.5.16\n",
            "    Uninstalling fastcore-1.5.16:\n",
            "      Successfully uninstalled fastcore-1.5.16\n",
            "  Attempting uninstall: torchvision\n",
            "    Found existing installation: torchvision 0.13.1+cu113\n",
            "    Uninstalling torchvision-0.13.1+cu113:\n",
            "      Successfully uninstalled torchvision-0.13.1+cu113\n",
            "  Attempting uninstall: fastai\n",
            "    Found existing installation: fastai 2.7.9\n",
            "    Uninstalling fastai-2.7.9:\n",
            "      Successfully uninstalled fastai-2.7.9\n",
            "\u001b[31mERROR: pip's dependency resolver does not currently take into account all the packages that are installed. This behaviour is the source of the following dependency conflicts.\n",
            "torchtext 0.13.1 requires torch==1.12.1, but you have torch 1.9.1 which is incompatible.\n",
            "torchaudio 0.12.1+cu113 requires torch==1.12.1, but you have torch 1.9.1 which is incompatible.\u001b[0m\n",
            "Successfully installed fastai-2.5.2 fastcore-1.3.29 torch-1.9.1 torchvision-0.10.1\n"
          ]
        }
      ]
    },
    {
      "cell_type": "markdown",
      "metadata": {
        "id": "cJAe3m5E2U30"
      },
      "source": [
        "> Important: Pay attention! It's important. We will be using a small ConvNet to test our self-supervised learning method. The architecture is defined below in `simple_arch`.\n",
        "\n",
        "Note that `simple_arch` takes in one argument, `pretrained`. This is to allow FastAI to pass `pretrained=True` or `pretrained=False` when creating the model body! Below are some use cases of when we would want `pretrained=True` or `pretrained=False`.\n",
        "\n",
        "1. `pretrained=False` = For training a new model on our rotation prediction task.\n",
        "2. `pretrained=True` = For transferring the learnt features from our rotation task pretraining to solve a classification task.\n",
        "3. `pretrained=False` = For training a new model from scratch on the main classification task (no transfer learning)."
      ]
    },
    {
      "cell_type": "code",
      "metadata": {
        "ExecuteTime": {
          "end_time": "2021-03-10T23:31:11.684648Z",
          "start_time": "2021-03-10T23:31:10.265151Z"
        },
        "id": "56sPFENb2U32"
      },
      "source": [
        "from fastai.vision.all import *"
      ],
      "execution_count": 2,
      "outputs": []
    },
    {
      "cell_type": "code",
      "metadata": {
        "ExecuteTime": {
          "end_time": "2021-03-10T23:31:11.693859Z",
          "start_time": "2021-03-10T23:31:11.688343Z"
        },
        "id": "mamc1fJk2U33"
      },
      "source": [
        "#collapse-show\n",
        "def simple_arch(pretrained=False):\n",
        "    # Note that FastAI will automatically cut at pooling layer for the body!\n",
        "    model = nn.Sequential(\n",
        "        nn.Conv2d(1, 4, 3, 1),\n",
        "        nn.BatchNorm2d(4),\n",
        "        nn.ReLU(),\n",
        "        nn.Conv2d(4, 16, 3, 1),\n",
        "        nn.BatchNorm2d(16),\n",
        "        nn.ReLU(),\n",
        "        nn.Conv2d(16, 32, 3, 1),\n",
        "        nn.BatchNorm2d(32),\n",
        "        nn.AdaptiveAvgPool2d(1),\n",
        "    )\n",
        "    if (pretrained):\n",
        "        print(\"Loading pretrained model...\")\n",
        "        pretrained_weights = torch.load(save_path/'rot_pretrained.pt')\n",
        "        print(model.load_state_dict(pretrained_weights))\n",
        "    return model"
      ],
      "execution_count": 3,
      "outputs": []
    },
    {
      "cell_type": "markdown",
      "metadata": {
        "id": "IZijFrdC2U34"
      },
      "source": [
        "> The follow below code snippets are examples of how FastAI creates CNNs. Every model will have a *body* and a *head*"
      ]
    },
    {
      "cell_type": "code",
      "metadata": {
        "ExecuteTime": {
          "end_time": "2021-03-10T23:31:11.704827Z",
          "start_time": "2021-03-10T23:31:11.695745Z"
        },
        "id": "AHiSu6_A2U35",
        "colab": {
          "base_uri": "https://localhost:8080/"
        },
        "outputId": "e29d66ba-a9ea-4bd8-e87a-449ebf986cbd"
      },
      "source": [
        "#collapse-show\n",
        "body = create_body(arch=simple_arch, pretrained=False)\n",
        "body"
      ],
      "execution_count": 4,
      "outputs": [
        {
          "output_type": "execute_result",
          "data": {
            "text/plain": [
              "Sequential(\n",
              "  (0): Conv2d(1, 4, kernel_size=(3, 3), stride=(1, 1))\n",
              "  (1): BatchNorm2d(4, eps=1e-05, momentum=0.1, affine=True, track_running_stats=True)\n",
              "  (2): ReLU()\n",
              "  (3): Conv2d(4, 16, kernel_size=(3, 3), stride=(1, 1))\n",
              "  (4): BatchNorm2d(16, eps=1e-05, momentum=0.1, affine=True, track_running_stats=True)\n",
              "  (5): ReLU()\n",
              "  (6): Conv2d(16, 32, kernel_size=(3, 3), stride=(1, 1))\n",
              "  (7): BatchNorm2d(32, eps=1e-05, momentum=0.1, affine=True, track_running_stats=True)\n",
              ")"
            ]
          },
          "metadata": {},
          "execution_count": 4
        }
      ]
    },
    {
      "cell_type": "code",
      "metadata": {
        "ExecuteTime": {
          "end_time": "2021-03-10T23:31:11.878524Z",
          "start_time": "2021-03-10T23:31:11.872169Z"
        },
        "id": "DkO8WsYI2U3-",
        "colab": {
          "base_uri": "https://localhost:8080/"
        },
        "outputId": "d416a58c-a18f-43bf-d03a-9e68ef561e2b"
      },
      "source": [
        "#collapse-show\n",
        "head = create_head(nf=32, n_out=8, lin_ftrs=[])\n",
        "head"
      ],
      "execution_count": 5,
      "outputs": [
        {
          "output_type": "execute_result",
          "data": {
            "text/plain": [
              "Sequential(\n",
              "  (0): AdaptiveConcatPool2d(\n",
              "    (ap): AdaptiveAvgPool2d(output_size=1)\n",
              "    (mp): AdaptiveMaxPool2d(output_size=1)\n",
              "  )\n",
              "  (1): Flatten(full=False)\n",
              "  (2): BatchNorm1d(64, eps=1e-05, momentum=0.1, affine=True, track_running_stats=True)\n",
              "  (3): Dropout(p=0.5, inplace=False)\n",
              "  (4): Linear(in_features=64, out_features=8, bias=False)\n",
              ")"
            ]
          },
          "metadata": {},
          "execution_count": 5
        }
      ]
    },
    {
      "cell_type": "code",
      "metadata": {
        "ExecuteTime": {
          "end_time": "2021-03-10T23:31:12.399617Z",
          "start_time": "2021-03-10T23:31:12.386435Z"
        },
        "id": "UJmcSf5x2U4I",
        "colab": {
          "base_uri": "https://localhost:8080/"
        },
        "outputId": "9c18a8c0-672b-4146-b814-f368af9a12d5"
      },
      "source": [
        "#collapse-show\n",
        "# Note that FastAI automatically determines nf for the head!\n",
        "model = create_cnn_model(arch=simple_arch, pretrained=False, n_out=8, lin_ftrs=[])\n",
        "model"
      ],
      "execution_count": 6,
      "outputs": [
        {
          "output_type": "execute_result",
          "data": {
            "text/plain": [
              "Sequential(\n",
              "  (0): Sequential(\n",
              "    (0): Conv2d(1, 4, kernel_size=(3, 3), stride=(1, 1))\n",
              "    (1): BatchNorm2d(4, eps=1e-05, momentum=0.1, affine=True, track_running_stats=True)\n",
              "    (2): ReLU()\n",
              "    (3): Conv2d(4, 16, kernel_size=(3, 3), stride=(1, 1))\n",
              "    (4): BatchNorm2d(16, eps=1e-05, momentum=0.1, affine=True, track_running_stats=True)\n",
              "    (5): ReLU()\n",
              "    (6): Conv2d(16, 32, kernel_size=(3, 3), stride=(1, 1))\n",
              "    (7): BatchNorm2d(32, eps=1e-05, momentum=0.1, affine=True, track_running_stats=True)\n",
              "  )\n",
              "  (1): Sequential(\n",
              "    (0): AdaptiveConcatPool2d(\n",
              "      (ap): AdaptiveAvgPool2d(output_size=1)\n",
              "      (mp): AdaptiveMaxPool2d(output_size=1)\n",
              "    )\n",
              "    (1): Flatten(full=False)\n",
              "    (2): BatchNorm1d(64, eps=1e-05, momentum=0.1, affine=True, track_running_stats=True)\n",
              "    (3): Dropout(p=0.5, inplace=False)\n",
              "    (4): Linear(in_features=64, out_features=8, bias=False)\n",
              "  )\n",
              ")"
            ]
          },
          "metadata": {},
          "execution_count": 6
        }
      ]
    },
    {
      "cell_type": "markdown",
      "metadata": {
        "id": "sdHoShqd2U4N"
      },
      "source": [
        "# PyTorch Rotation/Classification Self-Supervised Dataset"
      ]
    },
    {
      "cell_type": "code",
      "metadata": {
        "ExecuteTime": {
          "end_time": "2021-03-10T23:31:12.808083Z",
          "start_time": "2021-03-10T23:31:12.804890Z"
        },
        "id": "OPcYaLLS2U4O"
      },
      "source": [
        "# --- Functions to convert between Torch Tensors and PIL Images ---\n",
        "import torchvision\n",
        "tensorToImage = torchvision.transforms.ToPILImage()\n",
        "imageToTensor = torchvision.transforms.ToTensor()"
      ],
      "execution_count": 7,
      "outputs": []
    },
    {
      "cell_type": "code",
      "metadata": {
        "ExecuteTime": {
          "end_time": "2021-03-10T23:28:37.733862Z",
          "start_time": "2021-03-10T23:28:37.731334Z"
        },
        "id": "G46fnXlc2U4P"
      },
      "source": [
        "#collapse-hide\n",
        "# Uncomment and run the below lines if torchvision has trouble downloading MNIST (in the next cell)\n",
        "\n",
        "# !wget -P data/MNIST/raw/ http://yann.lecun.com/exdb/mnist/train-images-idx3-ubyte.gz\n",
        "# !wget -P data/MNIST/raw/ http://yann.lecun.com/exdb/mnist/train-labels-idx1-ubyte.gz\n",
        "# !wget -P data/MNIST/raw/ http://yann.lecun.com/exdb/mnist/t10k-images-idx3-ubyte.gz\n",
        "# !wget -P data/MNIST/raw/ http://yann.lecun.com/exdb/mnist/t10k-labels-idx1-ubyte.gz"
      ],
      "execution_count": 8,
      "outputs": []
    },
    {
      "cell_type": "code",
      "metadata": {
        "ExecuteTime": {
          "end_time": "2021-03-10T23:31:14.084740Z",
          "start_time": "2021-03-10T23:31:14.045646Z"
        },
        "scrolled": true,
        "id": "ynce4odu2U4W",
        "colab": {
          "base_uri": "https://localhost:8080/",
          "height": 564,
          "referenced_widgets": [
            "0b72028fd68b4d16a1c741b55b4f4ca1",
            "d84e7943f65c4817bab5a864caa8fd0a",
            "46ad58d7e9cf422e9a8b5172de64b518",
            "b8d12c2b05254a71b4507135ee3d74aa",
            "c65e3b5e53194f24a313491f0db1007f",
            "36a92fce732b438bbafe8228ab9a6ed1",
            "ed0bca19cd0c492cb1b8a882981eca26",
            "46071c7702814a4283c5b5f49f742893",
            "b1752ef368d14cc98a86a51d7d3624eb",
            "3e6e8e9ff22a4c75bb8b3cfb93e831ae",
            "94ec95f0019f44129b3b1fed3e213f7e",
            "6270dc5ede9b415d9164997c18ad2039",
            "616dc780e20a479a83dac3d1918bc9d8",
            "88ef90750e664b5192f2c4ce51761ca5",
            "6842206f52474767adf6e1743072848b",
            "17d3436ec4b3403883193343f93eee07",
            "3d674324a1d040bdaad8df583fc0b01f",
            "8681a55b02d4459eaf88158fbce4f03a",
            "7ea7b4c6898d4a73a40149dbb0d39996",
            "d5b43e9b10f24e6e91e9903b4436fcd2",
            "1db01f6bd7fb47489e925fce4015ca10",
            "1aeee3b9ac774eb5b1cbf33e273a7916",
            "b14cc0d7eb4e470d9d05f461083ce6e7",
            "ade8d4517d5e4820b69d9a0799247bbd",
            "511d8004e6584655b909be987f5ee26b",
            "94cc09acc6294551b55f3792b3054826",
            "dc0269fd5d9c463e89dd2582c840aeb2",
            "5a20a126bfab4c4c93bb6623d49e4c12",
            "16515ffda72442b68d16146a595bbbfd",
            "1c2b76cbec204533a93d079b40cb7fe7",
            "0e76913621a84fe1811c60ef43e7f728",
            "17998e814627462799cf0b95579a4a7a",
            "39b31b31b75f4326805e9bfa5c1f89ad",
            "4ec595d33e1e47dc921787d8e5632f33",
            "36288493c7f7438880a35309d3ef9e03",
            "eee1449cc770455581536c8ba491add9",
            "1e0e0700b28348309b0e141f46d296b4",
            "d99a42bb07e0455d93ba88f272551cc0",
            "cba2901c54fa4a2dbf5d1d1a25ea5ab7",
            "94676699ef5242bca6dfacdda75d5259",
            "5f9ce5131b734bd491cf3c3ffd7a1b56",
            "5d22b641c5bb4ff5bb05ae1492184dc8",
            "493044ef2dd24ac895043910eee06a82",
            "a398403dabad4853918acb8075985760"
          ]
        },
        "outputId": "31e4465a-1788-4ca8-e16d-a09d6f79bff5"
      },
      "source": [
        "# Download MNIST dataset from PyTorch if not downloaded already!\n",
        "torchvision.datasets.MNIST('data', download=True)"
      ],
      "execution_count": 9,
      "outputs": [
        {
          "output_type": "stream",
          "name": "stdout",
          "text": [
            "Downloading http://yann.lecun.com/exdb/mnist/train-images-idx3-ubyte.gz\n",
            "Downloading http://yann.lecun.com/exdb/mnist/train-images-idx3-ubyte.gz to data/MNIST/raw/train-images-idx3-ubyte.gz\n"
          ]
        },
        {
          "output_type": "display_data",
          "data": {
            "text/plain": [
              "  0%|          | 0/9912422 [00:00<?, ?it/s]"
            ],
            "application/vnd.jupyter.widget-view+json": {
              "version_major": 2,
              "version_minor": 0,
              "model_id": "0b72028fd68b4d16a1c741b55b4f4ca1"
            }
          },
          "metadata": {}
        },
        {
          "output_type": "stream",
          "name": "stdout",
          "text": [
            "Extracting data/MNIST/raw/train-images-idx3-ubyte.gz to data/MNIST/raw\n",
            "\n",
            "Downloading http://yann.lecun.com/exdb/mnist/train-labels-idx1-ubyte.gz\n",
            "Downloading http://yann.lecun.com/exdb/mnist/train-labels-idx1-ubyte.gz to data/MNIST/raw/train-labels-idx1-ubyte.gz\n"
          ]
        },
        {
          "output_type": "display_data",
          "data": {
            "text/plain": [
              "  0%|          | 0/28881 [00:00<?, ?it/s]"
            ],
            "application/vnd.jupyter.widget-view+json": {
              "version_major": 2,
              "version_minor": 0,
              "model_id": "6270dc5ede9b415d9164997c18ad2039"
            }
          },
          "metadata": {}
        },
        {
          "output_type": "stream",
          "name": "stdout",
          "text": [
            "Extracting data/MNIST/raw/train-labels-idx1-ubyte.gz to data/MNIST/raw\n",
            "\n",
            "Downloading http://yann.lecun.com/exdb/mnist/t10k-images-idx3-ubyte.gz\n",
            "Downloading http://yann.lecun.com/exdb/mnist/t10k-images-idx3-ubyte.gz to data/MNIST/raw/t10k-images-idx3-ubyte.gz\n"
          ]
        },
        {
          "output_type": "display_data",
          "data": {
            "text/plain": [
              "  0%|          | 0/1648877 [00:00<?, ?it/s]"
            ],
            "application/vnd.jupyter.widget-view+json": {
              "version_major": 2,
              "version_minor": 0,
              "model_id": "b14cc0d7eb4e470d9d05f461083ce6e7"
            }
          },
          "metadata": {}
        },
        {
          "output_type": "stream",
          "name": "stdout",
          "text": [
            "Extracting data/MNIST/raw/t10k-images-idx3-ubyte.gz to data/MNIST/raw\n",
            "\n",
            "Downloading http://yann.lecun.com/exdb/mnist/t10k-labels-idx1-ubyte.gz\n",
            "Downloading http://yann.lecun.com/exdb/mnist/t10k-labels-idx1-ubyte.gz to data/MNIST/raw/t10k-labels-idx1-ubyte.gz\n"
          ]
        },
        {
          "output_type": "display_data",
          "data": {
            "text/plain": [
              "  0%|          | 0/4542 [00:00<?, ?it/s]"
            ],
            "application/vnd.jupyter.widget-view+json": {
              "version_major": 2,
              "version_minor": 0,
              "model_id": "4ec595d33e1e47dc921787d8e5632f33"
            }
          },
          "metadata": {}
        },
        {
          "output_type": "stream",
          "name": "stdout",
          "text": [
            "Extracting data/MNIST/raw/t10k-labels-idx1-ubyte.gz to data/MNIST/raw\n",
            "\n"
          ]
        },
        {
          "output_type": "stream",
          "name": "stderr",
          "text": [
            "/usr/local/lib/python3.7/dist-packages/torchvision/datasets/mnist.py:498: UserWarning: The given NumPy array is not writeable, and PyTorch does not support non-writeable tensors. This means you can write to the underlying (supposedly non-writeable) NumPy array using the tensor. You may want to copy the array to protect its data or make it writeable before converting it to a tensor. This type of warning will be suppressed for the rest of this program. (Triggered internally at  ../torch/csrc/utils/tensor_numpy.cpp:180.)\n",
            "  return torch.from_numpy(parsed.astype(m[2], copy=False)).view(*s)\n"
          ]
        },
        {
          "output_type": "execute_result",
          "data": {
            "text/plain": [
              "Dataset MNIST\n",
              "    Number of datapoints: 60000\n",
              "    Root location: data\n",
              "    Split: Train"
            ]
          },
          "metadata": {},
          "execution_count": 9
        }
      ]
    },
    {
      "cell_type": "markdown",
      "metadata": {
        "id": "c2qx2ywl2U4X"
      },
      "source": [
        "Below we define a dataset, here's the docstring:\n",
        "\n",
        "A Dataset for Rotation-based Self-Supervision! Images are rotated clockwise.\n",
        "- `file` - MNIST processed .pt file.\n",
        "- `pct` - percent of data to use\n",
        "- `classification` - False=Use rotation labels. True=Use original classification labels."
      ]
    },
    {
      "cell_type": "code",
      "metadata": {
        "ExecuteTime": {
          "end_time": "2021-03-10T23:31:14.623324Z",
          "start_time": "2021-03-10T23:31:14.612994Z"
        },
        "id": "YqAPqNup2U4Y"
      },
      "source": [
        "from torchvision.datasets.mnist import read_image_file, read_label_file\n",
        "\n",
        "#collapse-hide\n",
        "class Custom_Dataset_MNIST():\n",
        "    '''\n",
        "    A Dataset for Rotation-based Self-Supervision! Images are rotated clockwise.\n",
        "    - file - MNIST processed .pt file.\n",
        "    - pct - percent of data to use\n",
        "    - classification - False=Use rotation labels. True=Use original classification labels.\n",
        "    '''\n",
        "    \n",
        "    def __init__(self, file, pct, classification):\n",
        "        \n",
        "        #data = torch.load(file)\n",
        "        self.imgs = read_image_file(file) #data[0]\n",
        "        self.labels = read_label_file(file.replace('images-idx3', 'labels-idx1')) #data[1]\n",
        "        self.pct = pct\n",
        "        self.classification = classification\n",
        "                    \n",
        "        slice_idx = int(len(self.imgs)*self.pct)\n",
        "        self.imgs = self.imgs[:slice_idx]\n",
        "                    \n",
        "    def __len__(self):\n",
        "        return len(self.imgs)\n",
        "    \n",
        "    def __getitem__(self, idx):\n",
        "        img = self.imgs[idx].unsqueeze(0)\n",
        "        img = tensorToImage(img)\n",
        "        img = img.resize((32, 32), resample=1)\n",
        "        img = imageToTensor(img)\n",
        "        \n",
        "        if (not self.classification):\n",
        "            # 4 classes for rotation\n",
        "            degrees = [0, 45, 90, 135, 180, 225, 270, 315]\n",
        "            rand_choice = random.randint(0, len(degrees)-1)\n",
        "            \n",
        "            img = tensorToImage(img)\n",
        "            img = img.rotate(degrees[rand_choice])\n",
        "            img = imageToTensor(img)\n",
        "            return img, torch.tensor(rand_choice).long()\n",
        "        \n",
        "        return img, self.labels[idx]\n",
        "    \n",
        "    def show_batch(self, n=3):\n",
        "        fig, axs = plt.subplots(n, n)\n",
        "        fig.tight_layout()\n",
        "        for i in range(n):\n",
        "            for j in range(n):\n",
        "                rand_idx = random.randint(0, len(self)-1)\n",
        "                img, label = self.__getitem__(rand_idx)\n",
        "                axs[i, j].imshow(tensorToImage(img), cmap='gray')\n",
        "                if self.classification:\n",
        "                    axs[i, j].set_title('Label: {0} (Digit #{1})'.format(label.item(), label.item()))\n",
        "                else:\n",
        "                    axs[i, j].set_title('Label: {0} ({1} Degrees)'.format(label.item(), label.item()*45))\n",
        "                axs[i, j].axis('off')"
      ],
      "execution_count": 10,
      "outputs": []
    },
    {
      "cell_type": "markdown",
      "metadata": {
        "id": "9nRCGzwu2U4b"
      },
      "source": [
        "# Rotation Prediction Data"
      ]
    },
    {
      "cell_type": "markdown",
      "metadata": {
        "ExecuteTime": {
          "end_time": "2020-03-23T16:28:12.061325Z",
          "start_time": "2020-03-23T16:28:12.055543Z"
        },
        "id": "-uNXTyP-2U4c"
      },
      "source": [
        "> Important: 60k training data and 10k validation data!"
      ]
    },
    {
      "cell_type": "code",
      "metadata": {
        "ExecuteTime": {
          "end_time": "2021-03-10T23:31:15.348643Z",
          "start_time": "2021-03-10T23:31:15.302426Z"
        },
        "id": "6kgb7UO72U4d",
        "colab": {
          "base_uri": "https://localhost:8080/"
        },
        "outputId": "ee77b10a-6cd7-4457-d6bb-3d90093c8286"
      },
      "source": [
        "# Make rotation datasets\n",
        "train_ds = Custom_Dataset_MNIST('data/MNIST/raw/train-images-idx3-ubyte', pct=1.0, classification=False)\n",
        "valid_ds = Custom_Dataset_MNIST('data/MNIST/raw/t10k-images-idx3-ubyte', pct=1.0, classification=False)\n",
        "print('{0} Training Samples | {1} Validation Samples'.format(len(train_ds), len(valid_ds)))"
      ],
      "execution_count": 11,
      "outputs": [
        {
          "output_type": "stream",
          "name": "stdout",
          "text": [
            "60000 Training Samples | 10000 Validation Samples\n"
          ]
        }
      ]
    },
    {
      "cell_type": "markdown",
      "metadata": {
        "ExecuteTime": {
          "end_time": "2020-03-23T16:28:42.437483Z",
          "start_time": "2020-03-23T16:28:42.431824Z"
        },
        "id": "KNc9u6jP2U4e"
      },
      "source": [
        "> Note: Notice that our labels don't correspond to digits! They correspond to the amount of degrees rotated! Specifically from this predefined set: `[0, 45, 90, 135, 180, 225, 270, 315]`"
      ]
    },
    {
      "cell_type": "code",
      "metadata": {
        "ExecuteTime": {
          "end_time": "2021-03-10T23:31:16.188918Z",
          "start_time": "2021-03-10T23:31:15.648884Z"
        },
        "id": "HwPcs_Gj2U4f",
        "colab": {
          "base_uri": "https://localhost:8080/",
          "height": 292
        },
        "outputId": "0ea167c9-746a-4b88-d9ee-7fa73282bc81"
      },
      "source": [
        "from fastai.data.core import DataLoaders\n",
        "dls = DataLoaders.from_dsets(train_ds, valid_ds).cuda()\n",
        "\n",
        "# Override the show_batch function of dls to the one used in our dataset!\n",
        "dls.show_batch = train_ds.show_batch\n",
        "\n",
        "# We have 8 classes! [0, 1, 2, 3, 4, 5, 6, 7] that correspond to the [0, 45, 90, 135, 180, 225, 270, 315] degrees of rotation.\n",
        "dls.c = 8\n",
        "\n",
        "dls.show_batch()"
      ],
      "execution_count": 12,
      "outputs": [
        {
          "output_type": "display_data",
          "data": {
            "text/plain": [
              "<Figure size 432x288 with 9 Axes>"
            ],
            "image/png": "[encoded data removed]"
          },
          "metadata": {
            "needs_background": "light"
          }
        }
      ]
    },
    {
      "cell_type": "markdown",
      "metadata": {
        "id": "1vXwdoDW2U4g"
      },
      "source": [
        "# FastAI Vision Learner [Rotation]"
      ]
    },
    {
      "cell_type": "code",
      "metadata": {
        "ExecuteTime": {
          "end_time": "2021-03-10T23:31:16.196844Z",
          "start_time": "2021-03-10T23:31:16.191449Z"
        },
        "id": "XUj1W6332U4l",
        "colab": {
          "base_uri": "https://localhost:8080/"
        },
        "outputId": "289a0a3d-5474-454e-ee66-3f6d064c30aa"
      },
      "source": [
        "# Create a config for our model's head!\n",
        "rotation_head = create_head(nf=32, n_out=8, lin_ftrs=[])\n",
        "rotation_head"
      ],
      "execution_count": 13,
      "outputs": [
        {
          "output_type": "execute_result",
          "data": {
            "text/plain": [
              "Sequential(\n",
              "  (0): AdaptiveConcatPool2d(\n",
              "    (ap): AdaptiveAvgPool2d(output_size=1)\n",
              "    (mp): AdaptiveMaxPool2d(output_size=1)\n",
              "  )\n",
              "  (1): Flatten(full=False)\n",
              "  (2): BatchNorm1d(64, eps=1e-05, momentum=0.1, affine=True, track_running_stats=True)\n",
              "  (3): Dropout(p=0.5, inplace=False)\n",
              "  (4): Linear(in_features=64, out_features=8, bias=False)\n",
              ")"
            ]
          },
          "metadata": {},
          "execution_count": 13
        }
      ]
    },
    {
      "cell_type": "markdown",
      "metadata": {
        "ExecuteTime": {
          "end_time": "2020-03-23T16:28:42.437483Z",
          "start_time": "2020-03-23T16:28:42.431824Z"
        },
        "id": "g-yq5-JP2U4n"
      },
      "source": [
        "> Note: We want to measure `top_2_accuracy` along with regular (top_1) accuracy, because there are hard-cases where it's understandable why our model got it wrong. For example: '0' rotated 90 or 270 degrees, or '1' rotated 0 or 180 degrees. (They can look the same!)"
      ]
    },
    {
      "cell_type": "code",
      "metadata": {
        "ExecuteTime": {
          "end_time": "2021-03-10T23:31:16.284539Z",
          "start_time": "2021-03-10T23:31:16.280697Z"
        },
        "id": "iSpJfLdj2U4n",
        "colab": {
          "base_uri": "https://localhost:8080/"
        },
        "outputId": "79ecb709-9011-4652-d720-76a672ec6984"
      },
      "source": [
        "# Top_2 accuracy is a nice metric for hard-cases:\n",
        "# - A zero rotated 90 or 270 degrees?\n",
        "# - A one rotated 0 or 180 degrees?\n",
        "# etc :P\n",
        "\n",
        "top_2_accuracy = lambda inp, targ: top_k_accuracy(inp, targ, k=2)\n",
        "top_2_accuracy"
      ],
      "execution_count": 14,
      "outputs": [
        {
          "output_type": "execute_result",
          "data": {
            "text/plain": [
              "<function __main__.<lambda>(inp, targ)>"
            ]
          },
          "metadata": {},
          "execution_count": 14
        }
      ]
    },
    {
      "cell_type": "markdown",
      "metadata": {
        "id": "0-pGh-mt2U4o"
      },
      "source": [
        "Here, we train a model on the rotation prediction task!"
      ]
    },
    {
      "cell_type": "code",
      "metadata": {
        "ExecuteTime": {
          "end_time": "2021-03-10T23:31:16.593891Z",
          "start_time": "2021-03-10T23:31:16.585743Z"
        },
        "id": "ZZBYByJf2U4o",
        "colab": {
          "base_uri": "https://localhost:8080/"
        },
        "outputId": "520e2051-8ce3-4e95-c2dc-3477de360ce9"
      },
      "source": [
        "#collapse-show\n",
        "# Note to set a value for lin_ftrs, we use the defined config above.\n",
        "learner = cnn_learner(dls,\n",
        "                      simple_arch,\n",
        "                      pretrained=False,\n",
        "                      loss_func=CrossEntropyLossFlat(),\n",
        "                      custom_head=rotation_head,\n",
        "                      metrics=[accuracy, top_2_accuracy])\n",
        "\n",
        "learner.model"
      ],
      "execution_count": 15,
      "outputs": [
        {
          "output_type": "execute_result",
          "data": {
            "text/plain": [
              "Sequential(\n",
              "  (0): Sequential(\n",
              "    (0): Conv2d(1, 4, kernel_size=(3, 3), stride=(1, 1))\n",
              "    (1): BatchNorm2d(4, eps=1e-05, momentum=0.1, affine=True, track_running_stats=True)\n",
              "    (2): ReLU()\n",
              "    (3): Conv2d(4, 16, kernel_size=(3, 3), stride=(1, 1))\n",
              "    (4): BatchNorm2d(16, eps=1e-05, momentum=0.1, affine=True, track_running_stats=True)\n",
              "    (5): ReLU()\n",
              "    (6): Conv2d(16, 32, kernel_size=(3, 3), stride=(1, 1))\n",
              "    (7): BatchNorm2d(32, eps=1e-05, momentum=0.1, affine=True, track_running_stats=True)\n",
              "  )\n",
              "  (1): Sequential(\n",
              "    (0): AdaptiveConcatPool2d(\n",
              "      (ap): AdaptiveAvgPool2d(output_size=1)\n",
              "      (mp): AdaptiveMaxPool2d(output_size=1)\n",
              "    )\n",
              "    (1): Flatten(full=False)\n",
              "    (2): BatchNorm1d(64, eps=1e-05, momentum=0.1, affine=True, track_running_stats=True)\n",
              "    (3): Dropout(p=0.5, inplace=False)\n",
              "    (4): Linear(in_features=64, out_features=8, bias=False)\n",
              "  )\n",
              ")"
            ]
          },
          "metadata": {},
          "execution_count": 15
        }
      ]
    },
    {
      "cell_type": "code",
      "metadata": {
        "ExecuteTime": {
          "end_time": "2021-03-10T23:31:19.140895Z",
          "start_time": "2021-03-10T23:31:16.752265Z"
        },
        "scrolled": true,
        "id": "Fa6r8kh42U4q",
        "colab": {
          "base_uri": "https://localhost:8080/",
          "height": 743
        },
        "outputId": "e54190e0-e133-4e5b-9dfc-20341bc14592"
      },
      "source": [
        "learner.summary()"
      ],
      "execution_count": 16,
      "outputs": [
        {
          "output_type": "display_data",
          "data": {
            "text/plain": [
              "<IPython.core.display.HTML object>"
            ],
            "text/html": [
              "\n",
              "<style>\n",
              "    /* Turns off some styling */\n",
              "    progress {\n",
              "        /* gets rid of default border in Firefox and Opera. */\n",
              "        border: none;\n",
              "        /* Needs to be in here for Safari polyfill so background images work as expected. */\n",
              "        background-size: auto;\n",
              "    }\n",
              "    progress:not([value]), progress:not([value])::-webkit-progress-bar {\n",
              "        background: repeating-linear-gradient(45deg, #7e7e7e, #7e7e7e 10px, #5c5c5c 10px, #5c5c5c 20px);\n",
              "    }\n",
              "    .progress-bar-interrupted, .progress-bar-interrupted::-webkit-progress-bar {\n",
              "        background: #F44336;\n",
              "    }\n",
              "</style>\n"
            ]
          },
          "metadata": {}
        },
        {
          "output_type": "display_data",
          "data": {
            "text/plain": [
              "<IPython.core.display.HTML object>"
            ],
            "text/html": [
              ""
            ]
          },
          "metadata": {}
        },
        {
          "output_type": "execute_result",
          "data": {
            "text/plain": [
              "Sequential (Input shape: 64)\n",
              "============================================================================\n",
              "Layer (type)         Output Shape         Param #    Trainable \n",
              "============================================================================\n",
              "                     64 x 4 x 30 x 30    \n",
              "Conv2d                                    40         True      \n",
              "BatchNorm2d                               8          True      \n",
              "ReLU                                                           \n",
              "____________________________________________________________________________\n",
              "                     64 x 16 x 28 x 28   \n",
              "Conv2d                                    592        True      \n",
              "BatchNorm2d                               32         True      \n",
              "ReLU                                                           \n",
              "____________________________________________________________________________\n",
              "                     64 x 32 x 26 x 26   \n",
              "Conv2d                                    4640       True      \n",
              "BatchNorm2d                               64         True      \n",
              "____________________________________________________________________________\n",
              "                     []                  \n",
              "AdaptiveAvgPool2d                                              \n",
              "AdaptiveMaxPool2d                                              \n",
              "Flatten                                                        \n",
              "BatchNorm1d                               128        True      \n",
              "Dropout                                                        \n",
              "____________________________________________________________________________\n",
              "                     64 x 8              \n",
              "Linear                                    512        True      \n",
              "____________________________________________________________________________\n",
              "\n",
              "Total params: 6,016\n",
              "Total trainable params: 6,016\n",
              "Total non-trainable params: 0\n",
              "\n",
              "Optimizer used: <function Adam at 0x7f0c9dbc99e0>\n",
              "Loss function: FlattenedLoss of CrossEntropyLoss()\n",
              "\n",
              "Callbacks:\n",
              "  - TrainEvalCallback\n",
              "  - Recorder\n",
              "  - ProgressCallback"
            ],
            "application/vnd.google.colaboratory.intrinsic+json": {
              "type": "string"
            }
          },
          "metadata": {},
          "execution_count": 16
        }
      ]
    },
    {
      "cell_type": "code",
      "metadata": {
        "ExecuteTime": {
          "end_time": "2021-03-10T23:31:21.664562Z",
          "start_time": "2021-03-10T23:31:19.143280Z"
        },
        "id": "YBnSKerP2U4r",
        "colab": {
          "base_uri": "https://localhost:8080/",
          "height": 304
        },
        "outputId": "122844d7-247b-4c0a-e6ac-1cb6610b9f3e"
      },
      "source": [
        "learner.lr_find()"
      ],
      "execution_count": 17,
      "outputs": [
        {
          "output_type": "display_data",
          "data": {
            "text/plain": [
              "<IPython.core.display.HTML object>"
            ],
            "text/html": [
              "\n",
              "<style>\n",
              "    /* Turns off some styling */\n",
              "    progress {\n",
              "        /* gets rid of default border in Firefox and Opera. */\n",
              "        border: none;\n",
              "        /* Needs to be in here for Safari polyfill so background images work as expected. */\n",
              "        background-size: auto;\n",
              "    }\n",
              "    progress:not([value]), progress:not([value])::-webkit-progress-bar {\n",
              "        background: repeating-linear-gradient(45deg, #7e7e7e, #7e7e7e 10px, #5c5c5c 10px, #5c5c5c 20px);\n",
              "    }\n",
              "    .progress-bar-interrupted, .progress-bar-interrupted::-webkit-progress-bar {\n",
              "        background: #F44336;\n",
              "    }\n",
              "</style>\n"
            ]
          },
          "metadata": {}
        },
        {
          "output_type": "display_data",
          "data": {
            "text/plain": [
              "<IPython.core.display.HTML object>"
            ],
            "text/html": [
              ""
            ]
          },
          "metadata": {}
        },
        {
          "output_type": "execute_result",
          "data": {
            "text/plain": [
              "SuggestedLRs(valley=0.0014454397605732083)"
            ]
          },
          "metadata": {},
          "execution_count": 17
        },
        {
          "output_type": "display_data",
          "data": {
            "text/plain": [
              "<Figure size 432x288 with 1 Axes>"
            ],
            "image/png": "[encoded data removed]"
          },
          "metadata": {
            "needs_background": "light"
          }
        }
      ]
    },
    {
      "cell_type": "code",
      "metadata": {
        "ExecuteTime": {
          "end_time": "2021-03-10T23:32:22.574170Z",
          "start_time": "2021-03-10T23:31:21.666666Z"
        },
        "id": "Lqz1ZOBn2U4r",
        "colab": {
          "base_uri": "https://localhost:8080/",
          "height": 160
        },
        "outputId": "e351f284-4b52-47d1-8bdc-fdf2d0d35a99"
      },
      "source": [
        "# Super-Convergence: Very Fast Training of Neural Networks Using Large Learning Rates\n",
        "learner.fit_one_cycle(5, lr_max=3e-2)"
      ],
      "execution_count": null,
      "outputs": [
        {
          "output_type": "display_data",
          "data": {
            "text/plain": [
              "<IPython.core.display.HTML object>"
            ],
            "text/html": [
              "\n",
              "<style>\n",
              "    /* Turns off some styling */\n",
              "    progress {\n",
              "        /* gets rid of default border in Firefox and Opera. */\n",
              "        border: none;\n",
              "        /* Needs to be in here for Safari polyfill so background images work as expected. */\n",
              "        background-size: auto;\n",
              "    }\n",
              "    progress:not([value]), progress:not([value])::-webkit-progress-bar {\n",
              "        background: repeating-linear-gradient(45deg, #7e7e7e, #7e7e7e 10px, #5c5c5c 10px, #5c5c5c 20px);\n",
              "    }\n",
              "    .progress-bar-interrupted, .progress-bar-interrupted::-webkit-progress-bar {\n",
              "        background: #F44336;\n",
              "    }\n",
              "</style>\n"
            ]
          },
          "metadata": {}
        },
        {
          "output_type": "display_data",
          "data": {
            "text/plain": [
              "<IPython.core.display.HTML object>"
            ],
            "text/html": [
              "\n",
              "    <div>\n",
              "      <progress value='2' class='' max='5' style='width:300px; height:20px; vertical-align: middle;'></progress>\n",
              "      40.00% [2/5 02:18&lt;03:27]\n",
              "    </div>\n",
              "    \n",
              "<table border=\"1\" class=\"dataframe\">\n",
              "  <thead>\n",
              "    <tr style=\"text-align: left;\">\n",
              "      <th>epoch</th>\n",
              "      <th>train_loss</th>\n",
              "      <th>valid_loss</th>\n",
              "      <th>accuracy</th>\n",
              "      <th><lambda></th>\n",
              "      <th>time</th>\n",
              "    </tr>\n",
              "  </thead>\n",
              "  <tbody>\n",
              "    <tr>\n",
              "      <td>0</td>\n",
              "      <td>0.933142</td>\n",
              "      <td>1.611326</td>\n",
              "      <td>0.423000</td>\n",
              "      <td>0.800400</td>\n",
              "      <td>01:09</td>\n",
              "    </tr>\n",
              "    <tr>\n",
              "      <td>1</td>\n",
              "      <td>0.837908</td>\n",
              "      <td>1.016474</td>\n",
              "      <td>0.534100</td>\n",
              "      <td>0.890700</td>\n",
              "      <td>01:08</td>\n",
              "    </tr>\n",
              "  </tbody>\n",
              "</table><p>\n",
              "\n",
              "    <div>\n",
              "      <progress value='204' class='' max='937' style='width:300px; height:20px; vertical-align: middle;'></progress>\n",
              "      21.77% [204/937 00:15&lt;00:55 0.8139]\n",
              "    </div>\n",
              "    "
            ]
          },
          "metadata": {}
        }
      ]
    },
    {
      "cell_type": "markdown",
      "metadata": {
        "id": "tY8O755h2U4s"
      },
      "source": [
        "> Important: We were able to achieve 76.2% top-1 accuracy, and 96.8% top-2 accuracy after just 5 epochs! Now we want to grab our `model` from our `Learner`, and save the body of it!"
      ]
    },
    {
      "cell_type": "markdown",
      "metadata": {
        "id": "LLe9nXNH2U4s"
      },
      "source": [
        "> Note: Our `model` has two components, the *body* and the *head*. `model` is a list of size 2, where `model[0]` is the body, and `model[1]` is the head!"
      ]
    },
    {
      "cell_type": "code",
      "metadata": {
        "ExecuteTime": {
          "end_time": "2021-03-10T23:32:22.581345Z",
          "start_time": "2021-03-10T23:32:22.577015Z"
        },
        "id": "14RbQ-1e2U4s"
      },
      "source": [
        "# Access the body of our model\n",
        "trained_body = learner.model[0]\n",
        "trained_body"
      ],
      "execution_count": null,
      "outputs": []
    },
    {
      "cell_type": "markdown",
      "metadata": {
        "id": "yRuZwSGO2U4t"
      },
      "source": [
        "> Tip: To save a model in PyTorch, save it's `state_dict` function! You can use `model.load_state_dict` to re-load the weights."
      ]
    },
    {
      "cell_type": "code",
      "metadata": {
        "ExecuteTime": {
          "end_time": "2021-03-10T23:32:22.589471Z",
          "start_time": "2021-03-10T23:32:22.583958Z"
        },
        "id": "aAldZ1pm2U4t"
      },
      "source": [
        "# Make save directory if it doesn't exist\n",
        "save_path = Path('rotation_cps/')\n",
        "if not save_path.exists():\n",
        "    save_path.mkdir()\n",
        "\n",
        "# Save the rotation-pretraining weights of our model body\n",
        "torch.save(trained_body.state_dict(), save_path/'rot_pretrained.pt')"
      ],
      "execution_count": null,
      "outputs": []
    },
    {
      "cell_type": "markdown",
      "metadata": {
        "id": "0zuqcSEU2U4u"
      },
      "source": [
        "# Original Classification Data"
      ]
    },
    {
      "cell_type": "markdown",
      "metadata": {
        "id": "-tUMRerC2U4v"
      },
      "source": [
        "Now that we have pretrained our model on the rotation prediction task, we want to switch over to the original labeled data for the classification task."
      ]
    },
    {
      "cell_type": "markdown",
      "metadata": {
        "id": "R68gOlNR2U4v"
      },
      "source": [
        "> Important: We're only using 180 samples for training!"
      ]
    },
    {
      "cell_type": "code",
      "metadata": {
        "ExecuteTime": {
          "end_time": "2021-03-10T23:32:22.635149Z",
          "start_time": "2021-03-10T23:32:22.591062Z"
        },
        "id": "zS-T6FgC2U4v"
      },
      "source": [
        "# Use 0.3% classification labeled data for training!\n",
        "# Use 100% classification labeled data for validation!\n",
        "train_ds = Custom_Dataset_MNIST('data/MNIST/raw/train-images-idx3-ubyte', pct=0.003, classification=True)\n",
        "valid_ds = Custom_Dataset_MNIST('data/MNIST/raw/t10k-images-idx3-ubyte', pct=1.0, classification=True)\n",
        "print('{0} Training Samples | {1} Validation Samples'.format(len(train_ds), len(valid_ds)))"
      ],
      "execution_count": null,
      "outputs": []
    },
    {
      "cell_type": "markdown",
      "metadata": {
        "id": "nlvssaus2U4w"
      },
      "source": [
        "> Note: Notice the labels now correspond to the digit class!"
      ]
    },
    {
      "cell_type": "code",
      "metadata": {
        "ExecuteTime": {
          "end_time": "2021-03-10T23:32:23.187943Z",
          "start_time": "2021-03-10T23:32:22.636841Z"
        },
        "id": "0vdhKMIi2U4w"
      },
      "source": [
        "from fastai.data.core import DataLoaders\n",
        "dls = DataLoaders.from_dsets(train_ds, valid_ds).cuda()\n",
        "dls.show_batch = train_ds.show_batch\n",
        "\n",
        "# We have 10 classes! One for each digit label!\n",
        "dls.c = 10\n",
        "\n",
        "dls.show_batch()"
      ],
      "execution_count": null,
      "outputs": []
    },
    {
      "cell_type": "markdown",
      "metadata": {
        "id": "JQMCj52v2U4x"
      },
      "source": [
        "# FastAI Vision Learner [Transfer-Classification]"
      ]
    },
    {
      "cell_type": "markdown",
      "metadata": {
        "id": "GvBQzES52U41"
      },
      "source": [
        "Here we will toggle `pretrained=True` to transfer our rotation prediction features, and train on the original 180 labeled data."
      ]
    },
    {
      "cell_type": "code",
      "metadata": {
        "ExecuteTime": {
          "end_time": "2021-03-10T23:32:23.198800Z",
          "start_time": "2021-03-10T23:32:23.189837Z"
        },
        "id": "JdBtxFNs2U41"
      },
      "source": [
        "#collapse-show\n",
        "classification_head = create_head(nf=32, n_out=10, lin_ftrs=[])\n",
        "classification_head"
      ],
      "execution_count": null,
      "outputs": []
    },
    {
      "cell_type": "markdown",
      "metadata": {
        "id": "mE73c3hy2U42"
      },
      "source": [
        "> Note: We have `n_out=10` because of the 10 different digit classes"
      ]
    },
    {
      "cell_type": "code",
      "metadata": {
        "ExecuteTime": {
          "end_time": "2021-03-10T23:32:23.217156Z",
          "start_time": "2021-03-10T23:32:23.201091Z"
        },
        "id": "-MSuUiH-2U43"
      },
      "source": [
        "#collapse-show\n",
        "# pretrained=True will load the saved rotation pretraining weights into our model's body!\n",
        "# See simple_arch() function definition for more details!\n",
        "learner = cnn_learner(dls,\n",
        "                      simple_arch,\n",
        "                      pretrained=True,\n",
        "                      loss_func=CrossEntropyLossFlat(),\n",
        "                      custom_head=classification_head,\n",
        "                      metrics=[accuracy])\n",
        "\n",
        "learner.model"
      ],
      "execution_count": null,
      "outputs": []
    },
    {
      "cell_type": "markdown",
      "metadata": {
        "id": "cPgfZ2qj2U44"
      },
      "source": [
        "> Tip: Freezing a model's body after transferring the weights over, allows the new head to get *calibrated* with the rest of the model!"
      ]
    },
    {
      "cell_type": "code",
      "metadata": {
        "ExecuteTime": {
          "end_time": "2021-03-10T23:32:23.221977Z",
          "start_time": "2021-03-10T23:32:23.218810Z"
        },
        "id": "cUiWSK6i2U44"
      },
      "source": [
        "learner.freeze()"
      ],
      "execution_count": null,
      "outputs": []
    },
    {
      "cell_type": "markdown",
      "metadata": {
        "id": "Pq73vG6a2U45"
      },
      "source": [
        "> Note: Looking at the model summary, we can see that the model is frozen up to the new head! Good!"
      ]
    },
    {
      "cell_type": "code",
      "metadata": {
        "ExecuteTime": {
          "end_time": "2021-03-10T23:32:23.254536Z",
          "start_time": "2021-03-10T23:32:23.223686Z"
        },
        "scrolled": true,
        "id": "41m2MCnS2U45"
      },
      "source": [
        "learner.summary()"
      ],
      "execution_count": null,
      "outputs": []
    },
    {
      "cell_type": "code",
      "metadata": {
        "ExecuteTime": {
          "end_time": "2021-03-10T23:32:45.606872Z",
          "start_time": "2021-03-10T23:32:23.256375Z"
        },
        "scrolled": true,
        "id": "YtdR2_d02U46"
      },
      "source": [
        "learner.lr_find()"
      ],
      "execution_count": null,
      "outputs": []
    },
    {
      "cell_type": "code",
      "metadata": {
        "ExecuteTime": {
          "end_time": "2021-03-10T23:33:02.517996Z",
          "start_time": "2021-03-10T23:32:45.608826Z"
        },
        "id": "K3_iAr1u2U46"
      },
      "source": [
        "learner.fit_one_cycle(10, lr_max=3e-2)"
      ],
      "execution_count": null,
      "outputs": []
    },
    {
      "cell_type": "markdown",
      "metadata": {
        "id": "9Hs96TNk2U46"
      },
      "source": [
        "> Tip: Unfreeze the model after calibrating the new head with the transferred body, and train a little more!"
      ]
    },
    {
      "cell_type": "code",
      "metadata": {
        "ExecuteTime": {
          "end_time": "2021-03-10T23:33:02.523201Z",
          "start_time": "2021-03-10T23:33:02.520009Z"
        },
        "id": "61_M0IAL2U47"
      },
      "source": [
        "learner.unfreeze()"
      ],
      "execution_count": null,
      "outputs": []
    },
    {
      "cell_type": "code",
      "metadata": {
        "ExecuteTime": {
          "end_time": "2021-03-10T23:33:02.554162Z",
          "start_time": "2021-03-10T23:33:02.524646Z"
        },
        "id": "lopS7Saz2U47"
      },
      "source": [
        "learner.summary()"
      ],
      "execution_count": null,
      "outputs": []
    },
    {
      "cell_type": "code",
      "metadata": {
        "ExecuteTime": {
          "end_time": "2021-03-10T23:33:24.154098Z",
          "start_time": "2021-03-10T23:33:02.555750Z"
        },
        "id": "PvOuj9R72U48"
      },
      "source": [
        "learner.lr_find()"
      ],
      "execution_count": null,
      "outputs": []
    },
    {
      "cell_type": "code",
      "metadata": {
        "ExecuteTime": {
          "end_time": "2021-03-10T23:33:34.334222Z",
          "start_time": "2021-03-10T23:33:24.155898Z"
        },
        "id": "KCXAB1XM2U48"
      },
      "source": [
        "learner.fine_tune(5, base_lr=3e-2)"
      ],
      "execution_count": null,
      "outputs": []
    },
    {
      "cell_type": "markdown",
      "metadata": {
        "id": "RbCN05Jb2U4-"
      },
      "source": [
        "> Important: We were able to get decent accuracy using transfer learning from our pretraining on the rotation prediction task!"
      ]
    },
    {
      "cell_type": "markdown",
      "metadata": {
        "id": "-IEJwEUa2U4-"
      },
      "source": [
        "# FastAI Vision Learner [From Scratch-Classification]\n",
        "\n"
      ]
    },
    {
      "cell_type": "markdown",
      "metadata": {
        "id": "PvG8vjYe2U4_"
      },
      "source": [
        "Here we train a model from scratch on the original 180 labeled data."
      ]
    },
    {
      "cell_type": "code",
      "metadata": {
        "ExecuteTime": {
          "end_time": "2021-03-10T23:33:34.348812Z",
          "start_time": "2021-03-10T23:33:34.339252Z"
        },
        "id": "Tin__uTr2U5A"
      },
      "source": [
        "#collapse-show\n",
        "# pretrained=False, Create the same model as before, but without using the rotation pretraining weights!\n",
        "learner = cnn_learner(dls,\n",
        "                      simple_arch,\n",
        "                      pretrained=False,\n",
        "                      loss_func=CrossEntropyLossFlat(),\n",
        "                      custom_head=classification_head,\n",
        "                      metrics=[accuracy])\n",
        "\n",
        "learner.model"
      ],
      "execution_count": null,
      "outputs": []
    },
    {
      "cell_type": "code",
      "metadata": {
        "ExecuteTime": {
          "end_time": "2021-03-10T23:33:34.380621Z",
          "start_time": "2021-03-10T23:33:34.350685Z"
        },
        "scrolled": true,
        "id": "NpXybfrD2U5B"
      },
      "source": [
        "learner.summary()"
      ],
      "execution_count": null,
      "outputs": []
    },
    {
      "cell_type": "code",
      "metadata": {
        "ExecuteTime": {
          "end_time": "2021-03-10T23:33:55.922396Z",
          "start_time": "2021-03-10T23:33:34.382215Z"
        },
        "scrolled": true,
        "id": "9oeHIJw92U5B"
      },
      "source": [
        "learner.lr_find()"
      ],
      "execution_count": null,
      "outputs": []
    },
    {
      "cell_type": "code",
      "metadata": {
        "ExecuteTime": {
          "end_time": "2021-03-10T23:34:12.533913Z",
          "start_time": "2021-03-10T23:33:55.924291Z"
        },
        "id": "TLz-WN3j2U5D"
      },
      "source": [
        "learner.fit_one_cycle(20, lr_max=3e-2)"
      ],
      "execution_count": null,
      "outputs": []
    },
    {
      "cell_type": "markdown",
      "metadata": {
        "id": "fXflCqeX2U5E"
      },
      "source": [
        "> Important: We were able to only get subpar accuracy with training from scratch"
      ]
    }
  ]
}
