{
  "metadata": {
    "kernelspec": {
      "language": "python",
      "display_name": "Python 3",
      "name": "python3"
    },
    "language_info": {
      "pygments_lexer": "ipython3",
      "nbconvert_exporter": "python",
      "version": "3.6.4",
      "file_extension": ".py",
      "codemirror_mode": {
        "name": "ipython",
        "version": 3
      },
      "name": "python",
      "mimetype": "text/x-python"
    },
    "colab": {
      "name": "gtsrb-cnn-98-test-accuracy_hj_jy_yh_hj.ipynb",
      "provenance": [],
      "collapsed_sections": [
        "-uXaT1OjeyTQ"
      ],
      "machine_shape": "hm",
      "include_colab_link": true
    },
    "accelerator": "GPU",
    "gpuClass": "standard"
  },
  "nbformat_minor": 0,
  "nbformat": 4,
  "cells": [
    {
      "cell_type": "markdown",
      "metadata": {
        "id": "view-in-github",
        "colab_type": "text"
      },
      "source": [
        "<a href=\"https://colab.research.google.com/github/JHyunjun/SNU/blob/main/Team1_final_ensemble(CNN/VGG16/RestNet50).ipynb\" target=\"_parent\"><img src=\"https://colab.research.google.com/assets/colab-badge.svg\" alt=\"Open In Colab\"/></a>"
      ]
    },
    {
      "cell_type": "markdown",
      "source": [
        "# *Traffic Sign Recognizer - 99% accuracy*"
      ],
      "metadata": {
        "id": "vXZZkqWvnIiR"
      }
    },
    {
      "cell_type": "markdown",
      "source": [
        "## Importing Required Libraries"
      ],
      "metadata": {
        "id": "Z-JIfPEonIiU"
      }
    },
    {
      "cell_type": "code",
      "source": [
        "import numpy as np\n",
        "import pandas as pd\n",
        "import os\n",
        "import cv2\n",
        "import matplotlib.pyplot as plt\n",
        "import tensorflow as tf\n",
        "from tensorflow import keras\n",
        "from PIL import Image\n",
        "from sklearn.model_selection import train_test_split\n",
        "from tensorflow.keras.preprocessing.image import ImageDataGenerator\n",
        "from tensorflow.keras.optimizers import Adam\n",
        "from sklearn.metrics import accuracy_score\n",
        "np.random.seed(42)\n",
        "\n",
        "from matplotlib import style\n",
        "style.use('fivethirtyeight')"
      ],
      "metadata": {
        "_uuid": "8f2839f25d086af736a60e9eeb907d3b93b6e0e5",
        "_cell_guid": "b1076dfc-b9ad-4769-8c92-a6c4dae69d19",
        "trusted": true,
        "id": "3SHLjA0HnIiU"
      },
      "execution_count": 2,
      "outputs": []
    },
    {
      "cell_type": "code",
      "source": [
        "from google.colab import drive\n",
        "drive.mount('/content/drive')"
      ],
      "metadata": {
        "colab": {
          "base_uri": "https://localhost:8080/"
        },
        "id": "oXHv9RY-oih0",
        "outputId": "c2024960-9c94-4268-a915-5d574d664731"
      },
      "execution_count": 3,
      "outputs": [
        {
          "output_type": "stream",
          "name": "stdout",
          "text": [
            "Drive already mounted at /content/drive; to attempt to forcibly remount, call drive.mount(\"/content/drive\", force_remount=True).\n"
          ]
        }
      ]
    },
    {
      "cell_type": "code",
      "source": [
        "%cd /content/drive/MyDrive/Colab Notebooks/snu/project/data"
      ],
      "metadata": {
        "colab": {
          "base_uri": "https://localhost:8080/"
        },
        "id": "KkFJ8AFdeahN",
        "outputId": "2aba04ec-c805-4898-fb80-c92ecb1e8ed2"
      },
      "execution_count": 4,
      "outputs": [
        {
          "output_type": "stream",
          "name": "stdout",
          "text": [
            "/content/drive/MyDrive/Colab Notebooks/snu/project/data\n"
          ]
        }
      ]
    },
    {
      "cell_type": "markdown",
      "source": [
        "## unzip"
      ],
      "metadata": {
        "id": "-uXaT1OjeyTQ"
      }
    },
    {
      "cell_type": "code",
      "source": [
        "'''\n",
        "path_to_zip_file = '/content/drive/MyDrive/Colab Notebooks/snu/project/data.zip'\n",
        "directory_to_extract_to = '/content/drive/MyDrive/Colab Notebooks/snu/project/data'\n",
        "\n",
        "import zipfile\n",
        "with zipfile.ZipFile(path_to_zip_file,'r') as zip_ref:\n",
        "  zip_ref.extractall(directory_to_extract_to)\n",
        "'''"
      ],
      "metadata": {
        "colab": {
          "base_uri": "https://localhost:8080/",
          "height": 0
        },
        "id": "21FJvrRrn1ZK",
        "outputId": "8aa87df9-c90a-40c5-e1e8-20e694293b88"
      },
      "execution_count": 5,
      "outputs": [
        {
          "output_type": "execute_result",
          "data": {
            "text/plain": [
              "\"\\npath_to_zip_file = '/content/drive/MyDrive/Colab Notebooks/snu/project/data.zip'\\ndirectory_to_extract_to = '/content/drive/MyDrive/Colab Notebooks/snu/project/data'\\n\\nimport zipfile\\nwith zipfile.ZipFile(path_to_zip_file,'r') as zip_ref:\\n  zip_ref.extractall(directory_to_extract_to)\\n\""
            ],
            "application/vnd.google.colaboratory.intrinsic+json": {
              "type": "string"
            }
          },
          "metadata": {},
          "execution_count": 5
        }
      ]
    },
    {
      "cell_type": "markdown",
      "source": [
        "## Assigning Path for Dataset"
      ],
      "metadata": {
        "id": "GISQNGJYnIiV"
      }
    },
    {
      "cell_type": "code",
      "source": [
        "data_dir = './data'\n",
        "data_dir_test = './data/'\n",
        "\n",
        "train_path = './data/Train'\n",
        "test_path = './data/Test'\n",
        "\n",
        "# Resizing the images to 30x30x3\n",
        "IMG_HEIGHT = 40\n",
        "IMG_WIDTH = 40\n",
        "channels = 3"
      ],
      "metadata": {
        "trusted": true,
        "id": "7Smx0pElnIiW"
      },
      "execution_count": 6,
      "outputs": []
    },
    {
      "cell_type": "markdown",
      "source": [
        "## Finding Total Classes"
      ],
      "metadata": {
        "id": "UfRo1q12nIiW"
      }
    },
    {
      "cell_type": "code",
      "source": [
        "NUM_CATEGORIES = len(os.listdir(train_path))\n",
        "NUM_CATEGORIES"
      ],
      "metadata": {
        "trusted": true,
        "colab": {
          "base_uri": "https://localhost:8080/"
        },
        "id": "dWRvrqh6nIiX",
        "outputId": "3e172c04-9dd9-4b1a-9f4a-a34e6cc5cd0d"
      },
      "execution_count": 7,
      "outputs": [
        {
          "output_type": "execute_result",
          "data": {
            "text/plain": [
              "43"
            ]
          },
          "metadata": {},
          "execution_count": 7
        }
      ]
    },
    {
      "cell_type": "code",
      "source": [
        "# Label Overview\n",
        "classes = { 0:'Speed limit (20km/h)',\n",
        "            1:'Speed limit (30km/h)', \n",
        "            2:'Speed limit (50km/h)', \n",
        "            3:'Speed limit (60km/h)', \n",
        "            4:'Speed limit (70km/h)', \n",
        "            5:'Speed limit (80km/h)', \n",
        "            6:'End of speed limit (80km/h)', \n",
        "            7:'Speed limit (100km/h)', \n",
        "            8:'Speed limit (120km/h)', \n",
        "            9:'No passing', \n",
        "            10:'No passing veh over 3.5 tons', \n",
        "            11:'Right-of-way at intersection', \n",
        "            12:'Priority road', \n",
        "            13:'Yield', \n",
        "            14:'Stop', \n",
        "            15:'No vehicles', \n",
        "            16:'Veh > 3.5 tons prohibited', \n",
        "            17:'No entry', \n",
        "            18:'General caution', \n",
        "            19:'Dangerous curve left', \n",
        "            20:'Dangerous curve right', \n",
        "            21:'Double curve', \n",
        "            22:'Bumpy road', \n",
        "            23:'Slippery road', \n",
        "            24:'Road narrows on the right', \n",
        "            25:'Road work', \n",
        "            26:'Traffic signals', \n",
        "            27:'Pedestrians', \n",
        "            28:'Children crossing', \n",
        "            29:'Bicycles crossing', \n",
        "            30:'Beware of ice/snow',\n",
        "            31:'Wild animals crossing', \n",
        "            32:'End speed + passing limits', \n",
        "            33:'Turn right ahead', \n",
        "            34:'Turn left ahead', \n",
        "            35:'Ahead only', \n",
        "            36:'Go straight or right', \n",
        "            37:'Go straight or left', \n",
        "            38:'Keep right', \n",
        "            39:'Keep left', \n",
        "            40:'Roundabout mandatory', \n",
        "            41:'End of no passing', \n",
        "            42:'End no passing veh > 3.5 tons' }"
      ],
      "metadata": {
        "trusted": true,
        "id": "nVelM6v4nIiX"
      },
      "execution_count": 8,
      "outputs": []
    },
    {
      "cell_type": "markdown",
      "source": [
        "## Visualizing The Dataset"
      ],
      "metadata": {
        "id": "pbggOhNznIiZ"
      }
    },
    {
      "cell_type": "code",
      "source": [
        "folders = os.listdir(train_path)\n",
        "\n",
        "train_number = []\n",
        "class_num = []\n",
        "\n",
        "for folder in folders:\n",
        "    train_files = os.listdir(train_path + '/' + folder)\n",
        "    train_number.append(len(train_files))\n",
        "    class_num.append(classes[int(folder)])\n",
        "    \n",
        "# Sorting the dataset on the basis of number of images in each class\n",
        "zipped_lists = zip(train_number, class_num)\n",
        "sorted_pairs = sorted(zipped_lists)\n",
        "tuples = zip(*sorted_pairs)\n",
        "train_number, class_num = [ list(tuple) for tuple in  tuples]\n",
        "\n",
        "# Plotting the number of images in each class\n",
        "plt.figure(figsize=(21,10))  \n",
        "plt.bar(class_num, train_number)\n",
        "plt.xticks(class_num, rotation='vertical')\n",
        "plt.show()"
      ],
      "metadata": {
        "_uuid": "d629ff2d2480ee46fbb7e2d37f6b5fab8052498a",
        "_cell_guid": "79c7e3d0-c299-4dcb-8224-4455121ee9b0",
        "trusted": true,
        "colab": {
          "base_uri": "https://localhost:8080/",
          "height": 571
        },
        "id": "rH9QblQWnIiZ",
        "outputId": "74476bdd-6256-47a3-a29f-925a3499d76a"
      },
      "execution_count": 9,
      "outputs": [
        {
          "output_type": "display_data",
          "data": {
            "text/plain": [
              "<Figure size 1512x720 with 1 Axes>"
            ],
            "image/png": "[encoded data removed]"
          },
          "metadata": {}
        }
      ]
    },
    {
      "cell_type": "markdown",
      "source": [
        "## Collecting the Training Data"
      ],
      "metadata": {
        "id": "7N_Z5dpWnIia"
      }
    },
    {
      "cell_type": "code",
      "source": [
        "image_data = []\n",
        "image_labels = []\n",
        "\n",
        "for i in range(NUM_CATEGORIES):\n",
        "    path = train_path + '/' + str(i)\n",
        "    images = os.listdir(path)\n",
        "\n",
        "    for img in images:\n",
        "        try:\n",
        "            image = cv2.imread(path + '/' + img)\n",
        "            image_fromarray = Image.fromarray(image, 'RGB')\n",
        "            resize_image = image_fromarray.resize((IMG_HEIGHT, IMG_WIDTH))\n",
        "            image_data.append(np.array(resize_image))\n",
        "            image_labels.append(i)\n",
        "        except:\n",
        "            print(\"Error in \" + img)\n",
        "\n",
        "# Changing the list to numpy array\n",
        "image_data = np.array(image_data)\n",
        "image_labels = np.array(image_labels)\n",
        "\n",
        "print(image_data.shape, image_labels.shape)"
      ],
      "metadata": {
        "trusted": true,
        "colab": {
          "base_uri": "https://localhost:8080/"
        },
        "id": "0foROekwnIib",
        "outputId": "b546a75b-c6bb-40df-cb8b-6d03890419e2"
      },
      "execution_count": 10,
      "outputs": [
        {
          "output_type": "stream",
          "name": "stdout",
          "text": [
            "(26010, 40, 40, 3) (26010,)\n"
          ]
        }
      ]
    },
    {
      "cell_type": "markdown",
      "source": [
        "## Shuffling the training data"
      ],
      "metadata": {
        "id": "tXnadaHVnIib"
      }
    },
    {
      "cell_type": "code",
      "source": [
        "'''\n",
        "shuffle_indexes = np.arange(image_data.shape[0])\n",
        "np.random.shuffle(shuffle_indexes)\n",
        "image_data = image_data[shuffle_indexes]\n",
        "image_labels = image_labels[shuffle_indexes]\n",
        "'''"
      ],
      "metadata": {
        "trusted": true,
        "id": "LVou5SLnnIib",
        "colab": {
          "base_uri": "https://localhost:8080/",
          "height": 54
        },
        "outputId": "b10c95de-7e39-4711-908b-13f197a46b65"
      },
      "execution_count": 11,
      "outputs": [
        {
          "output_type": "execute_result",
          "data": {
            "text/plain": [
              "'\\nshuffle_indexes = np.arange(image_data.shape[0])\\nnp.random.shuffle(shuffle_indexes)\\nimage_data = image_data[shuffle_indexes]\\nimage_labels = image_labels[shuffle_indexes]\\n'"
            ],
            "application/vnd.google.colaboratory.intrinsic+json": {
              "type": "string"
            }
          },
          "metadata": {},
          "execution_count": 11
        }
      ]
    },
    {
      "cell_type": "markdown",
      "source": [
        "## Splitting the data into train and validation set"
      ],
      "metadata": {
        "id": "gTRP9KVnnIib"
      }
    },
    {
      "cell_type": "code",
      "source": [
        "'''\n",
        "X_train, X_val, y_train, y_val = train_test_split(image_data, image_labels, test_size=0.3, random_state=42, shuffle=True)\n",
        "\n",
        "X_train = X_train/255 \n",
        "X_val = X_val/255\n",
        "\n",
        "print(\"X_train.shape\", X_train.shape)\n",
        "print(\"X_valid.shape\", X_val.shape)\n",
        "print(\"y_train.shape\", y_train.shape)\n",
        "print(\"y_valid.shape\", y_val.shape)\n",
        "'''"
      ],
      "metadata": {
        "trusted": true,
        "colab": {
          "base_uri": "https://localhost:8080/",
          "height": 72
        },
        "id": "Ys5LHJxunIic",
        "outputId": "43a8f30b-320e-4952-9233-2d4ce73d1904"
      },
      "execution_count": 12,
      "outputs": [
        {
          "output_type": "execute_result",
          "data": {
            "text/plain": [
              "'\\nX_train, X_val, y_train, y_val = train_test_split(image_data, image_labels, test_size=0.3, random_state=42, shuffle=True)\\n\\nX_train = X_train/255 \\nX_val = X_val/255\\n\\nprint(\"X_train.shape\", X_train.shape)\\nprint(\"X_valid.shape\", X_val.shape)\\nprint(\"y_train.shape\", y_train.shape)\\nprint(\"y_valid.shape\", y_val.shape)\\n'"
            ],
            "application/vnd.google.colaboratory.intrinsic+json": {
              "type": "string"
            }
          },
          "metadata": {},
          "execution_count": 12
        }
      ]
    },
    {
      "cell_type": "markdown",
      "source": [
        "## SMOTE"
      ],
      "metadata": {
        "id": "XBdNyYjShExI"
      }
    },
    {
      "cell_type": "code",
      "source": [
        "from imblearn.over_sampling import SMOTE\n",
        "\n",
        "data = image_data\n",
        "labels = image_labels\n",
        "\n",
        "def smote(data, labels): \n",
        "  \n",
        "  X = data.reshape(len(data), -1)\n",
        "  y = labels\n",
        "  smt = SMOTE(sampling_strategy='not majority', k_neighbors=5, n_jobs=-1)\n",
        "  X_smote, y_smote = smt.fit_resample(X, y)\n",
        "  X_smote = X_smote.reshape((-1, )+ data.shape[1:]) \n",
        "\n",
        "  return  X_smote, y_smote"
      ],
      "metadata": {
        "id": "u2pzvkjihEJs"
      },
      "execution_count": 13,
      "outputs": []
    },
    {
      "cell_type": "code",
      "source": [
        "data, labels = smote(data, labels)"
      ],
      "metadata": {
        "id": "1S-dzSTGhOdn"
      },
      "execution_count": 14,
      "outputs": []
    },
    {
      "cell_type": "markdown",
      "source": [
        "## One hot encoding the labels"
      ],
      "metadata": {
        "id": "tVVaXDBMnIic"
      }
    },
    {
      "cell_type": "code",
      "source": [
        "labels = keras.utils.to_categorical(labels, NUM_CATEGORIES)\n",
        "\n",
        "print(labels.shape)"
      ],
      "metadata": {
        "trusted": true,
        "colab": {
          "base_uri": "https://localhost:8080/"
        },
        "id": "nrm7YG6KnIic",
        "outputId": "cd6e08d4-0378-456a-c4c6-74336dfcab5e"
      },
      "execution_count": 15,
      "outputs": [
        {
          "output_type": "stream",
          "name": "stdout",
          "text": [
            "(54180, 43)\n"
          ]
        }
      ]
    },
    {
      "cell_type": "markdown",
      "source": [
        "## Augmenting the data and training the model"
      ],
      "metadata": {
        "id": "DG4XDXJknIid"
      }
    },
    {
      "cell_type": "markdown",
      "source": [
        "## Making the model"
      ],
      "metadata": {
        "id": "xKRmhveonIic"
      }
    },
    {
      "cell_type": "code",
      "source": [
        "aug = ImageDataGenerator(\n",
        "    rotation_range = 30,\n",
        "    zoom_range=0.15,\n",
        "    width_shift_range=0.1,\n",
        "    height_shift_range=0.1,\n",
        "    shear_range=0.15,\n",
        "    horizontal_flip=False,\n",
        "    vertical_flip=False,\n",
        "    fill_mode=\"nearest\")"
      ],
      "metadata": {
        "trusted": true,
        "id": "fP56oQBZnIid"
      },
      "execution_count": 16,
      "outputs": []
    },
    {
      "cell_type": "code",
      "source": [
        "from tensorflow.keras.layers import GlobalAveragePooling2D, Dense\n",
        "from tensorflow.keras.models import Model\n",
        "from tensorflow.keras.applications import VGG16\n",
        "from tensorflow.keras.applications.resnet_v2 import ResNet50V2\n",
        "from sklearn.ensemble import RandomForestClassifier, VotingClassifier #Random Forest\n",
        "\n",
        "def build_model(dr):\n",
        "  \n",
        "    model = keras.models.Sequential([    \n",
        "        keras.layers.Conv2D(filters=16, kernel_size=(3,3), activation='relu', input_shape=(IMG_HEIGHT,IMG_WIDTH,channels)),\n",
        "        keras.layers.Conv2D(filters=32, kernel_size=(3,3), activation='relu'),\n",
        "        keras.layers.MaxPool2D(pool_size=(2, 2)),\n",
        "        keras.layers.BatchNormalization(axis=-1),\n",
        "        \n",
        "        keras.layers.Conv2D(filters=64, kernel_size=(3,3), activation='relu'),\n",
        "        keras.layers.Conv2D(filters=128, kernel_size=(3,3), activation='relu'),\n",
        "        keras.layers.MaxPool2D(pool_size=(2, 2)),\n",
        "        keras.layers.BatchNormalization(axis=-1),\n",
        "        \n",
        "        keras.layers.Flatten(),\n",
        "        keras.layers.Dense(512, activation='relu'),\n",
        "        keras.layers.BatchNormalization(),\n",
        "        keras.layers.Dropout(rate=dr),\n",
        "        \n",
        "        keras.layers.Dense(43, activation='softmax')\n",
        "    ])\n",
        "    model2 = keras.models.Sequential([    \n",
        "        VGG16(input_shape=(IMG_HEIGHT, IMG_WIDTH, channels), include_top=False, weights='imagenet'),\n",
        "        keras.layers.GlobalAveragePooling2D(),\n",
        "        keras.layers.Dense(64, activation='relu'),\n",
        "        keras.layers.BatchNormalization(),\n",
        "        keras.layers.Dropout(rate=dr),\n",
        "        keras.layers.Dense(43, activation='softmax')\n",
        "    ])\n",
        "\n",
        "    model3= keras.models.Sequential([\n",
        "        ResNet50V2(\n",
        "           include_top=None,\n",
        "           weights='imagenet',\n",
        "           input_tensor=None,\n",
        "           input_shape=None,\n",
        "           pooling=None,\n",
        "           classes=256,\n",
        "           classifier_activation='softmax'),\n",
        "        keras.layers.GlobalAveragePooling2D(),\n",
        "        keras.layers.Dense(64, activation='relu'),\n",
        "        keras.layers.BatchNormalization(),\n",
        "        keras.layers.Dropout(rate=dr),\n",
        "        keras.layers.Dense(43, activation='softmax')\n",
        "    ])\n",
        "\n",
        "    return model3"
      ],
      "metadata": {
        "trusted": true,
        "id": "DXPhFy3XnIic"
      },
      "execution_count": 17,
      "outputs": []
    },
    {
      "cell_type": "markdown",
      "source": [
        "## Result"
      ],
      "metadata": {
        "id": "8YIN1bjaj6yW"
      }
    },
    {
      "cell_type": "code",
      "source": [
        "def result_record(record):\n",
        "    filename = './result/summary_3.csv'\n",
        "    col = ['index','lr','dr','bs','stop_epoch','loss','metric']\n",
        "    \n",
        "    if os.path.exists(filename):\n",
        "        summary = pd.read_csv(filename)\n",
        "    else:\n",
        "        summary = pd.DataFrame(columns=col)\n",
        "    \n",
        "    summary = summary.append(record, ignore_index=True)\n",
        "    summary.to_csv(filename)"
      ],
      "metadata": {
        "id": "Pv8nhpwuj5yn"
      },
      "execution_count": 18,
      "outputs": []
    },
    {
      "cell_type": "markdown",
      "source": [
        "## metric"
      ],
      "metadata": {
        "id": "PxUSs00hoZzb"
      }
    },
    {
      "cell_type": "code",
      "source": [
        "from keras import backend as K\n",
        "\n",
        "def f1_m(y_true, y_pred):\n",
        "    true_positives = K.sum(K.round(K.clip(y_true * y_pred, 0, 1)))\n",
        "    possible_positives = K.sum(K.round(K.clip(y_true, 0, 1)))\n",
        "    recall = true_positives / (possible_positives + K.epsilon())\n",
        "\n",
        "    true_positives = K.sum(K.round(K.clip(y_true * y_pred, 0, 1)))\n",
        "    predicted_positives = K.sum(K.round(K.clip(y_pred, 0, 1)))\n",
        "    precision = true_positives / (predicted_positives + K.epsilon())\n",
        "\n",
        "    return 2*((precision*recall)/(precision+recall+K.epsilon()))"
      ],
      "metadata": {
        "id": "rtydklu3oZNn"
      },
      "execution_count": 19,
      "outputs": []
    },
    {
      "cell_type": "markdown",
      "source": [
        "## cross validation"
      ],
      "metadata": {
        "id": "5ZZSqXHukEai"
      }
    },
    {
      "cell_type": "code",
      "source": [
        "from sklearn.model_selection import KFold\n",
        "from tensorflow.keras.callbacks import EarlyStopping\n",
        "\n",
        "def cross_val(data, labels, ep, bs, dr, lr):\n",
        "    kf = KFold(n_splits=5, shuffle = True)\n",
        "    metric, loss = 0, 0\n",
        "\n",
        "    for cr_idx, (tr_idx, val_idx) in enumerate(kf.split(data)):\n",
        "        print('Cross validation: %d' %cr_idx)\n",
        "\n",
        "        tr_data = data[tr_idx]\n",
        "        tr_label = labels[tr_idx]\n",
        "\n",
        "        val_data = data[val_idx]\n",
        "        val_label = labels[val_idx]\n",
        "\n",
        "        early_stopping = EarlyStopping(monitor='val_loss', patience=20)\n",
        "        model1 = build_model(dr=dr)\n",
        "        opt = Adam(learning_rate=lr, decay=lr / (ep * 0.5))\n",
        "        model1.compile(loss='categorical_crossentropy', optimizer=opt,\n",
        "                       metrics=['accuracy', f1_m])\n",
        "\n",
        "        history = model1.fit(aug.flow(tr_data, tr_label, batch_size = bs), verbose=2, epochs=ep, batch_size=bs, \n",
        "                            validation_data=[val_data, val_label],\n",
        "                            callbacks=[early_stopping])\n",
        "        stop_epoch = early_stopping.stopped_epoch\n",
        "\n",
        "        val_label_hat = model1.predict(val_data)\n",
        "        # evaluate the model\n",
        "\n",
        "        curr_loss, curr_acc, curr_metric = model1.evaluate(val_data, val_label, verbose=0)\n",
        "\n",
        "        if cr_idx == 0:\n",
        "            best_model1 = model1\n",
        "            best_metric = curr_metric\n",
        "        else:\n",
        "            if best_metric < curr_metric:\n",
        "                best_metric = curr_metric\n",
        "                best_model1 = model1\n",
        "        \n",
        "        metric += curr_metric\n",
        "        loss += curr_loss\n",
        "        model1.save(f'./result/model/model_3_{hp+1}_{cr_idx}.hdf5')\n",
        "        del tr_data, tr_label, val_data, val_label, model1\n",
        "\n",
        "    metric /= 5\n",
        "    loss /= 5\n",
        "\n",
        "    return stop_epoch, metric, loss, best_model1\n"
      ],
      "metadata": {
        "id": "g3M17X23kDhj"
      },
      "execution_count": 20,
      "outputs": []
    },
    {
      "cell_type": "markdown",
      "source": [
        "## train"
      ],
      "metadata": {
        "id": "6f4Nxf40kff9"
      }
    },
    {
      "cell_type": "code",
      "source": [
        "import random \n",
        "\n",
        "def train(hp):\n",
        "    lr_list = [0.001, 0.0005]\n",
        "    dr_list = [0.6, 0.7]\n",
        "    bs_list = [32, 64]\n",
        "\n",
        "    lr = random.choice(lr_list)\n",
        "    dr = random.choice(dr_list)\n",
        "    bs = random.choice(bs_list)\n",
        "    decay = 1e-5\n",
        "\n",
        "    print(f'TEST {hp+1}, lr: {lr}, dr: {dr}, bs: {bs}')\n",
        "\n",
        "    stop_epoch, metric, loss, model1 = cross_val(data, labels, ep, bs, dr, lr)\n",
        "    record = {'index': hp,\n",
        "              'lr': lr,\n",
        "              'dr': dr,\n",
        "              'bs': bs,\n",
        "              'epoch': stop_epoch,\n",
        "              'loss': loss,\n",
        "              'metric': metric}\n",
        "    result_record(record)\n",
        "    "
      ],
      "metadata": {
        "id": "W_-pTotWjD76"
      },
      "execution_count": 21,
      "outputs": []
    },
    {
      "cell_type": "code",
      "source": [
        "ep = 500\n",
        "hp = 0\n",
        "\n",
        "for hp in range(500):\n",
        "\n",
        "        train(hp)\n",
        "\n"
      ],
      "metadata": {
        "colab": {
          "base_uri": "https://localhost:8080/"
        },
        "id": "CkmxbBWcs6vs",
        "outputId": "43bb2905-6484-4465-cc9a-8cf473c532ac"
      },
      "execution_count": null,
      "outputs": [
        {
          "output_type": "stream",
          "name": "stdout",
          "text": [
            "TEST 1, lr: 0.0005, dr: 0.6, bs: 32\n",
            "Cross validation: 0\n",
            "Epoch 1/500\n",
            "1355/1355 - 69s - loss: 3.1451 - accuracy: 0.1805 - f1_m: 0.0845 - val_loss: 1.7712 - val_accuracy: 0.4698 - val_f1_m: 0.2777 - 69s/epoch - 51ms/step\n",
            "Epoch 2/500\n",
            "1355/1355 - 61s - loss: 1.9849 - accuracy: 0.4121 - f1_m: 0.3183 - val_loss: 1.0029 - val_accuracy: 0.6747 - val_f1_m: 0.5642 - 61s/epoch - 45ms/step\n",
            "Epoch 3/500\n",
            "1355/1355 - 61s - loss: 1.7265 - accuracy: 0.4900 - f1_m: 0.4308 - val_loss: 1.0271 - val_accuracy: 0.6572 - val_f1_m: 0.5300 - 61s/epoch - 45ms/step\n",
            "Epoch 4/500\n",
            "1355/1355 - 61s - loss: 1.4261 - accuracy: 0.5739 - f1_m: 0.5336 - val_loss: 0.7934 - val_accuracy: 0.7502 - val_f1_m: 0.6426 - 61s/epoch - 45ms/step\n",
            "Epoch 5/500\n",
            "1355/1355 - 61s - loss: 1.3007 - accuracy: 0.6238 - f1_m: 0.5890 - val_loss: 0.7813 - val_accuracy: 0.7762 - val_f1_m: 0.7202 - 61s/epoch - 45ms/step\n",
            "Epoch 6/500\n",
            "1355/1355 - 61s - loss: 1.4486 - accuracy: 0.5802 - f1_m: 0.5481 - val_loss: 0.6913 - val_accuracy: 0.7760 - val_f1_m: 0.7341 - 61s/epoch - 45ms/step\n",
            "Epoch 7/500\n",
            "1355/1355 - 61s - loss: 1.5773 - accuracy: 0.5452 - f1_m: 0.5032 - val_loss: 0.7067 - val_accuracy: 0.7667 - val_f1_m: 0.7193 - 61s/epoch - 45ms/step\n",
            "Epoch 8/500\n",
            "1355/1355 - 61s - loss: 1.0399 - accuracy: 0.6913 - f1_m: 0.6754 - val_loss: 0.4879 - val_accuracy: 0.8452 - val_f1_m: 0.8295 - 61s/epoch - 45ms/step\n",
            "Epoch 9/500\n",
            "1355/1355 - 61s - loss: 1.3454 - accuracy: 0.6234 - f1_m: 0.6019 - val_loss: 1.9939 - val_accuracy: 0.7207 - val_f1_m: 0.6940 - 61s/epoch - 45ms/step\n",
            "Epoch 10/500\n",
            "1355/1355 - 61s - loss: 1.3448 - accuracy: 0.6142 - f1_m: 0.5927 - val_loss: 0.9646 - val_accuracy: 0.7514 - val_f1_m: 0.7104 - 61s/epoch - 45ms/step\n",
            "Epoch 11/500\n",
            "1355/1355 - 61s - loss: 1.1470 - accuracy: 0.6685 - f1_m: 0.6511 - val_loss: 0.4287 - val_accuracy: 0.8666 - val_f1_m: 0.8391 - 61s/epoch - 45ms/step\n",
            "Epoch 12/500\n",
            "1355/1355 - 61s - loss: 0.8823 - accuracy: 0.7440 - f1_m: 0.7398 - val_loss: 0.9642 - val_accuracy: 0.7793 - val_f1_m: 0.7696 - 61s/epoch - 45ms/step\n",
            "Epoch 13/500\n",
            "1355/1355 - 61s - loss: 1.2686 - accuracy: 0.6556 - f1_m: 0.6464 - val_loss: 0.7279 - val_accuracy: 0.7803 - val_f1_m: 0.7606 - 61s/epoch - 45ms/step\n",
            "Epoch 14/500\n",
            "1355/1355 - 61s - loss: 1.2203 - accuracy: 0.6593 - f1_m: 0.6460 - val_loss: 0.5845 - val_accuracy: 0.8177 - val_f1_m: 0.7963 - 61s/epoch - 45ms/step\n",
            "Epoch 15/500\n",
            "1355/1355 - 61s - loss: 1.0508 - accuracy: 0.7054 - f1_m: 0.7040 - val_loss: 0.6616 - val_accuracy: 0.8499 - val_f1_m: 0.8333 - 61s/epoch - 45ms/step\n",
            "Epoch 16/500\n",
            "1355/1355 - 61s - loss: 1.0605 - accuracy: 0.7020 - f1_m: 0.6980 - val_loss: 0.9644 - val_accuracy: 0.7709 - val_f1_m: 0.7577 - 61s/epoch - 45ms/step\n",
            "Epoch 17/500\n",
            "1355/1355 - 61s - loss: 1.1825 - accuracy: 0.6723 - f1_m: 0.6649 - val_loss: 0.9525 - val_accuracy: 0.8317 - val_f1_m: 0.8181 - 61s/epoch - 45ms/step\n",
            "Epoch 18/500\n",
            "1355/1355 - 61s - loss: 1.0121 - accuracy: 0.7149 - f1_m: 0.7111 - val_loss: 0.6339 - val_accuracy: 0.8584 - val_f1_m: 0.8527 - 61s/epoch - 45ms/step\n",
            "Epoch 19/500\n",
            "1355/1355 - 61s - loss: 0.9854 - accuracy: 0.7243 - f1_m: 0.7223 - val_loss: 0.4541 - val_accuracy: 0.8580 - val_f1_m: 0.8552 - 61s/epoch - 45ms/step\n",
            "Epoch 20/500\n",
            "1355/1355 - 61s - loss: 0.9738 - accuracy: 0.7284 - f1_m: 0.7307 - val_loss: 0.4190 - val_accuracy: 0.8728 - val_f1_m: 0.8723 - 61s/epoch - 45ms/step\n",
            "Epoch 21/500\n",
            "1355/1355 - 61s - loss: 0.7602 - accuracy: 0.7865 - f1_m: 0.7917 - val_loss: 0.2950 - val_accuracy: 0.9073 - val_f1_m: 0.9058 - 61s/epoch - 45ms/step\n",
            "Epoch 22/500\n",
            "1355/1355 - 61s - loss: 0.8190 - accuracy: 0.7725 - f1_m: 0.7821 - val_loss: 0.3317 - val_accuracy: 0.8972 - val_f1_m: 0.8950 - 61s/epoch - 45ms/step\n",
            "Epoch 23/500\n",
            "1355/1355 - 61s - loss: 0.8174 - accuracy: 0.7703 - f1_m: 0.7786 - val_loss: 0.3162 - val_accuracy: 0.9002 - val_f1_m: 0.8965 - 61s/epoch - 45ms/step\n",
            "Epoch 24/500\n",
            "1355/1355 - 61s - loss: 0.6533 - accuracy: 0.8200 - f1_m: 0.8267 - val_loss: 0.3528 - val_accuracy: 0.9128 - val_f1_m: 0.9112 - 61s/epoch - 45ms/step\n",
            "Epoch 25/500\n",
            "1355/1355 - 61s - loss: 0.7769 - accuracy: 0.7919 - f1_m: 0.7977 - val_loss: 0.4470 - val_accuracy: 0.8620 - val_f1_m: 0.8626 - 61s/epoch - 45ms/step\n",
            "Epoch 26/500\n",
            "1355/1355 - 61s - loss: 0.8291 - accuracy: 0.7862 - f1_m: 0.7913 - val_loss: 0.5846 - val_accuracy: 0.8283 - val_f1_m: 0.8210 - 61s/epoch - 45ms/step\n",
            "Epoch 27/500\n",
            "1355/1355 - 61s - loss: 0.8149 - accuracy: 0.7792 - f1_m: 0.7842 - val_loss: 0.6327 - val_accuracy: 0.8306 - val_f1_m: 0.8258 - 61s/epoch - 45ms/step\n",
            "Epoch 28/500\n",
            "1355/1355 - 61s - loss: 0.8387 - accuracy: 0.7761 - f1_m: 0.7785 - val_loss: 0.6253 - val_accuracy: 0.8295 - val_f1_m: 0.8215 - 61s/epoch - 45ms/step\n",
            "Epoch 29/500\n",
            "1355/1355 - 60s - loss: 0.9178 - accuracy: 0.7640 - f1_m: 0.7623 - val_loss: 1.0242 - val_accuracy: 0.8457 - val_f1_m: 0.8439 - 60s/epoch - 45ms/step\n",
            "Epoch 30/500\n",
            "1355/1355 - 61s - loss: 0.8069 - accuracy: 0.7841 - f1_m: 0.7889 - val_loss: 0.3536 - val_accuracy: 0.8925 - val_f1_m: 0.8929 - 61s/epoch - 45ms/step\n",
            "Epoch 31/500\n",
            "1355/1355 - 60s - loss: 0.8113 - accuracy: 0.7883 - f1_m: 0.7956 - val_loss: 0.9607 - val_accuracy: 0.8587 - val_f1_m: 0.8563 - 60s/epoch - 45ms/step\n",
            "Epoch 32/500\n",
            "1355/1355 - 61s - loss: 0.6961 - accuracy: 0.8112 - f1_m: 0.8159 - val_loss: 0.4257 - val_accuracy: 0.9163 - val_f1_m: 0.9165 - 61s/epoch - 45ms/step\n",
            "Epoch 33/500\n",
            "1355/1355 - 60s - loss: 0.8126 - accuracy: 0.7857 - f1_m: 0.7901 - val_loss: 0.5907 - val_accuracy: 0.8229 - val_f1_m: 0.8228 - 60s/epoch - 45ms/step\n",
            "Epoch 34/500\n",
            "1355/1355 - 61s - loss: 0.8847 - accuracy: 0.7638 - f1_m: 0.7664 - val_loss: 0.5276 - val_accuracy: 0.8947 - val_f1_m: 0.8960 - 61s/epoch - 45ms/step\n",
            "Epoch 35/500\n",
            "1355/1355 - 61s - loss: 0.7591 - accuracy: 0.7995 - f1_m: 0.8049 - val_loss: 0.4585 - val_accuracy: 0.8897 - val_f1_m: 0.8984 - 61s/epoch - 45ms/step\n",
            "Epoch 36/500\n",
            "1355/1355 - 61s - loss: 0.7846 - accuracy: 0.7918 - f1_m: 0.8009 - val_loss: 1.2261 - val_accuracy: 0.8089 - val_f1_m: 0.8128 - 61s/epoch - 45ms/step\n",
            "Epoch 37/500\n",
            "1355/1355 - 60s - loss: 0.7594 - accuracy: 0.7921 - f1_m: 0.7993 - val_loss: 0.4615 - val_accuracy: 0.8844 - val_f1_m: 0.8855 - 60s/epoch - 45ms/step\n",
            "Epoch 38/500\n",
            "1355/1355 - 61s - loss: 0.6755 - accuracy: 0.8156 - f1_m: 0.8194 - val_loss: 0.3677 - val_accuracy: 0.9176 - val_f1_m: 0.9171 - 61s/epoch - 45ms/step\n",
            "Epoch 39/500\n",
            "1355/1355 - 60s - loss: 0.5826 - accuracy: 0.8417 - f1_m: 0.8492 - val_loss: 0.6087 - val_accuracy: 0.8462 - val_f1_m: 0.8494 - 60s/epoch - 45ms/step\n",
            "Epoch 40/500\n",
            "1355/1355 - 61s - loss: 0.7199 - accuracy: 0.8083 - f1_m: 0.8163 - val_loss: 0.5661 - val_accuracy: 0.8240 - val_f1_m: 0.8215 - 61s/epoch - 45ms/step\n",
            "Epoch 41/500\n",
            "1355/1355 - 60s - loss: 0.7458 - accuracy: 0.7995 - f1_m: 0.8090 - val_loss: 0.6900 - val_accuracy: 0.7940 - val_f1_m: 0.7919 - 60s/epoch - 45ms/step\n",
            "Cross validation: 1\n",
            "Epoch 1/500\n",
            "1355/1355 - 68s - loss: 2.2088 - accuracy: 0.4262 - f1_m: 0.3697 - val_loss: 0.6670 - val_accuracy: 0.7978 - val_f1_m: 0.7824 - 68s/epoch - 50ms/step\n",
            "Epoch 2/500\n",
            "1355/1355 - 60s - loss: 0.8376 - accuracy: 0.7784 - f1_m: 0.7688 - val_loss: 0.5451 - val_accuracy: 0.8439 - val_f1_m: 0.8430 - 60s/epoch - 45ms/step\n",
            "Epoch 3/500\n",
            "1355/1355 - 60s - loss: 0.6090 - accuracy: 0.8430 - f1_m: 0.8415 - val_loss: 0.2927 - val_accuracy: 0.9154 - val_f1_m: 0.9158 - 60s/epoch - 45ms/step\n",
            "Epoch 4/500\n",
            "1355/1355 - 61s - loss: 0.5024 - accuracy: 0.8676 - f1_m: 0.8692 - val_loss: 0.2207 - val_accuracy: 0.9336 - val_f1_m: 0.9342 - 61s/epoch - 45ms/step\n",
            "Epoch 5/500\n",
            "1355/1355 - 60s - loss: 0.4300 - accuracy: 0.8902 - f1_m: 0.8926 - val_loss: 0.2492 - val_accuracy: 0.9274 - val_f1_m: 0.9295 - 60s/epoch - 45ms/step\n",
            "Epoch 6/500\n",
            "1355/1355 - 60s - loss: 0.3819 - accuracy: 0.9026 - f1_m: 0.9046 - val_loss: 0.2101 - val_accuracy: 0.9406 - val_f1_m: 0.9417 - 60s/epoch - 44ms/step\n",
            "Epoch 7/500\n",
            "1355/1355 - 60s - loss: 0.3333 - accuracy: 0.9142 - f1_m: 0.9161 - val_loss: 0.1586 - val_accuracy: 0.9518 - val_f1_m: 0.9527 - 60s/epoch - 45ms/step\n",
            "Epoch 8/500\n",
            "1355/1355 - 60s - loss: 0.3129 - accuracy: 0.9198 - f1_m: 0.9218 - val_loss: 0.1782 - val_accuracy: 0.9467 - val_f1_m: 0.9483 - 60s/epoch - 45ms/step\n",
            "Epoch 9/500\n",
            "1355/1355 - 60s - loss: 0.2706 - accuracy: 0.9306 - f1_m: 0.9323 - val_loss: 0.2396 - val_accuracy: 0.9360 - val_f1_m: 0.9363 - 60s/epoch - 45ms/step\n",
            "Epoch 10/500\n",
            "1355/1355 - 60s - loss: 0.2536 - accuracy: 0.9360 - f1_m: 0.9372 - val_loss: 0.1668 - val_accuracy: 0.9513 - val_f1_m: 0.9523 - 60s/epoch - 44ms/step\n",
            "Epoch 11/500\n",
            "1355/1355 - 60s - loss: 0.2488 - accuracy: 0.9372 - f1_m: 0.9393 - val_loss: 0.2112 - val_accuracy: 0.9414 - val_f1_m: 0.9429 - 60s/epoch - 44ms/step\n",
            "Epoch 12/500\n",
            "1355/1355 - 60s - loss: 0.2111 - accuracy: 0.9457 - f1_m: 0.9474 - val_loss: 0.1552 - val_accuracy: 0.9554 - val_f1_m: 0.9568 - 60s/epoch - 45ms/step\n",
            "Epoch 13/500\n",
            "1355/1355 - 60s - loss: 0.2097 - accuracy: 0.9466 - f1_m: 0.9484 - val_loss: 0.2199 - val_accuracy: 0.9425 - val_f1_m: 0.9440 - 60s/epoch - 45ms/step\n",
            "Epoch 14/500\n",
            "1355/1355 - 60s - loss: 0.1910 - accuracy: 0.9514 - f1_m: 0.9529 - val_loss: 0.1417 - val_accuracy: 0.9587 - val_f1_m: 0.9599 - 60s/epoch - 44ms/step\n",
            "Epoch 15/500\n",
            "1355/1355 - 60s - loss: 0.1769 - accuracy: 0.9560 - f1_m: 0.9569 - val_loss: 0.1221 - val_accuracy: 0.9646 - val_f1_m: 0.9654 - 60s/epoch - 44ms/step\n",
            "Epoch 16/500\n",
            "1355/1355 - 60s - loss: 0.1670 - accuracy: 0.9575 - f1_m: 0.9584 - val_loss: 0.1286 - val_accuracy: 0.9653 - val_f1_m: 0.9671 - 60s/epoch - 44ms/step\n",
            "Epoch 17/500\n",
            "1355/1355 - 60s - loss: 0.1562 - accuracy: 0.9596 - f1_m: 0.9609 - val_loss: 0.1393 - val_accuracy: 0.9600 - val_f1_m: 0.9608 - 60s/epoch - 45ms/step\n",
            "Epoch 18/500\n",
            "1355/1355 - 60s - loss: 0.1481 - accuracy: 0.9612 - f1_m: 0.9628 - val_loss: 0.1634 - val_accuracy: 0.9599 - val_f1_m: 0.9596 - 60s/epoch - 45ms/step\n",
            "Epoch 19/500\n",
            "1355/1355 - 60s - loss: 0.1451 - accuracy: 0.9617 - f1_m: 0.9629 - val_loss: 0.1450 - val_accuracy: 0.9611 - val_f1_m: 0.9628 - 60s/epoch - 44ms/step\n",
            "Epoch 20/500\n",
            "1355/1355 - 60s - loss: 0.1367 - accuracy: 0.9650 - f1_m: 0.9654 - val_loss: 0.1141 - val_accuracy: 0.9707 - val_f1_m: 0.9706 - 60s/epoch - 44ms/step\n",
            "Epoch 21/500\n",
            "1355/1355 - 60s - loss: 0.1351 - accuracy: 0.9665 - f1_m: 0.9671 - val_loss: 0.1827 - val_accuracy: 0.9497 - val_f1_m: 0.9506 - 60s/epoch - 44ms/step\n",
            "Epoch 22/500\n",
            "1355/1355 - 60s - loss: 0.1218 - accuracy: 0.9688 - f1_m: 0.9694 - val_loss: 0.1793 - val_accuracy: 0.9532 - val_f1_m: 0.9540 - 60s/epoch - 44ms/step\n",
            "Epoch 23/500\n",
            "1355/1355 - 60s - loss: 0.1289 - accuracy: 0.9667 - f1_m: 0.9674 - val_loss: 0.1642 - val_accuracy: 0.9548 - val_f1_m: 0.9563 - 60s/epoch - 44ms/step\n",
            "Epoch 24/500\n",
            "1355/1355 - 60s - loss: 0.1091 - accuracy: 0.9721 - f1_m: 0.9728 - val_loss: 0.1529 - val_accuracy: 0.9611 - val_f1_m: 0.9620 - 60s/epoch - 44ms/step\n",
            "Epoch 25/500\n",
            "1355/1355 - 60s - loss: 0.1133 - accuracy: 0.9716 - f1_m: 0.9723 - val_loss: 0.1196 - val_accuracy: 0.9680 - val_f1_m: 0.9687 - 60s/epoch - 44ms/step\n",
            "Epoch 26/500\n",
            "1355/1355 - 60s - loss: 0.1089 - accuracy: 0.9728 - f1_m: 0.9727 - val_loss: 0.1034 - val_accuracy: 0.9737 - val_f1_m: 0.9736 - 60s/epoch - 44ms/step\n",
            "Epoch 27/500\n",
            "1355/1355 - 60s - loss: 0.1056 - accuracy: 0.9735 - f1_m: 0.9739 - val_loss: 0.0816 - val_accuracy: 0.9791 - val_f1_m: 0.9794 - 60s/epoch - 44ms/step\n",
            "Epoch 28/500\n",
            "1355/1355 - 60s - loss: 0.1031 - accuracy: 0.9729 - f1_m: 0.9734 - val_loss: 0.0922 - val_accuracy: 0.9753 - val_f1_m: 0.9752 - 60s/epoch - 44ms/step\n",
            "Epoch 29/500\n",
            "1355/1355 - 60s - loss: 0.0927 - accuracy: 0.9763 - f1_m: 0.9770 - val_loss: 0.0988 - val_accuracy: 0.9755 - val_f1_m: 0.9758 - 60s/epoch - 45ms/step\n",
            "Epoch 30/500\n",
            "1355/1355 - 60s - loss: 0.0957 - accuracy: 0.9759 - f1_m: 0.9766 - val_loss: 0.1312 - val_accuracy: 0.9661 - val_f1_m: 0.9668 - 60s/epoch - 44ms/step\n",
            "Epoch 31/500\n",
            "1355/1355 - 60s - loss: 0.0915 - accuracy: 0.9775 - f1_m: 0.9776 - val_loss: 0.0883 - val_accuracy: 0.9757 - val_f1_m: 0.9762 - 60s/epoch - 44ms/step\n",
            "Epoch 32/500\n",
            "1355/1355 - 60s - loss: 0.0874 - accuracy: 0.9779 - f1_m: 0.9780 - val_loss: 0.1125 - val_accuracy: 0.9721 - val_f1_m: 0.9725 - 60s/epoch - 44ms/step\n",
            "Epoch 33/500\n",
            "1355/1355 - 60s - loss: 0.0839 - accuracy: 0.9791 - f1_m: 0.9793 - val_loss: 0.0993 - val_accuracy: 0.9732 - val_f1_m: 0.9741 - 60s/epoch - 44ms/step\n",
            "Epoch 34/500\n",
            "1355/1355 - 60s - loss: 0.0887 - accuracy: 0.9778 - f1_m: 0.9780 - val_loss: 0.1067 - val_accuracy: 0.9719 - val_f1_m: 0.9730 - 60s/epoch - 44ms/step\n",
            "Epoch 35/500\n",
            "1355/1355 - 60s - loss: 0.0799 - accuracy: 0.9796 - f1_m: 0.9800 - val_loss: 0.0835 - val_accuracy: 0.9783 - val_f1_m: 0.9784 - 60s/epoch - 44ms/step\n",
            "Epoch 36/500\n",
            "1355/1355 - 60s - loss: 0.0802 - accuracy: 0.9796 - f1_m: 0.9798 - val_loss: 0.1046 - val_accuracy: 0.9726 - val_f1_m: 0.9739 - 60s/epoch - 44ms/step\n",
            "Epoch 37/500\n",
            "1355/1355 - 60s - loss: 0.0753 - accuracy: 0.9807 - f1_m: 0.9811 - val_loss: 0.2181 - val_accuracy: 0.9534 - val_f1_m: 0.9539 - 60s/epoch - 44ms/step\n",
            "Epoch 38/500\n",
            "1355/1355 - 60s - loss: 0.0765 - accuracy: 0.9806 - f1_m: 0.9812 - val_loss: 0.0789 - val_accuracy: 0.9774 - val_f1_m: 0.9783 - 60s/epoch - 44ms/step\n",
            "Epoch 39/500\n",
            "1355/1355 - 60s - loss: 0.0744 - accuracy: 0.9817 - f1_m: 0.9820 - val_loss: 0.0762 - val_accuracy: 0.9811 - val_f1_m: 0.9818 - 60s/epoch - 44ms/step\n",
            "Epoch 40/500\n",
            "1355/1355 - 60s - loss: 0.0678 - accuracy: 0.9826 - f1_m: 0.9829 - val_loss: 0.1451 - val_accuracy: 0.9674 - val_f1_m: 0.9678 - 60s/epoch - 44ms/step\n",
            "Epoch 41/500\n",
            "1355/1355 - 60s - loss: 0.0727 - accuracy: 0.9813 - f1_m: 0.9819 - val_loss: 0.1170 - val_accuracy: 0.9720 - val_f1_m: 0.9721 - 60s/epoch - 44ms/step\n",
            "Epoch 42/500\n",
            "1355/1355 - 60s - loss: 0.0641 - accuracy: 0.9834 - f1_m: 0.9836 - val_loss: 0.0889 - val_accuracy: 0.9780 - val_f1_m: 0.9781 - 60s/epoch - 44ms/step\n",
            "Epoch 43/500\n",
            "1355/1355 - 60s - loss: 0.0686 - accuracy: 0.9826 - f1_m: 0.9830 - val_loss: 0.1039 - val_accuracy: 0.9736 - val_f1_m: 0.9742 - 60s/epoch - 44ms/step\n",
            "Epoch 44/500\n",
            "1355/1355 - 60s - loss: 0.0647 - accuracy: 0.9839 - f1_m: 0.9843 - val_loss: 0.0573 - val_accuracy: 0.9832 - val_f1_m: 0.9839 - 60s/epoch - 44ms/step\n",
            "Epoch 45/500\n",
            "1355/1355 - 60s - loss: 0.0655 - accuracy: 0.9841 - f1_m: 0.9841 - val_loss: 0.0724 - val_accuracy: 0.9818 - val_f1_m: 0.9819 - 60s/epoch - 44ms/step\n",
            "Epoch 46/500\n",
            "1355/1355 - 60s - loss: 0.0621 - accuracy: 0.9843 - f1_m: 0.9846 - val_loss: 0.0797 - val_accuracy: 0.9791 - val_f1_m: 0.9799 - 60s/epoch - 44ms/step\n",
            "Epoch 47/500\n",
            "1355/1355 - 60s - loss: 0.0645 - accuracy: 0.9843 - f1_m: 0.9843 - val_loss: 0.0739 - val_accuracy: 0.9804 - val_f1_m: 0.9807 - 60s/epoch - 44ms/step\n",
            "Epoch 48/500\n",
            "1355/1355 - 60s - loss: 0.0594 - accuracy: 0.9854 - f1_m: 0.9855 - val_loss: 0.0593 - val_accuracy: 0.9849 - val_f1_m: 0.9852 - 60s/epoch - 44ms/step\n",
            "Epoch 49/500\n",
            "1355/1355 - 60s - loss: 0.0634 - accuracy: 0.9839 - f1_m: 0.9841 - val_loss: 0.1857 - val_accuracy: 0.9580 - val_f1_m: 0.9590 - 60s/epoch - 44ms/step\n",
            "Epoch 50/500\n",
            "1355/1355 - 60s - loss: 0.0539 - accuracy: 0.9870 - f1_m: 0.9870 - val_loss: 0.1076 - val_accuracy: 0.9765 - val_f1_m: 0.9769 - 60s/epoch - 44ms/step\n",
            "Epoch 51/500\n",
            "1355/1355 - 60s - loss: 0.0549 - accuracy: 0.9868 - f1_m: 0.9867 - val_loss: 0.0842 - val_accuracy: 0.9803 - val_f1_m: 0.9808 - 60s/epoch - 44ms/step\n",
            "Epoch 52/500\n",
            "1355/1355 - 60s - loss: 0.0543 - accuracy: 0.9866 - f1_m: 0.9869 - val_loss: 0.0866 - val_accuracy: 0.9787 - val_f1_m: 0.9788 - 60s/epoch - 44ms/step\n",
            "Epoch 53/500\n",
            "1355/1355 - 61s - loss: 0.0553 - accuracy: 0.9864 - f1_m: 0.9865 - val_loss: 0.0663 - val_accuracy: 0.9825 - val_f1_m: 0.9827 - 61s/epoch - 45ms/step\n",
            "Epoch 54/500\n",
            "1355/1355 - 60s - loss: 0.0547 - accuracy: 0.9863 - f1_m: 0.9863 - val_loss: 0.0579 - val_accuracy: 0.9849 - val_f1_m: 0.9852 - 60s/epoch - 44ms/step\n",
            "Epoch 55/500\n",
            "1355/1355 - 61s - loss: 0.0500 - accuracy: 0.9881 - f1_m: 0.9882 - val_loss: 0.0995 - val_accuracy: 0.9773 - val_f1_m: 0.9774 - 61s/epoch - 45ms/step\n",
            "Epoch 56/500\n",
            "1355/1355 - 61s - loss: 0.0475 - accuracy: 0.9883 - f1_m: 0.9886 - val_loss: 0.0803 - val_accuracy: 0.9789 - val_f1_m: 0.9787 - 61s/epoch - 45ms/step\n",
            "Epoch 57/500\n",
            "1355/1355 - 61s - loss: 0.0521 - accuracy: 0.9873 - f1_m: 0.9874 - val_loss: 0.1095 - val_accuracy: 0.9732 - val_f1_m: 0.9734 - 61s/epoch - 45ms/step\n",
            "Epoch 58/500\n",
            "1355/1355 - 60s - loss: 0.0541 - accuracy: 0.9866 - f1_m: 0.9870 - val_loss: 0.0981 - val_accuracy: 0.9754 - val_f1_m: 0.9763 - 60s/epoch - 45ms/step\n",
            "Epoch 59/500\n",
            "1355/1355 - 60s - loss: 0.0481 - accuracy: 0.9879 - f1_m: 0.9880 - val_loss: 0.0948 - val_accuracy: 0.9802 - val_f1_m: 0.9804 - 60s/epoch - 45ms/step\n",
            "Epoch 60/500\n",
            "1355/1355 - 60s - loss: 0.0452 - accuracy: 0.9881 - f1_m: 0.9885 - val_loss: 0.0935 - val_accuracy: 0.9781 - val_f1_m: 0.9787 - 60s/epoch - 45ms/step\n",
            "Epoch 61/500\n",
            "1355/1355 - 60s - loss: 0.0467 - accuracy: 0.9888 - f1_m: 0.9888 - val_loss: 0.0848 - val_accuracy: 0.9797 - val_f1_m: 0.9801 - 60s/epoch - 44ms/step\n",
            "Epoch 62/500\n",
            "1355/1355 - 60s - loss: 0.0426 - accuracy: 0.9891 - f1_m: 0.9891 - val_loss: 0.0779 - val_accuracy: 0.9821 - val_f1_m: 0.9827 - 60s/epoch - 44ms/step\n",
            "Epoch 63/500\n"
          ]
        }
      ]
    },
    {
      "cell_type": "markdown",
      "source": [],
      "metadata": {
        "id": "NESMXUVCdrwg"
      }
    },
    {
      "cell_type": "markdown",
      "source": [],
      "metadata": {
        "id": "5r4WNTTwdrt5"
      }
    },
    {
      "cell_type": "code",
      "source": [
        "def test():\n",
        "\n",
        "    model = load_model()\n",
        "\n",
        "    data = []\n",
        "    labels = []\n",
        "\n",
        "    height = 40\n",
        "    width = 40\n",
        "\n",
        "    test_path = './data/Test/'\n",
        "    test_filename = os.listdir(test_path)\n",
        "    for a in test_filename:\n",
        "        image = cv2.imread(test_path + a)\n",
        "        image_from_array = Image.fromarray(image, 'RGB')\n",
        "        resized_image = image_from_array.resize((height, width))\n",
        "        data.append(np.array(resized_image))\n",
        "\n",
        "    labels_hat = pd.DataFrame(model.predict(data))\n",
        "\n",
        "    filename = './result/team1_1.csv'\n",
        "    f=1\n",
        "    while os.path.exist(filename):\n",
        "        f+=1\n",
        "        filename = f'./result/team1_{f}.csv'\n",
        "    \n",
        "    labels_hat.to_csv(filename)"
      ],
      "metadata": {
        "id": "MagGfxfFtHsh"
      },
      "execution_count": null,
      "outputs": []
    },
    {
      "cell_type": "markdown",
      "source": [
        "## Evaluating the model"
      ],
      "metadata": {
        "id": "a9wXYPlJnIid"
      }
    },
    {
      "cell_type": "code",
      "source": [
        "pd.DataFrame(history.history).plot(figsize=(8, 5))\n",
        "plt.grid(True)\n",
        "plt.gca().set_ylim(0, 1)\n",
        "plt.show()"
      ],
      "metadata": {
        "trusted": true,
        "id": "pMhkTVQwnIid"
      },
      "execution_count": null,
      "outputs": []
    },
    {
      "cell_type": "code",
      "source": [
        "# Evaluation HJ\n",
        "test = pd.read_csv(data_dir_test + '/Test.csv')\n",
        "imgs = test[\"Path\"].values\n",
        "data =[]\n",
        "\n",
        "for img in imgs:\n",
        "    try:\n",
        "        image = cv2.imread(data_dir_test + '/' +img)\n",
        "        image_fromarray = Image.fromarray(image, 'RGB')\n",
        "        resize_image = image_fromarray.resize((IMG_HEIGHT, IMG_WIDTH))\n",
        "        data.append(np.array(resize_image))\n",
        "    except:\n",
        "        print(\"Error in \" + img)\n",
        "\n",
        "X_test = np.array(data)\n",
        "X_test = X_test/255\n",
        "\n",
        "pred = model.predict(X_test)\n",
        "classes_x = np.argmax(pred,axis=1)"
      ],
      "metadata": {
        "id": "J9Jq0IhpvVM-"
      },
      "execution_count": null,
      "outputs": []
    },
    {
      "cell_type": "markdown",
      "source": [
        "## Loading the test data and running the predictions"
      ],
      "metadata": {
        "id": "20lC2-ZgnIie"
      }
    },
    {
      "cell_type": "code",
      "source": [
        "test = pd.read_csv(data_dir_test + '/Test.csv')\n",
        "\n",
        "labels = test[\"ClassId\"].values\n",
        "imgs = test[\"Path\"].values\n",
        "\n",
        "data =[]\n",
        "\n",
        "for img in imgs:\n",
        "    try:\n",
        "        image = cv2.imread(data_dir_test + '/' +img)\n",
        "        image_fromarray = Image.fromarray(image, 'RGB')\n",
        "        resize_image = image_fromarray.resize((IMG_HEIGHT, IMG_WIDTH))\n",
        "        data.append(np.array(resize_image))\n",
        "    except:\n",
        "        print(\"Error in \" + img)\n",
        "X_test = np.array(data)\n",
        "X_test = X_test/255\n",
        "\n",
        "pred = model.predict(X_test)\n",
        "pred = np.argmax(pred, axis=1)\n",
        "\n",
        "#Accuracy with the test data\n",
        "print('Test Data accuracy: ',accuracy_score(labels, pred)*100)"
      ],
      "metadata": {
        "trusted": true,
        "id": "rmGgRuGXnIie"
      },
      "execution_count": null,
      "outputs": []
    },
    {
      "cell_type": "markdown",
      "source": [
        "## Visualizing the confusion matrix"
      ],
      "metadata": {
        "id": "xUK_9n0xnIie"
      }
    },
    {
      "cell_type": "code",
      "source": [
        "from sklearn.metrics import confusion_matrix\n",
        "cf = confusion_matrix(labels, pred)"
      ],
      "metadata": {
        "trusted": true,
        "id": "WDQ0SP3BnIie"
      },
      "execution_count": null,
      "outputs": []
    },
    {
      "cell_type": "code",
      "source": [
        "import seaborn as sns\n",
        "df_cm = pd.DataFrame(cf, index = classes,  columns = classes)\n",
        "plt.figure(figsize = (20,20))\n",
        "sns.heatmap(df_cm, annot=True)"
      ],
      "metadata": {
        "trusted": true,
        "id": "lEWvM8_XnIie"
      },
      "execution_count": null,
      "outputs": []
    },
    {
      "cell_type": "markdown",
      "source": [
        "## Classification report"
      ],
      "metadata": {
        "id": "_417pWJQnIie"
      }
    },
    {
      "cell_type": "code",
      "source": [
        "from sklearn.metrics import classification_report\n",
        "\n",
        "print(classification_report(labels, pred))"
      ],
      "metadata": {
        "trusted": true,
        "id": "MDRXNw3CnIif"
      },
      "execution_count": null,
      "outputs": []
    },
    {
      "cell_type": "markdown",
      "source": [
        "## Predictions on Test Data"
      ],
      "metadata": {
        "id": "aZuim_H9nIif"
      }
    },
    {
      "cell_type": "code",
      "source": [
        "plt.figure(figsize = (25, 25))\n",
        "\n",
        "start_index = 0\n",
        "for i in range(25):\n",
        "    plt.subplot(5, 5, i + 1)\n",
        "    plt.grid(False)\n",
        "    plt.xticks([])\n",
        "    plt.yticks([])\n",
        "    prediction = pred[start_index + i]\n",
        "    actual = labels[start_index + i]\n",
        "    col = 'g'\n",
        "    if prediction != actual:\n",
        "        col = 'r'\n",
        "    plt.xlabel('Actual={} || Pred={}'.format(actual, prediction), color = col)\n",
        "    plt.imshow(X_test[start_index + i])\n",
        "plt.show()"
      ],
      "metadata": {
        "trusted": true,
        "id": "gdTDvahnnIif"
      },
      "execution_count": null,
      "outputs": []
    },
    {
      "cell_type": "code",
      "source": [
        "# For Suggestion\n",
        "\n",
        "suggest_test = '/content/drive/MyDrive/Colab Notebooks/snu/project/data/data'\n",
        "\n",
        "# Resizing the images to 30x30x3\n",
        "IMG_HEIGHT = 30\n",
        "IMG_WIDTH = 30\n",
        "channels = 3\n",
        "\n",
        "image_data = []\n",
        "#image_labels = []\n",
        "\n",
        "for i in range(NUM_CATEGORIES):\n",
        "    path = suggest_test + '/Test/'\n",
        "    images = os.listdir(path)\n",
        "\n",
        "    for img in images:\n",
        "        try:\n",
        "            image = cv2.imread(path + '/' + img)\n",
        "            image_fromarray = Image.fromarray(image, 'RGB')\n",
        "            resize_image = image_fromarray.resize((IMG_HEIGHT, IMG_WIDTH))\n",
        "            image_data.append(np.array(resize_image))\n",
        "            #image_labels.append(i)\n",
        "        except:\n",
        "            print(\"Error in \" + img)\n",
        "\n",
        "X_test = np.array(image_data)\n",
        "X_test = X_test/255\n",
        "\n",
        "pred_suggest = model.predict(X_test)\n",
        "suggest = np.argmax(pred_suggest,axis=1)"
      ],
      "metadata": {
        "id": "wMVWQVXIHdST"
      },
      "execution_count": null,
      "outputs": []
    },
    {
      "cell_type": "code",
      "source": [
        "# Save Python\n",
        "\n",
        "import csv\n",
        "\n",
        "f = open('HD_proj_team1_1', 'w', new_line = '')\n",
        "writer = csv.writer(f)\n",
        "writer.writerows(suggest)\n",
        "f.close()\n",
        "\n"
      ],
      "metadata": {
        "id": "GsEoQ9ntcMgr"
      },
      "execution_count": null,
      "outputs": []
    }
  ]
}