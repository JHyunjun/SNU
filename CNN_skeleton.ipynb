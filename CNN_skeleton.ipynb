{
  "nbformat": 4,
  "nbformat_minor": 0,
  "metadata": {
    "kernelspec": {
      "display_name": "Python 3",
      "language": "python",
      "name": "python3"
    },
    "language_info": {
      "codemirror_mode": {
        "name": "ipython",
        "version": 3
      },
      "file_extension": ".py",
      "mimetype": "text/x-python",
      "name": "python",
      "nbconvert_exporter": "python",
      "pygments_lexer": "ipython3",
      "version": "3.7.0"
    },
    "colab": {
      "name": "1_Training_CNN.ipynb",
      "provenance": [],
      "collapsed_sections": [
        "Ah8zeaAduifF"
      ],
      "include_colab_link": true
    },
    "accelerator": "GPU"
  },
  "cells": [
    {
      "cell_type": "markdown",
      "metadata": {
        "id": "view-in-github",
        "colab_type": "text"
      },
      "source": [
        "<a href=\"https://colab.research.google.com/github/JHyunjun/SNU/blob/main/CNN_skeleton.ipynb\" target=\"_parent\"><img src=\"https://colab.research.google.com/assets/colab-badge.svg\" alt=\"Open In Colab\"/></a>"
      ]
    },
    {
      "cell_type": "markdown",
      "metadata": {
        "id": "xXeBoSsduifD"
      },
      "source": [
        "# Part 1: Training Convolutional Neural Networks"
      ]
    },
    {
      "cell_type": "markdown",
      "metadata": {
        "id": "oh9-MnIAuifE"
      },
      "source": [
        "Copyright (C) Data Science & AI Laboratory, Seoul National University. This material is for educational uses only. Some contents are based on the material provided by other paper/book authors and may be copyrighted by them. "
      ]
    },
    {
      "cell_type": "markdown",
      "metadata": {
        "id": "Ah8zeaAduifF"
      },
      "source": [
        "Now, you're going to leave behind your implementations and instead migrate to one of popular deep learning frameworks, **TensorFlow**. <br>\n",
        "In this notebook, you will learn how to train convolutional neural networks (CNNs) for classifying images in the CIFAR-10 dataset. <br>\n",
        "There are **3 sections**, and in each section, you need to follow the instructions to complete the skeleton codes and explain them.\n",
        "\n",
        "1. [Training a simple CNN model](#1)\n",
        "2. [Training a CNN model with Inception modules](#2)\n",
        "3. [Design a better model on CIFAR-10](#3)\n",
        "\n",
        "**Note**: certain details are missing or ambiguous on purpose, in order to test your knowledge on the related materials. However, if you really feel that something essential is missing and cannot proceed to the next step, then contact the teaching staff with clear description of your problem.\n",
        "\n",
        "### Some helpful tutorials and references for assignment #2:\n",
        "- [1] TensorFlow official tutorials. [[link]](https://www.tensorflow.org/get_started/get_started)\n",
        "- [2] Stanford CS231n lectures. [[link]](http://cs231n.stanford.edu/)\n",
        "- [3] Iandola et al, \"SqueezeNet: AlexNet-level accuracy with 50x fewer parameters and < 0.5MB model size\", arXiv 2016. [[pdf]](https://arxiv.org/pdf/1602.07360.pdf)\n",
        "- [4] Simonyan et al., \"Deep Inside Convolutional Networks: Visualising Image Classification Models and Saliency Maps\", ICLR Workshop 2014. [[pdf]](https://arxiv.org/pdf/1312.6034.pdf)\n",
        "- [5] Szegedy et al., \"Intriguing properties of neural networks\", ICLR 2014. [[pdf]](https://arxiv.org/pdf/1312.6199.pdf)\n",
        "- [6] Szegedy et al., \"Going deeper with convolutions\", CVPR 2015. [[pdf]](http://www.cv-foundation.org/openaccess/content_cvpr_2015/papers/Szegedy_Going_Deeper_With_2015_CVPR_paper.pdf)\n",
        "- [7] Yosinski et al., \"Understanding Neural Networks Through Deep Visualization\", ICML Workshop 2015. [[pdf]](http://yosinski.com/media/papers/Yosinski__2015__ICML_DL__Understanding_Neural_Networks_Through_Deep_Visualization__.pdf)"
      ]
    },
    {
      "cell_type": "markdown",
      "metadata": {
        "id": "mcbT9BGauifF"
      },
      "source": [
        "## Load datasets\n",
        "The CIFAR-10 dataset will be downloaded automatically if it is not located in the *Utils* directory. <br>"
      ]
    },
    {
      "cell_type": "code",
      "metadata": {
        "id": "XedBofNc8dsP",
        "colab": {
          "base_uri": "https://localhost:8080/"
        },
        "outputId": "2a72195f-b591-4c65-c252-a3f808fe1890"
      },
      "source": [
        "!pip install -q git+https://github.com/tensorflow/docs\n",
        "import tensorflow_docs as tfdocs\n",
        "import tensorflow_docs.modeling\n",
        "import tensorflow_docs.plots\n",
        "\n",
        "import pathlib\n",
        "import shutil\n",
        "import tempfile"
      ],
      "execution_count": 1,
      "outputs": [
        {
          "output_type": "stream",
          "name": "stdout",
          "text": [
            "  Building wheel for tensorflow-docs (setup.py) ... \u001b[?25l\u001b[?25hdone\n"
          ]
        }
      ]
    },
    {
      "cell_type": "code",
      "metadata": {
        "id": "taWUiOSm8sjL"
      },
      "source": [
        "logdir = pathlib.Path(tempfile.mkdtemp())/\"tensorboard_logs\"\n",
        "shutil.rmtree(logdir, ignore_errors=True)"
      ],
      "execution_count": 2,
      "outputs": []
    },
    {
      "cell_type": "code",
      "metadata": {
        "id": "ftrDSYtxuifG"
      },
      "source": [
        "import tensorflow as tf\n",
        "import numpy as np\n",
        "\n",
        "from tensorflow.keras.layers import Dense, Flatten, Conv2D,MaxPooling2D\n",
        "from tensorflow.keras import Model\n",
        "import matplotlib.pyplot as plt\n",
        "\n",
        "import os\n",
        "%matplotlib inline\n",
        "plt.rcParams['figure.figsize'] = (12.0, 6.0)\n",
        "plt.rcParams['image.interpolation'] = 'nearest'\n",
        "plt.rcParams['image.cmap'] = 'gray'"
      ],
      "execution_count": 3,
      "outputs": []
    },
    {
      "cell_type": "code",
      "metadata": {
        "id": "My0wtU-Ubc5f"
      },
      "source": [
        "def _deprocess_image(img, MEAN, STD):\n",
        "    \"\"\" Undo preprocessing on an image and convert back to uint8. \"\"\"\n",
        "    return np.clip(255 * (img * STD + MEAN), 0.0, 255.0).astype(np.uint8)\n",
        "\n",
        "def _preprocess_image(img, MEAN, STD):\n",
        "    \"\"\" Preprocess an image: subtracts the pixel mean and divides by the standard deviation.  \"\"\"\n",
        "    return (img.astype(np.float32)/255.0 - MEAN) / STD\n",
        "    #Image Normalizing(-1 to 1) #matplotlib은 0~1만 그릴수있음\n",
        "\n",
        "def plot_images(X, Y, C, idx=0, Each_Category=False, SaliencyMaps=None, ClassRepresentatve=None, Adversarial=None, Target_y=None):\n",
        "    ''' Plot images '''\n",
        "    if Each_Category:\n",
        "        Category = set(Y)\n",
        "        for i in range(10):\n",
        "            while(1):\n",
        "                if Y[idx] in Category:\n",
        "                    Category.remove(Y[idx])\n",
        "                    break\n",
        "                else:\n",
        "                    idx += 1\n",
        "            \n",
        "            plt.subplot(2, 5, Y[idx]+1)\n",
        "            plt.imshow(_deprocess_image(X[idx], CIFAR10_MEAN, CIFAR10_STD))\n",
        "            plt.title(C[Y[idx]])\n",
        "            plt.axis('off')\n",
        "            \n",
        "    elif SaliencyMaps is not None:    \n",
        "        for i in range(5):\n",
        "            plt.subplot(2, 5, i+1)\n",
        "            plt.imshow(X[idx+i])\n",
        "            plt.title(C[Y[idx+i]])\n",
        "            plt.axis('off')\n",
        "            \n",
        "            plt.subplot(2, 5, i+6)\n",
        "            plt.imshow(SaliencyMaps[idx+i], cmap=plt.cm.hot)\n",
        "            plt.title(C[Y[idx+i]])\n",
        "            plt.axis('off')\n",
        "            \n",
        "    elif ClassRepresentatve is not None:    \n",
        "        Iter = int(X.shape[0] / 4)\n",
        "        for i in range(4):\n",
        "            plt.subplot(2, 2, i+1)\n",
        "            plt.imshow(X[Iter*(i+1)])\n",
        "            plt.title('%s\\nIteration %d' % (C[Y], Iter*(i+1)))\n",
        "            plt.axis('off')\n",
        "            plt.gcf().set_size_inches(8, 8)\n",
        "            \n",
        "    elif Adversarial is not None:\n",
        "        plt.subplot(1, 4, 1)\n",
        "        plt.imshow(X[0])\n",
        "        plt.title(C[Y[0]])\n",
        "        plt.axis('off')\n",
        "        \n",
        "        plt.subplot(1, 4, 2)\n",
        "        plt.imshow(Adversarial[0])\n",
        "        plt.title(C[Target_y])\n",
        "        plt.axis('off')\n",
        "        \n",
        "        plt.subplot(1, 4, 3)\n",
        "        plt.title('Difference')\n",
        "        plt.imshow((X-Adversarial)[0])\n",
        "        plt.axis('off')\n",
        "        \n",
        "        plt.subplot(1, 4, 4)\n",
        "        plt.title('Magnified difference (10x)')\n",
        "        plt.imshow(10 * (X-Adversarial)[0])\n",
        "        plt.axis('off')          \n",
        "        \n",
        "    else:\n",
        "        for i in range(5):\n",
        "            plt.subplot(1, 5, i+1)\n",
        "            plt.imshow(X[idx+i])\n",
        "            plt.title(C[Y[idx+i]])\n",
        "            plt.axis('off')\n",
        "    plt.show()"
      ],
      "execution_count": 4,
      "outputs": []
    },
    {
      "cell_type": "code",
      "metadata": {
        "id": "BmfWaK4-uifJ",
        "colab": {
          "base_uri": "https://localhost:8080/",
          "height": 506
        },
        "outputId": "548caa23-1e2b-4042-e42d-43fd2da7983d"
      },
      "source": [
        "from sklearn.model_selection import train_test_split\n",
        "(X_train, Y_train),(X_test, Y_test)= tf.keras.datasets.cifar10.load_data()\n",
        "X_train, X_val, Y_train, Y_val = train_test_split(X_train, Y_train, test_size=0.2)\n",
        "print('Train data shape ' + str(X_train.shape))\n",
        "print('Train labels shape ' + str(Y_train.shape))\n",
        "print('Validation data shape ' + str(X_val.shape))\n",
        "print('Validataion labels shape ' + str(Y_val.shape))\n",
        "print('Test data shape ' + str(X_test.shape))\n",
        "print('Test labels shape ' + str(Y_test.shape))\n",
        "\n",
        "#Normalizing Mean,Std구함\n",
        "CIFAR10_MEAN = np.mean(X_train.astype(np.float32)/255.0, axis=0)\n",
        "CIFAR10_STD = np.std(X_train.astype(np.float32)/255.0, axis=0)\n",
        "\n",
        "#Normalizing수행\n",
        "X_train = np.array([_preprocess_image(img, CIFAR10_MEAN, CIFAR10_STD) for img in X_train])\n",
        "X_val   = np.array([_preprocess_image(img, CIFAR10_MEAN, CIFAR10_STD) for img in X_val])\n",
        "X_test  = np.array([_preprocess_image(img, CIFAR10_MEAN, CIFAR10_STD) for img in X_test])\n",
        "\n",
        "Class_names = ['airplane', 'automobile', 'bird', 'cat', 'deer', 'dog', 'frog', 'horse', 'ship', 'truck']\n",
        "plot_images(X_train, Y_train[:,0], Class_names, Each_Category=True)"
      ],
      "execution_count": 5,
      "outputs": [
        {
          "output_type": "stream",
          "name": "stdout",
          "text": [
            "Downloading data from https://www.cs.toronto.edu/~kriz/cifar-10-python.tar.gz\n",
            "170500096/170498071 [==============================] - 2s 0us/step\n",
            "170508288/170498071 [==============================] - 2s 0us/step\n",
            "Train data shape (40000, 32, 32, 3)\n",
            "Train labels shape (40000, 1)\n",
            "Validation data shape (10000, 32, 32, 3)\n",
            "Validataion labels shape (10000, 1)\n",
            "Test data shape (10000, 32, 32, 3)\n",
            "Test labels shape (10000, 1)\n"
          ]
        },
        {
          "output_type": "display_data",
          "data": {
            "text/plain": [
              "<Figure size 864x432 with 10 Axes>"
            ],
            "image/png": "[encoded data removed]"
          },
          "metadata": {
            "needs_background": "light"
          }
        }
      ]
    },
    {
      "cell_type": "code",
      "metadata": {
        "id": "DGvga74C3iRb"
      },
      "source": [
        "#Batch 선언 \n",
        "BATCH_SIZE=500\n",
        "N_VALIDATION = len(Y_val)\n",
        "N_TRAIN = len(Y_train)\n",
        "train_ds= tf.data.Dataset.from_tensor_slices(\n",
        "    (X_train, Y_train)).cache().shuffle(len(Y_train)).batch(BATCH_SIZE)\n",
        "val_ds= tf.data.Dataset.from_tensor_slices(\n",
        "    (X_val, Y_val)).cache().batch(BATCH_SIZE)\n",
        "test_ds= tf.data.Dataset.from_tensor_slices(\n",
        "    (X_test, Y_test)).cache().batch(BATCH_SIZE)\n"
      ],
      "execution_count": 10,
      "outputs": []
    },
    {
      "cell_type": "markdown",
      "metadata": {
        "id": "WlZKstlZuifL"
      },
      "source": [
        "## <a name=\"1\"></a> 1. Training a basic CNN model \n",
        "\n",
        "In this section, you will learn how to define a simple CNN model architecture, train the model, and evaluate its performance on the validation dataset. The goal here isn't to get good performance (that'll be next), but instead to get comfortable with understanding the TensorFlow and configuring a CNN model.\n",
        "\n",
        "Using the code provided as guidance, **(1) define**, **(2) train**, and **(3) evaluate** a model with the following architecture and training setup:\n",
        "\n",
        "#### CNN architecture:\n",
        "* 9x9 Convolutional layer with 8 filters, strides of 1, and ReLU activation\n",
        "* 3x3 Max pooling layer with strides of 3\n",
        "* Fully connected layer with 8 output units and ReLU activation\n",
        "* Fully connected layer with 10 output units and linear activation\n",
        "* You can use any padding option.\n",
        "\n",
        "#### Training setup:\n",
        "* Loss function: Sotfmax cross entropy\n",
        "* Optimizer: Gradient descent with 0.01 learning rate\n",
        "* Batch size: 500\n",
        "* Training epoch: 1"
      ]
    },
    {
      "cell_type": "code",
      "metadata": {
        "id": "R4Xh2MgN7EFU"
      },
      "source": [
        "CNN_histories = {}"
      ],
      "execution_count": 7,
      "outputs": []
    },
    {
      "cell_type": "code",
      "metadata": {
        "id": "XghbHk4luifM"
      },
      "source": [
        "# Define our model as a class\n",
        "# It includes our model architecture, loss function, optimizer, and evaluation metrics\n",
        "\n",
        "class MyCNN(Model) : \n",
        "  def __init__(self) : \n",
        "    super(MyCNN, self).__init__()\n",
        "    self.layer1 = tf.keras.layers.Conv2D(5, kernel_size = 3, strides = (1,1), padding='valid', activation = 'relu')\n",
        "    self.layer2 = tf.keras.layers.Conv2D(5, kernel_size = 3, strides = (1,1), padding='valid', activation = 'relu')\n",
        "    self.layer3 = tf.keras.layers.Conv2D(5, kernel_size = 3, strides = (1,1), padding='valid', activation = 'relu')\n",
        "    self.pooling = tf.keras.layers.MaxPool2D(pool_size = (1,1), padding = 'valid')\n",
        "    self.flatten = tf.keras.layers.Flatten()\n",
        "    self.out = tf.keras.layers.Dense(10)\n",
        "\n",
        "  def call(self, input) : \n",
        "    #print(\"input : \",input.shape)\n",
        "    x = self.layer1(input)\n",
        "    x = self.pooling(x)\n",
        "    x = self.layer2(x)\n",
        "    x = self.pooling(x)\n",
        "    x = self.layer3(x)\n",
        "    x = self.flatten(x)\n",
        "    #print(\"output : \", x.shape)\n",
        "\n",
        "    return self.out(x)\n",
        "\n",
        "\n",
        "simple_model = MyCNN()\n",
        "\n",
        "# Clear old variables\n",
        "tf.keras.backend.clear_session()  \n",
        "\n",
        "loss_object = tf.keras.losses.SparseCategoricalCrossentropy(from_logits = True)\n",
        "optimizer = tf.keras.optimizers.Adam()\n",
        "\n"
      ],
      "execution_count": 120,
      "outputs": []
    },
    {
      "cell_type": "code",
      "source": [
        "train_loss = tf.keras.metrics.Mean(name='train_loss')\n",
        "train_accuracy = tf.keras.metrics.SparseCategoricalAccuracy(name='train_accuracy')\n",
        "\n",
        "test_loss = tf.keras.metrics.Mean(name='test_loss')\n",
        "test_accuracy = tf.keras.metrics.SparseCategoricalAccuracy(name='test_accuracy')"
      ],
      "metadata": {
        "id": "ROU5G7VS9FaV"
      },
      "execution_count": 121,
      "outputs": []
    },
    {
      "cell_type": "code",
      "source": [
        "def train_step(images, labels):\n",
        "  with tf.GradientTape() as tape:\n",
        "    # training=True is only needed if there are layers with different\n",
        "    # behavior during training versus inference (e.g. Dropout).\n",
        "    predictions = simple_model(images, training=True)\n",
        "    loss = loss_object(labels, predictions)\n",
        "  gradients = tape.gradient(loss, simple_model.trainable_variables)\n",
        "  optimizer.apply_gradients(zip(gradients, simple_model.trainable_variables))\n",
        "\n",
        "  train_loss(loss)\n",
        "  train_accuracy(labels, predictions)"
      ],
      "metadata": {
        "id": "Gryj2fGg9H2T"
      },
      "execution_count": 122,
      "outputs": []
    },
    {
      "cell_type": "code",
      "source": [
        "def test_step(images, labels):\n",
        "  # training=False is only needed if there are layers with different\n",
        "  # behavior during training versus inference (e.g. Dropout).\n",
        "  predictions = simple_model(images, training=False)\n",
        "  t_loss = loss_object(labels, predictions)\n",
        "\n",
        "  test_loss(t_loss)\n",
        "  test_accuracy(labels, predictions)"
      ],
      "metadata": {
        "id": "NI-0qHTO9VYz"
      },
      "execution_count": 123,
      "outputs": []
    },
    {
      "cell_type": "code",
      "source": [
        "EPOCHS = 1\n",
        "\n",
        "for epoch in range(EPOCHS):\n",
        "  # Reset the metrics at the start of the next epoch\n",
        "  train_loss.reset_states()\n",
        "  train_accuracy.reset_states()\n",
        "  test_loss.reset_states()\n",
        "  test_accuracy.reset_states()\n",
        "\n",
        "  for images, labels in train_ds:\n",
        "    train_step(images, labels)\n",
        "\n",
        "  for test_images, test_labels in test_ds:\n",
        "    test_step(test_images, test_labels)\n",
        "\n",
        "  print(\n",
        "    f'Epoch {epoch + 1}, '\n",
        "    f'Loss: {train_loss.result()}, '\n",
        "    f'Accuracy: {train_accuracy.result() * 100}, '\n",
        "    f'Test Loss: {test_loss.result()}, '\n",
        "    f'Test Accuracy: {test_accuracy.result() * 100}'\n",
        "  )"
      ],
      "metadata": {
        "colab": {
          "base_uri": "https://localhost:8080/"
        },
        "id": "772AJtt99RXj",
        "outputId": "413b690d-8ff2-475a-a2d1-7394523931a0"
      },
      "execution_count": 124,
      "outputs": [
        {
          "output_type": "stream",
          "name": "stdout",
          "text": [
            "Epoch 1, Loss: 1.9795345067977905, Accuracy: 28.997499465942383, Test Loss: 1.787096619606018, Test Accuracy: 36.88999938964844\n"
          ]
        }
      ]
    },
    {
      "cell_type": "markdown",
      "metadata": {
        "id": "omFm2aP_uifO"
      },
      "source": [
        "## <a name=\"2\"></a>2. Training a CNN model with Inception module \n",
        "In this section, you will implement a little more complex CNN model with an `Inception module` [6]. <br>\n",
        "\n",
        "![Inception_module](/content/drive/My Drive/CNN/Utils/InceptionModule_GoogLeNet.png)\n",
        "\n",
        "Using the code provided as guidance, <br>\n",
        "**(1)** Define an `inception module`, which is the building block of **Inception model (a.k.a GoogLeNet)**, the winner of ILSVRC14. <br>\n",
        "**(2)** Define, train, and evaluate a CNN model with the following architecture and training setup:\n",
        "\n",
        "#### CNN architecture:\n",
        "* `Inception module` with \n",
        "    * 8 filters for the main convolutions (blue blocks in the Figure(a))\n",
        "    * 2 filters for the dimensionality reduction convolutions (yellow blocks in the Figure(a))\n",
        "    *  ReLU activation\n",
        "* Fully connected layer with 10 output units and linear activation\n",
        "* Choose the proper padding option on your own.\n",
        "\n",
        "#### Training setup:\n",
        "* Loss function: Sotfmax cross entropy\n",
        "* Optimizer: Gradient descent with 0.01 learning rate\n",
        "* Batch size: 500\n",
        "* Training epoch: 5"
      ]
    },
    {
      "cell_type": "code",
      "metadata": {
        "id": "kij8Doz3uifP"
      },
      "source": [
        "class Inception_model(Model):\n",
        "    def __init__(self, C1=8, C3_R=2, C3=8, C5_R=2, C5=8, P3_R=2):\n",
        "        '''\n",
        "        C1, C3, C5: number of filters for the main convolutions\n",
        "        C3_R, C5_R, P3_R: number of filters for the dimensionality reduction convolutions\n",
        "        '''\n",
        "        ##############################################################################\n",
        "        #                          IMPLEMENT YOUR CODE                               #\n",
        "        ##############################################################################\n",
        "        # Define model architecture\n",
        "        pass\n",
        "        ##############################################################################\n",
        "        #                          IMPLEMENT YOUR CODE                               #\n",
        "        ##############################################################################\n",
        "\n",
        "    def call(self, x):\n",
        "        ##############################################################################\n",
        "        #                          IMPLEMENT YOUR CODE                               #\n",
        "        ##############################################################################\n",
        "        pass\n",
        "        ##############################################################################\n",
        "        #                          IMPLEMENT YOUR CODE                               #\n",
        "        ##############################################################################\n",
        "\n",
        "# Clear old variables\n",
        "tf.keras.backend.clear_session()\n",
        "\n",
        "# Declare out simple model\n",
        "model = Inception_model()   \n",
        "\n",
        "# Now, train and test the model\n",
        "##############################################################################\n",
        "#                          IMPLEMENT YOUR CODE                               #\n",
        "##############################################################################\n",
        "\n",
        "##############################################################################\n",
        "#                          IMPLEMENT YOUR CODE                               #\n",
        "##############################################################################"
      ],
      "execution_count": 125,
      "outputs": []
    },
    {
      "cell_type": "markdown",
      "metadata": {
        "id": "O1VqTZcYuifS"
      },
      "source": [
        "## <a name=\"3\"></a>3. Design a better model on CIFAR-10\n",
        "\n",
        "Now it's your job to experiment with CNNs to train a model that achieves **<font color=red>>= 70% accuracy on the validation set</font>** of CIFAR-10. <br> You can reuse the implemented functions from above.\n",
        "\n",
        "### Things you can try to change:\n",
        "- Filter size\n",
        "- Number of filters\n",
        "- Pooling vs Strided Convolution\n",
        "- Network architectures\n",
        "- Optimizers\n",
        "- Activation functions\n",
        "- Regularizations\n",
        "- Model ensembles\n",
        "- Data augmentation"
      ]
    },
    {
      "cell_type": "code",
      "metadata": {
        "id": "5Cwrs986HFbH"
      },
      "source": [
        "class my_model(object):\n",
        "    def __init__(self):\n",
        "        ##############################################################################\n",
        "        #                          IMPLEMENT YOUR CODE                               #\n",
        "        ##############################################################################\n",
        "        # Define model architecture\n",
        "        pass\n",
        "        ##############################################################################\n",
        "        #                             END OF YOUR CODE                               #\n",
        "        ##############################################################################\n",
        "    def call(self, x):\n",
        "        ##############################################################################\n",
        "        #                          IMPLEMENT YOUR CODE                               #\n",
        "        ##############################################################################\n",
        "        # Train and eval. Pleas print the loss and accuracy in training and evaluation.\n",
        "        pass\n",
        "        ##############################################################################\n",
        "        #                             END OF YOUR CODE                               #\n",
        "        ##############################################################################\n",
        "\n",
        "# Clear old variables\n",
        "tf.keras.backend.clear_session()\n",
        "\n",
        "# Declare out simple model\n",
        "model = my_model()   \n",
        "# Now, train and test the model\n",
        "##############################################################################\n",
        "#                          IMPLEMENT YOUR CODE                               #\n",
        "##############################################################################\n",
        "\n",
        "##############################################################################\n",
        "#                          IMPLEMENT YOUR CODE                               #\n",
        "##############################################################################"
      ],
      "execution_count": 126,
      "outputs": []
    }
  ]
}