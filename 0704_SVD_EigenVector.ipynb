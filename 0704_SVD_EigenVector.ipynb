{
  "nbformat": 4,
  "nbformat_minor": 0,
  "metadata": {
    "colab": {
      "name": "0704_SVD_EigenVector.ipynb",
      "private_outputs": true,
      "provenance": [],
      "collapsed_sections": [],
      "authorship_tag": "ABX9TyMkJZnmPR8KU0O+hR1Zd1lT",
      "include_colab_link": true
    },
    "kernelspec": {
      "name": "python3",
      "display_name": "Python 3"
    },
    "language_info": {
      "name": "python"
    }
  },
  "cells": [
    {
      "cell_type": "markdown",
      "metadata": {
        "id": "view-in-github",
        "colab_type": "text"
      },
      "source": [
        "<a href=\"https://colab.research.google.com/github/JHyunjun/Seoul_National_University/blob/main/0704_SVD_EigenVector.ipynb\" target=\"_parent\"><img src=\"https://colab.research.google.com/assets/colab-badge.svg\" alt=\"Open In Colab\"/></a>"
      ]
    },
    {
      "cell_type": "code",
      "execution_count": null,
      "metadata": {
        "id": "vnF33mJs965A"
      },
      "outputs": [],
      "source": [
        "import numpy as np\n",
        "import scipy.optimize"
      ]
    },
    {
      "cell_type": "code",
      "source": [
        "A,B,C = np.zeros((3,3,2))\n",
        "A[0][0], A[0][1] = 1,2\n",
        "B[0][0], B[1][1] = 1,2\n",
        "C[0][0], C[1][0] = 1,2\n",
        "\n",
        "#Find Basis Vector\n",
        "print(\"A:\",A)\n",
        "print(scipy.linalg.orth(A))\n",
        "print(\"B:\",B)\n",
        "print(scipy.linalg.orth(B))\n",
        "print(\"C:\",C)\n",
        "print(scipy.linalg.orth(C))\n"
      ],
      "metadata": {
        "id": "xbTXsrDM-FN4"
      },
      "execution_count": null,
      "outputs": []
    },
    {
      "cell_type": "code",
      "source": [
        "#Find rank\n",
        "A = np.array([[1,2],[3,4]])\n",
        "B = np.array([[2,1,4],[3,1.5,6]])\n",
        "\n",
        "b,c = np.random.normal(0,1,2)\n",
        "M = np.array([[1,b],[c,b*c]])\n",
        "\n",
        "AB = np.matmul(A,B)\n",
        "AM = np.matmul(A,M)\n",
        "\n",
        "def findrank(M, epsilon = 1e-5) : \n",
        "    #Singular Value = # of RANK\n",
        "    s = scipy.linalg.svd(M, compute_uv = True)\n",
        "    #s = scipy.linalg.svd(M, compute_ub = False)\n",
        "    # True일시, Matrix 3개모두나옴\n",
        "    return s\n",
        "    #return len(np.where(s>epsilon[0]))\n",
        "\n",
        "print(\"soultion 1 : using SVD\")\n",
        "print(\"- Rank of  AB : \", findrank(AB))\n",
        "print(\"- Rank of  AM : \", findrank(AM))"
      ],
      "metadata": {
        "id": "-fPAy569_p45"
      },
      "execution_count": null,
      "outputs": []
    },
    {
      "cell_type": "code",
      "source": [
        "# Q에따라 바뀌는 RANK 갯수\n",
        "\n",
        "A = np.array([[6,4,2],[-3,-2,-1],[9,6,0]])\n",
        "B = np.array([[3,1,3],[0,2,0]])\n",
        "\n",
        "print(\"For Matrix A : \")\n",
        "A[2][2] = 3\n",
        "print(\"1) For q = 3, rank \", np.linalg.matrix_rank(A))\n",
        "A[2][2] = 4\n",
        "print(\"1) For q = 4, rank \", np.linalg.matrix_rank(A))"
      ],
      "metadata": {
        "id": "DeAEUvA0BbzI"
      },
      "execution_count": null,
      "outputs": []
    },
    {
      "cell_type": "code",
      "source": [
        "# w1,w2,w3 are independent vectors, show the differences w2-w3, w1-w3, w1-w2 are dependent\n",
        "\n",
        "w1, w2, w3 = np.identity(3)\n",
        "print(w1)\n",
        "print(w2)\n",
        "print(w3)\n",
        "\n",
        "v1, v2, v3 = w2-w3, w1-w3, w1-w2\n",
        "V = np.stack((v1,v2,v3)).T\n",
        "print(\"v1:\",v1)\n",
        "print(\"v2:\",v2)\n",
        "print(\"v3:\",v3)\n",
        "print(\"V:\",V)\n",
        "\n",
        "print(np.linalg.matrix_rank(V))\n",
        "print(\"Vectors v1, v2 and v3 are dependent since the rank of the matrix V is lower than 3.\")\n",
        "\n",
        "#My Case\n",
        "print(\"My Test----\")\n",
        "x1 = np.array([3,2,5])\n",
        "x2 = np.array([1,7,1])\n",
        "x3 = np.array([4,5,6])\n",
        "\n",
        "x_stack = np.stack((x1,x2,x3)).T\n",
        "print(x_stack)\n",
        "print(\"X : \",np.linalg.matrix_rank(x_stack))\n",
        "\n",
        "y1 = x1 - x2\n",
        "y2 = x1 - x3\n",
        "y_stack = np.stack((y1,y2)).T\n",
        "print(\"Y : \",y_stack, np.linalg.matrix_rank(y_stack))"
      ],
      "metadata": {
        "id": "-tC5w9JoCPbI"
      },
      "execution_count": null,
      "outputs": []
    },
    {
      "cell_type": "code",
      "source": [
        "# Note that u and v are not unique vectors \n",
        "A1 = np.zeros((3,4))\n",
        "A1[0][0], A1[0][-1] = 1, 3\n",
        "A1[-1][0], A1[-1][-1] = 2, 6\n",
        "\n",
        "A2 = np.array([[2,-2], [6,-6]])\n",
        "\n",
        "def SVDecom(M, epsilon = 1e-5) : \n",
        "    U, s, Vt = scipy.linalg.svd(M)\n",
        "    idx = np.where(s>epsilon)\n",
        "    rank = len(idx[0])\n",
        "    #여기서 U는 U,Gamma,V에서 U*Gamma한것을 의미함\n",
        "    u = np.matmul(U[:,idx], s[idx])\n",
        "    vt = Vt[idx,:]\n",
        "    return rank, u, vt\n",
        "\n",
        "rank1, u1, vt1 = SVDecom(A1)\n",
        "\n",
        "print(\"Matrix A1 : \", A1)\n",
        "print(\"-rank : \",rank1)\n",
        "print(\"-u:\", u1.T.squeeze())\n",
        "print(\"-vt:\",vt1.squeeze().T.squeeze())\n",
        "print(\"-u vt : \\n\", np.matmul(u1,vt1).squeeze())\n",
        "\n"
      ],
      "metadata": {
        "id": "lsXAbs2jFZgz"
      },
      "execution_count": null,
      "outputs": []
    },
    {
      "cell_type": "code",
      "source": [
        "# Find eigenVectors and eigenvalues\n",
        "\n",
        "A = np.array([[1,-1],[2,4]])\n",
        "\n",
        "eigenvalues, eigenvectors = scipy.linalg.eig(A)\n",
        "print(\"Eigen Values : \", eigenvalues)\n",
        "print(\"Eigen Vectors : \", eigenvectors)\n",
        "print(np.sum(eigenvalues) == np.trace(A))"
      ],
      "metadata": {
        "id": "_QYEEAMYHjeb"
      },
      "execution_count": null,
      "outputs": []
    },
    {
      "cell_type": "code",
      "source": [
        "# pseudo-inverse Matrix\n",
        "\n",
        "A = np.array([[1,1,1],[2,-1,2]])\n",
        "y = np.array([1,2])\n",
        "\n",
        "print(\"A:\",A)\n",
        "U = np.array([[-0.4, -0.9], [-0.9, 0.4]])\n",
        "S = np.diag([3,1])\n",
        "V = np.array([[-0.7, -0.1], [-0.2, -1], [-0.7,-0.1]])\n",
        "\n",
        "#pinv = pseudo Inverse\n",
        "Ap = np.matmul(np.matmul(V, np.linalg.pinv(S)), U.T)\n",
        "x = np.matmul(Ap,y)\n",
        "print(\"x :\",x)\n",
        "print(\"y - Ax : \",y - np.matmul(A,x))\n",
        "\n",
        "print(\"pseudo Inverse of A  : \", Ap)\n",
        "AA = np.matmul(A,Ap)\n",
        "print(AA)"
      ],
      "metadata": {
        "id": "-RPqxAYGF-gr"
      },
      "execution_count": null,
      "outputs": []
    },
    {
      "cell_type": "code",
      "source": [
        ""
      ],
      "metadata": {
        "id": "OC-vo-uILM49"
      },
      "execution_count": null,
      "outputs": []
    }
  ]
}