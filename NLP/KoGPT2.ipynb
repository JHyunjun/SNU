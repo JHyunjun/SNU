{
  "nbformat": 4,
  "nbformat_minor": 0,
  "metadata": {
    "kernelspec": {
      "display_name": "Python 3",
      "language": "python",
      "name": "python3"
    },
    "language_info": {
      "codemirror_mode": {
        "name": "ipython",
        "version": 3
      },
      "file_extension": ".py",
      "mimetype": "text/x-python",
      "name": "python",
      "nbconvert_exporter": "python",
      "pygments_lexer": "ipython3",
      "version": "3.7.10"
    },
    "colab": {
      "name": "220802_현대차AI_KoGPT실습.ipynb의 사본",
      "provenance": [],
      "collapsed_sections": [],
      "include_colab_link": true
    },
    "accelerator": "GPU",
    "widgets": {
      "application/vnd.jupyter.widget-state+json": {
        "f4b8df5ea0844f17905eec3a27319688": {
          "model_module": "@jupyter-widgets/controls",
          "model_name": "HBoxModel",
          "model_module_version": "1.5.0",
          "state": {
            "_dom_classes": [],
            "_model_module": "@jupyter-widgets/controls",
            "_model_module_version": "1.5.0",
            "_model_name": "HBoxModel",
            "_view_count": null,
            "_view_module": "@jupyter-widgets/controls",
            "_view_module_version": "1.5.0",
            "_view_name": "HBoxView",
            "box_style": "",
            "children": [
              "IPY_MODEL_2d13015cd25d4d6b9ec2ace284f03dfe",
              "IPY_MODEL_3a3cf4c7441e4a328cc7d2f8c9988804",
              "IPY_MODEL_33c28e1457154e27ad9bc88fd2b3b4b0"
            ],
            "layout": "IPY_MODEL_d210b0cb6ffd410aacdb512ee691499c"
          }
        },
        "2d13015cd25d4d6b9ec2ace284f03dfe": {
          "model_module": "@jupyter-widgets/controls",
          "model_name": "HTMLModel",
          "model_module_version": "1.5.0",
          "state": {
            "_dom_classes": [],
            "_model_module": "@jupyter-widgets/controls",
            "_model_module_version": "1.5.0",
            "_model_name": "HTMLModel",
            "_view_count": null,
            "_view_module": "@jupyter-widgets/controls",
            "_view_module_version": "1.5.0",
            "_view_name": "HTMLView",
            "description": "",
            "description_tooltip": null,
            "layout": "IPY_MODEL_8befbfcf477c488c984abf189fe57062",
            "placeholder": "​",
            "style": "IPY_MODEL_8e958f8268e54f3eb69af4d1d0ef4ba2",
            "value": "Downloading tokenizer.json: 100%"
          }
        },
        "3a3cf4c7441e4a328cc7d2f8c9988804": {
          "model_module": "@jupyter-widgets/controls",
          "model_name": "FloatProgressModel",
          "model_module_version": "1.5.0",
          "state": {
            "_dom_classes": [],
            "_model_module": "@jupyter-widgets/controls",
            "_model_module_version": "1.5.0",
            "_model_name": "FloatProgressModel",
            "_view_count": null,
            "_view_module": "@jupyter-widgets/controls",
            "_view_module_version": "1.5.0",
            "_view_name": "ProgressView",
            "bar_style": "success",
            "description": "",
            "description_tooltip": null,
            "layout": "IPY_MODEL_bc5e17fb884246c4a4b25206b303bf68",
            "max": 2825034,
            "min": 0,
            "orientation": "horizontal",
            "style": "IPY_MODEL_517383468bdd4adbabd3715c38b4844e",
            "value": 2825034
          }
        },
        "33c28e1457154e27ad9bc88fd2b3b4b0": {
          "model_module": "@jupyter-widgets/controls",
          "model_name": "HTMLModel",
          "model_module_version": "1.5.0",
          "state": {
            "_dom_classes": [],
            "_model_module": "@jupyter-widgets/controls",
            "_model_module_version": "1.5.0",
            "_model_name": "HTMLModel",
            "_view_count": null,
            "_view_module": "@jupyter-widgets/controls",
            "_view_module_version": "1.5.0",
            "_view_name": "HTMLView",
            "description": "",
            "description_tooltip": null,
            "layout": "IPY_MODEL_6c7ba89896d84243be3bb1c815bb0c52",
            "placeholder": "​",
            "style": "IPY_MODEL_8d159291f2f44c7a9d18044e64f8446a",
            "value": " 2.69M/2.69M [00:00&lt;00:00, 3.10MB/s]"
          }
        },
        "d210b0cb6ffd410aacdb512ee691499c": {
          "model_module": "@jupyter-widgets/base",
          "model_name": "LayoutModel",
          "model_module_version": "1.2.0",
          "state": {
            "_model_module": "@jupyter-widgets/base",
            "_model_module_version": "1.2.0",
            "_model_name": "LayoutModel",
            "_view_count": null,
            "_view_module": "@jupyter-widgets/base",
            "_view_module_version": "1.2.0",
            "_view_name": "LayoutView",
            "align_content": null,
            "align_items": null,
            "align_self": null,
            "border": null,
            "bottom": null,
            "display": null,
            "flex": null,
            "flex_flow": null,
            "grid_area": null,
            "grid_auto_columns": null,
            "grid_auto_flow": null,
            "grid_auto_rows": null,
            "grid_column": null,
            "grid_gap": null,
            "grid_row": null,
            "grid_template_areas": null,
            "grid_template_columns": null,
            "grid_template_rows": null,
            "height": null,
            "justify_content": null,
            "justify_items": null,
            "left": null,
            "margin": null,
            "max_height": null,
            "max_width": null,
            "min_height": null,
            "min_width": null,
            "object_fit": null,
            "object_position": null,
            "order": null,
            "overflow": null,
            "overflow_x": null,
            "overflow_y": null,
            "padding": null,
            "right": null,
            "top": null,
            "visibility": null,
            "width": null
          }
        },
        "8befbfcf477c488c984abf189fe57062": {
          "model_module": "@jupyter-widgets/base",
          "model_name": "LayoutModel",
          "model_module_version": "1.2.0",
          "state": {
            "_model_module": "@jupyter-widgets/base",
            "_model_module_version": "1.2.0",
            "_model_name": "LayoutModel",
            "_view_count": null,
            "_view_module": "@jupyter-widgets/base",
            "_view_module_version": "1.2.0",
            "_view_name": "LayoutView",
            "align_content": null,
            "align_items": null,
            "align_self": null,
            "border": null,
            "bottom": null,
            "display": null,
            "flex": null,
            "flex_flow": null,
            "grid_area": null,
            "grid_auto_columns": null,
            "grid_auto_flow": null,
            "grid_auto_rows": null,
            "grid_column": null,
            "grid_gap": null,
            "grid_row": null,
            "grid_template_areas": null,
            "grid_template_columns": null,
            "grid_template_rows": null,
            "height": null,
            "justify_content": null,
            "justify_items": null,
            "left": null,
            "margin": null,
            "max_height": null,
            "max_width": null,
            "min_height": null,
            "min_width": null,
            "object_fit": null,
            "object_position": null,
            "order": null,
            "overflow": null,
            "overflow_x": null,
            "overflow_y": null,
            "padding": null,
            "right": null,
            "top": null,
            "visibility": null,
            "width": null
          }
        },
        "8e958f8268e54f3eb69af4d1d0ef4ba2": {
          "model_module": "@jupyter-widgets/controls",
          "model_name": "DescriptionStyleModel",
          "model_module_version": "1.5.0",
          "state": {
            "_model_module": "@jupyter-widgets/controls",
            "_model_module_version": "1.5.0",
            "_model_name": "DescriptionStyleModel",
            "_view_count": null,
            "_view_module": "@jupyter-widgets/base",
            "_view_module_version": "1.2.0",
            "_view_name": "StyleView",
            "description_width": ""
          }
        },
        "bc5e17fb884246c4a4b25206b303bf68": {
          "model_module": "@jupyter-widgets/base",
          "model_name": "LayoutModel",
          "model_module_version": "1.2.0",
          "state": {
            "_model_module": "@jupyter-widgets/base",
            "_model_module_version": "1.2.0",
            "_model_name": "LayoutModel",
            "_view_count": null,
            "_view_module": "@jupyter-widgets/base",
            "_view_module_version": "1.2.0",
            "_view_name": "LayoutView",
            "align_content": null,
            "align_items": null,
            "align_self": null,
            "border": null,
            "bottom": null,
            "display": null,
            "flex": null,
            "flex_flow": null,
            "grid_area": null,
            "grid_auto_columns": null,
            "grid_auto_flow": null,
            "grid_auto_rows": null,
            "grid_column": null,
            "grid_gap": null,
            "grid_row": null,
            "grid_template_areas": null,
            "grid_template_columns": null,
            "grid_template_rows": null,
            "height": null,
            "justify_content": null,
            "justify_items": null,
            "left": null,
            "margin": null,
            "max_height": null,
            "max_width": null,
            "min_height": null,
            "min_width": null,
            "object_fit": null,
            "object_position": null,
            "order": null,
            "overflow": null,
            "overflow_x": null,
            "overflow_y": null,
            "padding": null,
            "right": null,
            "top": null,
            "visibility": null,
            "width": null
          }
        },
        "517383468bdd4adbabd3715c38b4844e": {
          "model_module": "@jupyter-widgets/controls",
          "model_name": "ProgressStyleModel",
          "model_module_version": "1.5.0",
          "state": {
            "_model_module": "@jupyter-widgets/controls",
            "_model_module_version": "1.5.0",
            "_model_name": "ProgressStyleModel",
            "_view_count": null,
            "_view_module": "@jupyter-widgets/base",
            "_view_module_version": "1.2.0",
            "_view_name": "StyleView",
            "bar_color": null,
            "description_width": ""
          }
        },
        "6c7ba89896d84243be3bb1c815bb0c52": {
          "model_module": "@jupyter-widgets/base",
          "model_name": "LayoutModel",
          "model_module_version": "1.2.0",
          "state": {
            "_model_module": "@jupyter-widgets/base",
            "_model_module_version": "1.2.0",
            "_model_name": "LayoutModel",
            "_view_count": null,
            "_view_module": "@jupyter-widgets/base",
            "_view_module_version": "1.2.0",
            "_view_name": "LayoutView",
            "align_content": null,
            "align_items": null,
            "align_self": null,
            "border": null,
            "bottom": null,
            "display": null,
            "flex": null,
            "flex_flow": null,
            "grid_area": null,
            "grid_auto_columns": null,
            "grid_auto_flow": null,
            "grid_auto_rows": null,
            "grid_column": null,
            "grid_gap": null,
            "grid_row": null,
            "grid_template_areas": null,
            "grid_template_columns": null,
            "grid_template_rows": null,
            "height": null,
            "justify_content": null,
            "justify_items": null,
            "left": null,
            "margin": null,
            "max_height": null,
            "max_width": null,
            "min_height": null,
            "min_width": null,
            "object_fit": null,
            "object_position": null,
            "order": null,
            "overflow": null,
            "overflow_x": null,
            "overflow_y": null,
            "padding": null,
            "right": null,
            "top": null,
            "visibility": null,
            "width": null
          }
        },
        "8d159291f2f44c7a9d18044e64f8446a": {
          "model_module": "@jupyter-widgets/controls",
          "model_name": "DescriptionStyleModel",
          "model_module_version": "1.5.0",
          "state": {
            "_model_module": "@jupyter-widgets/controls",
            "_model_module_version": "1.5.0",
            "_model_name": "DescriptionStyleModel",
            "_view_count": null,
            "_view_module": "@jupyter-widgets/base",
            "_view_module_version": "1.2.0",
            "_view_name": "StyleView",
            "description_width": ""
          }
        },
        "9e7dcc302e49464da1ccee1251d17b5b": {
          "model_module": "@jupyter-widgets/controls",
          "model_name": "HBoxModel",
          "model_module_version": "1.5.0",
          "state": {
            "_dom_classes": [],
            "_model_module": "@jupyter-widgets/controls",
            "_model_module_version": "1.5.0",
            "_model_name": "HBoxModel",
            "_view_count": null,
            "_view_module": "@jupyter-widgets/controls",
            "_view_module_version": "1.5.0",
            "_view_name": "HBoxView",
            "box_style": "",
            "children": [
              "IPY_MODEL_0406faa74a924199a87ae1a63a6a9182",
              "IPY_MODEL_7d7220b3cab246fb820dc06d53aa58fa",
              "IPY_MODEL_f4a65b3ef7e747fd8f970e80ac9b9fb5"
            ],
            "layout": "IPY_MODEL_8946e99d2481465191a97452a8f049ac"
          }
        },
        "0406faa74a924199a87ae1a63a6a9182": {
          "model_module": "@jupyter-widgets/controls",
          "model_name": "HTMLModel",
          "model_module_version": "1.5.0",
          "state": {
            "_dom_classes": [],
            "_model_module": "@jupyter-widgets/controls",
            "_model_module_version": "1.5.0",
            "_model_name": "HTMLModel",
            "_view_count": null,
            "_view_module": "@jupyter-widgets/controls",
            "_view_module_version": "1.5.0",
            "_view_name": "HTMLView",
            "description": "",
            "description_tooltip": null,
            "layout": "IPY_MODEL_56cfb0393a5941ca9533b451a79bf455",
            "placeholder": "​",
            "style": "IPY_MODEL_a91897cb0d934cc38caf5aa02e3f0ee7",
            "value": "Downloading config.json: 100%"
          }
        },
        "7d7220b3cab246fb820dc06d53aa58fa": {
          "model_module": "@jupyter-widgets/controls",
          "model_name": "FloatProgressModel",
          "model_module_version": "1.5.0",
          "state": {
            "_dom_classes": [],
            "_model_module": "@jupyter-widgets/controls",
            "_model_module_version": "1.5.0",
            "_model_name": "FloatProgressModel",
            "_view_count": null,
            "_view_module": "@jupyter-widgets/controls",
            "_view_module_version": "1.5.0",
            "_view_name": "ProgressView",
            "bar_style": "success",
            "description": "",
            "description_tooltip": null,
            "layout": "IPY_MODEL_3e79c9754cda423ab9deba90c843c01b",
            "max": 1000,
            "min": 0,
            "orientation": "horizontal",
            "style": "IPY_MODEL_3714b22a133a492da15a346e1b77349e",
            "value": 1000
          }
        },
        "f4a65b3ef7e747fd8f970e80ac9b9fb5": {
          "model_module": "@jupyter-widgets/controls",
          "model_name": "HTMLModel",
          "model_module_version": "1.5.0",
          "state": {
            "_dom_classes": [],
            "_model_module": "@jupyter-widgets/controls",
            "_model_module_version": "1.5.0",
            "_model_name": "HTMLModel",
            "_view_count": null,
            "_view_module": "@jupyter-widgets/controls",
            "_view_module_version": "1.5.0",
            "_view_name": "HTMLView",
            "description": "",
            "description_tooltip": null,
            "layout": "IPY_MODEL_3b13c5cc47614b1f810336bd47b9e0c6",
            "placeholder": "​",
            "style": "IPY_MODEL_fbb6fe64c3734396b0de5eba84398bed",
            "value": " 0.98k/0.98k [00:00&lt;00:00, 31.8kB/s]"
          }
        },
        "8946e99d2481465191a97452a8f049ac": {
          "model_module": "@jupyter-widgets/base",
          "model_name": "LayoutModel",
          "model_module_version": "1.2.0",
          "state": {
            "_model_module": "@jupyter-widgets/base",
            "_model_module_version": "1.2.0",
            "_model_name": "LayoutModel",
            "_view_count": null,
            "_view_module": "@jupyter-widgets/base",
            "_view_module_version": "1.2.0",
            "_view_name": "LayoutView",
            "align_content": null,
            "align_items": null,
            "align_self": null,
            "border": null,
            "bottom": null,
            "display": null,
            "flex": null,
            "flex_flow": null,
            "grid_area": null,
            "grid_auto_columns": null,
            "grid_auto_flow": null,
            "grid_auto_rows": null,
            "grid_column": null,
            "grid_gap": null,
            "grid_row": null,
            "grid_template_areas": null,
            "grid_template_columns": null,
            "grid_template_rows": null,
            "height": null,
            "justify_content": null,
            "justify_items": null,
            "left": null,
            "margin": null,
            "max_height": null,
            "max_width": null,
            "min_height": null,
            "min_width": null,
            "object_fit": null,
            "object_position": null,
            "order": null,
            "overflow": null,
            "overflow_x": null,
            "overflow_y": null,
            "padding": null,
            "right": null,
            "top": null,
            "visibility": null,
            "width": null
          }
        },
        "56cfb0393a5941ca9533b451a79bf455": {
          "model_module": "@jupyter-widgets/base",
          "model_name": "LayoutModel",
          "model_module_version": "1.2.0",
          "state": {
            "_model_module": "@jupyter-widgets/base",
            "_model_module_version": "1.2.0",
            "_model_name": "LayoutModel",
            "_view_count": null,
            "_view_module": "@jupyter-widgets/base",
            "_view_module_version": "1.2.0",
            "_view_name": "LayoutView",
            "align_content": null,
            "align_items": null,
            "align_self": null,
            "border": null,
            "bottom": null,
            "display": null,
            "flex": null,
            "flex_flow": null,
            "grid_area": null,
            "grid_auto_columns": null,
            "grid_auto_flow": null,
            "grid_auto_rows": null,
            "grid_column": null,
            "grid_gap": null,
            "grid_row": null,
            "grid_template_areas": null,
            "grid_template_columns": null,
            "grid_template_rows": null,
            "height": null,
            "justify_content": null,
            "justify_items": null,
            "left": null,
            "margin": null,
            "max_height": null,
            "max_width": null,
            "min_height": null,
            "min_width": null,
            "object_fit": null,
            "object_position": null,
            "order": null,
            "overflow": null,
            "overflow_x": null,
            "overflow_y": null,
            "padding": null,
            "right": null,
            "top": null,
            "visibility": null,
            "width": null
          }
        },
        "a91897cb0d934cc38caf5aa02e3f0ee7": {
          "model_module": "@jupyter-widgets/controls",
          "model_name": "DescriptionStyleModel",
          "model_module_version": "1.5.0",
          "state": {
            "_model_module": "@jupyter-widgets/controls",
            "_model_module_version": "1.5.0",
            "_model_name": "DescriptionStyleModel",
            "_view_count": null,
            "_view_module": "@jupyter-widgets/base",
            "_view_module_version": "1.2.0",
            "_view_name": "StyleView",
            "description_width": ""
          }
        },
        "3e79c9754cda423ab9deba90c843c01b": {
          "model_module": "@jupyter-widgets/base",
          "model_name": "LayoutModel",
          "model_module_version": "1.2.0",
          "state": {
            "_model_module": "@jupyter-widgets/base",
            "_model_module_version": "1.2.0",
            "_model_name": "LayoutModel",
            "_view_count": null,
            "_view_module": "@jupyter-widgets/base",
            "_view_module_version": "1.2.0",
            "_view_name": "LayoutView",
            "align_content": null,
            "align_items": null,
            "align_self": null,
            "border": null,
            "bottom": null,
            "display": null,
            "flex": null,
            "flex_flow": null,
            "grid_area": null,
            "grid_auto_columns": null,
            "grid_auto_flow": null,
            "grid_auto_rows": null,
            "grid_column": null,
            "grid_gap": null,
            "grid_row": null,
            "grid_template_areas": null,
            "grid_template_columns": null,
            "grid_template_rows": null,
            "height": null,
            "justify_content": null,
            "justify_items": null,
            "left": null,
            "margin": null,
            "max_height": null,
            "max_width": null,
            "min_height": null,
            "min_width": null,
            "object_fit": null,
            "object_position": null,
            "order": null,
            "overflow": null,
            "overflow_x": null,
            "overflow_y": null,
            "padding": null,
            "right": null,
            "top": null,
            "visibility": null,
            "width": null
          }
        },
        "3714b22a133a492da15a346e1b77349e": {
          "model_module": "@jupyter-widgets/controls",
          "model_name": "ProgressStyleModel",
          "model_module_version": "1.5.0",
          "state": {
            "_model_module": "@jupyter-widgets/controls",
            "_model_module_version": "1.5.0",
            "_model_name": "ProgressStyleModel",
            "_view_count": null,
            "_view_module": "@jupyter-widgets/base",
            "_view_module_version": "1.2.0",
            "_view_name": "StyleView",
            "bar_color": null,
            "description_width": ""
          }
        },
        "3b13c5cc47614b1f810336bd47b9e0c6": {
          "model_module": "@jupyter-widgets/base",
          "model_name": "LayoutModel",
          "model_module_version": "1.2.0",
          "state": {
            "_model_module": "@jupyter-widgets/base",
            "_model_module_version": "1.2.0",
            "_model_name": "LayoutModel",
            "_view_count": null,
            "_view_module": "@jupyter-widgets/base",
            "_view_module_version": "1.2.0",
            "_view_name": "LayoutView",
            "align_content": null,
            "align_items": null,
            "align_self": null,
            "border": null,
            "bottom": null,
            "display": null,
            "flex": null,
            "flex_flow": null,
            "grid_area": null,
            "grid_auto_columns": null,
            "grid_auto_flow": null,
            "grid_auto_rows": null,
            "grid_column": null,
            "grid_gap": null,
            "grid_row": null,
            "grid_template_areas": null,
            "grid_template_columns": null,
            "grid_template_rows": null,
            "height": null,
            "justify_content": null,
            "justify_items": null,
            "left": null,
            "margin": null,
            "max_height": null,
            "max_width": null,
            "min_height": null,
            "min_width": null,
            "object_fit": null,
            "object_position": null,
            "order": null,
            "overflow": null,
            "overflow_x": null,
            "overflow_y": null,
            "padding": null,
            "right": null,
            "top": null,
            "visibility": null,
            "width": null
          }
        },
        "fbb6fe64c3734396b0de5eba84398bed": {
          "model_module": "@jupyter-widgets/controls",
          "model_name": "DescriptionStyleModel",
          "model_module_version": "1.5.0",
          "state": {
            "_model_module": "@jupyter-widgets/controls",
            "_model_module_version": "1.5.0",
            "_model_name": "DescriptionStyleModel",
            "_view_count": null,
            "_view_module": "@jupyter-widgets/base",
            "_view_module_version": "1.2.0",
            "_view_name": "StyleView",
            "description_width": ""
          }
        },
        "5998fb6ef64b4bc48d184b255cf880c5": {
          "model_module": "@jupyter-widgets/controls",
          "model_name": "HBoxModel",
          "model_module_version": "1.5.0",
          "state": {
            "_dom_classes": [],
            "_model_module": "@jupyter-widgets/controls",
            "_model_module_version": "1.5.0",
            "_model_name": "HBoxModel",
            "_view_count": null,
            "_view_module": "@jupyter-widgets/controls",
            "_view_module_version": "1.5.0",
            "_view_name": "HBoxView",
            "box_style": "",
            "children": [
              "IPY_MODEL_d3846759f32b4fe3ba660dde051f8d7b",
              "IPY_MODEL_0819ad09e6ed420bb098c7081b3d6637",
              "IPY_MODEL_55dc40538930445eb83c95c456e7e670"
            ],
            "layout": "IPY_MODEL_c131dfe8f21e47baa60ba92ac338ef9b"
          }
        },
        "d3846759f32b4fe3ba660dde051f8d7b": {
          "model_module": "@jupyter-widgets/controls",
          "model_name": "HTMLModel",
          "model_module_version": "1.5.0",
          "state": {
            "_dom_classes": [],
            "_model_module": "@jupyter-widgets/controls",
            "_model_module_version": "1.5.0",
            "_model_name": "HTMLModel",
            "_view_count": null,
            "_view_module": "@jupyter-widgets/controls",
            "_view_module_version": "1.5.0",
            "_view_name": "HTMLView",
            "description": "",
            "description_tooltip": null,
            "layout": "IPY_MODEL_8afa34729de0447cb6efe40e90e73ebc",
            "placeholder": "​",
            "style": "IPY_MODEL_44d594eb0f494134873a7b93085a8a83",
            "value": "Downloading pytorch_model.bin: 100%"
          }
        },
        "0819ad09e6ed420bb098c7081b3d6637": {
          "model_module": "@jupyter-widgets/controls",
          "model_name": "FloatProgressModel",
          "model_module_version": "1.5.0",
          "state": {
            "_dom_classes": [],
            "_model_module": "@jupyter-widgets/controls",
            "_model_module_version": "1.5.0",
            "_model_name": "FloatProgressModel",
            "_view_count": null,
            "_view_module": "@jupyter-widgets/controls",
            "_view_module_version": "1.5.0",
            "_view_name": "ProgressView",
            "bar_style": "success",
            "description": "",
            "description_tooltip": null,
            "layout": "IPY_MODEL_81a20e0f5195400f801ccda2de522921",
            "max": 513302779,
            "min": 0,
            "orientation": "horizontal",
            "style": "IPY_MODEL_9dc8190197e6425ba278f60de3ecc633",
            "value": 513302779
          }
        },
        "55dc40538930445eb83c95c456e7e670": {
          "model_module": "@jupyter-widgets/controls",
          "model_name": "HTMLModel",
          "model_module_version": "1.5.0",
          "state": {
            "_dom_classes": [],
            "_model_module": "@jupyter-widgets/controls",
            "_model_module_version": "1.5.0",
            "_model_name": "HTMLModel",
            "_view_count": null,
            "_view_module": "@jupyter-widgets/controls",
            "_view_module_version": "1.5.0",
            "_view_name": "HTMLView",
            "description": "",
            "description_tooltip": null,
            "layout": "IPY_MODEL_82a0167c0a624c78aa2ce170d039bc2c",
            "placeholder": "​",
            "style": "IPY_MODEL_a934fa4f188e460f99cb4e4f555612a5",
            "value": " 490M/490M [00:17&lt;00:00, 56.9MB/s]"
          }
        },
        "c131dfe8f21e47baa60ba92ac338ef9b": {
          "model_module": "@jupyter-widgets/base",
          "model_name": "LayoutModel",
          "model_module_version": "1.2.0",
          "state": {
            "_model_module": "@jupyter-widgets/base",
            "_model_module_version": "1.2.0",
            "_model_name": "LayoutModel",
            "_view_count": null,
            "_view_module": "@jupyter-widgets/base",
            "_view_module_version": "1.2.0",
            "_view_name": "LayoutView",
            "align_content": null,
            "align_items": null,
            "align_self": null,
            "border": null,
            "bottom": null,
            "display": null,
            "flex": null,
            "flex_flow": null,
            "grid_area": null,
            "grid_auto_columns": null,
            "grid_auto_flow": null,
            "grid_auto_rows": null,
            "grid_column": null,
            "grid_gap": null,
            "grid_row": null,
            "grid_template_areas": null,
            "grid_template_columns": null,
            "grid_template_rows": null,
            "height": null,
            "justify_content": null,
            "justify_items": null,
            "left": null,
            "margin": null,
            "max_height": null,
            "max_width": null,
            "min_height": null,
            "min_width": null,
            "object_fit": null,
            "object_position": null,
            "order": null,
            "overflow": null,
            "overflow_x": null,
            "overflow_y": null,
            "padding": null,
            "right": null,
            "top": null,
            "visibility": null,
            "width": null
          }
        },
        "8afa34729de0447cb6efe40e90e73ebc": {
          "model_module": "@jupyter-widgets/base",
          "model_name": "LayoutModel",
          "model_module_version": "1.2.0",
          "state": {
            "_model_module": "@jupyter-widgets/base",
            "_model_module_version": "1.2.0",
            "_model_name": "LayoutModel",
            "_view_count": null,
            "_view_module": "@jupyter-widgets/base",
            "_view_module_version": "1.2.0",
            "_view_name": "LayoutView",
            "align_content": null,
            "align_items": null,
            "align_self": null,
            "border": null,
            "bottom": null,
            "display": null,
            "flex": null,
            "flex_flow": null,
            "grid_area": null,
            "grid_auto_columns": null,
            "grid_auto_flow": null,
            "grid_auto_rows": null,
            "grid_column": null,
            "grid_gap": null,
            "grid_row": null,
            "grid_template_areas": null,
            "grid_template_columns": null,
            "grid_template_rows": null,
            "height": null,
            "justify_content": null,
            "justify_items": null,
            "left": null,
            "margin": null,
            "max_height": null,
            "max_width": null,
            "min_height": null,
            "min_width": null,
            "object_fit": null,
            "object_position": null,
            "order": null,
            "overflow": null,
            "overflow_x": null,
            "overflow_y": null,
            "padding": null,
            "right": null,
            "top": null,
            "visibility": null,
            "width": null
          }
        },
        "44d594eb0f494134873a7b93085a8a83": {
          "model_module": "@jupyter-widgets/controls",
          "model_name": "DescriptionStyleModel",
          "model_module_version": "1.5.0",
          "state": {
            "_model_module": "@jupyter-widgets/controls",
            "_model_module_version": "1.5.0",
            "_model_name": "DescriptionStyleModel",
            "_view_count": null,
            "_view_module": "@jupyter-widgets/base",
            "_view_module_version": "1.2.0",
            "_view_name": "StyleView",
            "description_width": ""
          }
        },
        "81a20e0f5195400f801ccda2de522921": {
          "model_module": "@jupyter-widgets/base",
          "model_name": "LayoutModel",
          "model_module_version": "1.2.0",
          "state": {
            "_model_module": "@jupyter-widgets/base",
            "_model_module_version": "1.2.0",
            "_model_name": "LayoutModel",
            "_view_count": null,
            "_view_module": "@jupyter-widgets/base",
            "_view_module_version": "1.2.0",
            "_view_name": "LayoutView",
            "align_content": null,
            "align_items": null,
            "align_self": null,
            "border": null,
            "bottom": null,
            "display": null,
            "flex": null,
            "flex_flow": null,
            "grid_area": null,
            "grid_auto_columns": null,
            "grid_auto_flow": null,
            "grid_auto_rows": null,
            "grid_column": null,
            "grid_gap": null,
            "grid_row": null,
            "grid_template_areas": null,
            "grid_template_columns": null,
            "grid_template_rows": null,
            "height": null,
            "justify_content": null,
            "justify_items": null,
            "left": null,
            "margin": null,
            "max_height": null,
            "max_width": null,
            "min_height": null,
            "min_width": null,
            "object_fit": null,
            "object_position": null,
            "order": null,
            "overflow": null,
            "overflow_x": null,
            "overflow_y": null,
            "padding": null,
            "right": null,
            "top": null,
            "visibility": null,
            "width": null
          }
        },
        "9dc8190197e6425ba278f60de3ecc633": {
          "model_module": "@jupyter-widgets/controls",
          "model_name": "ProgressStyleModel",
          "model_module_version": "1.5.0",
          "state": {
            "_model_module": "@jupyter-widgets/controls",
            "_model_module_version": "1.5.0",
            "_model_name": "ProgressStyleModel",
            "_view_count": null,
            "_view_module": "@jupyter-widgets/base",
            "_view_module_version": "1.2.0",
            "_view_name": "StyleView",
            "bar_color": null,
            "description_width": ""
          }
        },
        "82a0167c0a624c78aa2ce170d039bc2c": {
          "model_module": "@jupyter-widgets/base",
          "model_name": "LayoutModel",
          "model_module_version": "1.2.0",
          "state": {
            "_model_module": "@jupyter-widgets/base",
            "_model_module_version": "1.2.0",
            "_model_name": "LayoutModel",
            "_view_count": null,
            "_view_module": "@jupyter-widgets/base",
            "_view_module_version": "1.2.0",
            "_view_name": "LayoutView",
            "align_content": null,
            "align_items": null,
            "align_self": null,
            "border": null,
            "bottom": null,
            "display": null,
            "flex": null,
            "flex_flow": null,
            "grid_area": null,
            "grid_auto_columns": null,
            "grid_auto_flow": null,
            "grid_auto_rows": null,
            "grid_column": null,
            "grid_gap": null,
            "grid_row": null,
            "grid_template_areas": null,
            "grid_template_columns": null,
            "grid_template_rows": null,
            "height": null,
            "justify_content": null,
            "justify_items": null,
            "left": null,
            "margin": null,
            "max_height": null,
            "max_width": null,
            "min_height": null,
            "min_width": null,
            "object_fit": null,
            "object_position": null,
            "order": null,
            "overflow": null,
            "overflow_x": null,
            "overflow_y": null,
            "padding": null,
            "right": null,
            "top": null,
            "visibility": null,
            "width": null
          }
        },
        "a934fa4f188e460f99cb4e4f555612a5": {
          "model_module": "@jupyter-widgets/controls",
          "model_name": "DescriptionStyleModel",
          "model_module_version": "1.5.0",
          "state": {
            "_model_module": "@jupyter-widgets/controls",
            "_model_module_version": "1.5.0",
            "_model_name": "DescriptionStyleModel",
            "_view_count": null,
            "_view_module": "@jupyter-widgets/base",
            "_view_module_version": "1.2.0",
            "_view_name": "StyleView",
            "description_width": ""
          }
        }
      }
    }
  },
  "cells": [
    {
      "cell_type": "markdown",
      "metadata": {
        "id": "view-in-github",
        "colab_type": "text"
      },
      "source": [
        "<a href=\"https://colab.research.google.com/github/JHyunjun/SNU/blob/main/KoGPT2.ipynb\" target=\"_parent\"><img src=\"https://colab.research.google.com/assets/colab-badge.svg\" alt=\"Open In Colab\"/></a>"
      ]
    },
    {
      "cell_type": "markdown",
      "metadata": {
        "id": "Z2LGcoawrlQ7"
      },
      "source": [
        "# 0. Install Packages"
      ]
    },
    {
      "cell_type": "code",
      "metadata": {
        "id": "9xwaztFKrmDt",
        "colab": {
          "base_uri": "https://localhost:8080/"
        },
        "outputId": "1225e4d1-c756-47fa-e798-dc9e7a6019a8"
      },
      "source": [
        "!pip install transformers"
      ],
      "execution_count": 2,
      "outputs": [
        {
          "output_type": "stream",
          "name": "stdout",
          "text": [
            "Looking in indexes: https://pypi.org/simple, https://us-python.pkg.dev/colab-wheels/public/simple/\n",
            "Collecting transformers\n",
            "  Downloading transformers-4.21.0-py3-none-any.whl (4.7 MB)\n",
            "\u001b[K     |████████████████████████████████| 4.7 MB 7.2 MB/s \n",
            "\u001b[?25hCollecting huggingface-hub<1.0,>=0.1.0\n",
            "  Downloading huggingface_hub-0.8.1-py3-none-any.whl (101 kB)\n",
            "\u001b[K     |████████████████████████████████| 101 kB 10.4 MB/s \n",
            "\u001b[?25hCollecting pyyaml>=5.1\n",
            "  Downloading PyYAML-6.0-cp37-cp37m-manylinux_2_5_x86_64.manylinux1_x86_64.manylinux_2_12_x86_64.manylinux2010_x86_64.whl (596 kB)\n",
            "\u001b[K     |████████████████████████████████| 596 kB 53.7 MB/s \n",
            "\u001b[?25hRequirement already satisfied: numpy>=1.17 in /usr/local/lib/python3.7/dist-packages (from transformers) (1.21.6)\n",
            "Requirement already satisfied: tqdm>=4.27 in /usr/local/lib/python3.7/dist-packages (from transformers) (4.64.0)\n",
            "Requirement already satisfied: regex!=2019.12.17 in /usr/local/lib/python3.7/dist-packages (from transformers) (2022.6.2)\n",
            "Requirement already satisfied: packaging>=20.0 in /usr/local/lib/python3.7/dist-packages (from transformers) (21.3)\n",
            "Requirement already satisfied: importlib-metadata in /usr/local/lib/python3.7/dist-packages (from transformers) (4.12.0)\n",
            "Collecting tokenizers!=0.11.3,<0.13,>=0.11.1\n",
            "  Downloading tokenizers-0.12.1-cp37-cp37m-manylinux_2_12_x86_64.manylinux2010_x86_64.whl (6.6 MB)\n",
            "\u001b[K     |████████████████████████████████| 6.6 MB 48.0 MB/s \n",
            "\u001b[?25hRequirement already satisfied: filelock in /usr/local/lib/python3.7/dist-packages (from transformers) (3.7.1)\n",
            "Requirement already satisfied: requests in /usr/local/lib/python3.7/dist-packages (from transformers) (2.23.0)\n",
            "Requirement already satisfied: typing-extensions>=3.7.4.3 in /usr/local/lib/python3.7/dist-packages (from huggingface-hub<1.0,>=0.1.0->transformers) (4.1.1)\n",
            "Requirement already satisfied: pyparsing!=3.0.5,>=2.0.2 in /usr/local/lib/python3.7/dist-packages (from packaging>=20.0->transformers) (3.0.9)\n",
            "Requirement already satisfied: zipp>=0.5 in /usr/local/lib/python3.7/dist-packages (from importlib-metadata->transformers) (3.8.1)\n",
            "Requirement already satisfied: urllib3!=1.25.0,!=1.25.1,<1.26,>=1.21.1 in /usr/local/lib/python3.7/dist-packages (from requests->transformers) (1.24.3)\n",
            "Requirement already satisfied: certifi>=2017.4.17 in /usr/local/lib/python3.7/dist-packages (from requests->transformers) (2022.6.15)\n",
            "Requirement already satisfied: idna<3,>=2.5 in /usr/local/lib/python3.7/dist-packages (from requests->transformers) (2.10)\n",
            "Requirement already satisfied: chardet<4,>=3.0.2 in /usr/local/lib/python3.7/dist-packages (from requests->transformers) (3.0.4)\n",
            "Installing collected packages: pyyaml, tokenizers, huggingface-hub, transformers\n",
            "  Attempting uninstall: pyyaml\n",
            "    Found existing installation: PyYAML 3.13\n",
            "    Uninstalling PyYAML-3.13:\n",
            "      Successfully uninstalled PyYAML-3.13\n",
            "Successfully installed huggingface-hub-0.8.1 pyyaml-6.0 tokenizers-0.12.1 transformers-4.21.0\n"
          ]
        }
      ]
    },
    {
      "cell_type": "markdown",
      "metadata": {
        "id": "2TQx6kl-rkdM"
      },
      "source": [
        "# 1. Import Packages"
      ]
    },
    {
      "cell_type": "markdown",
      "metadata": {
        "id": "YuKXZmdcrkdS"
      },
      "source": [
        " - 본 실습에 필요한 패키지들을 불러옵니다."
      ]
    },
    {
      "cell_type": "code",
      "metadata": {
        "id": "fR-OY7uhrkdS"
      },
      "source": [
        "from transformers import GPT2Model\n",
        "from transformers import GPT2LMHeadModel\n",
        "from transformers import PreTrainedTokenizerFast\n",
        "import torch\n",
        "from torch.utils.data import Dataset, DataLoader\n",
        "import urllib\n",
        "import pandas as pd"
      ],
      "execution_count": 3,
      "outputs": []
    },
    {
      "cell_type": "markdown",
      "metadata": {
        "id": "UvObBbHnrkdT"
      },
      "source": [
        "# 2. KoGPT2 Tokenizer"
      ]
    },
    {
      "cell_type": "markdown",
      "metadata": {
        "id": "PEiF3thorkdU"
      },
      "source": [
        " - 사전 학습된 KoGPT2 Tokenizer를 불러옵니다."
      ]
    },
    {
      "cell_type": "code",
      "metadata": {
        "id": "mn3NQZyrrkdV",
        "colab": {
          "base_uri": "https://localhost:8080/",
          "height": 190,
          "referenced_widgets": [
            "f4b8df5ea0844f17905eec3a27319688",
            "2d13015cd25d4d6b9ec2ace284f03dfe",
            "3a3cf4c7441e4a328cc7d2f8c9988804",
            "33c28e1457154e27ad9bc88fd2b3b4b0",
            "d210b0cb6ffd410aacdb512ee691499c",
            "8befbfcf477c488c984abf189fe57062",
            "8e958f8268e54f3eb69af4d1d0ef4ba2",
            "bc5e17fb884246c4a4b25206b303bf68",
            "517383468bdd4adbabd3715c38b4844e",
            "6c7ba89896d84243be3bb1c815bb0c52",
            "8d159291f2f44c7a9d18044e64f8446a",
            "9e7dcc302e49464da1ccee1251d17b5b",
            "0406faa74a924199a87ae1a63a6a9182",
            "7d7220b3cab246fb820dc06d53aa58fa",
            "f4a65b3ef7e747fd8f970e80ac9b9fb5",
            "8946e99d2481465191a97452a8f049ac",
            "56cfb0393a5941ca9533b451a79bf455",
            "a91897cb0d934cc38caf5aa02e3f0ee7",
            "3e79c9754cda423ab9deba90c843c01b",
            "3714b22a133a492da15a346e1b77349e",
            "3b13c5cc47614b1f810336bd47b9e0c6",
            "fbb6fe64c3734396b0de5eba84398bed"
          ]
        },
        "outputId": "450c2760-dc7f-43e3-bfe9-ea6302cac4d8"
      },
      "source": [
        "tokenizer = PreTrainedTokenizerFast.from_pretrained(\"skt/kogpt2-base-v2\", bos_token='</s>', eos_token='</s>', unk_token='<unk>', pad_token='<pad>', mask_token='<mask>', padding_side='right') \n",
        "sample_text = \"근육이 커지기 위해서는\"\n",
        "\n",
        "tokens = tokenizer.tokenize(sample_text)\n",
        "token_ids = tokenizer.encode(sample_text)\n",
        "\n",
        "print(f' Sentence: {sample_text}')\n",
        "print(f'   Tokens: {tokens}')\n",
        "print(f'Token IDs: {token_ids}')"
      ],
      "execution_count": 4,
      "outputs": [
        {
          "output_type": "display_data",
          "data": {
            "text/plain": [
              "Downloading tokenizer.json:   0%|          | 0.00/2.69M [00:00<?, ?B/s]"
            ],
            "application/vnd.jupyter.widget-view+json": {
              "version_major": 2,
              "version_minor": 0,
              "model_id": "f4b8df5ea0844f17905eec3a27319688"
            }
          },
          "metadata": {}
        },
        {
          "output_type": "display_data",
          "data": {
            "text/plain": [
              "Downloading config.json:   0%|          | 0.00/0.98k [00:00<?, ?B/s]"
            ],
            "application/vnd.jupyter.widget-view+json": {
              "version_major": 2,
              "version_minor": 0,
              "model_id": "9e7dcc302e49464da1ccee1251d17b5b"
            }
          },
          "metadata": {}
        },
        {
          "output_type": "stream",
          "name": "stderr",
          "text": [
            "The tokenizer class you load from this checkpoint is not the same type as the class this function is called from. It may result in unexpected tokenization. \n",
            "The tokenizer class you load from this checkpoint is 'GPT2Tokenizer'. \n",
            "The class this function is called from is 'PreTrainedTokenizerFast'.\n"
          ]
        },
        {
          "output_type": "stream",
          "name": "stdout",
          "text": [
            " Sentence: 근육이 커지기 위해서는\n",
            "   Tokens: ['▁근육이', '▁커', '지기', '▁위해서는']\n",
            "Token IDs: [33245, 10114, 12748, 11357]\n"
          ]
        }
      ]
    },
    {
      "cell_type": "markdown",
      "metadata": {
        "id": "Iyd2Ya1RrkdW"
      },
      "source": [
        "# 3. KoGPT2 Models"
      ]
    },
    {
      "cell_type": "markdown",
      "metadata": {
        "id": "q7O35G28rkdW"
      },
      "source": [
        " - GPT2Model과 GPT2LMHeadModel을 불러옵니다."
      ]
    },
    {
      "cell_type": "markdown",
      "metadata": {
        "id": "vqeeLgoQrkdW"
      },
      "source": [
        "## 3-1. GPT2Model"
      ]
    },
    {
      "cell_type": "markdown",
      "metadata": {
        "id": "YvrfHXB6rkdX"
      },
      "source": [
        " - GPT2Model은 hidden state를 출력합니다.\n",
        " \n",
        " - 본 예제에서는 네 개의 토큰에 대한 768차원의 벡터가 도출됩니다."
      ]
    },
    {
      "cell_type": "code",
      "metadata": {
        "id": "NiWFyvYLrkdX",
        "colab": {
          "base_uri": "https://localhost:8080/",
          "height": 142,
          "referenced_widgets": [
            "5998fb6ef64b4bc48d184b255cf880c5",
            "d3846759f32b4fe3ba660dde051f8d7b",
            "0819ad09e6ed420bb098c7081b3d6637",
            "55dc40538930445eb83c95c456e7e670",
            "c131dfe8f21e47baa60ba92ac338ef9b",
            "8afa34729de0447cb6efe40e90e73ebc",
            "44d594eb0f494134873a7b93085a8a83",
            "81a20e0f5195400f801ccda2de522921",
            "9dc8190197e6425ba278f60de3ecc633",
            "82a0167c0a624c78aa2ce170d039bc2c",
            "a934fa4f188e460f99cb4e4f555612a5"
          ]
        },
        "outputId": "c2525d18-5d7d-4bbf-a3cd-3730507ada7b"
      },
      "source": [
        "gpt2_model = GPT2Model.from_pretrained('skt/kogpt2-base-v2')\n",
        "hidden_states = gpt2_model(torch.tensor([token_ids]))\n",
        "last_hidden_state = hidden_states[0]\n",
        "print(last_hidden_state.shape) # 1 : Sentence갯수, 4 : Token의 갯수(근육이,커,지기,위해서는), 768 : 768차원의 벡터로 표현"
      ],
      "execution_count": 5,
      "outputs": [
        {
          "output_type": "display_data",
          "data": {
            "text/plain": [
              "Downloading pytorch_model.bin:   0%|          | 0.00/490M [00:00<?, ?B/s]"
            ],
            "application/vnd.jupyter.widget-view+json": {
              "version_major": 2,
              "version_minor": 0,
              "model_id": "5998fb6ef64b4bc48d184b255cf880c5"
            }
          },
          "metadata": {}
        },
        {
          "output_type": "stream",
          "name": "stderr",
          "text": [
            "Some weights of the model checkpoint at skt/kogpt2-base-v2 were not used when initializing GPT2Model: ['lm_head.weight']\n",
            "- This IS expected if you are initializing GPT2Model from the checkpoint of a model trained on another task or with another architecture (e.g. initializing a BertForSequenceClassification model from a BertForPreTraining model).\n",
            "- This IS NOT expected if you are initializing GPT2Model from the checkpoint of a model that you expect to be exactly identical (initializing a BertForSequenceClassification model from a BertForSequenceClassification model).\n"
          ]
        },
        {
          "output_type": "stream",
          "name": "stdout",
          "text": [
            "torch.Size([1, 4, 768])\n"
          ]
        }
      ]
    },
    {
      "cell_type": "markdown",
      "metadata": {
        "id": "PUbrSbg9rkdX"
      },
      "source": [
        "## 3-2. GPT2LMHeadModel"
      ]
    },
    {
      "cell_type": "markdown",
      "metadata": {
        "id": "KM2GGr6prkdX"
      },
      "source": [
        " - GPT2LMHead는 next word prediction을 출력합니다.\n",
        " \n",
        " - 본 예제에서는 네 개의 토큰에 대한 51200 차원의 단어 확률 분포가 도출됩니다."
      ]
    },
    {
      "cell_type": "code",
      "metadata": {
        "id": "cFyDm2aprkdY",
        "colab": {
          "base_uri": "https://localhost:8080/"
        },
        "outputId": "0c61a840-8721-4f1a-f8eb-205dd85277e1"
      },
      "source": [
        "gpt2lm_model = GPT2LMHeadModel.from_pretrained('skt/kogpt2-base-v2')\n",
        "outputs = gpt2lm_model(torch.tensor([token_ids]))\n",
        "next_word_predictions = outputs[0]\n",
        "print(next_word_predictions.shape) #51200 : Vocab size"
      ],
      "execution_count": 6,
      "outputs": [
        {
          "output_type": "stream",
          "name": "stdout",
          "text": [
            "torch.Size([1, 4, 51200])\n"
          ]
        }
      ]
    },
    {
      "cell_type": "markdown",
      "metadata": {
        "id": "L2hAXUowrkdY"
      },
      "source": [
        " - 단어 확률 분포에 대해 argmax를 취해 가장 높은 확률을 보이는 단어를 찾습니다.\n",
        " \n",
        " - 본 예제에서는 \"무엇보다\" 라는 단어가 가장 높은 확률을 나타냅니다."
      ]
    },
    {
      "cell_type": "code",
      "metadata": {
        "id": "MXKCYYAIrkdY",
        "colab": {
          "base_uri": "https://localhost:8080/"
        },
        "outputId": "728e0a62-c5a2-48e0-bf12-255ef07c2f5f"
      },
      "source": [
        "next_word_distribution = next_word_predictions[0, -1, :]\n",
        "next_word_id = torch.argmax(next_word_distribution) # Predict한값중 가장 Max값을 뽑아서 Return (INDEX)\n",
        "next_word = tokenizer.decode(next_word_id) # 다음에 도출될 단어는 Above INDEX에 해당하는 단어다\n",
        "\n",
        "print(f'Next word: {next_word}') # 근육이 커지기 위해서는 -> 무엇보다00"
      ],
      "execution_count": 7,
      "outputs": [
        {
          "output_type": "stream",
          "name": "stdout",
          "text": [
            "Next word: 무엇보다\n"
          ]
        }
      ]
    },
    {
      "cell_type": "markdown",
      "metadata": {
        "id": "dm63zr0yrkdZ"
      },
      "source": [
        "# 4. Text Generation Examples (Pre-trained model)"
      ]
    },
    {
      "cell_type": "markdown",
      "metadata": {
        "id": "eC7r6SZorkdZ"
      },
      "source": [
        " - 두 가지 Text Generation 방법을 실험해봅니다."
      ]
    },
    {
      "cell_type": "markdown",
      "metadata": {
        "id": "NSAms2NyrkdZ"
      },
      "source": [
        "## 4-1. Greedy Search"
      ]
    },
    {
      "cell_type": "markdown",
      "metadata": {
        "id": "Nzw0MSrhrkdZ"
      },
      "source": [
        " - Greedy Search는 가장 높은 확률의 단어를 Greedy하게 찾는 방식으로 텍스트를 생성합니다."
      ]
    },
    {
      "cell_type": "code",
      "metadata": {
        "scrolled": true,
        "id": "DQcKnXhUrkdZ",
        "colab": {
          "base_uri": "https://localhost:8080/"
        },
        "outputId": "38631d42-d9a3-4ada-805e-79d73d24353d"
      },
      "source": [
        "gen_ids = gpt2lm_model.generate(torch.tensor([token_ids]),\n",
        "                           max_length=127,\n",
        "                           repetition_penalty=2.0,\n",
        "                           )\n",
        "\n",
        "generated = tokenizer.decode(gen_ids[0,:].tolist())\n",
        "print(generated)"
      ],
      "execution_count": 8,
      "outputs": [
        {
          "output_type": "stream",
          "name": "stdout",
          "text": [
            "근육이 커지기 위해서는 무엇보다 규칙적인 생활습관이 중요하다.\n",
            "특히, 아침식사는 단백질과 비타민이 풍부한 과일과 채소를 많이 섭취하는 것이 좋다.\n",
            "또한 하루 30분 이상 충분한 수면을 취하는 것도 도움이 된다.\n",
            "아침 식사를 거르지 않고 규칙적으로 운동을 하면 혈액순환에 도움을 줄 뿐만 아니라 신진대사를 촉진해 체내 노폐물을 배출하고 혈압을 낮춰준다.\n",
            "운동은 하루에 10분 정도만 하는 게 좋으며 운동 후에는 반드시 스트레칭을 통해 근육량을 늘리고 유연성을 높여야 한다.\n",
            "운동 후 바로 잠자리에 드는 것은 피해야 하며 특히 아침에 일어나면 몸이 피곤해지기 때문에 무리하게 움직이면 오히려 역효과가 날 수도 있다.\n",
            "\n"
          ]
        }
      ]
    },
    {
      "cell_type": "markdown",
      "metadata": {
        "id": "hB3dzvRRrkda"
      },
      "source": [
        "## 4-2. Beam Search"
      ]
    },
    {
      "cell_type": "markdown",
      "metadata": {
        "id": "VYeC4nggrkda"
      },
      "source": [
        " - Beam Search는 매 step마다 num_beams 개 만큼의 Top word selection path를 찾습니다.\n"
      ]
    },
    {
      "cell_type": "code",
      "metadata": {
        "id": "2NxnOmsg1viV",
        "colab": {
          "base_uri": "https://localhost:8080/"
        },
        "outputId": "55939f38-5b30-4131-8fb3-34282b0818f0"
      },
      "source": [
        "gen_ids = gpt2lm_model.generate(torch.tensor([token_ids]),\n",
        "                           max_length=127,\n",
        "                           repetition_penalty=2.0,\n",
        "                           num_beams=5, \n",
        "                           )\n",
        "\n",
        "generated = tokenizer.decode(gen_ids[0,:].tolist())\n",
        "print(generated)"
      ],
      "execution_count": 9,
      "outputs": [
        {
          "output_type": "stream",
          "name": "stdout",
          "text": [
            "근육이 커지기 위해서는 피부 속 콜라겐과 엘라스틴의 생성을 촉진시키는 것이 중요하다.\n",
            "콜라겐은 피부의 탄력을 유지하는 데 중요한 역할을 한다.\n",
            "이러한 콜라겐의 생성을 촉진시키기 위해서는 피부에 충분한 수분을 공급해줘야 한다.\n",
            "또한 피부를 촉촉하게 유지시켜주는 보습제를 꾸준히 섭취하는 것도 도움이 된다.\n",
            "피부에 영양을 공급해주는 보습제로는 에센셜 오일이 있다.\n",
            "에센셜 오일은 비타민 A, C, E가 풍부하게 함유돼 있어 노화방지에 도움을 주는 것으로 알려져 있다.\n",
            "특히 에센셜 오일은 항산화 작용을 하는 활성산소를 억제해 피부 노화를 방지하는데 도움을 준다.\n",
            "\n"
          ]
        }
      ]
    },
    {
      "cell_type": "markdown",
      "metadata": {
        "id": "EeNelLxerkda"
      },
      "source": [
        "# 5. Fine tunning (Naver Movie review)"
      ]
    },
    {
      "cell_type": "markdown",
      "metadata": {
        "id": "t4MoKU6nrkda"
      },
      "source": [
        " - 네이버 영화 리뷰데이터를 활용하여 모델을 Fine Tuning 합니다."
      ]
    },
    {
      "cell_type": "markdown",
      "metadata": {
        "id": "mREdF7iarkda"
      },
      "source": [
        "## 5-1. Get Datasets"
      ]
    },
    {
      "cell_type": "markdown",
      "metadata": {
        "id": "gJre_mPgrkda"
      },
      "source": [
        " - github으로부터 네이버 영화 리뷰데이터를 요청하여 내 pc에 저장합니다.\n",
        " \n",
        " - 데이터의 크기가 너무 큰 관계로, 본 실험에서는 테스트 데이터 셋만을 활용하여 모델을 학습시킵니다. "
      ]
    },
    {
      "cell_type": "code",
      "metadata": {
        "id": "xUdSUHaRrkdb"
      },
      "source": [
        "def get_naver_review_examples():\n",
        "    #urllib.request.urlretrieve(\"https://raw.githubusercontent.com/e9t/nsmc/master/ratings_train.txt\", filename=\"ratings_train.txt\")\n",
        "    urllib.request.urlretrieve(\"https://raw.githubusercontent.com/e9t/nsmc/master/ratings_test.txt\", filename=\"ratings_test.txt\")\n",
        "\n",
        "    #train_data = pd.read_table('ratings_train.txt')\n",
        "    test_data = pd.read_table('ratings_test.txt')\n",
        "    \n",
        "    return test_data"
      ],
      "execution_count": 10,
      "outputs": []
    },
    {
      "cell_type": "code",
      "metadata": {
        "id": "9y-DCJAki786"
      },
      "source": [
        "naver_data = get_naver_review_examples()"
      ],
      "execution_count": 11,
      "outputs": []
    },
    {
      "cell_type": "code",
      "metadata": {
        "id": "zEw-UUV6i9Z-",
        "colab": {
          "base_uri": "https://localhost:8080/",
          "height": 424
        },
        "outputId": "5d8d862d-788d-4ef1-9fa0-60cc42d0fb72"
      },
      "source": [
        "naver_data"
      ],
      "execution_count": 12,
      "outputs": [
        {
          "output_type": "execute_result",
          "data": {
            "text/plain": [
              "            id                                           document  label\n",
              "0      6270596                                                굳 ㅋ      1\n",
              "1      9274899                               GDNTOPCLASSINTHECLUB      0\n",
              "2      8544678             뭐야 이 평점들은.... 나쁘진 않지만 10점 짜리는 더더욱 아니잖아      0\n",
              "3      6825595                   지루하지는 않은데 완전 막장임... 돈주고 보기에는....      0\n",
              "4      6723715  3D만 아니었어도 별 다섯 개 줬을텐데.. 왜 3D로 나와서 제 심기를 불편하게 하죠??      0\n",
              "...        ...                                                ...    ...\n",
              "49995  4608761          오랜만에 평점 로긴했네ㅋㅋ 킹왕짱 쌈뽕한 영화를 만났습니다 강렬하게 육쾌함      1\n",
              "49996  5308387       의지 박약들이나 하는거다 탈영은 일단 주인공 김대희 닮았고 이등병 찐따 OOOO      0\n",
              "49997  9072549                 그림도 좋고 완성도도 높았지만... 보는 내내 불안하게 만든다      0\n",
              "49998  5802125     절대 봐서는 안 될 영화.. 재미도 없고 기분만 잡치고.. 한 세트장에서 다 해먹네      0\n",
              "49999  6070594                                         마무리는 또 왜이래      0\n",
              "\n",
              "[50000 rows x 3 columns]"
            ],
            "text/html": [
              "\n",
              "  <div id=\"df-9de38cda-f5a1-42b7-a774-87a1cfc7b720\">\n",
              "    <div class=\"colab-df-container\">\n",
              "      <div>\n",
              "<style scoped>\n",
              "    .dataframe tbody tr th:only-of-type {\n",
              "        vertical-align: middle;\n",
              "    }\n",
              "\n",
              "    .dataframe tbody tr th {\n",
              "        vertical-align: top;\n",
              "    }\n",
              "\n",
              "    .dataframe thead th {\n",
              "        text-align: right;\n",
              "    }\n",
              "</style>\n",
              "<table border=\"1\" class=\"dataframe\">\n",
              "  <thead>\n",
              "    <tr style=\"text-align: right;\">\n",
              "      <th></th>\n",
              "      <th>id</th>\n",
              "      <th>document</th>\n",
              "      <th>label</th>\n",
              "    </tr>\n",
              "  </thead>\n",
              "  <tbody>\n",
              "    <tr>\n",
              "      <th>0</th>\n",
              "      <td>6270596</td>\n",
              "      <td>굳 ㅋ</td>\n",
              "      <td>1</td>\n",
              "    </tr>\n",
              "    <tr>\n",
              "      <th>1</th>\n",
              "      <td>9274899</td>\n",
              "      <td>GDNTOPCLASSINTHECLUB</td>\n",
              "      <td>0</td>\n",
              "    </tr>\n",
              "    <tr>\n",
              "      <th>2</th>\n",
              "      <td>8544678</td>\n",
              "      <td>뭐야 이 평점들은.... 나쁘진 않지만 10점 짜리는 더더욱 아니잖아</td>\n",
              "      <td>0</td>\n",
              "    </tr>\n",
              "    <tr>\n",
              "      <th>3</th>\n",
              "      <td>6825595</td>\n",
              "      <td>지루하지는 않은데 완전 막장임... 돈주고 보기에는....</td>\n",
              "      <td>0</td>\n",
              "    </tr>\n",
              "    <tr>\n",
              "      <th>4</th>\n",
              "      <td>6723715</td>\n",
              "      <td>3D만 아니었어도 별 다섯 개 줬을텐데.. 왜 3D로 나와서 제 심기를 불편하게 하죠??</td>\n",
              "      <td>0</td>\n",
              "    </tr>\n",
              "    <tr>\n",
              "      <th>...</th>\n",
              "      <td>...</td>\n",
              "      <td>...</td>\n",
              "      <td>...</td>\n",
              "    </tr>\n",
              "    <tr>\n",
              "      <th>49995</th>\n",
              "      <td>4608761</td>\n",
              "      <td>오랜만에 평점 로긴했네ㅋㅋ 킹왕짱 쌈뽕한 영화를 만났습니다 강렬하게 육쾌함</td>\n",
              "      <td>1</td>\n",
              "    </tr>\n",
              "    <tr>\n",
              "      <th>49996</th>\n",
              "      <td>5308387</td>\n",
              "      <td>의지 박약들이나 하는거다 탈영은 일단 주인공 김대희 닮았고 이등병 찐따 OOOO</td>\n",
              "      <td>0</td>\n",
              "    </tr>\n",
              "    <tr>\n",
              "      <th>49997</th>\n",
              "      <td>9072549</td>\n",
              "      <td>그림도 좋고 완성도도 높았지만... 보는 내내 불안하게 만든다</td>\n",
              "      <td>0</td>\n",
              "    </tr>\n",
              "    <tr>\n",
              "      <th>49998</th>\n",
              "      <td>5802125</td>\n",
              "      <td>절대 봐서는 안 될 영화.. 재미도 없고 기분만 잡치고.. 한 세트장에서 다 해먹네</td>\n",
              "      <td>0</td>\n",
              "    </tr>\n",
              "    <tr>\n",
              "      <th>49999</th>\n",
              "      <td>6070594</td>\n",
              "      <td>마무리는 또 왜이래</td>\n",
              "      <td>0</td>\n",
              "    </tr>\n",
              "  </tbody>\n",
              "</table>\n",
              "<p>50000 rows × 3 columns</p>\n",
              "</div>\n",
              "      <button class=\"colab-df-convert\" onclick=\"convertToInteractive('df-9de38cda-f5a1-42b7-a774-87a1cfc7b720')\"\n",
              "              title=\"Convert this dataframe to an interactive table.\"\n",
              "              style=\"display:none;\">\n",
              "        \n",
              "  <svg xmlns=\"http://www.w3.org/2000/svg\" height=\"24px\"viewBox=\"0 0 24 24\"\n",
              "       width=\"24px\">\n",
              "    <path d=\"M0 0h24v24H0V0z\" fill=\"none\"/>\n",
              "    <path d=\"M18.56 5.44l.94 2.06.94-2.06 2.06-.94-2.06-.94-.94-2.06-.94 2.06-2.06.94zm-11 1L8.5 8.5l.94-2.06 2.06-.94-2.06-.94L8.5 2.5l-.94 2.06-2.06.94zm10 10l.94 2.06.94-2.06 2.06-.94-2.06-.94-.94-2.06-.94 2.06-2.06.94z\"/><path d=\"M17.41 7.96l-1.37-1.37c-.4-.4-.92-.59-1.43-.59-.52 0-1.04.2-1.43.59L10.3 9.45l-7.72 7.72c-.78.78-.78 2.05 0 2.83L4 21.41c.39.39.9.59 1.41.59.51 0 1.02-.2 1.41-.59l7.78-7.78 2.81-2.81c.8-.78.8-2.07 0-2.86zM5.41 20L4 18.59l7.72-7.72 1.47 1.35L5.41 20z\"/>\n",
              "  </svg>\n",
              "      </button>\n",
              "      \n",
              "  <style>\n",
              "    .colab-df-container {\n",
              "      display:flex;\n",
              "      flex-wrap:wrap;\n",
              "      gap: 12px;\n",
              "    }\n",
              "\n",
              "    .colab-df-convert {\n",
              "      background-color: #E8F0FE;\n",
              "      border: none;\n",
              "      border-radius: 50%;\n",
              "      cursor: pointer;\n",
              "      display: none;\n",
              "      fill: #1967D2;\n",
              "      height: 32px;\n",
              "      padding: 0 0 0 0;\n",
              "      width: 32px;\n",
              "    }\n",
              "\n",
              "    .colab-df-convert:hover {\n",
              "      background-color: #E2EBFA;\n",
              "      box-shadow: 0px 1px 2px rgba(60, 64, 67, 0.3), 0px 1px 3px 1px rgba(60, 64, 67, 0.15);\n",
              "      fill: #174EA6;\n",
              "    }\n",
              "\n",
              "    [theme=dark] .colab-df-convert {\n",
              "      background-color: #3B4455;\n",
              "      fill: #D2E3FC;\n",
              "    }\n",
              "\n",
              "    [theme=dark] .colab-df-convert:hover {\n",
              "      background-color: #434B5C;\n",
              "      box-shadow: 0px 1px 3px 1px rgba(0, 0, 0, 0.15);\n",
              "      filter: drop-shadow(0px 1px 2px rgba(0, 0, 0, 0.3));\n",
              "      fill: #FFFFFF;\n",
              "    }\n",
              "  </style>\n",
              "\n",
              "      <script>\n",
              "        const buttonEl =\n",
              "          document.querySelector('#df-9de38cda-f5a1-42b7-a774-87a1cfc7b720 button.colab-df-convert');\n",
              "        buttonEl.style.display =\n",
              "          google.colab.kernel.accessAllowed ? 'block' : 'none';\n",
              "\n",
              "        async function convertToInteractive(key) {\n",
              "          const element = document.querySelector('#df-9de38cda-f5a1-42b7-a774-87a1cfc7b720');\n",
              "          const dataTable =\n",
              "            await google.colab.kernel.invokeFunction('convertToInteractive',\n",
              "                                                     [key], {});\n",
              "          if (!dataTable) return;\n",
              "\n",
              "          const docLinkHtml = 'Like what you see? Visit the ' +\n",
              "            '<a target=\"_blank\" href=https://colab.research.google.com/notebooks/data_table.ipynb>data table notebook</a>'\n",
              "            + ' to learn more about interactive tables.';\n",
              "          element.innerHTML = '';\n",
              "          dataTable['output_type'] = 'display_data';\n",
              "          await google.colab.output.renderOutput(dataTable, element);\n",
              "          const docLink = document.createElement('div');\n",
              "          docLink.innerHTML = docLinkHtml;\n",
              "          element.appendChild(docLink);\n",
              "        }\n",
              "      </script>\n",
              "    </div>\n",
              "  </div>\n",
              "  "
            ]
          },
          "metadata": {},
          "execution_count": 12
        }
      ]
    },
    {
      "cell_type": "markdown",
      "metadata": {
        "id": "ljJUSVn3rkdb"
      },
      "source": [
        " - Dataset Loader를 정의합니다."
      ]
    },
    {
      "cell_type": "code",
      "metadata": {
        "id": "NmEdH-fdrkdb"
      },
      "source": [
        "class NaverReviewDataset(Dataset):\n",
        "    def __init__(self, texts, labels, tokenizer, max_len):\n",
        "        self.texts = texts\n",
        "        self.labels = labels\n",
        "        self.tokenizer = tokenizer\n",
        "        self.max_len = max_len\n",
        "\n",
        "    def __getitem__(self, item):\n",
        "        text = str(self.texts[item])\n",
        "        label = self.labels[item]\n",
        "\n",
        "        encoding = self.tokenizer.encode_plus(\n",
        "          text,\n",
        "          add_special_tokens=True,\n",
        "          max_length=self.max_len,\n",
        "          return_token_type_ids=False,\n",
        "          padding='max_length',\n",
        "          return_attention_mask=True,\n",
        "          return_tensors='pt',\n",
        "          truncation=True,\n",
        "        )\n",
        "\n",
        "        return {\n",
        "          'text': text,\n",
        "          'input_ids': encoding['input_ids'].flatten(),\n",
        "          'attention_mask': encoding['attention_mask'].flatten(),\n",
        "          'labels': torch.tensor(label, dtype=torch.long)\n",
        "        }\n",
        "    \n",
        "    def __len__(self):\n",
        "        return len(self.texts)\n"
      ],
      "execution_count": 13,
      "outputs": []
    },
    {
      "cell_type": "code",
      "metadata": {
        "id": "XUcXquqfjZAn"
      },
      "source": [
        "dataset = NaverReviewDataset(naver_data['document'], naver_data['label'], tokenizer, 100)\n",
        "train_set, valid_set, test_set = torch.utils.data.random_split(dataset, [40000, 5000, 5000])"
      ],
      "execution_count": 14,
      "outputs": []
    },
    {
      "cell_type": "code",
      "source": [
        "train_set[0]"
      ],
      "metadata": {
        "id": "RrkzJ8KroI4K",
        "colab": {
          "base_uri": "https://localhost:8080/"
        },
        "outputId": "a599f688-4f74-4c5f-9200-a092d2f28c50"
      },
      "execution_count": 15,
      "outputs": [
        {
          "output_type": "execute_result",
          "data": {
            "text/plain": [
              "{'attention_mask': tensor([1, 1, 0, 0, 0, 0, 0, 0, 0, 0, 0, 0, 0, 0, 0, 0, 0, 0, 0, 0, 0, 0, 0, 0,\n",
              "         0, 0, 0, 0, 0, 0, 0, 0, 0, 0, 0, 0, 0, 0, 0, 0, 0, 0, 0, 0, 0, 0, 0, 0,\n",
              "         0, 0, 0, 0, 0, 0, 0, 0, 0, 0, 0, 0, 0, 0, 0, 0, 0, 0, 0, 0, 0, 0, 0, 0,\n",
              "         0, 0, 0, 0, 0, 0, 0, 0, 0, 0, 0, 0, 0, 0, 0, 0, 0, 0, 0, 0, 0, 0, 0, 0,\n",
              "         0, 0, 0, 0]),\n",
              " 'input_ids': tensor([9086, 8299,    3,    3,    3,    3,    3,    3,    3,    3,    3,    3,\n",
              "            3,    3,    3,    3,    3,    3,    3,    3,    3,    3,    3,    3,\n",
              "            3,    3,    3,    3,    3,    3,    3,    3,    3,    3,    3,    3,\n",
              "            3,    3,    3,    3,    3,    3,    3,    3,    3,    3,    3,    3,\n",
              "            3,    3,    3,    3,    3,    3,    3,    3,    3,    3,    3,    3,\n",
              "            3,    3,    3,    3,    3,    3,    3,    3,    3,    3,    3,    3,\n",
              "            3,    3,    3,    3,    3,    3,    3,    3,    3,    3,    3,    3,\n",
              "            3,    3,    3,    3,    3,    3,    3,    3,    3,    3,    3,    3,\n",
              "            3,    3,    3,    3]),\n",
              " 'labels': tensor(1),\n",
              " 'text': '개쩜'}"
            ]
          },
          "metadata": {},
          "execution_count": 15
        }
      ]
    },
    {
      "cell_type": "code",
      "metadata": {
        "id": "SHXFcBEerkdb"
      },
      "source": [
        "batch_size = 8\n",
        "\n",
        "train_dataloader = DataLoader(train_set, batch_size=batch_size,\n",
        "                        shuffle=True)\n",
        "\n",
        "valid_dataloader = DataLoader(valid_set, batch_size=batch_size,\n",
        "                        shuffle=True)\n",
        "\n",
        "test_dataloader = DataLoader(test_set, batch_size=batch_size,\n",
        "                        shuffle=True)"
      ],
      "execution_count": 16,
      "outputs": []
    },
    {
      "cell_type": "code",
      "source": [
        "sample_data = next(iter(test_dataloader))\n",
        "sample_data"
      ],
      "metadata": {
        "id": "KzN_EHt7op82",
        "colab": {
          "base_uri": "https://localhost:8080/"
        },
        "outputId": "6405d4f5-11e9-48dd-c32c-04b54b5215a0"
      },
      "execution_count": 22,
      "outputs": [
        {
          "output_type": "execute_result",
          "data": {
            "text/plain": [
              "{'attention_mask': tensor([[1, 1, 1, 1, 1, 1, 1, 1, 1, 1, 1, 1, 1, 1, 1, 1, 1, 1, 1, 1, 1, 1, 1, 1,\n",
              "          1, 1, 1, 1, 1, 1, 1, 1, 1, 0, 0, 0, 0, 0, 0, 0, 0, 0, 0, 0, 0, 0, 0, 0,\n",
              "          0, 0, 0, 0, 0, 0, 0, 0, 0, 0, 0, 0, 0, 0, 0, 0, 0, 0, 0, 0, 0, 0, 0, 0,\n",
              "          0, 0, 0, 0, 0, 0, 0, 0, 0, 0, 0, 0, 0, 0, 0, 0, 0, 0, 0, 0, 0, 0, 0, 0,\n",
              "          0, 0, 0, 0],\n",
              "         [1, 1, 1, 1, 1, 1, 1, 1, 1, 1, 1, 1, 1, 1, 1, 1, 1, 0, 0, 0, 0, 0, 0, 0,\n",
              "          0, 0, 0, 0, 0, 0, 0, 0, 0, 0, 0, 0, 0, 0, 0, 0, 0, 0, 0, 0, 0, 0, 0, 0,\n",
              "          0, 0, 0, 0, 0, 0, 0, 0, 0, 0, 0, 0, 0, 0, 0, 0, 0, 0, 0, 0, 0, 0, 0, 0,\n",
              "          0, 0, 0, 0, 0, 0, 0, 0, 0, 0, 0, 0, 0, 0, 0, 0, 0, 0, 0, 0, 0, 0, 0, 0,\n",
              "          0, 0, 0, 0],\n",
              "         [1, 1, 1, 1, 1, 1, 1, 1, 1, 1, 1, 1, 1, 0, 0, 0, 0, 0, 0, 0, 0, 0, 0, 0,\n",
              "          0, 0, 0, 0, 0, 0, 0, 0, 0, 0, 0, 0, 0, 0, 0, 0, 0, 0, 0, 0, 0, 0, 0, 0,\n",
              "          0, 0, 0, 0, 0, 0, 0, 0, 0, 0, 0, 0, 0, 0, 0, 0, 0, 0, 0, 0, 0, 0, 0, 0,\n",
              "          0, 0, 0, 0, 0, 0, 0, 0, 0, 0, 0, 0, 0, 0, 0, 0, 0, 0, 0, 0, 0, 0, 0, 0,\n",
              "          0, 0, 0, 0],\n",
              "         [1, 1, 0, 0, 0, 0, 0, 0, 0, 0, 0, 0, 0, 0, 0, 0, 0, 0, 0, 0, 0, 0, 0, 0,\n",
              "          0, 0, 0, 0, 0, 0, 0, 0, 0, 0, 0, 0, 0, 0, 0, 0, 0, 0, 0, 0, 0, 0, 0, 0,\n",
              "          0, 0, 0, 0, 0, 0, 0, 0, 0, 0, 0, 0, 0, 0, 0, 0, 0, 0, 0, 0, 0, 0, 0, 0,\n",
              "          0, 0, 0, 0, 0, 0, 0, 0, 0, 0, 0, 0, 0, 0, 0, 0, 0, 0, 0, 0, 0, 0, 0, 0,\n",
              "          0, 0, 0, 0],\n",
              "         [1, 1, 1, 1, 1, 1, 1, 1, 1, 1, 0, 0, 0, 0, 0, 0, 0, 0, 0, 0, 0, 0, 0, 0,\n",
              "          0, 0, 0, 0, 0, 0, 0, 0, 0, 0, 0, 0, 0, 0, 0, 0, 0, 0, 0, 0, 0, 0, 0, 0,\n",
              "          0, 0, 0, 0, 0, 0, 0, 0, 0, 0, 0, 0, 0, 0, 0, 0, 0, 0, 0, 0, 0, 0, 0, 0,\n",
              "          0, 0, 0, 0, 0, 0, 0, 0, 0, 0, 0, 0, 0, 0, 0, 0, 0, 0, 0, 0, 0, 0, 0, 0,\n",
              "          0, 0, 0, 0],\n",
              "         [1, 1, 1, 1, 1, 1, 1, 1, 1, 1, 1, 1, 1, 1, 1, 1, 1, 1, 1, 1, 1, 1, 1, 1,\n",
              "          1, 1, 1, 1, 1, 1, 0, 0, 0, 0, 0, 0, 0, 0, 0, 0, 0, 0, 0, 0, 0, 0, 0, 0,\n",
              "          0, 0, 0, 0, 0, 0, 0, 0, 0, 0, 0, 0, 0, 0, 0, 0, 0, 0, 0, 0, 0, 0, 0, 0,\n",
              "          0, 0, 0, 0, 0, 0, 0, 0, 0, 0, 0, 0, 0, 0, 0, 0, 0, 0, 0, 0, 0, 0, 0, 0,\n",
              "          0, 0, 0, 0],\n",
              "         [1, 1, 1, 1, 1, 1, 1, 1, 1, 1, 1, 1, 1, 1, 1, 0, 0, 0, 0, 0, 0, 0, 0, 0,\n",
              "          0, 0, 0, 0, 0, 0, 0, 0, 0, 0, 0, 0, 0, 0, 0, 0, 0, 0, 0, 0, 0, 0, 0, 0,\n",
              "          0, 0, 0, 0, 0, 0, 0, 0, 0, 0, 0, 0, 0, 0, 0, 0, 0, 0, 0, 0, 0, 0, 0, 0,\n",
              "          0, 0, 0, 0, 0, 0, 0, 0, 0, 0, 0, 0, 0, 0, 0, 0, 0, 0, 0, 0, 0, 0, 0, 0,\n",
              "          0, 0, 0, 0],\n",
              "         [1, 1, 1, 1, 1, 1, 1, 1, 1, 0, 0, 0, 0, 0, 0, 0, 0, 0, 0, 0, 0, 0, 0, 0,\n",
              "          0, 0, 0, 0, 0, 0, 0, 0, 0, 0, 0, 0, 0, 0, 0, 0, 0, 0, 0, 0, 0, 0, 0, 0,\n",
              "          0, 0, 0, 0, 0, 0, 0, 0, 0, 0, 0, 0, 0, 0, 0, 0, 0, 0, 0, 0, 0, 0, 0, 0,\n",
              "          0, 0, 0, 0, 0, 0, 0, 0, 0, 0, 0, 0, 0, 0, 0, 0, 0, 0, 0, 0, 0, 0, 0, 0,\n",
              "          0, 0, 0, 0]]),\n",
              " 'input_ids': tensor([[10842,  7671,  8286, 10056,  8155,  9668, 16564,  7621,  7422,  7182,\n",
              "           9423, 36336, 11120,  9518, 33925, 45730, 10516,  9423, 21301,  9721,\n",
              "          17888,  9517,  9131, 40886, 19572, 29045,  9769, 36336, 22882,  6958,\n",
              "          19144,  9181, 31231,     3,     3,     3,     3,     3,     3,     3,\n",
              "              3,     3,     3,     3,     3,     3,     3,     3,     3,     3,\n",
              "              3,     3,     3,     3,     3,     3,     3,     3,     3,     3,\n",
              "              3,     3,     3,     3,     3,     3,     3,     3,     3,     3,\n",
              "              3,     3,     3,     3,     3,     3,     3,     3,     3,     3,\n",
              "              3,     3,     3,     3,     3,     3,     3,     3,     3,     3,\n",
              "              3,     3,     3,     3,     3,     3,     3,     3,     3,     3],\n",
              "         [17395,  9115,  9045, 13793, 22804, 12371, 18767, 22316,  9150,  7592,\n",
              "           6866,  9049, 41555,  9019,  7055,  8084,   406,     3,     3,     3,\n",
              "              3,     3,     3,     3,     3,     3,     3,     3,     3,     3,\n",
              "              3,     3,     3,     3,     3,     3,     3,     3,     3,     3,\n",
              "              3,     3,     3,     3,     3,     3,     3,     3,     3,     3,\n",
              "              3,     3,     3,     3,     3,     3,     3,     3,     3,     3,\n",
              "              3,     3,     3,     3,     3,     3,     3,     3,     3,     3,\n",
              "              3,     3,     3,     3,     3,     3,     3,     3,     3,     3,\n",
              "              3,     3,     3,     3,     3,     3,     3,     3,     3,     3,\n",
              "              3,     3,     3,     3,     3,     3,     3,     3,     3,     3],\n",
              "         [15403,  6903, 10440,  8135, 10544,  7182,  9022,  8263,  6984,  6984,\n",
              "           8146,  7285,  7965,     3,     3,     3,     3,     3,     3,     3,\n",
              "              3,     3,     3,     3,     3,     3,     3,     3,     3,     3,\n",
              "              3,     3,     3,     3,     3,     3,     3,     3,     3,     3,\n",
              "              3,     3,     3,     3,     3,     3,     3,     3,     3,     3,\n",
              "              3,     3,     3,     3,     3,     3,     3,     3,     3,     3,\n",
              "              3,     3,     3,     3,     3,     3,     3,     3,     3,     3,\n",
              "              3,     3,     3,     3,     3,     3,     3,     3,     3,     3,\n",
              "              3,     3,     3,     3,     3,     3,     3,     3,     3,     3,\n",
              "              3,     3,     3,     3,     3,     3,     3,     3,     3,     3],\n",
              "         [10586,  9357,     3,     3,     3,     3,     3,     3,     3,     3,\n",
              "              3,     3,     3,     3,     3,     3,     3,     3,     3,     3,\n",
              "              3,     3,     3,     3,     3,     3,     3,     3,     3,     3,\n",
              "              3,     3,     3,     3,     3,     3,     3,     3,     3,     3,\n",
              "              3,     3,     3,     3,     3,     3,     3,     3,     3,     3,\n",
              "              3,     3,     3,     3,     3,     3,     3,     3,     3,     3,\n",
              "              3,     3,     3,     3,     3,     3,     3,     3,     3,     3,\n",
              "              3,     3,     3,     3,     3,     3,     3,     3,     3,     3,\n",
              "              3,     3,     3,     3,     3,     3,     3,     3,     3,     3,\n",
              "              3,     3,     3,     3,     3,     3,     3,     3,     3,     3],\n",
              "         [ 9122,  8340, 34510, 22891, 11732, 11039,  6853,  6838,  7965, 29045,\n",
              "              3,     3,     3,     3,     3,     3,     3,     3,     3,     3,\n",
              "              3,     3,     3,     3,     3,     3,     3,     3,     3,     3,\n",
              "              3,     3,     3,     3,     3,     3,     3,     3,     3,     3,\n",
              "              3,     3,     3,     3,     3,     3,     3,     3,     3,     3,\n",
              "              3,     3,     3,     3,     3,     3,     3,     3,     3,     3,\n",
              "              3,     3,     3,     3,     3,     3,     3,     3,     3,     3,\n",
              "              3,     3,     3,     3,     3,     3,     3,     3,     3,     3,\n",
              "              3,     3,     3,     3,     3,     3,     3,     3,     3,     3,\n",
              "              3,     3,     3,     3,     3,     3,     3,     3,     3,     3],\n",
              "         [46165,  7692,  8251,  8011,  7793,  8194,  9135, 13870,  9548,  6866,\n",
              "           9105,  7793,  8688,  6889,  9117,  7652,  6838,  8139,  9105,  9760,\n",
              "          12974, 11086,  9705, 10452, 44401,  9150,  7592,  6866,  7656,  7289,\n",
              "              3,     3,     3,     3,     3,     3,     3,     3,     3,     3,\n",
              "              3,     3,     3,     3,     3,     3,     3,     3,     3,     3,\n",
              "              3,     3,     3,     3,     3,     3,     3,     3,     3,     3,\n",
              "              3,     3,     3,     3,     3,     3,     3,     3,     3,     3,\n",
              "              3,     3,     3,     3,     3,     3,     3,     3,     3,     3,\n",
              "              3,     3,     3,     3,     3,     3,     3,     3,     3,     3,\n",
              "              3,     3,     3,     3,     3,     3,     3,     3,     3,     3],\n",
              "         [23971, 15546, 18767, 18479,   739,  7662, 16691, 16278,  7235, 15895,\n",
              "           7250,  6889,  9046, 12017, 41278,     3,     3,     3,     3,     3,\n",
              "              3,     3,     3,     3,     3,     3,     3,     3,     3,     3,\n",
              "              3,     3,     3,     3,     3,     3,     3,     3,     3,     3,\n",
              "              3,     3,     3,     3,     3,     3,     3,     3,     3,     3,\n",
              "              3,     3,     3,     3,     3,     3,     3,     3,     3,     3,\n",
              "              3,     3,     3,     3,     3,     3,     3,     3,     3,     3,\n",
              "              3,     3,     3,     3,     3,     3,     3,     3,     3,     3,\n",
              "              3,     3,     3,     3,     3,     3,     3,     3,     3,     3,\n",
              "              3,     3,     3,     3,     3,     3,     3,     3,     3,     3],\n",
              "         [ 9443,  7662, 16691, 10623,  8161,  9038,  9677,  7098,  8084,     3,\n",
              "              3,     3,     3,     3,     3,     3,     3,     3,     3,     3,\n",
              "              3,     3,     3,     3,     3,     3,     3,     3,     3,     3,\n",
              "              3,     3,     3,     3,     3,     3,     3,     3,     3,     3,\n",
              "              3,     3,     3,     3,     3,     3,     3,     3,     3,     3,\n",
              "              3,     3,     3,     3,     3,     3,     3,     3,     3,     3,\n",
              "              3,     3,     3,     3,     3,     3,     3,     3,     3,     3,\n",
              "              3,     3,     3,     3,     3,     3,     3,     3,     3,     3,\n",
              "              3,     3,     3,     3,     3,     3,     3,     3,     3,     3,\n",
              "              3,     3,     3,     3,     3,     3,     3,     3,     3,     3]]),\n",
              " 'labels': tensor([0, 0, 1, 1, 0, 0, 1, 1]),\n",
              " 'text': ['40분째 보고있는데 꺼버렸다 당시 야구 이야기보다 재일동포 북한 당시 시대적 역사 이야기가 대부분이라 지루하다.... 난 야구이야기 인지 알았는데',\n",
              "  '극단적으로 2점은 아니지만 너무 재미 없다. 재밌게 보신분 있나요?',\n",
              "  '게임과 현실은 다르다 그지깽깽이들아',\n",
              "  '좋은 작품',\n",
              "  '거참..... 이건 좀 아닌거같아...',\n",
              "  '귀신비쥬얼설정 말고는 모든게 어설프고 바보같음 어이가 없을 정도로.. 어린 아이들은 재밌게볼듯',\n",
              "  '진짜 엄청 재미있게 봤습니다. 연출도 세련됐고 주제도 독특하고',\n",
              "  '잘봤습니다. 잔잔하고 좋네요']}"
            ]
          },
          "metadata": {},
          "execution_count": 22
        }
      ]
    },
    {
      "cell_type": "markdown",
      "metadata": {
        "id": "vMj2_y_Zrkdc"
      },
      "source": [
        "## 5-2. Model Settings"
      ]
    },
    {
      "cell_type": "markdown",
      "metadata": {
        "id": "MoEvXVKbrkdc"
      },
      "source": [
        " - Model의 환경을 설정합니다."
      ]
    },
    {
      "cell_type": "code",
      "metadata": {
        "id": "wn3YXDc5rkdc"
      },
      "source": [
        "gpt2lm_model.train()\n",
        "\n",
        "learning_rate = 1e-5\n",
        "criterion = torch.nn.CrossEntropyLoss()\n",
        "optimizer = torch.optim.Adam(gpt2lm_model.parameters(), lr=learning_rate)\n",
        "\n",
        "device = 'cuda'\n",
        "\n",
        "epochs = 10\n",
        "count = 0"
      ],
      "execution_count": 18,
      "outputs": []
    },
    {
      "cell_type": "code",
      "source": [
        "sample_inputs = sample_data['input_ids']\n",
        "sample_outputs = gpt2lm_model(sample_inputs, labels=sample_inputs)"
      ],
      "metadata": {
        "id": "eZaZLaCqph3w"
      },
      "execution_count": 23,
      "outputs": []
    },
    {
      "cell_type": "code",
      "source": [
        "sample_outputs['loss']"
      ],
      "metadata": {
        "id": "dSAgM2yZp78r",
        "colab": {
          "base_uri": "https://localhost:8080/"
        },
        "outputId": "51c7dd5a-be34-49eb-e66d-445d19e1b113"
      },
      "execution_count": 24,
      "outputs": [
        {
          "output_type": "execute_result",
          "data": {
            "text/plain": [
              "tensor(9.5358, grad_fn=<NllLossBackward0>)"
            ]
          },
          "metadata": {},
          "execution_count": 24
        }
      ]
    },
    {
      "cell_type": "markdown",
      "metadata": {
        "id": "m15km-r2rkdc"
      },
      "source": [
        "## 5-3. Model Training"
      ]
    },
    {
      "cell_type": "markdown",
      "metadata": {
        "id": "58yCR-xarkdd"
      },
      "source": [
        " - Model의 학습을 시작합니다."
      ]
    },
    {
      "cell_type": "code",
      "metadata": {
        "scrolled": true,
        "id": "iUoZ4cP8rkdd",
        "colab": {
          "base_uri": "https://localhost:8080/"
        },
        "outputId": "313670fe-9cb7-47c1-b5b7-414b829d8640"
      },
      "source": [
        "tot_train_loss = 0.0\n",
        "tot_valid_loss = 0.0\n",
        "prev_valid_loss = 10000\n",
        "\n",
        "print('KoGPT-2 Training Start!')\n",
        "\n",
        "for epoch in range(epochs):\n",
        "    for batch, train_data in enumerate(train_dataloader):\n",
        "        # train data를 모델에 입력하여 출력 값을 얻습니다.\n",
        "        gpt2lm_model.to(device)\n",
        "        train_inputs = train_data['input_ids'].to(device)\n",
        "        train_outputs = gpt2lm_model(train_inputs, labels=train_inputs) # train_outputs = (train_loss, train_logits, train_past_hidden_states)\n",
        "        # label과 data를 똑같이 넣어주면 한칸씩 밀림\n",
        "        \n",
        "        train_loss, _ = train_outputs[:2]\n",
        "        \n",
        "        # valid data를 모델에 입력하여 출력 값을 얻습니다.\n",
        "            \n",
        "        valid_data = next(iter(valid_dataloader))\n",
        "\n",
        "        gpt2lm_model.to(device)\n",
        "        valid_inputs = valid_data['input_ids'].to(device)     \n",
        "        valid_outputs = gpt2lm_model(valid_inputs, labels=valid_inputs)\n",
        "        \n",
        "        valid_loss, _ = valid_outputs[:2]\n",
        "        \n",
        "        gpt2lm_model.to(device)\n",
        "        \n",
        "        # train loss를 토대로 모델을 학습합니다.\n",
        "        optimizer.zero_grad()\n",
        "        train_loss.backward()\n",
        "        optimizer.step()\n",
        "        \n",
        "        tot_train_loss += train_loss.item()\n",
        "        tot_valid_loss += valid_loss.item()\n",
        "               \n",
        "        # 200 batch 마다 학습 상황을 화면에 출력합니다.\n",
        "        if count % 200 == 0:\n",
        "            cnt = ((count+1) * batch_size)\n",
        "            current_train_loss = tot_train_loss / cnt\n",
        "            current_valid_loss = tot_valid_loss / cnt\n",
        "            \n",
        "            print(f'epoch : %5d | batch : %5d | train_loss : %.5f | valid_loss : %.5f' %(epoch+1, batch+1, current_train_loss, current_valid_loss))\n",
        "            \n",
        "            tot_train_loss = 0.0\n",
        "            tot_valid_loss = 0.0\n",
        "            \n",
        "            count = 0\n",
        "            \n",
        "            # 이전 valid_loss 보다 현재의 valid_loss가 더 낮을 경우, 모델을 저장합니다.\n",
        "            if prev_valid_loss > current_valid_loss:\n",
        "                prev_valid_loss = current_valid_loss\n",
        "                torch.save(gpt2lm_model.state_dict(), f'./KoGPT-model.pth')\n",
        "        \n",
        "        count += 1"
      ],
      "execution_count": null,
      "outputs": [
        {
          "output_type": "stream",
          "name": "stdout",
          "text": [
            "KoGPT-2 Training Start!\n",
            "epoch :     1 | batch :     1 | train_loss : 1.19892 | valid_loss : 1.19924\n",
            "epoch :     1 | batch :   201 | train_loss : 0.13436 | valid_loss : 0.13313\n",
            "epoch :     1 | batch :   401 | train_loss : 0.11667 | valid_loss : 0.11756\n",
            "epoch :     1 | batch :   601 | train_loss : 0.11221 | valid_loss : 0.11503\n",
            "epoch :     1 | batch :   801 | train_loss : 0.11107 | valid_loss : 0.11307\n",
            "epoch :     1 | batch :  1001 | train_loss : 0.10849 | valid_loss : 0.10750\n",
            "epoch :     1 | batch :  1201 | train_loss : 0.11019 | valid_loss : 0.11094\n",
            "epoch :     1 | batch :  1401 | train_loss : 0.10775 | valid_loss : 0.11051\n",
            "epoch :     1 | batch :  1601 | train_loss : 0.10634 | valid_loss : 0.11045\n",
            "epoch :     1 | batch :  1801 | train_loss : 0.10588 | valid_loss : 0.10863\n",
            "epoch :     1 | batch :  2001 | train_loss : 0.10417 | valid_loss : 0.10775\n",
            "epoch :     1 | batch :  2201 | train_loss : 0.10940 | valid_loss : 0.10763\n",
            "epoch :     1 | batch :  2401 | train_loss : 0.10642 | valid_loss : 0.11088\n",
            "epoch :     1 | batch :  2601 | train_loss : 0.10209 | valid_loss : 0.10844\n",
            "epoch :     1 | batch :  2801 | train_loss : 0.10550 | valid_loss : 0.10609\n"
          ]
        }
      ]
    },
    {
      "cell_type": "code",
      "metadata": {
        "id": "mpX6-BeE9NcR"
      },
      "source": [
        "train_set[5]"
      ],
      "execution_count": null,
      "outputs": []
    },
    {
      "cell_type": "code",
      "metadata": {
        "id": "yKp_ygcR8VhK"
      },
      "source": [
        "kogpt_load_path = f\"./KoGPT-model.pth\"\n",
        "\n",
        "gpt2lm_model.load_state_dict(torch.load(kogpt_load_path))"
      ],
      "execution_count": null,
      "outputs": []
    },
    {
      "cell_type": "code",
      "metadata": {
        "id": "xVNd9zhPrkde"
      },
      "source": [
        "gpt2lm_model.to(device)\n",
        "\n",
        "sample_text = \"정말 재미\"\n",
        "\n",
        "tokens = tokenizer.tokenize(sample_text)\n",
        "token_ids = tokenizer.encode(sample_text)\n",
        "\n",
        "gen_ids = gpt2lm_model.generate(torch.tensor([token_ids]).to(device),\n",
        "                           max_length=127,\n",
        "                           repetition_penalty=1.0,\n",
        "                           num_beams=5)\n",
        "\n",
        "generated = tokenizer.decode(gen_ids[0,:].tolist())\n",
        "print(generated)"
      ],
      "execution_count": null,
      "outputs": []
    },
    {
      "cell_type": "code",
      "metadata": {
        "id": "7Fs-HK23-BH4"
      },
      "source": [
        "import re\n",
        "\n",
        "p = re.compile('<pad>')\n",
        "re.sub(p, '', generated)"
      ],
      "execution_count": null,
      "outputs": []
    },
    {
      "cell_type": "markdown",
      "metadata": {
        "id": "kiDq9EVFrkde"
      },
      "source": [
        "# 6. Fine Tuning 2 (Classification Task)"
      ]
    },
    {
      "cell_type": "markdown",
      "metadata": {
        "id": "j4VEfnherkde"
      },
      "source": [
        " - Dateset을 가져옵니다."
      ]
    },
    {
      "cell_type": "code",
      "metadata": {
        "id": "9Xcj-OEirkde"
      },
      "source": [
        "tokenizer = PreTrainedTokenizerFast.from_pretrained(\"skt/kogpt2-base-v2\", bos_token='</s>', eos_token='</s>', unk_token='<unk>', pad_token='<pad>', mask_token='<mask>', padding_side='left') "
      ],
      "execution_count": null,
      "outputs": []
    },
    {
      "cell_type": "code",
      "metadata": {
        "id": "zzabGZvIrkde"
      },
      "source": [
        "batch_size = 16\n",
        "\n",
        "naver_data = get_naver_review_examples()\n",
        "\n",
        "dataset = NaverReviewDataset(naver_data['document'], naver_data['label'], tokenizer, 100)\n",
        "train_set, valid_set, test_set = torch.utils.data.random_split(dataset, [40000, 5000, 5000])\n",
        "\n",
        "train_dataloader = DataLoader(train_set, batch_size=batch_size,\n",
        "                        shuffle=True)\n",
        "\n",
        "valid_dataloader = DataLoader(valid_set, batch_size=batch_size,\n",
        "                        shuffle=True)\n",
        "\n",
        "test_dataloader = DataLoader(test_set, batch_size=batch_size,\n",
        "                        shuffle=True)"
      ],
      "execution_count": null,
      "outputs": []
    },
    {
      "cell_type": "markdown",
      "metadata": {
        "id": "HJPwD9Xerkde"
      },
      "source": [
        " - GPT Classifier를 정의합니다."
      ]
    },
    {
      "cell_type": "code",
      "metadata": {
        "id": "Wod_VKl7rkdf"
      },
      "source": [
        "class GPT2SentimentClassifier(torch.nn.Module):\n",
        "\n",
        "    def __init__(self, n_classes):\n",
        "        super(GPT2SentimentClassifier, self).__init__()\n",
        "\n",
        "        self.gpt_model = GPT2Model.from_pretrained('skt/kogpt2-base-v2')\n",
        "        self.drop = torch.nn.Dropout(p=0.1)\n",
        "        self.out = torch.nn.Linear(self.gpt_model.config.hidden_size, n_classes)\n",
        "\n",
        "    def forward(self, input_ids, attention_mask):\n",
        "        hidden_states = self.gpt_model(\n",
        "          input_ids=input_ids,\n",
        "          attention_mask=attention_mask\n",
        "        )\n",
        "        last_hidden_state = hidden_states[0]\n",
        "        \n",
        "        output = self.drop(last_hidden_state[:, -1, :])\n",
        "\n",
        "        return self.out(output)\n"
      ],
      "execution_count": null,
      "outputs": []
    },
    {
      "cell_type": "markdown",
      "metadata": {
        "id": "zBBgK4LDrkdf"
      },
      "source": [
        " - Model의 환경을 설정합니다."
      ]
    },
    {
      "cell_type": "code",
      "metadata": {
        "id": "KS8te_26rkdf"
      },
      "source": [
        "gpt_clf = GPT2SentimentClassifier(n_classes=1)\n",
        "gpt_clf.train()\n",
        "\n",
        "learning_rate = 5e-5\n",
        "criterion = torch.nn.BCEWithLogitsLoss()\n",
        "optimizer = torch.optim.Adam(gpt_clf.parameters(), lr=learning_rate)\n",
        "\n",
        "device = 'cuda'\n",
        "\n",
        "epochs = 1\n",
        "count = 0"
      ],
      "execution_count": null,
      "outputs": []
    },
    {
      "cell_type": "markdown",
      "metadata": {
        "id": "Zu6wBkkgrkdf"
      },
      "source": [
        " - 정확도 계산 함수를 정의합니다. "
      ]
    },
    {
      "cell_type": "code",
      "metadata": {
        "id": "bLNnDiNgrkdf"
      },
      "source": [
        "def cal_correct_num(predicts, labels):\n",
        "    predicts_ = predicts >= 0.5\n",
        "    correct_num = torch.sum(predicts_ == labels)\n",
        "        \n",
        "    return correct_num"
      ],
      "execution_count": null,
      "outputs": []
    },
    {
      "cell_type": "markdown",
      "metadata": {
        "id": "ad3KaQHCrkdg"
      },
      "source": [
        " - Model의 학습을 시작합니다"
      ]
    },
    {
      "cell_type": "code",
      "metadata": {
        "id": "38LkHRZ1rkdg"
      },
      "source": [
        "tot_train_loss = 0.0\n",
        "tot_valid_loss = 0.0\n",
        "\n",
        "train_correct_num = 0\n",
        "valid_correct_num = 0\n",
        "\n",
        "prev_valid_loss = 10000\n",
        "\n",
        "print('KoGPT-2 Training Start!')\n",
        "\n",
        "for epoch in range(epochs):\n",
        "    for batch, train_data in enumerate(train_dataloader):\n",
        "        # train data를 모델에 입력하여 출력 값을 얻습니다.\n",
        "        gpt_clf.to(device)\n",
        "        train_inputs = train_data['input_ids'].to(device)\n",
        "        train_masks = train_data['attention_mask'].to(device)\n",
        "        train_labels = train_data['labels'].to(device)\n",
        "        \n",
        "        train_outputs = gpt_clf(train_inputs, train_masks)\n",
        "        \n",
        "        train_loss = criterion(train_outputs.view(-1), train_labels.float())\n",
        "        \n",
        "        # valid data를 모델에 입력하여 출력 값을 얻습니다.\n",
        "            \n",
        "        valid_data = next(iter(valid_dataloader))\n",
        "\n",
        "        gpt_clf.to(device)\n",
        "        valid_inputs = valid_data['input_ids'].to(device)    \n",
        "        valid_masks = valid_data['attention_mask'].to(device)\n",
        "        valid_labels = valid_data['labels'].to(device)\n",
        "        \n",
        "        valid_outputs = gpt_clf(valid_inputs, valid_masks)\n",
        "        \n",
        "        valid_loss = criterion(valid_outputs.view(-1), valid_labels.float())\n",
        "        \n",
        "        gpt_clf.to(device)\n",
        "        \n",
        "        # train loss를 토대로 모델을 학습합니다.\n",
        "        optimizer.zero_grad()\n",
        "        train_loss.backward()\n",
        "        optimizer.step()\n",
        "        \n",
        "        tot_train_loss += train_loss.item()\n",
        "        tot_valid_loss += valid_loss.item()\n",
        "        \n",
        "        train_correct_num += cal_correct_num(torch.sigmoid(train_outputs.view(-1)), train_labels.float())\n",
        "        valid_correct_num += cal_correct_num(torch.sigmoid(valid_outputs.view(-1)), valid_labels.float())\n",
        "               \n",
        "        # 200 batch 마다 학습 상황을 화면에 출력합니다.\n",
        "        if count % 200 == 0:\n",
        "            cnt = ((count+1) * batch_size)\n",
        "            current_train_loss = tot_train_loss / cnt\n",
        "            current_valid_loss = tot_valid_loss / cnt\n",
        "            \n",
        "            train_acc = train_correct_num / cnt\n",
        "            valid_acc = valid_correct_num / cnt\n",
        "            \n",
        "            print(f'epoch : %5d | batch : %5d | train_loss : %.5f | valid_loss : %.5f | train_acc : %.5f | valid_acc : %.5f' %(epoch+1, batch+1, current_train_loss, current_valid_loss, train_acc, valid_acc))\n",
        "            \n",
        "            tot_train_loss = 0.0\n",
        "            tot_valid_loss = 0.0\n",
        "            \n",
        "            train_correct_num = 0\n",
        "            valid_correct_num = 0\n",
        "            \n",
        "            count = 0\n",
        "            \n",
        "            # 이전 test_loss 보다 현재의 test_loss가 더 낮을 경우, 모델을 저장합니다.\n",
        "            if prev_valid_loss > current_valid_loss:\n",
        "                prev_valid_loss = current_valid_loss\n",
        "                torch.save(gpt_clf.state_dict(), f'./KoGPT-Classifier-model.pth')\n",
        "        \n",
        "        count += 1"
      ],
      "execution_count": null,
      "outputs": []
    }
  ]
}
