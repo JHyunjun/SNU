{
  "nbformat": 4,
  "nbformat_minor": 0,
  "metadata": {
    "accelerator": "GPU",
    "colab": {
      "name": "3_anomaly_detection.ipynb",
      "provenance": [],
      "collapsed_sections": [],
      "include_colab_link": true
    },
    "kernelspec": {
      "display_name": "Python 3",
      "name": "python3"
    },
    "language_info": {
      "codemirror_mode": {
        "name": "ipython",
        "version": 3
      },
      "file_extension": ".py",
      "mimetype": "text/x-python",
      "name": "python",
      "nbconvert_exporter": "python",
      "pygments_lexer": "ipython3",
      "version": "3.6.9"
    }
  },
  "cells": [
    {
      "cell_type": "markdown",
      "metadata": {
        "id": "view-in-github",
        "colab_type": "text"
      },
      "source": [
        "<a href=\"https://colab.research.google.com/github/JHyunjun/SNU/blob/main/AE%20for%20AD.ipynb\" target=\"_parent\"><img src=\"https://colab.research.google.com/assets/colab-badge.svg\" alt=\"Open In Colab\"/></a>"
      ]
    },
    {
      "cell_type": "markdown",
      "metadata": {
        "id": "xfNT-mlFwxVM"
      },
      "source": [
        "# Intro to Autoencoders\n",
        "\n",
        "This material is based on [Intro to Autoencoders](https://www.tensorflow.org/tutorials/generative/autoencoder) and may be copyrighted by the original writers. For educational uses only."
      ]
    },
    {
      "cell_type": "markdown",
      "metadata": {
        "id": "ITZuApL56Mny"
      },
      "source": [
        "This tutorial introduces autoencoders with three examples: the basics, image denoising, and anomaly detection.\n",
        "\n",
        "An autoencoder is a special type of neural network that is trained to copy its input to its output. For example, given an image of a handwritten digit, an autoencoder first encodes the image into a lower dimensional latent representation, then decodes the latent representation back to an image. An autoencoder learns to compress the data while minimizing the reconstruction error. \n",
        "\n",
        "To learn more about autoencoders, please consider reading chapter 14 from [Deep Learning](https://www.deeplearningbook.org/) by Ian Goodfellow, Yoshua Bengio, and Aaron Courville."
      ]
    },
    {
      "cell_type": "markdown",
      "metadata": {
        "id": "e1_Y75QXJS6h"
      },
      "source": [
        "## Import TensorFlow and other libraries"
      ]
    },
    {
      "cell_type": "code",
      "metadata": {
        "execution": {
          "iopub.execute_input": "2020-10-06T01:23:01.840566Z",
          "iopub.status.busy": "2020-10-06T01:23:01.839935Z",
          "iopub.status.idle": "2020-10-06T01:23:09.012855Z",
          "shell.execute_reply": "2020-10-06T01:23:09.012263Z"
        },
        "id": "YfIk2es3hJEd"
      },
      "source": [
        "import matplotlib.pyplot as plt\n",
        "import numpy as np\n",
        "import pandas as pd\n",
        "import tensorflow as tf\n",
        "\n",
        "from sklearn.metrics import accuracy_score, precision_score, recall_score\n",
        "from sklearn.model_selection import train_test_split\n",
        "from tensorflow.keras import layers, losses\n",
        "from tensorflow.keras.datasets import fashion_mnist\n",
        "from tensorflow.keras.models import Model"
      ],
      "execution_count": 27,
      "outputs": []
    },
    {
      "cell_type": "markdown",
      "metadata": {
        "id": "ErGrTnWHoUYl"
      },
      "source": [
        "## Anomaly detection\n",
        "\n",
        "## Overview\n",
        "\n",
        "\n",
        "In this example, you will train an autoencoder to detect anomalies on the [ECG5000 dataset](http://www.timeseriesclassification.com/description.php?Dataset=ECG5000). This dataset contains 5,000 [Electrocardiograms](https://en.wikipedia.org/wiki/Electrocardiography), each with 140 data points. You will use a simplified version of the dataset, where each example has been labeled either `0` (corresponding to an abnormal rhythm), or `1` (corresponding to a normal rhythm). You are interested in identifying the abnormal rhythms.\n",
        "\n",
        "Note: This is a labeled dataset, so you could phrase this as a supervised learning problem. The goal of this example is to illustrate anomaly detection concepts you can apply to larger datasets, where you do not have labels available (for example, if you had many thousands of normal rhythms, and only a small number of abnormal rhythms).\n",
        "\n",
        "How will you detect anomalies using an autoencoder? Recall that an autoencoder is trained to minimize reconstruction error. You will train an autoencoder on the normal rhythms only, then use it to reconstruct all the data. Our hypothesis is that the abnormal rhythms will have higher reconstruction error. You will then classify a rhythm as an anomaly if the reconstruction error surpasses a fixed threshold."
      ]
    },
    {
      "cell_type": "markdown",
      "metadata": {
        "id": "i5estNaur_Mh"
      },
      "source": [
        "### Load ECG data"
      ]
    },
    {
      "cell_type": "markdown",
      "metadata": {
        "id": "y35nsXLPsDNX"
      },
      "source": [
        "The dataset you will use is based on one from [timeseriesclassification.com](http://www.timeseriesclassification.com/description.php?Dataset=ECG5000).\n"
      ]
    },
    {
      "cell_type": "code",
      "metadata": {
        "execution": {
          "iopub.execute_input": "2020-10-06T01:28:03.709618Z",
          "iopub.status.busy": "2020-10-06T01:28:03.708898Z",
          "iopub.status.idle": "2020-10-06T01:28:04.101571Z",
          "shell.execute_reply": "2020-10-06T01:28:04.100913Z"
        },
        "id": "KmKRDJWgsFYa",
        "colab": {
          "base_uri": "https://localhost:8080/"
        },
        "outputId": "4883ccc7-928d-4be3-dc5a-47cb12baa9d1"
      },
      "source": [
        "# Download the dataset\n",
        "dataframe = pd.read_csv('http://storage.googleapis.com/download.tensorflow.org/data/ecg.csv', header=None)\n",
        "raw_data = dataframe.values\n",
        "dataframe.head()\n",
        "print(dataframe.shape)"
      ],
      "execution_count": 28,
      "outputs": [
        {
          "output_type": "stream",
          "name": "stdout",
          "text": [
            "(4998, 141)\n"
          ]
        }
      ]
    },
    {
      "cell_type": "code",
      "metadata": {
        "execution": {
          "iopub.execute_input": "2020-10-06T01:28:04.108858Z",
          "iopub.status.busy": "2020-10-06T01:28:04.107248Z",
          "iopub.status.idle": "2020-10-06T01:28:04.111983Z",
          "shell.execute_reply": "2020-10-06T01:28:04.112372Z"
        },
        "id": "UmuCPVYKsKKx"
      },
      "source": [
        "# The last element contains the labels\n",
        "labels = raw_data[:, -1]\n",
        "\n",
        "# The other data points are the electrocadriogram data\n",
        "data = raw_data[:, 0:-1]\n",
        "\n",
        "train_data, test_data, train_labels, test_labels = train_test_split(\n",
        "    data, labels, test_size=0.2, random_state=21\n",
        ")"
      ],
      "execution_count": 29,
      "outputs": []
    },
    {
      "cell_type": "markdown",
      "metadata": {
        "id": "byK2vP7hsMbz"
      },
      "source": [
        "Normalize the data to `[0,1]`.\n"
      ]
    },
    {
      "cell_type": "code",
      "metadata": {
        "execution": {
          "iopub.execute_input": "2020-10-06T01:28:04.119731Z",
          "iopub.status.busy": "2020-10-06T01:28:04.118131Z",
          "iopub.status.idle": "2020-10-06T01:28:04.126147Z",
          "shell.execute_reply": "2020-10-06T01:28:04.125674Z"
        },
        "id": "tgMZVWRKsPx6"
      },
      "source": [
        "min_val = tf.reduce_min(train_data)\n",
        "max_val = tf.reduce_max(train_data)\n",
        "\n",
        "train_data = (train_data - min_val) / (max_val - min_val)\n",
        "test_data = (test_data - min_val) / (max_val - min_val)\n",
        "\n",
        "train_data = tf.cast(train_data, tf.float32)\n",
        "test_data = tf.cast(test_data, tf.float32)"
      ],
      "execution_count": 30,
      "outputs": []
    },
    {
      "cell_type": "markdown",
      "metadata": {
        "id": "BdSYr2IPsTiz"
      },
      "source": [
        "You will train the autoencoder using only the normal rhythms, which are labeled in this dataset as `1`. Separate the normal rhythms from the abnormal rhythms."
      ]
    },
    {
      "cell_type": "code",
      "metadata": {
        "execution": {
          "iopub.execute_input": "2020-10-06T01:28:04.131533Z",
          "iopub.status.busy": "2020-10-06T01:28:04.130547Z",
          "iopub.status.idle": "2020-10-06T01:28:04.137506Z",
          "shell.execute_reply": "2020-10-06T01:28:04.137920Z"
        },
        "id": "VvK4NRe8sVhE"
      },
      "source": [
        "train_labels = train_labels.astype(bool)\n",
        "test_labels = test_labels.astype(bool)\n",
        "\n",
        "normal_train_data = train_data[train_labels]\n",
        "normal_test_data = test_data[test_labels]\n",
        "\n",
        "anomalous_train_data = train_data[~train_labels]\n",
        "anomalous_test_data = test_data[~test_labels]"
      ],
      "execution_count": 31,
      "outputs": []
    },
    {
      "cell_type": "markdown",
      "metadata": {
        "id": "wVcTBDo-CqFS"
      },
      "source": [
        "Plot a normal ECG. "
      ]
    },
    {
      "cell_type": "code",
      "metadata": {
        "execution": {
          "iopub.execute_input": "2020-10-06T01:28:04.159711Z",
          "iopub.status.busy": "2020-10-06T01:28:04.158892Z",
          "iopub.status.idle": "2020-10-06T01:28:04.263837Z",
          "shell.execute_reply": "2020-10-06T01:28:04.264243Z"
        },
        "id": "ZTlMIrpmseYe",
        "colab": {
          "base_uri": "https://localhost:8080/",
          "height": 281
        },
        "outputId": "4753d994-47ba-4f27-895b-86b2618657c5"
      },
      "source": [
        "plt.grid()\n",
        "plt.plot(np.arange(140), normal_train_data[0])\n",
        "plt.title(\"A Normal ECG\")\n",
        "plt.show()"
      ],
      "execution_count": 32,
      "outputs": [
        {
          "output_type": "display_data",
          "data": {
            "text/plain": [
              "<Figure size 432x288 with 1 Axes>"
            ],
            "image/png": "[encoded data removed]"
          },
          "metadata": {
            "needs_background": "light"
          }
        }
      ]
    },
    {
      "cell_type": "markdown",
      "metadata": {
        "id": "QpI9by2ZA0NN"
      },
      "source": [
        "Plot an anomalous ECG."
      ]
    },
    {
      "cell_type": "code",
      "metadata": {
        "execution": {
          "iopub.execute_input": "2020-10-06T01:28:04.403712Z",
          "iopub.status.busy": "2020-10-06T01:28:04.402935Z",
          "iopub.status.idle": "2020-10-06T01:28:04.525277Z",
          "shell.execute_reply": "2020-10-06T01:28:04.525682Z"
        },
        "id": "zrpXREF2siBr",
        "colab": {
          "base_uri": "https://localhost:8080/",
          "height": 281
        },
        "outputId": "dd3bc168-9c44-44fe-c987-f9f48482d0ba"
      },
      "source": [
        "plt.grid()\n",
        "plt.plot(np.arange(140), anomalous_train_data[0])\n",
        "plt.title(\"An Anomalous ECG\")\n",
        "plt.show()"
      ],
      "execution_count": 33,
      "outputs": [
        {
          "output_type": "display_data",
          "data": {
            "text/plain": [
              "<Figure size 432x288 with 1 Axes>"
            ],
            "image/png": "[encoded data removed]"
          },
          "metadata": {
            "needs_background": "light"
          }
        }
      ]
    },
    {
      "cell_type": "markdown",
      "metadata": {
        "id": "0DS6QKZJslZz"
      },
      "source": [
        "### Build the model"
      ]
    },
    {
      "cell_type": "code",
      "metadata": {
        "execution": {
          "iopub.execute_input": "2020-10-06T01:28:04.534448Z",
          "iopub.status.busy": "2020-10-06T01:28:04.533773Z",
          "iopub.status.idle": "2020-10-06T01:28:04.545480Z",
          "shell.execute_reply": "2020-10-06T01:28:04.545010Z"
        },
        "id": "bf6owZQDsp9y"
      },
      "source": [
        "class AnomalyDetector(Model):\n",
        "  def __init__(self):\n",
        "    super(AnomalyDetector,self).__init__()\n",
        "    self.layer1 = tf.keras.layers.Dense(140, activation = 'relu')\n",
        "    self.layer2 = tf.keras.layers.Dense(30, activation = 'relu')\n",
        "    self.layer3 = tf.keras.layers.Dense(140,activation = 'sigmoid')\n",
        "\n",
        "  def call(self, x):\n",
        "    x = self.layer1(x)\n",
        "    x = self.layer2(x)\n",
        "    x = self.layer3(x)\n",
        "\n",
        "    return x\n",
        "  \n",
        "autoencoder = AnomalyDetector()"
      ],
      "execution_count": 34,
      "outputs": []
    },
    {
      "cell_type": "code",
      "metadata": {
        "execution": {
          "iopub.execute_input": "2020-10-06T01:28:04.553521Z",
          "iopub.status.busy": "2020-10-06T01:28:04.552667Z",
          "iopub.status.idle": "2020-10-06T01:28:04.556458Z",
          "shell.execute_reply": "2020-10-06T01:28:04.555950Z"
        },
        "id": "gwRpBBbg463S"
      },
      "source": [
        "# define optimizer and compile\n",
        "autoencoder.compile(optimizer='adam', loss=losses.MeanSquaredError())"
      ],
      "execution_count": 35,
      "outputs": []
    },
    {
      "cell_type": "markdown",
      "metadata": {
        "id": "zuTy60STBEy4"
      },
      "source": [
        "Notice that the autoencoder is trained using only the normal ECGs, but is evaluated using the full test set."
      ]
    },
    {
      "cell_type": "code",
      "metadata": {
        "execution": {
          "iopub.execute_input": "2020-10-06T01:28:04.561275Z",
          "iopub.status.busy": "2020-10-06T01:28:04.560549Z",
          "iopub.status.idle": "2020-10-06T01:28:05.541634Z",
          "shell.execute_reply": "2020-10-06T01:28:05.540993Z"
        },
        "id": "V6NFSs-jsty2",
        "colab": {
          "base_uri": "https://localhost:8080/"
        },
        "outputId": "d663989a-351a-45e7-dcc5-ecb0b655cd64"
      },
      "source": [
        "# Train\n",
        "history = autoencoder.fit(normal_train_data, normal_train_data, \n",
        "          epochs=20, \n",
        "          batch_size=512,\n",
        "          validation_data=(normal_test_data, normal_test_data),\n",
        "          shuffle=True)"
      ],
      "execution_count": 36,
      "outputs": [
        {
          "output_type": "stream",
          "name": "stdout",
          "text": [
            "Epoch 1/20\n",
            "5/5 [==============================] - 0s 33ms/step - loss: 0.0076 - val_loss: 0.0067\n",
            "Epoch 2/20\n",
            "5/5 [==============================] - 0s 12ms/step - loss: 0.0066 - val_loss: 0.0064\n",
            "Epoch 3/20\n",
            "5/5 [==============================] - 0s 10ms/step - loss: 0.0063 - val_loss: 0.0061\n",
            "Epoch 4/20\n",
            "5/5 [==============================] - 0s 9ms/step - loss: 0.0060 - val_loss: 0.0058\n",
            "Epoch 5/20\n",
            "5/5 [==============================] - 0s 9ms/step - loss: 0.0057 - val_loss: 0.0054\n",
            "Epoch 6/20\n",
            "5/5 [==============================] - 0s 7ms/step - loss: 0.0053 - val_loss: 0.0050\n",
            "Epoch 7/20\n",
            "5/5 [==============================] - 0s 7ms/step - loss: 0.0048 - val_loss: 0.0045\n",
            "Epoch 8/20\n",
            "5/5 [==============================] - 0s 7ms/step - loss: 0.0044 - val_loss: 0.0041\n",
            "Epoch 9/20\n",
            "5/5 [==============================] - 0s 8ms/step - loss: 0.0039 - val_loss: 0.0036\n",
            "Epoch 10/20\n",
            "5/5 [==============================] - 0s 8ms/step - loss: 0.0035 - val_loss: 0.0032\n",
            "Epoch 11/20\n",
            "5/5 [==============================] - 0s 8ms/step - loss: 0.0031 - val_loss: 0.0028\n",
            "Epoch 12/20\n",
            "5/5 [==============================] - 0s 8ms/step - loss: 0.0027 - val_loss: 0.0025\n",
            "Epoch 13/20\n",
            "5/5 [==============================] - 0s 8ms/step - loss: 0.0024 - val_loss: 0.0022\n",
            "Epoch 14/20\n",
            "5/5 [==============================] - 0s 7ms/step - loss: 0.0021 - val_loss: 0.0019\n",
            "Epoch 15/20\n",
            "5/5 [==============================] - 0s 8ms/step - loss: 0.0019 - val_loss: 0.0017\n",
            "Epoch 16/20\n",
            "5/5 [==============================] - 0s 9ms/step - loss: 0.0017 - val_loss: 0.0016\n",
            "Epoch 17/20\n",
            "5/5 [==============================] - 0s 7ms/step - loss: 0.0015 - val_loss: 0.0014\n",
            "Epoch 18/20\n",
            "5/5 [==============================] - 0s 9ms/step - loss: 0.0014 - val_loss: 0.0013\n",
            "Epoch 19/20\n",
            "5/5 [==============================] - 0s 7ms/step - loss: 0.0014 - val_loss: 0.0013\n",
            "Epoch 20/20\n",
            "5/5 [==============================] - 0s 7ms/step - loss: 0.0013 - val_loss: 0.0012\n"
          ]
        }
      ]
    },
    {
      "cell_type": "code",
      "metadata": {
        "execution": {
          "iopub.execute_input": "2020-10-06T01:28:05.565088Z",
          "iopub.status.busy": "2020-10-06T01:28:05.564408Z",
          "iopub.status.idle": "2020-10-06T01:28:05.695322Z",
          "shell.execute_reply": "2020-10-06T01:28:05.694834Z"
        },
        "id": "OEexphFwwTQS",
        "colab": {
          "base_uri": "https://localhost:8080/",
          "height": 283
        },
        "outputId": "33521dbd-6228-417b-b9a5-2f84cd3982f2"
      },
      "source": [
        "plt.plot(history.history[\"loss\"], label=\"Training Loss\")\n",
        "plt.plot(history.history[\"val_loss\"], label=\"Validation Loss\")\n",
        "plt.legend()"
      ],
      "execution_count": 37,
      "outputs": [
        {
          "output_type": "execute_result",
          "data": {
            "text/plain": [
              "<matplotlib.legend.Legend at 0x7f1b27d1ead0>"
            ]
          },
          "metadata": {},
          "execution_count": 37
        },
        {
          "output_type": "display_data",
          "data": {
            "text/plain": [
              "<Figure size 432x288 with 1 Axes>"
            ],
            "image/png": "[encoded data removed]"
          },
          "metadata": {
            "needs_background": "light"
          }
        }
      ]
    },
    {
      "cell_type": "markdown",
      "metadata": {
        "id": "ceI5lKv1BT-A"
      },
      "source": [
        "You will soon classify an ECG as anomalous if the reconstruction error is greater than one standard deviation from the normal training examples. First, let's plot a normal ECG from the training set, the reconstruction after it's encoded and decoded by the autoencoder, and the reconstruction error."
      ]
    },
    {
      "cell_type": "code",
      "metadata": {
        "execution": {
          "iopub.execute_input": "2020-10-06T01:28:05.702481Z",
          "iopub.status.busy": "2020-10-06T01:28:05.701211Z",
          "iopub.status.idle": "2020-10-06T01:28:05.844733Z",
          "shell.execute_reply": "2020-10-06T01:28:05.845190Z"
        },
        "id": "hmsk4DuktxJ2",
        "colab": {
          "base_uri": "https://localhost:8080/",
          "height": 265
        },
        "outputId": "939c9171-31b3-419e-ae73-e56cdf53c088"
      },
      "source": [
        "# Reconstruct normal test data \n",
        "x = autoencoder.layer1(normal_test_data)\n",
        "x = autoencoder.layer2(x)\n",
        "x = autoencoder.layer3(x)\n",
        "decoded_imgs = x\n",
        "\n",
        "\n",
        "plt.plot(normal_test_data[0],'b')\n",
        "plt.plot(decoded_imgs[0],'r')\n",
        "plt.fill_between(np.arange(140), decoded_imgs[0], normal_test_data[0], color='lightcoral' )\n",
        "plt.legend(labels=[\"Input\", \"Reconstruction\", \"Error\"])\n",
        "plt.show()"
      ],
      "execution_count": 38,
      "outputs": [
        {
          "output_type": "display_data",
          "data": {
            "text/plain": [
              "<Figure size 432x288 with 1 Axes>"
            ],
            "image/png": "[encoded data removed]"
          },
          "metadata": {
            "needs_background": "light"
          }
        }
      ]
    },
    {
      "cell_type": "markdown",
      "metadata": {
        "id": "ocA_q9ufB_aF"
      },
      "source": [
        "Create a similar plot, this time for an anomalous test example."
      ]
    },
    {
      "cell_type": "code",
      "metadata": {
        "execution": {
          "iopub.execute_input": "2020-10-06T01:28:05.851170Z",
          "iopub.status.busy": "2020-10-06T01:28:05.850522Z",
          "iopub.status.idle": "2020-10-06T01:28:05.988019Z",
          "shell.execute_reply": "2020-10-06T01:28:05.988431Z"
        },
        "id": "vNFTuPhLwTBn",
        "colab": {
          "base_uri": "https://localhost:8080/",
          "height": 265
        },
        "outputId": "01f362e2-93a2-4898-e857-8f443de44c05"
      },
      "source": [
        "# Reconstruct anomalous test data \n",
        "x = autoencoder.layer1(anomalous_test_data)\n",
        "x = autoencoder.layer2(x)\n",
        "x = autoencoder.layer3(x)\n",
        "decoded_imgs = x\n",
        "\n",
        "plt.plot(anomalous_test_data[0],'b')\n",
        "plt.plot(decoded_imgs[0],'r')\n",
        "plt.fill_between(np.arange(140), decoded_imgs[0], anomalous_test_data[0], color='lightcoral' )\n",
        "plt.legend(labels=[\"Input\", \"Reconstruction\", \"Error\"])\n",
        "plt.show()"
      ],
      "execution_count": 39,
      "outputs": [
        {
          "output_type": "display_data",
          "data": {
            "text/plain": [
              "<Figure size 432x288 with 1 Axes>"
            ],
            "image/png": "[encoded data removed]"
          },
          "metadata": {
            "needs_background": "light"
          }
        }
      ]
    },
    {
      "cell_type": "markdown",
      "metadata": {
        "id": "ocimg3MBswdS"
      },
      "source": [
        "### Detect anomalies"
      ]
    },
    {
      "cell_type": "markdown",
      "metadata": {
        "id": "Xnh8wmkDsypN"
      },
      "source": [
        "Detect anomalies by calculating whether the reconstruction loss is greater than a fixed threshold. In this tutorial, you will calculate the mean average error for normal examples from the training set, then classify future examples as anomalous if the reconstruction error is higher than one standard deviation from the training set.\n"
      ]
    },
    {
      "cell_type": "markdown",
      "metadata": {
        "id": "TeuT8uTA5Y_w"
      },
      "source": [
        "Plot the reconstruction error on normal ECGs from the training set"
      ]
    },
    {
      "cell_type": "code",
      "metadata": {
        "execution": {
          "iopub.execute_input": "2020-10-06T01:28:05.994078Z",
          "iopub.status.busy": "2020-10-06T01:28:05.993423Z",
          "iopub.status.idle": "2020-10-06T01:30:56.649750Z",
          "shell.execute_reply": "2020-10-06T01:30:56.650196Z"
        },
        "id": "gwLuxrb-s0ss",
        "colab": {
          "base_uri": "https://localhost:8080/",
          "height": 279
        },
        "outputId": "8523ced5-8ccd-4c61-ad12-400a94b53114"
      },
      "source": [
        "# Calculate recontruction loss on normal train data \n",
        "################ Implementation ################\n",
        "reconstructions = autoencoder.predict(normal_train_data)\n",
        "train_loss = tf.keras.losses.mae(reconstructions, normal_train_data)\n",
        "################ Implementation ################\n",
        "\n",
        "plt.hist(train_loss, bins=50)\n",
        "plt.xlabel(\"Train loss\")\n",
        "plt.ylabel(\"No of examples\")\n",
        "plt.show()"
      ],
      "execution_count": 40,
      "outputs": [
        {
          "output_type": "display_data",
          "data": {
            "text/plain": [
              "<Figure size 432x288 with 1 Axes>"
            ],
            "image/png": "[encoded data removed]"
          },
          "metadata": {
            "needs_background": "light"
          }
        }
      ]
    },
    {
      "cell_type": "markdown",
      "metadata": {
        "id": "mh-3ChEF5hog"
      },
      "source": [
        "Choose a threshold value that is one standard deviations above the mean."
      ]
    },
    {
      "cell_type": "code",
      "metadata": {
        "execution": {
          "iopub.execute_input": "2020-10-06T01:30:56.655537Z",
          "iopub.status.busy": "2020-10-06T01:30:56.654819Z",
          "iopub.status.idle": "2020-10-06T01:30:56.657850Z",
          "shell.execute_reply": "2020-10-06T01:30:56.657343Z"
        },
        "id": "82hkl0Chs3P_",
        "colab": {
          "base_uri": "https://localhost:8080/"
        },
        "outputId": "0ed8cf9a-ad66-4905-856d-4aa0e4a2bc4b"
      },
      "source": [
        "# Calculate a threshold (mean + std)\n",
        "threshold = np.mean(train_loss) + np.std(train_loss)\n",
        "print(\"Threshold: \", threshold)"
      ],
      "execution_count": 41,
      "outputs": [
        {
          "output_type": "stream",
          "name": "stdout",
          "text": [
            "Threshold:  0.033299506\n"
          ]
        }
      ]
    },
    {
      "cell_type": "markdown",
      "metadata": {
        "id": "uEGlA1Be50Nj"
      },
      "source": [
        "Note: There are other strategies you could use to select a threshold value above which test examples should be classified as anomalous, the correct approach will depend on your dataset. You can learn more with the links at the end of this tutorial. "
      ]
    },
    {
      "cell_type": "markdown",
      "metadata": {
        "id": "zpLSDAeb51D_"
      },
      "source": [
        "If you examine the recontruction error for the anomalous examples in the test set, you'll notice most have greater reconstruction error than the threshold. By varing the threshold, you can adjust the [precision](https://developers.google.com/machine-learning/glossary#precision) and [recall](https://developers.google.com/machine-learning/glossary#recall) of your classifier. "
      ]
    },
    {
      "cell_type": "code",
      "metadata": {
        "execution": {
          "iopub.execute_input": "2020-10-06T01:30:56.663597Z",
          "iopub.status.busy": "2020-10-06T01:30:56.662776Z",
          "iopub.status.idle": "2020-10-06T01:31:35.509016Z",
          "shell.execute_reply": "2020-10-06T01:31:35.509446Z"
        },
        "id": "sKVwjQK955Wy",
        "colab": {
          "base_uri": "https://localhost:8080/",
          "height": 279
        },
        "outputId": "219089c7-2182-4ca7-e2dd-00cca44a2647"
      },
      "source": [
        "# Calculate recontruction loss on anomalous test data \n",
        "reconstructions = autoencoder.predict(anomalous_test_data)\n",
        "test_loss = tf.keras.losses.mae(reconstructions, anomalous_test_data)\n",
        "\n",
        "plt.hist(test_loss, bins=50)\n",
        "plt.xlabel(\"Test loss\")\n",
        "plt.ylabel(\"No of examples\")\n",
        "plt.show()"
      ],
      "execution_count": 42,
      "outputs": [
        {
          "output_type": "display_data",
          "data": {
            "text/plain": [
              "<Figure size 432x288 with 1 Axes>"
            ],
            "image/png": "[encoded data removed]"
          },
          "metadata": {
            "needs_background": "light"
          }
        }
      ]
    },
    {
      "cell_type": "markdown",
      "metadata": {
        "id": "PFVk_XGE6AX2"
      },
      "source": [
        "Classify an ECG as an anomaly if the reconstruction error is greater than the threshold."
      ]
    },
    {
      "cell_type": "code",
      "metadata": {
        "execution": {
          "iopub.execute_input": "2020-10-06T01:31:35.515324Z",
          "iopub.status.busy": "2020-10-06T01:31:35.514636Z",
          "iopub.status.idle": "2020-10-06T01:31:35.516359Z",
          "shell.execute_reply": "2020-10-06T01:31:35.516722Z"
        },
        "id": "mkgJZfhh6CHr"
      },
      "source": [
        "def predict(model, data, threshold):\n",
        "  # Classify data as an anomaly if reconstrucion loss > threshold\n",
        "  reconstructions = model(data)\n",
        "  loss = tf.keras.losses.mae(reconstructions, data)\n",
        "  return tf.math.less(loss, threshold)\n",
        "  \n",
        "preds = predict(autoencoder, test_data, threshold)\n",
        "\n",
        "def print_stats(predictions, labels):\n",
        "  print(\"Accuracy = {}\".format(accuracy_score(labels, preds)))\n",
        "  print(\"Precision = {}\".format(precision_score(labels, preds)))\n",
        "  print(\"Recall = {}\".format(recall_score(labels, preds)))"
      ],
      "execution_count": 43,
      "outputs": []
    },
    {
      "cell_type": "code",
      "metadata": {
        "execution": {
          "iopub.execute_input": "2020-10-06T01:31:35.521001Z",
          "iopub.status.busy": "2020-10-06T01:31:35.520309Z",
          "iopub.status.idle": "2020-10-06T01:31:35.530686Z",
          "shell.execute_reply": "2020-10-06T01:31:35.531087Z"
        },
        "id": "sOcfXfXq6FBd",
        "colab": {
          "base_uri": "https://localhost:8080/"
        },
        "outputId": "11b39353-4efc-4ed3-9633-b81864b5c914"
      },
      "source": [
        "# Call 'predict' function\n",
        "print_stats(preds, test_labels)"
      ],
      "execution_count": 44,
      "outputs": [
        {
          "output_type": "stream",
          "name": "stdout",
          "text": [
            "Accuracy = 0.946\n",
            "Precision = 0.9922178988326849\n",
            "Recall = 0.9107142857142857\n"
          ]
        }
      ]
    }
  ]
}
