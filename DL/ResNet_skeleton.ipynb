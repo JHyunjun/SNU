{
  "nbformat": 4,
  "nbformat_minor": 0,
  "metadata": {
    "accelerator": "GPU",
    "colab": {
      "name": "2_Training_VGGNet_and_ResNet.ipynb",
      "provenance": [],
      "collapsed_sections": [
        "Ah8zeaAduifF",
        "WlZKstlZuifL"
      ],
      "include_colab_link": true
    },
    "kernelspec": {
      "display_name": "Python 3",
      "language": "python",
      "name": "python3"
    },
    "language_info": {
      "codemirror_mode": {
        "name": "ipython",
        "version": 3
      },
      "file_extension": ".py",
      "mimetype": "text/x-python",
      "name": "python",
      "nbconvert_exporter": "python",
      "pygments_lexer": "ipython3",
      "version": "3.7.0"
    }
  },
  "cells": [
    {
      "cell_type": "markdown",
      "metadata": {
        "id": "view-in-github",
        "colab_type": "text"
      },
      "source": [
        "<a href=\"https://colab.research.google.com/github/JHyunjun/SNU/blob/main/ResNet_skeleton.ipynb\" target=\"_parent\"><img src=\"https://colab.research.google.com/assets/colab-badge.svg\" alt=\"Open In Colab\"/></a>"
      ]
    },
    {
      "cell_type": "markdown",
      "metadata": {
        "id": "xXeBoSsduifD"
      },
      "source": [
        "\n",
        "\n",
        "# Part 2: Training VGGNet and ResNet\n"
      ]
    },
    {
      "cell_type": "markdown",
      "metadata": {
        "id": "oh9-MnIAuifE"
      },
      "source": [
        "Copyright (C) Data Science & AI Laboratory, Seoul National University. This material is for educational uses only. Some contents are based on the material provided by other paper/book authors and may be copyrighted by them. "
      ]
    },
    {
      "cell_type": "markdown",
      "metadata": {
        "id": "Ah8zeaAduifF"
      },
      "source": [
        "Now, you're going to leave behind your implementations and instead migrate to one of popular deep learning frameworks, **TensorFlow**. <br>\n",
        "In this notebook, you will learn the base structure of VGGNet and ResNet <br>\n",
        "There are **2 sections**, and in each section, you need to follow the instructions to complete the skeleton codes.\n",
        "\n",
        "1. [Construct VGGNet](#1)\n",
        "2. [Construct ResNet](#2)\n",
        "\n",
        "**Note**: certain details are missing or ambiguous on purpose, in order to test your knowledge on the related materials. However, if you really feel that something essential is missing and cannot proceed to the next step, then contact the teaching staff with clear description of your problem.\n",
        "\n",
        "### Some helpful tutorials and references for assignment #2:\n",
        "- [1] TensorFlow official tutorials. [[link]](https://www.tensorflow.org/get_started/get_started)\n",
        "- [2] Stanford CS231n lectures. [[link]](http://cs231n.stanford.edu/)\n",
        "- [3] Iandola et al, \"SqueezeNet: AlexNet-level accuracy with 50x fewer parameters and < 0.5MB model size\", arXiv 2016. [[pdf]](https://arxiv.org/pdf/1602.07360.pdf)\n",
        "- [4] Simonyan et al., \"Deep Inside Convolutional Networks: Visualising Image Classification Models and Saliency Maps\", ICLR Workshop 2014. [[pdf]](https://arxiv.org/pdf/1312.6034.pdf)\n",
        "- [5] Szegedy et al., \"Intriguing properties of neural networks\", ICLR 2014. [[pdf]](https://arxiv.org/pdf/1312.6199.pdf)\n",
        "- [6] Szegedy et al., \"Going deeper with convolutions\", CVPR 2015. [[pdf]](http://www.cv-foundation.org/openaccess/content_cvpr_2015/papers/Szegedy_Going_Deeper_With_2015_CVPR_paper.pdf)\n",
        "- [7] Yosinski et al., \"Understanding Neural Networks Through Deep Visualization\", ICML Workshop 2015. [[pdf]](http://yosinski.com/media/papers/Yosinski__2015__ICML_DL__Understanding_Neural_Networks_Through_Deep_Visualization__.pdf)\n",
        "- [8] He, Kaiming, et al. \"Deep residual learning for image recognition.\" Proceedings of the IEEE conference on computer vision and pattern recognition. 2016.\n",
        "- [9] Simonyan, Karen, and Andrew Zisserman. \"Very deep convolutional networks for large-scale image recognition.\" arXiv preprint arXiv:1409.1556 (2014)."
      ]
    },
    {
      "cell_type": "markdown",
      "metadata": {
        "id": "mcbT9BGauifF"
      },
      "source": [
        "## Load datasets\n",
        "The CIFAR-10 dataset will be downloaded automatically if it is not located in the *Utils* directory. <br>"
      ]
    },
    {
      "cell_type": "code",
      "metadata": {
        "id": "XedBofNc8dsP",
        "colab": {
          "base_uri": "https://localhost:8080/"
        },
        "outputId": "bf4b149e-653a-47ee-e3da-81d2863e4f56"
      },
      "source": [
        "!pip install -q git+https://github.com/tensorflow/docs\n",
        "import tensorflow_docs as tfdocs\n",
        "import tensorflow_docs.modeling\n",
        "import tensorflow_docs.plots\n",
        "\n",
        "import pathlib\n",
        "import shutil\n",
        "import tempfile\n"
      ],
      "execution_count": 1,
      "outputs": [
        {
          "output_type": "stream",
          "name": "stdout",
          "text": [
            "  Building wheel for tensorflow-docs (setup.py) ... \u001b[?25l\u001b[?25hdone\n"
          ]
        }
      ]
    },
    {
      "cell_type": "code",
      "metadata": {
        "id": "taWUiOSm8sjL"
      },
      "source": [
        "logdir = pathlib.Path(tempfile.mkdtemp())/\"tensorboard_logs\"\n",
        "shutil.rmtree(logdir, ignore_errors=True)"
      ],
      "execution_count": 2,
      "outputs": []
    },
    {
      "cell_type": "code",
      "metadata": {
        "id": "ftrDSYtxuifG"
      },
      "source": [
        "import tensorflow as tf\n",
        "import numpy as np\n",
        "\n",
        "from tensorflow.keras.layers import Dense, Flatten, Conv2D,MaxPooling2D\n",
        "from tensorflow.keras import Model\n",
        "import matplotlib.pyplot as plt\n",
        "\n",
        "import os\n",
        "%matplotlib inline\n",
        "plt.rcParams['figure.figsize'] = (12.0, 6.0)\n",
        "plt.rcParams['image.interpolation'] = 'nearest'\n",
        "plt.rcParams['image.cmap'] = 'gray'"
      ],
      "execution_count": 3,
      "outputs": []
    },
    {
      "cell_type": "code",
      "metadata": {
        "id": "TIrnOJg7cQSW"
      },
      "source": [
        "def _deprocess_image(img, MEAN, STD):\n",
        "    \"\"\" Undo preprocessing on an image and convert back to uint8. \"\"\"\n",
        "    return np.clip(255 * (img * STD + MEAN), 0.0, 255.0).astype(np.uint8)\n",
        "\n",
        "def _preprocess_image(img, MEAN, STD):\n",
        "    \"\"\" Preprocess an image: subtracts the pixel mean and divides by the standard deviation.  \"\"\"\n",
        "    return (img.astype(np.float32)/255.0 - MEAN) / STD\n",
        "\n",
        "def plot_images(X, Y, C, idx=0, Each_Category=False, SaliencyMaps=None, ClassRepresentatve=None, Adversarial=None, Target_y=None):\n",
        "    ''' Plot images '''\n",
        "    if Each_Category:\n",
        "        Category = set(Y)\n",
        "        for i in range(10):\n",
        "            while(1):\n",
        "                if Y[idx] in Category:\n",
        "                    Category.remove(Y[idx])\n",
        "                    break\n",
        "                else:\n",
        "                    idx += 1\n",
        "            \n",
        "            plt.subplot(2, 5, Y[idx]+1)\n",
        "            plt.imshow(_deprocess_image(X[idx], CIFAR10_MEAN, CIFAR10_STD))\n",
        "            plt.title(C[Y[idx]])\n",
        "            plt.axis('off')\n",
        "            \n",
        "    elif SaliencyMaps is not None:    \n",
        "        for i in range(5):\n",
        "            plt.subplot(2, 5, i+1)\n",
        "            plt.imshow(X[idx+i])\n",
        "            plt.title(C[Y[idx+i]])\n",
        "            plt.axis('off')\n",
        "            \n",
        "            plt.subplot(2, 5, i+6)\n",
        "            plt.imshow(SaliencyMaps[idx+i], cmap=plt.cm.hot)\n",
        "            plt.title(C[Y[idx+i]])\n",
        "            plt.axis('off')\n",
        "            \n",
        "    elif ClassRepresentatve is not None:    \n",
        "        Iter = int(X.shape[0] / 4)\n",
        "        for i in range(4):\n",
        "            plt.subplot(2, 2, i+1)\n",
        "            plt.imshow(X[Iter*(i+1)])\n",
        "            plt.title('%s\\nIteration %d' % (C[Y], Iter*(i+1)))\n",
        "            plt.axis('off')\n",
        "            plt.gcf().set_size_inches(8, 8)\n",
        "            \n",
        "    elif Adversarial is not None:\n",
        "        plt.subplot(1, 4, 1)\n",
        "        plt.imshow(X[0])\n",
        "        plt.title(C[Y[0]])\n",
        "        plt.axis('off')\n",
        "        \n",
        "        plt.subplot(1, 4, 2)\n",
        "        plt.imshow(Adversarial[0])\n",
        "        plt.title(C[Target_y])\n",
        "        plt.axis('off')\n",
        "        \n",
        "        plt.subplot(1, 4, 3)\n",
        "        plt.title('Difference')\n",
        "        plt.imshow((X-Adversarial)[0])\n",
        "        plt.axis('off')\n",
        "        \n",
        "        plt.subplot(1, 4, 4)\n",
        "        plt.title('Magnified difference (10x)')\n",
        "        plt.imshow(10 * (X-Adversarial)[0])\n",
        "        plt.axis('off')          \n",
        "        \n",
        "    else:\n",
        "        for i in range(5):\n",
        "            plt.subplot(1, 5, i+1)\n",
        "            plt.imshow(X[idx+i])\n",
        "            plt.title(C[Y[idx+i]])\n",
        "            plt.axis('off')\n",
        "    plt.show()"
      ],
      "execution_count": 4,
      "outputs": []
    },
    {
      "cell_type": "code",
      "metadata": {
        "id": "BmfWaK4-uifJ",
        "colab": {
          "base_uri": "https://localhost:8080/",
          "height": 506
        },
        "outputId": "07b606b7-bf35-47ba-f809-6609438a02a0"
      },
      "source": [
        "from sklearn.model_selection import train_test_split\n",
        "(X_train, Y_train),(X_test, Y_test)= tf.keras.datasets.cifar10.load_data()\n",
        "X_train, X_val, Y_train, Y_val = train_test_split(X_train, Y_train, test_size=0.2)\n",
        "print('Train data shape ' + str(X_train.shape))\n",
        "print('Train labels shape ' + str(Y_train.shape))\n",
        "print('Validation data shape ' + str(X_val.shape))\n",
        "print('Validataion labels shape ' + str(Y_val.shape))\n",
        "print('Test data shape ' + str(X_test.shape))\n",
        "print('Test labels shape ' + str(Y_test.shape))\n",
        "\n",
        "#Normalizing\n",
        "CIFAR10_MEAN = np.mean(X_train.astype(np.float32)/255.0, axis=0)\n",
        "CIFAR10_STD = np.std(X_train.astype(np.float32)/255.0, axis=0)\n",
        "\n",
        "X_train = np.array([_preprocess_image(img, CIFAR10_MEAN, CIFAR10_STD) for img in X_train])\n",
        "X_val   = np.array([_preprocess_image(img, CIFAR10_MEAN, CIFAR10_STD) for img in X_val])\n",
        "X_test  = np.array([_preprocess_image(img, CIFAR10_MEAN, CIFAR10_STD) for img in X_test])\n",
        "\n",
        "Class_names = ['airplane', 'automobile', 'bird', 'cat', 'deer', 'dog', 'frog', 'horse', 'ship', 'truck']\n",
        "plot_images(X_train, Y_train[:,0], Class_names, Each_Category=True)"
      ],
      "execution_count": 5,
      "outputs": [
        {
          "output_type": "stream",
          "name": "stdout",
          "text": [
            "Downloading data from https://www.cs.toronto.edu/~kriz/cifar-10-python.tar.gz\n",
            "170500096/170498071 [==============================] - 3s 0us/step\n",
            "170508288/170498071 [==============================] - 3s 0us/step\n",
            "Train data shape (40000, 32, 32, 3)\n",
            "Train labels shape (40000, 1)\n",
            "Validation data shape (10000, 32, 32, 3)\n",
            "Validataion labels shape (10000, 1)\n",
            "Test data shape (10000, 32, 32, 3)\n",
            "Test labels shape (10000, 1)\n"
          ]
        },
        {
          "output_type": "display_data",
          "data": {
            "text/plain": [
              "<Figure size 864x432 with 10 Axes>"
            ],
            "image/png": "[encoded data removed]"
          },
          "metadata": {
            "needs_background": "light"
          }
        }
      ]
    },
    {
      "cell_type": "code",
      "metadata": {
        "id": "DGvga74C3iRb"
      },
      "source": [
        "BATCH_SIZE=200\n",
        "N_VALIDATION = len(Y_val)\n",
        "N_TRAIN = len(Y_train)\n",
        "STEPS_PER_EPOCH = N_TRAIN//BATCH_SIZE\n",
        "train_ds= tf.data.Dataset.from_tensor_slices(\n",
        "    (X_train, Y_train)).cache().shuffle(len(Y_train)).batch(BATCH_SIZE)\n",
        "val_ds= tf.data.Dataset.from_tensor_slices(\n",
        "    (X_val, Y_val)).cache().batch(BATCH_SIZE)\n",
        "test_ds= tf.data.Dataset.from_tensor_slices(\n",
        "    (X_test, Y_test)).cache().batch(BATCH_SIZE)"
      ],
      "execution_count": 6,
      "outputs": []
    },
    {
      "cell_type": "markdown",
      "metadata": {
        "id": "WlZKstlZuifL"
      },
      "source": [
        "## <a name=\"1\"></a> 1. Construct VGGNet\n",
        "\n",
        "In this section, you will learn how to define  VGGNet, train the model, and evaluate its performance on the validation dataset. The goal here isn't to get good performance (that'll be next), but instead to get comfortable with understanding the TensorFlow and configuring VGGNet.\n",
        "\n",
        "Using the code provided as guidance, **(1) define**, **(2) train**, and **(3) evaluate**"
      ]
    },
    {
      "cell_type": "code",
      "metadata": {
        "id": "AY-Z-Eqvf5vM"
      },
      "source": [
        "def regularized_padded_conv(*args, **kwargs):\n",
        "    return tf.keras.layers.Conv2D(*args, **kwargs, padding='same', kernel_regularizer=_regularizer,\n",
        "                                  kernel_initializer='he_normal', use_bias=False)\n",
        "    \n",
        "def regularized_padded_conv3(*args, **kwargs):\n",
        "    return tf.keras.layers.Conv2D(*args, **kwargs, kernel_size=3, kernel_regularizer=_regularizer,\n",
        "                                  padding='same', kernel_initializer='he_normal')\n",
        "    \n",
        "def bn_relu(x):\n",
        "    x = tf.keras.layers.BatchNormalization()(x)\n",
        "    return tf.keras.layers.ReLU()(x)"
      ],
      "execution_count": 7,
      "outputs": []
    },
    {
      "cell_type": "code",
      "metadata": {
        "id": "jkgy6KAOb14y"
      },
      "source": [
        "def conv_block(x, num_blocks, filters, pool):\n",
        "  #filters = features(output channel)\n",
        "  #num_blocks = group_size\n",
        "  #pool = pools(pooling size)\n",
        "    x = tf.keras.layers.Conv2D(filters, padding = 'same', kernel_size = 3, kernel_initializer = 'he_normal',\n",
        "                                kernel_regularizer = _regularizer, use_bias = False)(x)                         \n",
        "    for i in range(num_blocks-1) : \n",
        "      x = tf.keras.layers.Conv2D(filters, padding='same', kernel_size = 3, \n",
        "                                 kernel_regularizer=_regularizer, kernel_initializer = 'he_normal', \n",
        "                                 use_bias = False)(x)\n",
        "      x = tf.keras.layers.BatchNormalization()(x)\n",
        "      x = tf.keras.layers.ReLU()(x)\n",
        "    x = tf.keras.layers.MaxPooling2D(pool_size = pool, strides = 2)(x)\n",
        "    return x\n",
        "\n",
        "def VGG(input_shape, n_classes, l2_reg=2.5e-4, group_sizes=(2, 2, 3, 3, 3),\n",
        "           features=(64, 128, 256, 512, 512), pools=(2, 2, 2, 2, 2)):\n",
        "    global _regularizer\n",
        "    _regularizer = tf.keras.regularizers.l2(l2_reg) #l2 Regularizer\n",
        "    inputs = tf.keras.layers.Input(shape=input_shape)\n",
        "\n",
        "    flow = inputs\n",
        "    for group_size, feature, pool in zip(group_sizes, features, pools):\n",
        "        flow = conv_block(flow, num_blocks = group_size, filters = feature, pool = pool)\n",
        "    \n",
        "    pooled = tf.keras.layers.GlobalAveragePooling2D()(flow)\n",
        "    output = tf.keras.layers.Dense(n_classes, kernel_regularizer = _regularizer)(pooled)\n",
        "    model = tf.keras.Model(inputs=inputs, outputs=output)\n",
        "    return model"
      ],
      "execution_count": 189,
      "outputs": []
    },
    {
      "cell_type": "code",
      "metadata": {
        "id": "XqyvJMTwb6BS"
      },
      "source": [
        "def cifar_vgg16(load_weights=False, l2_reg=2.5e-4):\n",
        "    model = VGG(input_shape=(32, 32, 3), n_classes=10, l2_reg=l2_reg, group_sizes=(2, 2, 3, 3, 3), \n",
        "                features=(64, 128, 256, 512, 512), pools=(2, 2, 2, 2, 2))\n",
        "    if load_weights: model = load_weights_func(model, 'cifar_vgg16')\n",
        "    return model"
      ],
      "execution_count": 190,
      "outputs": []
    },
    {
      "cell_type": "code",
      "metadata": {
        "id": "bHVBOfuwfNSB",
        "colab": {
          "base_uri": "https://localhost:8080/"
        },
        "outputId": "042e54f8-b8ff-4e2a-9285-c3833c7ab7e5"
      },
      "source": [
        "tf.keras.backend.clear_session()\n",
        "VGGNET = cifar_vgg16()  \n",
        "\n",
        "VGGNET.compile(optimizer=tf.keras.optimizers.Adam(0.01),\n",
        "              loss=tf.keras.losses.SparseCategoricalCrossentropy(from_logits=True),\n",
        "              metrics=['accuracy'])\n",
        "\n",
        "VGGNET.fit(train_ds, validation_data=val_ds, epochs=30)\n",
        "VGGNET.evaluate(test_ds)"
      ],
      "execution_count": 191,
      "outputs": [
        {
          "output_type": "stream",
          "name": "stdout",
          "text": [
            "Epoch 1/30\n",
            "200/200 [==============================] - 12s 54ms/step - loss: 6.6456 - accuracy: 0.1523 - val_loss: 3.1871 - val_accuracy: 0.0963\n",
            "Epoch 2/30\n",
            "200/200 [==============================] - 11s 53ms/step - loss: 2.3932 - accuracy: 0.2539 - val_loss: 2.7161 - val_accuracy: 0.0963\n",
            "Epoch 3/30\n",
            "200/200 [==============================] - 11s 53ms/step - loss: 2.0614 - accuracy: 0.3126 - val_loss: 2.6562 - val_accuracy: 0.1012\n",
            "Epoch 4/30\n",
            "200/200 [==============================] - 11s 53ms/step - loss: 1.9282 - accuracy: 0.3692 - val_loss: 2.2863 - val_accuracy: 0.2678\n",
            "Epoch 5/30\n",
            "200/200 [==============================] - 10s 52ms/step - loss: 1.8228 - accuracy: 0.4182 - val_loss: 2.3935 - val_accuracy: 0.2296\n",
            "Epoch 6/30\n",
            "200/200 [==============================] - 11s 56ms/step - loss: 1.7458 - accuracy: 0.4840 - val_loss: 3.1113 - val_accuracy: 0.2232\n",
            "Epoch 7/30\n",
            "200/200 [==============================] - 11s 53ms/step - loss: 1.6530 - accuracy: 0.5365 - val_loss: 1.6943 - val_accuracy: 0.5225\n",
            "Epoch 8/30\n",
            "200/200 [==============================] - 11s 55ms/step - loss: 1.5804 - accuracy: 0.5685 - val_loss: 1.7074 - val_accuracy: 0.5068\n",
            "Epoch 9/30\n",
            "200/200 [==============================] - 10s 52ms/step - loss: 1.5211 - accuracy: 0.5894 - val_loss: 1.9317 - val_accuracy: 0.4370\n",
            "Epoch 10/30\n",
            "200/200 [==============================] - 11s 55ms/step - loss: 1.4600 - accuracy: 0.6091 - val_loss: 1.8337 - val_accuracy: 0.4595\n",
            "Epoch 11/30\n",
            "200/200 [==============================] - 11s 54ms/step - loss: 1.4067 - accuracy: 0.6252 - val_loss: 2.5627 - val_accuracy: 0.3230\n",
            "Epoch 12/30\n",
            "200/200 [==============================] - 10s 52ms/step - loss: 1.3920 - accuracy: 0.6327 - val_loss: 1.5548 - val_accuracy: 0.5653\n",
            "Epoch 13/30\n",
            "200/200 [==============================] - 11s 53ms/step - loss: 1.3560 - accuracy: 0.6399 - val_loss: 1.7671 - val_accuracy: 0.5450\n",
            "Epoch 14/30\n",
            "200/200 [==============================] - 11s 54ms/step - loss: 1.3374 - accuracy: 0.6486 - val_loss: 1.8977 - val_accuracy: 0.4704\n",
            "Epoch 15/30\n",
            "200/200 [==============================] - 11s 53ms/step - loss: 1.3037 - accuracy: 0.6592 - val_loss: 1.8175 - val_accuracy: 0.4772\n",
            "Epoch 16/30\n",
            "200/200 [==============================] - 12s 58ms/step - loss: 1.3074 - accuracy: 0.6573 - val_loss: 1.8650 - val_accuracy: 0.4546\n",
            "Epoch 17/30\n",
            "200/200 [==============================] - 11s 53ms/step - loss: 1.2810 - accuracy: 0.6697 - val_loss: 1.6687 - val_accuracy: 0.5213\n",
            "Epoch 18/30\n",
            "200/200 [==============================] - 11s 55ms/step - loss: 1.2820 - accuracy: 0.6673 - val_loss: 1.7290 - val_accuracy: 0.5532\n",
            "Epoch 19/30\n",
            "200/200 [==============================] - 11s 53ms/step - loss: 1.2635 - accuracy: 0.6753 - val_loss: 1.4775 - val_accuracy: 0.6077\n",
            "Epoch 20/30\n",
            "200/200 [==============================] - 11s 53ms/step - loss: 1.2555 - accuracy: 0.6776 - val_loss: 2.0803 - val_accuracy: 0.4673\n",
            "Epoch 21/30\n",
            "200/200 [==============================] - 11s 57ms/step - loss: 1.2517 - accuracy: 0.6818 - val_loss: 1.5926 - val_accuracy: 0.5637\n",
            "Epoch 22/30\n",
            "200/200 [==============================] - 11s 54ms/step - loss: 1.2397 - accuracy: 0.6833 - val_loss: 1.4686 - val_accuracy: 0.5974\n",
            "Epoch 23/30\n",
            "200/200 [==============================] - 11s 52ms/step - loss: 1.2270 - accuracy: 0.6853 - val_loss: 2.1807 - val_accuracy: 0.4495\n",
            "Epoch 24/30\n",
            "200/200 [==============================] - 11s 52ms/step - loss: 1.2094 - accuracy: 0.6914 - val_loss: 1.7676 - val_accuracy: 0.5264\n",
            "Epoch 25/30\n",
            "200/200 [==============================] - 10s 52ms/step - loss: 1.2150 - accuracy: 0.6885 - val_loss: 1.4959 - val_accuracy: 0.6009\n",
            "Epoch 26/30\n",
            "200/200 [==============================] - 11s 53ms/step - loss: 1.2238 - accuracy: 0.6896 - val_loss: 1.8109 - val_accuracy: 0.5031\n",
            "Epoch 27/30\n",
            "200/200 [==============================] - 11s 53ms/step - loss: 1.1949 - accuracy: 0.6959 - val_loss: 2.2261 - val_accuracy: 0.4606\n",
            "Epoch 28/30\n",
            "200/200 [==============================] - 10s 52ms/step - loss: 1.2030 - accuracy: 0.6967 - val_loss: 1.6177 - val_accuracy: 0.5668\n",
            "Epoch 29/30\n",
            "200/200 [==============================] - 11s 53ms/step - loss: 1.2067 - accuracy: 0.6931 - val_loss: 1.3014 - val_accuracy: 0.6556\n",
            "Epoch 30/30\n",
            "200/200 [==============================] - 11s 53ms/step - loss: 1.1939 - accuracy: 0.6971 - val_loss: 1.4820 - val_accuracy: 0.6066\n",
            "50/50 [==============================] - 1s 17ms/step - loss: 1.4826 - accuracy: 0.5991\n"
          ]
        },
        {
          "output_type": "execute_result",
          "data": {
            "text/plain": [
              "[1.4826090335845947, 0.5990999937057495]"
            ]
          },
          "metadata": {},
          "execution_count": 191
        }
      ]
    },
    {
      "cell_type": "markdown",
      "metadata": {
        "id": "omFm2aP_uifO"
      },
      "source": [
        "## <a name=\"2\"></a>2. Construct ResNet \n",
        "In this section, you will implement ResNet. <br>\n"
      ]
    },
    {
      "cell_type": "code",
      "metadata": {
        "id": "XghbHk4luifM"
      },
      "source": [
        "def shortcut(x, filters, stride):\n",
        "  #filters = output channel (64,128,256,512)\n",
        "  #stride = stride (1,2,2,2)\n",
        "    if x.shape[-1] == filters:\n",
        "        return x\n",
        "    else:\n",
        "        x = regularized_padded_conv(filters, 1, strides=stride)(x)\n",
        "        # Channel수 맞춰주는 구간 같음\n",
        "        return x\n",
        "    \n",
        "\n",
        "def original_block(x, filters, stride=1, **kwargs):\n",
        "    c1 = regularized_padded_conv(filters,3, strides = stride)(x)\n",
        "    c2 = regularized_padded_conv(filters,3)(bn_relu(c1))\n",
        "    c2 = tf.keras.layers.BatchNormalization()(c2)\n",
        "\n",
        "    x = shortcut(x, filters, stride)\n",
        "    return tf.keras.layers.ReLU()(x + c2)\n",
        "    \n",
        "\n",
        "def group_of_blocks(x, num_blocks, filters, stride, block_idx=0):\n",
        "    #num_blocks = group_size (2,2,2,2)\n",
        "    #filters = output channel (64,128,256,512)\n",
        "    x = original_block(x, filters, stride)\n",
        "    for i in range(num_blocks-1):\n",
        "        x = original_block(x, filters)\n",
        "    return x"
      ],
      "execution_count": 200,
      "outputs": []
    },
    {
      "cell_type": "code",
      "metadata": {
        "id": "aBxwAFs6a6R7"
      },
      "source": [
        "def Resnet(input_shape, n_classes, l2_reg=1e-4, group_sizes=(2,2,2,2), features=(1, 2, 2, 2), strides=(1, 2, 2, 2),\n",
        "            first_conv={\"filters\": 64, \"kernel_size\": 3, \"strides\": 1}):\n",
        "    global _regularizer\n",
        "    _regularizer = tf.keras.regularizers.l2(l2_reg)\n",
        "    \n",
        "    inputs = tf.keras.layers.Input(shape=input_shape)\n",
        "    flow = regularized_padded_conv(**first_conv)(inputs)\n",
        "    \n",
        "    flow = bn_relu(flow)\n",
        "    \n",
        "    for block_idx, (group_size, feature, stride) in enumerate(zip(group_sizes, features, strides)):\n",
        "        flow = group_of_blocks(flow, num_blocks = group_size, filters = feature, stride = stride)\n",
        "    \n",
        "    flow = bn_relu(flow)\n",
        "    \n",
        "    flow = tf.keras.layers.GlobalAveragePooling2D()(flow)\n",
        "    output = tf.keras.layers.Dense(n_classes, kernel_regularizer = _regularizer)(flow)\n",
        "    model = tf.keras.Model(inputs=inputs, outputs=output)\n",
        "    return model\n"
      ],
      "execution_count": 204,
      "outputs": []
    },
    {
      "cell_type": "code",
      "metadata": {
        "id": "oI6LD8GdbTwe"
      },
      "source": [
        "def cifar_resnet18(l2_reg=1e-4, load_weights=False):\n",
        "    model = Resnet(input_shape=(32, 32, 3), n_classes=10, l2_reg=l2_reg, group_sizes=(2,2,2,2), features=(64,128,256,512),\n",
        "                   strides=(1, 2, 2, 2), first_conv={\"filters\": 64, \"kernel_size\": 3, \"strides\": 1})\n",
        "    return model"
      ],
      "execution_count": 205,
      "outputs": []
    },
    {
      "cell_type": "code",
      "metadata": {
        "id": "kij8Doz3uifP",
        "colab": {
          "base_uri": "https://localhost:8080/"
        },
        "outputId": "4a4bed04-2568-4151-eaaf-9591693cf7dc"
      },
      "source": [
        "tf.keras.backend.clear_session()\n",
        "RESNET = cifar_resnet18()\n",
        "\n",
        "RESNET.compile(optimizer=tf.keras.optimizers.Adam(0.01),\n",
        "              loss=tf.keras.losses.SparseCategoricalCrossentropy(from_logits=True),\n",
        "              metrics=['accuracy'])\n",
        "\n",
        "RESNET.fit(train_ds, validation_data=val_ds, epochs=2)\n",
        "RESNET.evaluate(test_ds)"
      ],
      "execution_count": 206,
      "outputs": [
        {
          "output_type": "stream",
          "name": "stdout",
          "text": [
            "Epoch 1/2\n",
            "200/200 [==============================] - 23s 104ms/step - loss: 2.5411 - accuracy: 0.4097 - val_loss: 2.5769 - val_accuracy: 0.2578\n",
            "Epoch 2/2\n",
            "200/200 [==============================] - 21s 105ms/step - loss: 1.5989 - accuracy: 0.5439 - val_loss: 3.6443 - val_accuracy: 0.2725\n",
            "50/50 [==============================] - 2s 28ms/step - loss: 3.6365 - accuracy: 0.2678\n"
          ]
        },
        {
          "output_type": "execute_result",
          "data": {
            "text/plain": [
              "[3.6365010738372803, 0.2678000032901764]"
            ]
          },
          "metadata": {},
          "execution_count": 206
        }
      ]
    }
  ]
}
