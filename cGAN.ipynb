{
  "nbformat": 4,
  "nbformat_minor": 0,
  "metadata": {
    "accelerator": "GPU",
    "colab": {
      "name": "3-cgan(sol).ipynb",
      "provenance": [],
      "collapsed_sections": [],
      "include_colab_link": true
    },
    "kernelspec": {
      "display_name": "Python 3",
      "name": "python3"
    },
    "language_info": {
      "codemirror_mode": {
        "name": "ipython",
        "version": 3
      },
      "file_extension": ".py",
      "mimetype": "text/x-python",
      "name": "python",
      "nbconvert_exporter": "python",
      "pygments_lexer": "ipython3",
      "version": "3.6.9"
    }
  },
  "cells": [
    {
      "cell_type": "markdown",
      "metadata": {
        "id": "view-in-github",
        "colab_type": "text"
      },
      "source": [
        "<a href=\"https://colab.research.google.com/github/JHyunjun/SNU/blob/main/cGAN.ipynb\" target=\"_parent\"><img src=\"https://colab.research.google.com/assets/colab-badge.svg\" alt=\"Open In Colab\"/></a>"
      ]
    },
    {
      "cell_type": "markdown",
      "metadata": {
        "id": "rF2x3qooyBTI"
      },
      "source": [
        "# CGAN"
      ]
    },
    {
      "cell_type": "markdown",
      "metadata": {
        "id": "evzeSHPgoKs_"
      },
      "source": [
        "This tutorial demonstrates how to generate images of handwritten digits using a [Deep Convolutional Generative Adversarial Network](https://arxiv.org/pdf/1511.06434.pdf) (DCGAN). The code is written using the [Keras Sequential API](https://www.tensorflow.org/guide/keras) with a `tf.GradientTape` training loop.\n",
        "\n",
        "\n",
        "This material is based on [Deep Convolutional Generative Adversarial Network](https://www.tensorflow.org/tutorials/generative/dcgan) and may be copyrighted by the original writers. For educational uses only."
      ]
    },
    {
      "cell_type": "markdown",
      "metadata": {
        "id": "e1_Y75QXJS6h"
      },
      "source": [
        "### Setup"
      ]
    },
    {
      "cell_type": "code",
      "metadata": {
        "id": "WZKbyU2-AiY-"
      },
      "source": [
        "import tensorflow as tf"
      ],
      "execution_count": 1,
      "outputs": []
    },
    {
      "cell_type": "code",
      "metadata": {
        "id": "wx-zNbLqB4K8",
        "colab": {
          "base_uri": "https://localhost:8080/",
          "height": 35
        },
        "outputId": "fcc17d00-ce64-4be9-a89e-87f77f4ab5d9"
      },
      "source": [
        "tf.__version__"
      ],
      "execution_count": 2,
      "outputs": [
        {
          "output_type": "execute_result",
          "data": {
            "text/plain": [
              "'2.8.2'"
            ],
            "application/vnd.google.colaboratory.intrinsic+json": {
              "type": "string"
            }
          },
          "metadata": {},
          "execution_count": 2
        }
      ]
    },
    {
      "cell_type": "code",
      "metadata": {
        "id": "YzTlj4YdCip_",
        "colab": {
          "base_uri": "https://localhost:8080/"
        },
        "outputId": "aee3afad-ceb3-4e62-851c-3dcc1943be59"
      },
      "source": [
        "# To generate GIFs\n",
        "!pip install -q imageio\n",
        "!pip install -q git+https://github.com/tensorflow/docs"
      ],
      "execution_count": 3,
      "outputs": [
        {
          "output_type": "stream",
          "name": "stdout",
          "text": [
            "  Building wheel for tensorflow-docs (setup.py) ... \u001b[?25l\u001b[?25hdone\n"
          ]
        }
      ]
    },
    {
      "cell_type": "code",
      "metadata": {
        "id": "YfIk2es3hJEd"
      },
      "source": [
        "import glob\n",
        "import imageio\n",
        "import matplotlib.pyplot as plt\n",
        "import numpy as np\n",
        "import os\n",
        "import PIL\n",
        "from tensorflow.keras import layers\n",
        "import time\n",
        "\n",
        "from IPython import display"
      ],
      "execution_count": 4,
      "outputs": []
    },
    {
      "cell_type": "markdown",
      "metadata": {
        "id": "iYn4MdZnKCey"
      },
      "source": [
        "### Load and prepare the dataset\n",
        "\n",
        "You will use the MNIST dataset to train the generator and the discriminator. The generator will generate handwritten digits resembling the MNIST data."
      ]
    },
    {
      "cell_type": "code",
      "metadata": {
        "id": "a4fYMGxGhrna",
        "colab": {
          "base_uri": "https://localhost:8080/"
        },
        "outputId": "18461622-a90a-4a65-b4e5-6f4cdde0187c"
      },
      "source": [
        "(train_images, train_labels), (_, _) = tf.keras.datasets.mnist.load_data()"
      ],
      "execution_count": 5,
      "outputs": [
        {
          "output_type": "stream",
          "name": "stdout",
          "text": [
            "Downloading data from https://storage.googleapis.com/tensorflow/tf-keras-datasets/mnist.npz\n",
            "11493376/11490434 [==============================] - 0s 0us/step\n",
            "11501568/11490434 [==============================] - 0s 0us/step\n"
          ]
        }
      ]
    },
    {
      "cell_type": "code",
      "metadata": {
        "id": "NFC2ghIdiZYE"
      },
      "source": [
        "train_images = train_images.reshape(train_images.shape[0], 28, 28, 1).astype('float32')\n",
        "train_images = (train_images - 127.5) / 127.5 # Normalize the images to [-1, 1]"
      ],
      "execution_count": 6,
      "outputs": []
    },
    {
      "cell_type": "code",
      "metadata": {
        "id": "S4PIDhoDLbsZ"
      },
      "source": [
        "BUFFER_SIZE = 60000\n",
        "BATCH_SIZE = 32"
      ],
      "execution_count": 7,
      "outputs": []
    },
    {
      "cell_type": "code",
      "metadata": {
        "id": "-yKCCQOoJ7cn"
      },
      "source": [
        "# Batch and shuffle the data\n",
        "train_dataset = tf.data.Dataset.from_tensor_slices((train_images, train_labels)).shuffle(BUFFER_SIZE).batch(BATCH_SIZE)"
      ],
      "execution_count": 8,
      "outputs": []
    },
    {
      "cell_type": "markdown",
      "metadata": {
        "id": "THY-sZMiQ4UV"
      },
      "source": [
        "## Create the models\n"
      ]
    },
    {
      "cell_type": "code",
      "metadata": {
        "id": "MHwfwspS7Auo"
      },
      "source": [
        "def generate_and_save_images(model, epoch, test_input, test_label):\n",
        "  # Notice `training` is set to False.\n",
        "  # This is so all layers run in inference mode (batchnorm).\n",
        "  predictions = model(test_input, test_label, training=False)\n",
        "\n",
        "  fig = plt.figure(figsize=(4,4))\n",
        "\n",
        "  for i in range(predictions.shape[0]):\n",
        "      plt.subplot(4, 4, i+1)\n",
        "      plt.imshow(predictions[i, :, :, 0] * 127.5 + 127.5, cmap='gray')\n",
        "      plt.axis('off')\n",
        "\n",
        "  plt.savefig('image_at_epoch_{:04d}.png'.format(epoch))\n",
        "  plt.show()"
      ],
      "execution_count": 9,
      "outputs": []
    },
    {
      "cell_type": "code",
      "metadata": {
        "id": "UvIKP1diyrqx"
      },
      "source": [
        "class Generator(tf.keras.Model):\n",
        "  def __init__(self, channels=1, num_classes=10):\n",
        "    super(Generator, self).__init__()\n",
        "    self.channels = channels\n",
        "    self.num_classes = num_classes\n",
        "    \n",
        "    ################ Implementation ################\n",
        "    self.dense_y = layers.Dense(256, activation='relu')\n",
        "    self.dense_z = layers.Dense(256, activation='relu')\n",
        "\n",
        "    self.net = tf.keras.Sequential([\n",
        "      layers.Dense(7*7*256, use_bias=False, input_shape=(512,)),\n",
        "      layers.BatchNormalization(),\n",
        "      layers.LeakyReLU(),\n",
        "      layers.Reshape((7, 7, 256)),\n",
        "      layers.Conv2DTranspose(128, (5, 5), strides=(1, 1), padding='same', use_bias=False),\n",
        "      layers.BatchNormalization(), \n",
        "      layers.LeakyReLU(), \n",
        "      layers.Conv2DTranspose(64, (5, 5), strides=(2, 2), padding='same', use_bias=False),\n",
        "      layers.BatchNormalization(),\n",
        "      layers.LeakyReLU(),\n",
        "      layers.Conv2DTranspose(self.channels, (5, 5), strides=(2, 2), padding='same', use_bias=False, activation='tanh')\n",
        "    ])\n",
        "    ################ Implementation ################\n",
        "  def call(self, z, y):\n",
        "    y = self.dense_y(tf.one_hot(y, depth=self.num_classes))\n",
        "    z = self.dense_z(z)\n",
        "    concat = tf.concat([z, y], axis=-1)\n",
        "    return self.net(concat)"
      ],
      "execution_count": 10,
      "outputs": []
    },
    {
      "cell_type": "code",
      "metadata": {
        "id": "ZtQx1-yz0hId"
      },
      "source": [
        "class Discriminator(tf.keras.Model):\n",
        "  def __init__(self, channels=1, num_classes=10):\n",
        "    super(Discriminator, self).__init__()\n",
        "    self.channels = channels\n",
        "    self.num_classes = num_classes\n",
        "    \n",
        "    ################ Implementation ################\n",
        "    self.dense_y = tf.keras.Sequential([\n",
        "      layers.Dense(28*28, activation='relu'),\n",
        "      layers.Reshape((28, 28, 1))\n",
        "    ])\n",
        "\n",
        "    self.net = tf.keras.Sequential([\n",
        "      layers.Conv2D(64, (5, 5), strides=(2, 2), padding='same', input_shape=[28, 28, self.channels+1]),\n",
        "      layers.LeakyReLU(),\n",
        "      layers.Dropout(0.3),\n",
        "      layers.Conv2D(128, (5, 5), strides=(2, 2), padding='same'),\n",
        "      layers.LeakyReLU(),\n",
        "      layers.Dropout(0.3),\n",
        "      layers.Flatten(),\n",
        "      layers.Dense(1)\n",
        "    ])\n",
        "    ################ Implementation ################\n",
        "    \n",
        "  def call(self, x, y):\n",
        "    y = self.dense_y(tf.one_hot(y, depth=self.num_classes))\n",
        "    concat = tf.concat([x, y], axis=-1)\n",
        "    return self.net(concat)"
      ],
      "execution_count": 11,
      "outputs": []
    },
    {
      "cell_type": "code",
      "metadata": {
        "id": "piq4YMkR4Jxr"
      },
      "source": [
        "class CGAN():\n",
        "  def __init__(self, channels=1, lr=1e-4, batch_size=32, noise_dim=100, num_examples_to_generate=10):\n",
        "    ################ Implementation ################\n",
        "    self.lr = lr\n",
        "    self.batch_size = batch_size\n",
        "    self.noise_dim = noise_dim\n",
        "\n",
        "    self.generator = Generator(channels=channels)\n",
        "    self.discriminator = Discriminator(channels=channels)\n",
        "\n",
        "    self.cross_entropy = tf.keras.losses.BinaryCrossentropy(from_logits=True)\n",
        "    \n",
        "    self.generator_optimizer = tf.keras.optimizers.Adam(lr)\n",
        "    self.discriminator_optimizer = tf.keras.optimizers.Adam(lr)\n",
        "\n",
        "    self.seed_z = tf.random.normal([num_examples_to_generate, noise_dim])\n",
        "    self.seed_label = tf.constant([0,1,2,3,4,5,6,7,8,9])\n",
        "\n",
        "    self.checkpoint_dir = './training_checkpoints/z{}'.format(self.noise_dim)\n",
        "    self.checkpoint_prefix = os.path.join(self.checkpoint_dir, \"ckpt\")\n",
        "    self.checkpoint = tf.train.Checkpoint(generator_optimizer=self.generator_optimizer,\n",
        "                                    discriminator_optimizer=self.discriminator_optimizer,\n",
        "                                    generator=self.generator,\n",
        "                                    discriminator=self.discriminator)\n",
        "    \n",
        "\n",
        "  def discriminator_loss(self, real_output, fake_output):\n",
        "    real_loss = -tf.reduce_mean(real_output)\n",
        "    fake_loss = tf.reduce_mean(fake_output)\n",
        "    total_loss = real_loss + fake_loss\n",
        "    return total_loss\n",
        "  \n",
        "  def generator_loss(self, fake_output):\n",
        "    return -tf.reduce_mean(fake_output)\n",
        "  \n",
        "  @tf.function\n",
        "  def train_step(self, images, labels):\n",
        "      noise = tf.random.normal([self.batch_size, self.noise_dim])\n",
        "\n",
        "      with tf.GradientTape() as gen_tape, tf.GradientTape() as disc_tape:\n",
        "        generated_images = self.generator(noise, labels, training=True)\n",
        "\n",
        "        real_output = self.discriminator(images, labels, training=True)\n",
        "        fake_output = self.discriminator(generated_images, labels, training=True)\n",
        "\n",
        "        gen_loss = self.generator_loss(fake_output)\n",
        "        disc_loss = self.discriminator_loss(real_output, fake_output)\n",
        "\n",
        "      gradients_of_generator = gen_tape.gradient(gen_loss, self.generator.trainable_variables)\n",
        "      gradients_of_discriminator = disc_tape.gradient(disc_loss, self.discriminator.trainable_variables)\n",
        "\n",
        "      self.generator_optimizer.apply_gradients(zip(gradients_of_generator, self.generator.trainable_variables))\n",
        "      self.discriminator_optimizer.apply_gradients(zip(gradients_of_discriminator, self.discriminator.trainable_variables))\n",
        "\n",
        "  def train(self, dataset, epochs):\n",
        "    for epoch in range(epochs):\n",
        "      start = time.time()\n",
        "\n",
        "      for image_batch, label_batch in dataset:\n",
        "        self.train_step(image_batch, label_batch)\n",
        "\n",
        "      # Produce images for the GIF as we go\n",
        "      display.clear_output(wait=True)\n",
        "      generate_and_save_images(self.generator,\n",
        "                               epoch + 1,\n",
        "                               self.seed_z,\n",
        "                               self.seed_label\n",
        "                               )\n",
        "\n",
        "      # Save the model every 15 epochs\n",
        "      if (epoch + 1) % 15 == 0:\n",
        "        self.checkpoint.save(file_prefix = self.checkpoint_prefix)\n",
        "\n",
        "      print ('Time for epoch {} is {} sec'.format(epoch + 1, time.time()-start))\n",
        "\n",
        "    # Generate after the final epoch\n",
        "    display.clear_output(wait=True)\n",
        "    generate_and_save_images(self.generator,\n",
        "                             epochs,\n",
        "                             self.seed_z,\n",
        "                             self.seed_label\n",
        "                             )\n",
        "\n",
        "  def load(self):\n",
        "    self.checkpoint.restore(tf.train.latest_checkpoint(self.checkpoint_dir))\n",
        "  ################ Implementation ################\n",
        "\n",
        "cgan = CGAN(batch_size=BATCH_SIZE)\n"
      ],
      "execution_count": 12,
      "outputs": []
    },
    {
      "cell_type": "markdown",
      "metadata": {
        "id": "dZrd4CdjR-Fp"
      },
      "source": [
        "## Train the model\n"
      ]
    },
    {
      "cell_type": "code",
      "metadata": {
        "id": "0KLuEg0O8COj",
        "colab": {
          "base_uri": "https://localhost:8080/",
          "height": 210
        },
        "outputId": "5ad05e83-d412-4e84-c743-1e8d78d93083"
      },
      "source": [
        "EPOCHS = 50\n",
        "cgan.train(train_dataset, EPOCHS)"
      ],
      "execution_count": null,
      "outputs": [
        {
          "output_type": "display_data",
          "data": {
            "text/plain": [
              "<Figure size 288x288 with 10 Axes>"
            ],
            "image/png": "[encoded data removed]"
          },
          "metadata": {
            "needs_background": "light"
          }
        },
        {
          "output_type": "stream",
          "name": "stdout",
          "text": [
            "Time for epoch 4 is 13.35569167137146 sec\n"
          ]
        }
      ]
    },
    {
      "cell_type": "markdown",
      "metadata": {
        "id": "P4M_vIbUi7c0"
      },
      "source": [
        "## Create a GIF\n"
      ]
    },
    {
      "cell_type": "code",
      "metadata": {
        "id": "WfO5wCdclHGL"
      },
      "source": [
        "# Display a single image using the epoch number\n",
        "def display_image(epoch_no):\n",
        "  return PIL.Image.open('image_at_epoch_{:04d}.png'.format(epoch_no))"
      ],
      "execution_count": null,
      "outputs": []
    },
    {
      "cell_type": "code",
      "metadata": {
        "id": "5x3q9_Oe5q0A"
      },
      "source": [
        "display_image(EPOCHS)"
      ],
      "execution_count": null,
      "outputs": []
    },
    {
      "cell_type": "markdown",
      "metadata": {
        "id": "NywiH3nL8guF"
      },
      "source": [
        "Use `imageio` to create an animated gif using the images saved during training."
      ]
    },
    {
      "cell_type": "code",
      "metadata": {
        "id": "IGKQgENQ8lEI"
      },
      "source": [
        "anim_file = 'wgan.gif'\n",
        "\n",
        "with imageio.get_writer(anim_file, mode='I') as writer:\n",
        "  filenames = glob.glob('image*.png')\n",
        "  filenames = sorted(filenames)\n",
        "  for filename in filenames:\n",
        "    image = imageio.imread(filename)\n",
        "    writer.append_data(image)\n",
        "  image = imageio.imread(filename)\n",
        "  writer.append_data(image)"
      ],
      "execution_count": null,
      "outputs": []
    },
    {
      "cell_type": "code",
      "metadata": {
        "id": "ZBwyU6t2Wf3g"
      },
      "source": [
        "import tensorflow_docs.vis.embed as embed\n",
        "embed.embed_file(anim_file)"
      ],
      "execution_count": null,
      "outputs": []
    }
  ]
}