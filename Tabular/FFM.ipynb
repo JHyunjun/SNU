{
  "cells": [
    {
      "cell_type": "markdown",
      "metadata": {
        "id": "view-in-github",
        "colab_type": "text"
      },
      "source": [
        "<a href=\"https://colab.research.google.com/github/JHyunjun/SNU/blob/main/FFM.ipynb\" target=\"_parent\"><img src=\"https://colab.research.google.com/assets/colab-badge.svg\" alt=\"Open In Colab\"/></a>"
      ]
    },
    {
      "cell_type": "code",
      "execution_count": 39,
      "metadata": {
        "id": "lDXgtenKOOT3"
      },
      "outputs": [],
      "source": [
        "import pandas as pd\n",
        "import numpy as np\n",
        "import torch\n",
        "from torch import nn"
      ]
    },
    {
      "cell_type": "code",
      "source": [
        "from google.colab import drive\n",
        "drive.mount('/content/drive')"
      ],
      "metadata": {
        "colab": {
          "base_uri": "https://localhost:8080/"
        },
        "id": "zQ3vKu_ptL66",
        "outputId": "540534f4-f644-4b24-ccf5-afe433d1a1a0"
      },
      "execution_count": 40,
      "outputs": [
        {
          "output_type": "stream",
          "name": "stdout",
          "text": [
            "Drive already mounted at /content/drive; to attempt to forcibly remount, call drive.mount(\"/content/drive\", force_remount=True).\n"
          ]
        }
      ]
    },
    {
      "cell_type": "code",
      "execution_count": 41,
      "metadata": {
        "id": "6hDLBOH5OOT8",
        "outputId": "f36b1dd9-cd63-4fd6-f149-e7b550ebd746",
        "colab": {
          "base_uri": "https://localhost:8080/",
          "height": 206
        }
      },
      "outputs": [
        {
          "output_type": "execute_result",
          "data": {
            "text/plain": [
              "   0                  1       2           3   4                    5   \\\n",
              "0  39          State-gov   77516   Bachelors  13        Never-married   \n",
              "1  50   Self-emp-not-inc   83311   Bachelors  13   Married-civ-spouse   \n",
              "2  38            Private  215646     HS-grad   9             Divorced   \n",
              "3  53            Private  234721        11th   7   Married-civ-spouse   \n",
              "4  28            Private  338409   Bachelors  13   Married-civ-spouse   \n",
              "\n",
              "                   6               7       8        9     10  11  12  \\\n",
              "0        Adm-clerical   Not-in-family   White     Male  2174   0  40   \n",
              "1     Exec-managerial         Husband   White     Male     0   0  13   \n",
              "2   Handlers-cleaners   Not-in-family   White     Male     0   0  40   \n",
              "3   Handlers-cleaners         Husband   Black     Male     0   0  40   \n",
              "4      Prof-specialty            Wife   Black   Female     0   0  40   \n",
              "\n",
              "               13      14  \n",
              "0   United-States   <=50K  \n",
              "1   United-States   <=50K  \n",
              "2   United-States   <=50K  \n",
              "3   United-States   <=50K  \n",
              "4            Cuba   <=50K  "
            ],
            "text/html": [
              "\n",
              "  <div id=\"df-44f90b49-1842-4633-9a09-d29cc35c46cd\">\n",
              "    <div class=\"colab-df-container\">\n",
              "      <div>\n",
              "<style scoped>\n",
              "    .dataframe tbody tr th:only-of-type {\n",
              "        vertical-align: middle;\n",
              "    }\n",
              "\n",
              "    .dataframe tbody tr th {\n",
              "        vertical-align: top;\n",
              "    }\n",
              "\n",
              "    .dataframe thead th {\n",
              "        text-align: right;\n",
              "    }\n",
              "</style>\n",
              "<table border=\"1\" class=\"dataframe\">\n",
              "  <thead>\n",
              "    <tr style=\"text-align: right;\">\n",
              "      <th></th>\n",
              "      <th>0</th>\n",
              "      <th>1</th>\n",
              "      <th>2</th>\n",
              "      <th>3</th>\n",
              "      <th>4</th>\n",
              "      <th>5</th>\n",
              "      <th>6</th>\n",
              "      <th>7</th>\n",
              "      <th>8</th>\n",
              "      <th>9</th>\n",
              "      <th>10</th>\n",
              "      <th>11</th>\n",
              "      <th>12</th>\n",
              "      <th>13</th>\n",
              "      <th>14</th>\n",
              "    </tr>\n",
              "  </thead>\n",
              "  <tbody>\n",
              "    <tr>\n",
              "      <th>0</th>\n",
              "      <td>39</td>\n",
              "      <td>State-gov</td>\n",
              "      <td>77516</td>\n",
              "      <td>Bachelors</td>\n",
              "      <td>13</td>\n",
              "      <td>Never-married</td>\n",
              "      <td>Adm-clerical</td>\n",
              "      <td>Not-in-family</td>\n",
              "      <td>White</td>\n",
              "      <td>Male</td>\n",
              "      <td>2174</td>\n",
              "      <td>0</td>\n",
              "      <td>40</td>\n",
              "      <td>United-States</td>\n",
              "      <td>&lt;=50K</td>\n",
              "    </tr>\n",
              "    <tr>\n",
              "      <th>1</th>\n",
              "      <td>50</td>\n",
              "      <td>Self-emp-not-inc</td>\n",
              "      <td>83311</td>\n",
              "      <td>Bachelors</td>\n",
              "      <td>13</td>\n",
              "      <td>Married-civ-spouse</td>\n",
              "      <td>Exec-managerial</td>\n",
              "      <td>Husband</td>\n",
              "      <td>White</td>\n",
              "      <td>Male</td>\n",
              "      <td>0</td>\n",
              "      <td>0</td>\n",
              "      <td>13</td>\n",
              "      <td>United-States</td>\n",
              "      <td>&lt;=50K</td>\n",
              "    </tr>\n",
              "    <tr>\n",
              "      <th>2</th>\n",
              "      <td>38</td>\n",
              "      <td>Private</td>\n",
              "      <td>215646</td>\n",
              "      <td>HS-grad</td>\n",
              "      <td>9</td>\n",
              "      <td>Divorced</td>\n",
              "      <td>Handlers-cleaners</td>\n",
              "      <td>Not-in-family</td>\n",
              "      <td>White</td>\n",
              "      <td>Male</td>\n",
              "      <td>0</td>\n",
              "      <td>0</td>\n",
              "      <td>40</td>\n",
              "      <td>United-States</td>\n",
              "      <td>&lt;=50K</td>\n",
              "    </tr>\n",
              "    <tr>\n",
              "      <th>3</th>\n",
              "      <td>53</td>\n",
              "      <td>Private</td>\n",
              "      <td>234721</td>\n",
              "      <td>11th</td>\n",
              "      <td>7</td>\n",
              "      <td>Married-civ-spouse</td>\n",
              "      <td>Handlers-cleaners</td>\n",
              "      <td>Husband</td>\n",
              "      <td>Black</td>\n",
              "      <td>Male</td>\n",
              "      <td>0</td>\n",
              "      <td>0</td>\n",
              "      <td>40</td>\n",
              "      <td>United-States</td>\n",
              "      <td>&lt;=50K</td>\n",
              "    </tr>\n",
              "    <tr>\n",
              "      <th>4</th>\n",
              "      <td>28</td>\n",
              "      <td>Private</td>\n",
              "      <td>338409</td>\n",
              "      <td>Bachelors</td>\n",
              "      <td>13</td>\n",
              "      <td>Married-civ-spouse</td>\n",
              "      <td>Prof-specialty</td>\n",
              "      <td>Wife</td>\n",
              "      <td>Black</td>\n",
              "      <td>Female</td>\n",
              "      <td>0</td>\n",
              "      <td>0</td>\n",
              "      <td>40</td>\n",
              "      <td>Cuba</td>\n",
              "      <td>&lt;=50K</td>\n",
              "    </tr>\n",
              "  </tbody>\n",
              "</table>\n",
              "</div>\n",
              "      <button class=\"colab-df-convert\" onclick=\"convertToInteractive('df-44f90b49-1842-4633-9a09-d29cc35c46cd')\"\n",
              "              title=\"Convert this dataframe to an interactive table.\"\n",
              "              style=\"display:none;\">\n",
              "        \n",
              "  <svg xmlns=\"http://www.w3.org/2000/svg\" height=\"24px\"viewBox=\"0 0 24 24\"\n",
              "       width=\"24px\">\n",
              "    <path d=\"M0 0h24v24H0V0z\" fill=\"none\"/>\n",
              "    <path d=\"M18.56 5.44l.94 2.06.94-2.06 2.06-.94-2.06-.94-.94-2.06-.94 2.06-2.06.94zm-11 1L8.5 8.5l.94-2.06 2.06-.94-2.06-.94L8.5 2.5l-.94 2.06-2.06.94zm10 10l.94 2.06.94-2.06 2.06-.94-2.06-.94-.94-2.06-.94 2.06-2.06.94z\"/><path d=\"M17.41 7.96l-1.37-1.37c-.4-.4-.92-.59-1.43-.59-.52 0-1.04.2-1.43.59L10.3 9.45l-7.72 7.72c-.78.78-.78 2.05 0 2.83L4 21.41c.39.39.9.59 1.41.59.51 0 1.02-.2 1.41-.59l7.78-7.78 2.81-2.81c.8-.78.8-2.07 0-2.86zM5.41 20L4 18.59l7.72-7.72 1.47 1.35L5.41 20z\"/>\n",
              "  </svg>\n",
              "      </button>\n",
              "      \n",
              "  <style>\n",
              "    .colab-df-container {\n",
              "      display:flex;\n",
              "      flex-wrap:wrap;\n",
              "      gap: 12px;\n",
              "    }\n",
              "\n",
              "    .colab-df-convert {\n",
              "      background-color: #E8F0FE;\n",
              "      border: none;\n",
              "      border-radius: 50%;\n",
              "      cursor: pointer;\n",
              "      display: none;\n",
              "      fill: #1967D2;\n",
              "      height: 32px;\n",
              "      padding: 0 0 0 0;\n",
              "      width: 32px;\n",
              "    }\n",
              "\n",
              "    .colab-df-convert:hover {\n",
              "      background-color: #E2EBFA;\n",
              "      box-shadow: 0px 1px 2px rgba(60, 64, 67, 0.3), 0px 1px 3px 1px rgba(60, 64, 67, 0.15);\n",
              "      fill: #174EA6;\n",
              "    }\n",
              "\n",
              "    [theme=dark] .colab-df-convert {\n",
              "      background-color: #3B4455;\n",
              "      fill: #D2E3FC;\n",
              "    }\n",
              "\n",
              "    [theme=dark] .colab-df-convert:hover {\n",
              "      background-color: #434B5C;\n",
              "      box-shadow: 0px 1px 3px 1px rgba(0, 0, 0, 0.15);\n",
              "      filter: drop-shadow(0px 1px 2px rgba(0, 0, 0, 0.3));\n",
              "      fill: #FFFFFF;\n",
              "    }\n",
              "  </style>\n",
              "\n",
              "      <script>\n",
              "        const buttonEl =\n",
              "          document.querySelector('#df-44f90b49-1842-4633-9a09-d29cc35c46cd button.colab-df-convert');\n",
              "        buttonEl.style.display =\n",
              "          google.colab.kernel.accessAllowed ? 'block' : 'none';\n",
              "\n",
              "        async function convertToInteractive(key) {\n",
              "          const element = document.querySelector('#df-44f90b49-1842-4633-9a09-d29cc35c46cd');\n",
              "          const dataTable =\n",
              "            await google.colab.kernel.invokeFunction('convertToInteractive',\n",
              "                                                     [key], {});\n",
              "          if (!dataTable) return;\n",
              "\n",
              "          const docLinkHtml = 'Like what you see? Visit the ' +\n",
              "            '<a target=\"_blank\" href=https://colab.research.google.com/notebooks/data_table.ipynb>data table notebook</a>'\n",
              "            + ' to learn more about interactive tables.';\n",
              "          element.innerHTML = '';\n",
              "          dataTable['output_type'] = 'display_data';\n",
              "          await google.colab.output.renderOutput(dataTable, element);\n",
              "          const docLink = document.createElement('div');\n",
              "          docLink.innerHTML = docLinkHtml;\n",
              "          element.appendChild(docLink);\n",
              "        }\n",
              "      </script>\n",
              "    </div>\n",
              "  </div>\n",
              "  "
            ]
          },
          "metadata": {},
          "execution_count": 41
        }
      ],
      "source": [
        "df = pd.read_csv('/content/drive/MyDrive/Colab Notebooks/snu/w4/실습자료/7-28 ffm-adult/data/adult.data', header=None)\n",
        "df.head()\n",
        "# Income = Column 14(Label)"
      ]
    },
    {
      "cell_type": "code",
      "execution_count": 42,
      "metadata": {
        "id": "mKTXXaMaOOT9",
        "outputId": "4c1e12cd-3d37-4eb2-d005-73f5f997ddca",
        "colab": {
          "base_uri": "https://localhost:8080/"
        }
      },
      "outputs": [
        {
          "output_type": "stream",
          "name": "stdout",
          "text": [
            "col :  1 df_out[col].max() :  8\n",
            "col :  3 df_out[col].max() :  15\n",
            "col :  5 df_out[col].max() :  6\n",
            "col :  6 df_out[col].max() :  14\n",
            "col :  7 df_out[col].max() :  5\n",
            "col :  8 df_out[col].max() :  4\n",
            "col :  9 df_out[col].max() :  1\n",
            "col :  13 df_out[col].max() :  41\n",
            "col :  14 df_out[col].max() :  1\n",
            "[9, 16, 7, 15, 6, 5, 2, 42, 2]\n",
            "9\n"
          ]
        }
      ],
      "source": [
        "#for data pre-processing, only use String type column\n",
        "from sklearn.preprocessing import LabelEncoder\n",
        "\n",
        "df_out = df.copy()\n",
        "df_out.drop(columns=[0, 2, 4, 10, 11, 12], inplace=True) #inplace = True : data frame에 직접적용하겠다. False : dataframe은 건드리지 않고 새로운 data frame을 만들어서 return 하겠다.(새로운 변수에)\n",
        "num_values = []\n",
        "for col in df_out.columns:\n",
        "    df_out[col] = LabelEncoder().fit_transform(df_out[col]) #String Data를 Numerical하게 바꾸고 다시 원래자리에 저장하겠다 (LabelEncoder)\n",
        "    num_values.append(df_out[col].max() + 1)\n",
        "    print(\"col : \", col, \"df_out[col].max() : \",df_out[col].max())\n",
        "\n",
        "print(num_values)\n",
        "print(len(num_values))\n"
      ]
    },
    {
      "cell_type": "code",
      "source": [
        "print(df_out)"
      ],
      "metadata": {
        "colab": {
          "base_uri": "https://localhost:8080/"
        },
        "id": "zezf6pLixioY",
        "outputId": "b20982f2-7bd9-459c-f7db-e40469829c79"
      },
      "execution_count": 43,
      "outputs": [
        {
          "output_type": "stream",
          "name": "stdout",
          "text": [
            "       1   3   5   6   7   8   9   13  14\n",
            "0       7   9   4   1   1   4   1  39   0\n",
            "1       6   9   2   4   0   4   1  39   0\n",
            "2       4  11   0   6   1   4   1  39   0\n",
            "3       4   1   2   6   0   2   1  39   0\n",
            "4       4   9   2  10   5   2   0   5   0\n",
            "...    ..  ..  ..  ..  ..  ..  ..  ..  ..\n",
            "32556   4   7   2  13   5   4   0  39   0\n",
            "32557   4  11   2   7   0   4   1  39   1\n",
            "32558   4  11   6   1   4   4   0  39   0\n",
            "32559   4  11   4   1   3   4   1  39   0\n",
            "32560   5  11   2   4   5   4   0  39   1\n",
            "\n",
            "[32561 rows x 9 columns]\n"
          ]
        }
      ]
    },
    {
      "cell_type": "code",
      "execution_count": 44,
      "metadata": {
        "id": "IIM61xUcOOT9",
        "outputId": "28751ac6-f6ff-40e3-891d-7e4d6e2d7d12",
        "colab": {
          "base_uri": "https://localhost:8080/"
        }
      },
      "outputs": [
        {
          "output_type": "stream",
          "name": "stdout",
          "text": [
            "(29338, 8) (3223, 8)\n",
            "(29338,) (3223,)\n"
          ]
        }
      ],
      "source": [
        "data_x = df_out.iloc[:, :-1].values #train\n",
        "data_y = df_out.iloc[:, -1].values #test\n",
        "\n",
        "# 90% Train/10% Test Randomly\n",
        "mask  = np.random.rand(df.shape[0]) < 0.9\n",
        "trn_x = data_x[mask]\n",
        "trn_y = data_y[mask]\n",
        "test_x = data_x[~mask]\n",
        "test_y = data_y[~mask]\n",
        "\n",
        "print(trn_x.shape, test_x.shape)\n",
        "print(trn_y.shape, test_y.shape)"
      ]
    },
    {
      "cell_type": "code",
      "execution_count": 45,
      "metadata": {
        "id": "Zo64E4pHOOT-"
      },
      "outputs": [],
      "source": [
        "from torch.utils.data import DataLoader, TensorDataset\n",
        "\n",
        "batch_size = 128\n",
        "trn_data = TensorDataset(torch.from_numpy(trn_x), torch.from_numpy(trn_y))\n",
        "trn_loader = DataLoader(trn_data, batch_size, shuffle=True)\n",
        "test_data = TensorDataset(torch.from_numpy(test_x), torch.from_numpy(test_y))\n",
        "test_loader = DataLoader(test_data, batch_size)"
      ]
    },
    {
      "cell_type": "code",
      "execution_count": 46,
      "metadata": {
        "id": "T-q-WTP0OOUG"
      },
      "outputs": [],
      "source": [
        "class LinearModel(nn.Module) : \n",
        "  def __init__(self, num_values) : \n",
        "    super().__init__()\n",
        "    weights = []\n",
        "    for n in num_values : \n",
        "      weights.append(nn.Embedding(n,1)) #각 column별 전체 값들을 1개의 scalar로 매핑\n",
        "      #num_values는 column마다 최대값인데 0부터 값이있다. 즉, feature의 갯수라고 볼 수있음\n",
        "    self.weights = nn.ModuleList(weights) #ModuleList에 넣으면 Vector의 size가 다른것들도 하나로 묶어줄 수 있음.\n",
        "    #  w1 [num_values[1],1]\n",
        "    #  w2\n",
        "    #  w3\n",
        "    #  이런형태\n",
        "\n",
        "  def forward(self,x) : \n",
        "    w_out = []\n",
        "    for i in range(x.size(1)) : #num_values와 같은 size = x.size(1), Field Index\n",
        "      #x[:,i] : x1, x2, x3, ... num_values만큼\n",
        "      w_out.append(self.weights[i](x[:, i])) #Matrix multiplication\n",
        "      # w_out 형태 = [ [batch,1] [batch,1] ... num_values갯수만큼]\n",
        "      # [ [w1x1] [w2x2] [w3x3] ...] 단, w와x는 num_values차원의 벡터 -> w1x1 = C(scalar)\n",
        "    return torch.sigmoid(torch.cat(w_out, dim = 1).sum(dim = 1))\n",
        "\n",
        "\n"
      ]
    },
    {
      "cell_type": "code",
      "source": [
        "class Poly2Model(nn.Module) : \n",
        "  def __init__(self, num_values) : \n",
        "    super().__init__()\n",
        "    weights = []\n",
        "    for (i, n1) in enumerate(num_values) : \n",
        "      w = []\n",
        "      for (j, n2) in enumerate(num_values) : \n",
        "        if i < j : \n",
        "          w.append(nn.Embedding(n1 * n2, 1))\n",
        "        else : \n",
        "          w.append(nn.Sequential())\n",
        "      weights.append(nn.ModuleList(w))\n",
        "    self.weights = nn.ModuleList(weights)\n",
        "    self.num_values = num_values\n",
        "\n",
        "  def forward(self,x) : \n",
        "    w_out = []\n",
        "    for i in range(x.size(1)) : \n",
        "      for j in range(x.size(1)) : \n",
        "        if i < j : \n",
        "          w = self.weights[i][j](x[:,i] * self.num_values[j] + x[:,j])\n",
        "          w_out.append(w)\n",
        "    return torch.sigmoid(torch.cat(w_out, dim = 1).sum(dim = 1))"
      ],
      "metadata": {
        "id": "nK4YCEyeHa7O"
      },
      "execution_count": 47,
      "outputs": []
    },
    {
      "cell_type": "code",
      "source": [
        "class FM(nn.Module) : \n",
        "  def __init__(self, num_values, dim) : \n",
        "    super().__init__()\n",
        "    weights = []\n",
        "    for n in num_values : \n",
        "      weights.append(nn.Embedding(n, dim))\n",
        "      self.weights = nn.ModuleList(weights)\n",
        "      self.dim = dim\n",
        "\n",
        "  def forward(self,x) : \n",
        "    w_out = []\n",
        "    for i in range(x.size(1)) : \n",
        "      for j in range(x.size(1)) : \n",
        "        if i < j :\n",
        "          w1 = self.weights[i](x[:,i]).view(-1, 1, self.dim)\n",
        "          w2 = self.weights[j](x[:,j]).view(-1, self.dim, 1)\n",
        "          w = torch.bmm(w1, w2).view(-1, 1)\n",
        "          w_out.append(w)\n",
        "    return torch.sigmoid(torch.cat(w_out, dim = 1).sum(dim = 1))"
      ],
      "metadata": {
        "id": "ZuqFfGseModm"
      },
      "execution_count": 48,
      "outputs": []
    },
    {
      "cell_type": "code",
      "source": [
        "class FFM(nn.Module) : \n",
        "  def __init__(self, num_values, dim) : \n",
        "    super().__init__()\n",
        "    weights = []\n",
        "    for n in num_values : \n",
        "      w = []\n",
        "      for _ in range(len(num_values)) : \n",
        "        w.append(nn.Embedding(n, dim))\n",
        "      weights.append(nn.ModuleList(w))\n",
        "    self.weights = nn.ModuleList(weights)\n",
        "    self.dim = dim\n",
        "\n",
        "  def forward(self,x) : \n",
        "    w_out = []\n",
        "    for i in range(x.size(1)) : \n",
        "      for j in range(x.size(1)) : \n",
        "        if i < j :\n",
        "          w1 = self.weights[i][j](x[:,j]).view(-1, 1, self.dim)\n",
        "          w2 = self.weights[j][i](x[:,j]).view(-1, self.dim, 1 )\n",
        "          w = torch.bmm(w1, w2).view(-1, 1)\n",
        "          w_out.append(w)\n",
        "\n",
        "    return torch.sigmoid(torch.cat(w_out, dim = 1).sum(dim = 1))"
      ],
      "metadata": {
        "id": "QVc_Pm41PSiv"
      },
      "execution_count": 49,
      "outputs": []
    },
    {
      "cell_type": "code",
      "source": [
        "def to_corrects(preds, labels) : \n",
        "  return ((preds - 0.5).ceil() == labels).float().numpy()"
      ],
      "metadata": {
        "id": "vpEDr90jScj6"
      },
      "execution_count": 50,
      "outputs": []
    },
    {
      "cell_type": "code",
      "source": [
        "from torch import optim\n",
        "\n",
        "epochs = 10\n",
        "dim = 8\n",
        "\n",
        "model = LinearModel(num_values)\n",
        "loss_func = nn.BCELoss()\n",
        "optimizer = optim.Adam(model.parameters())"
      ],
      "metadata": {
        "id": "f1EzZOqTS6ny"
      },
      "execution_count": 51,
      "outputs": []
    },
    {
      "cell_type": "code",
      "source": [
        "for e in range(epochs) : \n",
        "  model.train()\n",
        "  losses, corrects = [], []\n",
        "  for x, y in trn_loader : \n",
        "    y_pred = model(x)\n",
        "    loss = loss_func(y_pred, y.float())\n",
        "    optimizer.zero_grad()\n",
        "    loss.backward()\n",
        "    optimizer.step()\n",
        "    losses.append(loss.item())\n",
        "    corrects.append(to_corrects(y_pred, y))\n",
        "  trn_loss = np.mean(losses)\n",
        "  trn_acc = np.mean(np.concatenate(corrects))\n",
        "\n",
        "  model.eval()\n",
        "  losses, corrects = [], []\n",
        "  for x, y in test_loader : \n",
        "    y_pred = model(x)\n",
        "    losses.append(loss.item())\n",
        "    corrects.append(to_corrects(y_pred, y))\n",
        "  test_loss = np.mean(losses)\n",
        "  test_acc = np.mean(np.concatenate(corrects))\n"
      ],
      "metadata": {
        "id": "_nU_uoQDTHTi"
      },
      "execution_count": 52,
      "outputs": []
    }
  ],
  "metadata": {
    "kernelspec": {
      "display_name": "Python 3 (ipykernel)",
      "language": "python",
      "name": "python3"
    },
    "language_info": {
      "codemirror_mode": {
        "name": "ipython",
        "version": 3
      },
      "file_extension": ".py",
      "mimetype": "text/x-python",
      "name": "python",
      "nbconvert_exporter": "python",
      "pygments_lexer": "ipython3",
      "version": "3.9.12"
    },
    "colab": {
      "name": "FFM-lab-skeleton.ipynb",
      "provenance": [],
      "collapsed_sections": [],
      "include_colab_link": true
    }
  },
  "nbformat": 4,
  "nbformat_minor": 0
}
