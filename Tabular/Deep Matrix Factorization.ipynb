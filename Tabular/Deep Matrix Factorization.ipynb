{
  "cells": [
    {
      "cell_type": "markdown",
      "metadata": {
        "id": "view-in-github",
        "colab_type": "text"
      },
      "source": [
        "<a href=\"https://colab.research.google.com/github/JHyunjun/SNU/blob/main/Deep%20Matrix%20Factorization.ipynb\" target=\"_parent\"><img src=\"https://colab.research.google.com/assets/colab-badge.svg\" alt=\"Open In Colab\"/></a>"
      ]
    },
    {
      "cell_type": "code",
      "execution_count": 23,
      "metadata": {
        "id": "zIkEWVHUpO2c"
      },
      "outputs": [],
      "source": [
        "import numpy as np"
      ]
    },
    {
      "cell_type": "code",
      "source": [
        "from google.colab import drive\n",
        "drive.mount('/content/drive')"
      ],
      "metadata": {
        "colab": {
          "base_uri": "https://localhost:8080/"
        },
        "id": "U7g0Vru1pQ2c",
        "outputId": "2c2b0f2e-d2bd-4f66-a6af-fe87241298d9"
      },
      "execution_count": 24,
      "outputs": [
        {
          "output_type": "stream",
          "name": "stdout",
          "text": [
            "Drive already mounted at /content/drive; to attempt to forcibly remount, call drive.mount(\"/content/drive\", force_remount=True).\n"
          ]
        }
      ]
    },
    {
      "cell_type": "code",
      "execution_count": 25,
      "metadata": {
        "id": "A2Mzj1wDpO2f"
      },
      "outputs": [],
      "source": [
        "# MovieLens의 1MB raw data만 활용\n",
        "in_path = '/content/drive/MyDrive/Colab Notebooks/snu/w4/실습자료/deepmf-lab/data/ml-1m-raw/'\n",
        "rating_file = in_path + 'ratings.dat'"
      ]
    },
    {
      "cell_type": "code",
      "execution_count": 26,
      "metadata": {
        "colab": {
          "base_uri": "https://localhost:8080/"
        },
        "id": "ZGsbVI-spO2g",
        "outputId": "dfb9a9b4-3b9a-44cd-975d-f6d746fa754e"
      },
      "outputs": [
        {
          "output_type": "stream",
          "name": "stderr",
          "text": [
            "/usr/local/lib/python3.7/dist-packages/ipykernel_launcher.py:7: DeprecationWarning: `np.int` is a deprecated alias for the builtin `int`. To silence this warning, use `int` by itself. Doing this will not modify any behavior and is safe. When replacing `np.int`, you may wish to use e.g. `np.int64` or `np.int32` to specify the precision. If you wish to review your current use, check the release note link for additional information.\n",
            "Deprecated in NumPy 1.20; for more details and guidance: https://numpy.org/devdocs/release/1.20.0-notes.html#deprecations\n",
            "  import sys\n"
          ]
        }
      ],
      "source": [
        "raw = []\n",
        "with open(rating_file, 'r') as f_read:\n",
        "    for line in f_read.readlines():\n",
        "      #user id :: item id :: rating :: time stamp인데 ::를 분기점으로 4개로 쪼갬\n",
        "        line_list = line.split('::')\n",
        "        raw.append(line_list)\n",
        "raw = np.array(raw, dtype=np.int)"
      ]
    },
    {
      "cell_type": "code",
      "execution_count": 27,
      "metadata": {
        "scrolled": true,
        "colab": {
          "base_uri": "https://localhost:8080/"
        },
        "id": "YUq3NZVZpO2h",
        "outputId": "e02266ea-0e78-470a-b2ec-f5b093386a6f"
      },
      "outputs": [
        {
          "output_type": "execute_result",
          "data": {
            "text/plain": [
              "array([[        1,      1193,         5, 978300760],\n",
              "       [        1,       661,         3, 978302109],\n",
              "       [        1,       914,         3, 978301968],\n",
              "       ...,\n",
              "       [     6040,       562,         5, 956704746],\n",
              "       [     6040,      1096,         4, 956715648],\n",
              "       [     6040,      1097,         4, 956715569]])"
            ]
          },
          "metadata": {},
          "execution_count": 27
        }
      ],
      "source": [
        "raw #Time stamp : 조사한 시점"
      ]
    },
    {
      "cell_type": "code",
      "execution_count": 28,
      "metadata": {
        "colab": {
          "base_uri": "https://localhost:8080/"
        },
        "id": "3s1CwwPrpO2h",
        "outputId": "a63965d5-e738-4710-d1d4-be55d03c2ef5"
      },
      "outputs": [
        {
          "output_type": "stream",
          "name": "stdout",
          "text": [
            "(1000209, 3)\n"
          ]
        }
      ],
      "source": [
        "user_ids = list()\n",
        "item_ids = list()\n",
        "user_map = dict() # raw -> new\n",
        "item_map = dict() # raw -> new\n",
        "\n",
        "user_ids = np.unique(raw[:, 0]) # raw[:,0] : 기존의 user id array\n",
        "item_ids = np.unique(raw[:, 1]) # raw[:,1] : 기존의 item id array\n",
        "\n",
        "#item이랑 user가 0부터 있는게 아니라서 이걸 새로 매핑시킴 0부터~\n",
        "user_map = {v: i for (i, v) in enumerate(user_ids)} \n",
        "item_map = {v: i for (i, v) in enumerate(item_ids)}\n",
        "\n",
        "# 여기서 id만 반환해서 재정렬함 ex) 첫번째 rank -> 0,0,5 ... 순서대로 재정렬\n",
        "new = [[user_map[u], item_map[i], r] for (u, i, r)\n",
        "      in zip(raw[:, 0], raw[:, 1], raw[:, 2])] # new array\n",
        "new = np.array(new)\n",
        "print(new.shape)"
      ]
    },
    {
      "cell_type": "code",
      "execution_count": 29,
      "metadata": {
        "id": "HEIE-tG_pO2i"
      },
      "outputs": [],
      "source": [
        "from sklearn.model_selection import train_test_split"
      ]
    },
    {
      "cell_type": "code",
      "execution_count": 30,
      "metadata": {
        "id": "gIyn0UIFpO2i"
      },
      "outputs": [],
      "source": [
        "train, test = train_test_split(new, test_size=0.2, shuffle=True, random_state=42)"
      ]
    },
    {
      "cell_type": "code",
      "execution_count": 31,
      "metadata": {
        "colab": {
          "base_uri": "https://localhost:8080/"
        },
        "id": "WKAVgT3RpO2i",
        "outputId": "64c5981e-ee91-482d-a8f6-3b0dd2afb1db"
      },
      "outputs": [
        {
          "output_type": "stream",
          "name": "stdout",
          "text": [
            "(800167, 3)\n",
            "(200042, 3)\n"
          ]
        }
      ],
      "source": [
        "print(train.shape)\n",
        "print(test.shape)"
      ]
    },
    {
      "cell_type": "code",
      "execution_count": 32,
      "metadata": {
        "id": "s4uknwyrpO2j"
      },
      "outputs": [],
      "source": [
        "# Dataset : 여러 데이터를 묶어주는 역할\n",
        "# Data Loader : shuffle하거나 batch_size대로 정리해주는 역할\n",
        "from torch.utils.data import Dataset, DataLoader"
      ]
    },
    {
      "cell_type": "code",
      "execution_count": 33,
      "metadata": {
        "id": "buRKRLDtpO2k"
      },
      "outputs": [],
      "source": [
        "class MovieLensDataset(Dataset):\n",
        "    def __init__(self, x, y):\n",
        "        self.x = x\n",
        "        self.y = y\n",
        "    \n",
        "    def __len__(self):\n",
        "        return len(self.x)\n",
        "    \n",
        "    def __getitem__(self, idx):\n",
        "        x = torch.LongTensor(self.x[idx, :])\n",
        "        y = torch.FloatTensor(self.y[idx, :])\n",
        "        return x, y"
      ]
    },
    {
      "cell_type": "code",
      "execution_count": 34,
      "metadata": {
        "scrolled": true,
        "id": "epRLdNGXpO2k"
      },
      "outputs": [],
      "source": [
        "train_dataset = MovieLensDataset(train[:, :-1], np.expand_dims(train[:, -1], axis=1))\n",
        "train_dataloader = DataLoader(train_dataset, batch_size=512, shuffle=True)"
      ]
    },
    {
      "cell_type": "code",
      "execution_count": 35,
      "metadata": {
        "id": "xF1pXS0VpO2l"
      },
      "outputs": [],
      "source": [
        "test_dataset = MovieLensDataset(test[:, :-1], np.expand_dims(test[:, -1], axis=1))\n",
        "test_dataloader = DataLoader(test_dataset, batch_size=len(test_dataset), shuffle=False)"
      ]
    },
    {
      "cell_type": "code",
      "execution_count": 36,
      "metadata": {
        "id": "0lG2obKPpO2l"
      },
      "outputs": [],
      "source": [
        "# User와 Item의 갯수 연산\n",
        "num_users = max(max(train[:, 0]), max(test[:, 0])) + 1\n",
        "num_items = max(max(train[:, 1]), max(test[:, 1])) + 1"
      ]
    },
    {
      "cell_type": "code",
      "execution_count": 37,
      "metadata": {
        "id": "MlDIosbwpO2l"
      },
      "outputs": [],
      "source": [
        "K = 10\n",
        "# [Users],10] * [10,Movies]\n",
        "lr = 1e-3\n",
        "decay = 0\n",
        "epochs = 20"
      ]
    },
    {
      "cell_type": "code",
      "execution_count": 38,
      "metadata": {
        "id": "L3C1w98JpO2l"
      },
      "outputs": [],
      "source": [
        "#GPU Available시 이용하도록 설정\n",
        "import torch\n",
        "import time\n",
        "DEVICE = torch.device('cuda' if torch.cuda.is_available() else 'cpu')"
      ]
    },
    {
      "cell_type": "code",
      "execution_count": 39,
      "metadata": {
        "id": "qDpVCpp8pO2m"
      },
      "outputs": [],
      "source": [
        "class MF(torch.nn.Module):\n",
        "    def __init__(self, num_users, num_items, K):\n",
        "        super().__init__()\n",
        "        self.user_emb = torch.nn.Embedding(num_users, K)\n",
        "        self.item_emb = torch.nn.Embedding(num_items, K)\n",
        "    \n",
        "    def forward(self, user_idx, item_idx):\n",
        "        out = (self.user_emb(user_idx) * self.item_emb(item_idx)).sum(1, keepdim=True) #Element wise\n",
        "        return out"
      ]
    },
    {
      "cell_type": "code",
      "execution_count": 40,
      "metadata": {
        "id": "woXK3P_opO2m"
      },
      "outputs": [],
      "source": [
        "class DeepMF(torch.nn.Module):\n",
        "    def __init__(self, num_users, num_items, K, hidden_dim1, hidden_dim2):\n",
        "        super().__init__()\n",
        "        self.user_emb = torch.nn.Embedding(num_users, K) #[user,10] \n",
        "        self.item_emb = torch.nn.Embedding(num_items, K) #[10, movies] Matrix Declaration\n",
        "        self.layer1 = torch.nn.Linear(2*K, hidden_dim1)\n",
        "        self.layer2 = torch.nn.Linear(hidden_dim1, hidden_dim2)\n",
        "        self.out = torch.nn.Linear(hidden_dim2, 1)\n",
        "        self.activation = torch.nn.ReLU()\n",
        "    \n",
        "    def forward(self, user_idx, item_idx):\n",
        "        out = torch.cat((self.user_emb(user_idx), self.item_emb(item_idx)), dim=1)\n",
        "        out = self.activation(self.layer1(out))\n",
        "        out = self.activation(self.layer2(out))\n",
        "        out = self.out(out)\n",
        "        return out"
      ]
    },
    {
      "cell_type": "code",
      "execution_count": 41,
      "metadata": {
        "colab": {
          "base_uri": "https://localhost:8080/"
        },
        "id": "cjj0sZzLpO2m",
        "outputId": "f845ccaa-7950-4394-b399-801e0fddf89e"
      },
      "outputs": [
        {
          "output_type": "execute_result",
          "data": {
            "text/plain": [
              "MF(\n",
              "  (user_emb): Embedding(6040, 10)\n",
              "  (item_emb): Embedding(3706, 10)\n",
              ")"
            ]
          },
          "metadata": {},
          "execution_count": 41
        }
      ],
      "source": [
        "model = MF(num_users, num_items, K)\n",
        "model.to(DEVICE) #사용자의 실행환경이 cuda를 실행할 수 있으면 GPU 사용"
      ]
    },
    {
      "cell_type": "code",
      "execution_count": 42,
      "metadata": {
        "id": "qN4zc2AxpO2m"
      },
      "outputs": [],
      "source": [
        "criterion = torch.nn.MSELoss()\n",
        "optimizer = torch.optim.Adam(model.parameters(), lr=lr, weight_decay=decay)"
      ]
    },
    {
      "cell_type": "code",
      "execution_count": 43,
      "metadata": {
        "colab": {
          "base_uri": "https://localhost:8080/"
        },
        "id": "OOwODvC2pO2n",
        "outputId": "00e0c711-9f87-4563-b437-b5540a250a9d"
      },
      "outputs": [
        {
          "output_type": "stream",
          "name": "stdout",
          "text": [
            "[14.21] Epoch:   1, TrnRMSE: 4.6678, TestRMSE: 4.4659\n",
            "[14.40] Epoch:   2, TrnRMSE: 4.3060, TestRMSE: 4.2140\n",
            "[14.46] Epoch:   3, TrnRMSE: 4.0713, TestRMSE: 4.0291\n",
            "[14.74] Epoch:   4, TrnRMSE: 3.8508, TestRMSE: 3.7717\n",
            "[16.04] Epoch:   5, TrnRMSE: 3.4192, TestRMSE: 3.1265\n",
            "[18.31] Epoch:   6, TrnRMSE: 2.5780, TestRMSE: 2.2210\n",
            "[15.33] Epoch:   7, TrnRMSE: 1.8222, TestRMSE: 1.6708\n",
            "[15.76] Epoch:   8, TrnRMSE: 1.4135, TestRMSE: 1.3792\n",
            "[14.46] Epoch:   9, TrnRMSE: 1.1974, TestRMSE: 1.2165\n",
            "[15.29] Epoch:  10, TrnRMSE: 1.0775, TestRMSE: 1.1214\n",
            "[14.41] Epoch:  11, TrnRMSE: 1.0088, TestRMSE: 1.0650\n",
            "[15.43] Epoch:  12, TrnRMSE: 0.9678, TestRMSE: 1.0304\n",
            "[13.84] Epoch:  13, TrnRMSE: 0.9423, TestRMSE: 1.0075\n",
            "[14.77] Epoch:  14, TrnRMSE: 0.9251, TestRMSE: 0.9923\n",
            "[15.61] Epoch:  15, TrnRMSE: 0.9128, TestRMSE: 0.9813\n",
            "[17.45] Epoch:  16, TrnRMSE: 0.9031, TestRMSE: 0.9727\n",
            "[14.80] Epoch:  17, TrnRMSE: 0.8949, TestRMSE: 0.9651\n",
            "[14.59] Epoch:  18, TrnRMSE: 0.8876, TestRMSE: 0.9595\n",
            "[16.34] Epoch:  19, TrnRMSE: 0.8812, TestRMSE: 0.9538\n",
            "[14.88] Epoch:  20, TrnRMSE: 0.8753, TestRMSE: 0.9493\n"
          ]
        }
      ],
      "source": [
        "for epoch in range(epochs):\n",
        "    start_time = time.time()\n",
        "    train_mse = 0.\n",
        "    test_mse = 0.\n",
        "    \n",
        "    # train the model, 모델을 학습모드로 변경\n",
        "    model.train()\n",
        "    for batch_idx, (x, r) in enumerate(train_dataloader):\n",
        "        # get data\n",
        "        x, r = x.to(DEVICE), r.to(DEVICE) #x : item id, r : user가 item에 매긴 rating\n",
        "        i, j = x[:, 0], x[:, 1] # i : x에서 첫번째열은 user index, j : x에서 두번째열은 item index\n",
        "        \n",
        "        # set gradients to zero\n",
        "        optimizer.zero_grad()\n",
        "        \n",
        "        # predict ratings\n",
        "        pred = model(i, j)\n",
        "        \n",
        "        # get loss\n",
        "        loss = criterion(pred, r)\n",
        "        train_mse += loss.item()\n",
        "        \n",
        "        # backpropagation\n",
        "        loss.backward()\n",
        "        \n",
        "        # update the parameters\n",
        "        optimizer.step()\n",
        "    \n",
        "    train_rmse = (train_mse/(batch_idx+1))**.5\n",
        "    \n",
        "    # test the model\n",
        "    model.eval()\n",
        "    for batch_idx, (x, r) in enumerate(test_dataloader):\n",
        "        # get data\n",
        "        x, r = x.to(DEVICE), r.to(DEVICE)\n",
        "        i, j = x[:, 0], x[:, 1]\n",
        "        \n",
        "        # predict ratings\n",
        "        pred = model(i, j)\n",
        "        \n",
        "        # get loss\n",
        "        loss = criterion(pred, r)\n",
        "        test_mse += loss.item()\n",
        "    \n",
        "    test_rmse = (test_mse/(batch_idx+1))**.5\n",
        "    \n",
        "    end_time = time.time()\n",
        "    print(f'[{end_time-start_time:.2f}] Epoch: {epoch+1:3d}, '\n",
        "          f'TrnRMSE: {train_rmse:.4f}, TestRMSE: {test_rmse:.4f}')"
      ]
    },
    {
      "cell_type": "code",
      "execution_count": 55,
      "metadata": {
        "id": "JjjZuP0DpO2n"
      },
      "outputs": [],
      "source": [
        "# Deep Matrix Factorization\n",
        "K = 10\n",
        "# [Users],10] * [10,Movies]\n",
        "hidden_dim1 = 10\n",
        "hidden_dim2 = 5\n",
        "lr = 1e-3\n",
        "decay = 0 # Regularizor의 Lambda\n",
        "epochs = 20\n",
        "\n",
        "model_dmf = DeepMF(num_users, num_items, K, hidden_dim1, hidden_dim2)\n",
        "model_dmf.to(DEVICE)\n",
        "criterion_dmf = torch.nn.MSELoss()\n",
        "optimizer_dmf = torch.optim.Adam(model_dmf.parameters(), lr=lr, weight_decay=decay)"
      ]
    },
    {
      "cell_type": "code",
      "source": [
        "for epoch in range(epochs):\n",
        "    start_time = time.time()\n",
        "    train_mse = 0.\n",
        "    test_mse = 0.\n",
        "    \n",
        "    # train the model\n",
        "    model_dmf.train()\n",
        "    for batch_idx, (x, r) in enumerate(train_dataloader):\n",
        "        # get data\n",
        "        x, r = x.to(DEVICE), r.to(DEVICE)\n",
        "        i, j = x[:, 0], x[:, 1]\n",
        "        \n",
        "        # set gradients to zero\n",
        "        optimizer_dmf.zero_grad() #이렇게 zero gradient로 하면 매 epoch마다 momentum이 사라지지 않는가??\n",
        "        \n",
        "        # predict ratings\n",
        "        pred = model_dmf(i, j)\n",
        "        \n",
        "        # get loss\n",
        "        loss = criterion_dmf(pred, r)\n",
        "        train_mse += loss.item()\n",
        "        \n",
        "        # backpropagation\n",
        "        loss.backward()\n",
        "        \n",
        "        # update the parameters\n",
        "        optimizer_dmf.step()\n",
        "    \n",
        "    train_rmse = (train_mse/(batch_idx+1))**.5\n",
        "    \n",
        "    # test the model\n",
        "    model_dmf.eval()\n",
        "    for batch_idx, (x, r) in enumerate(test_dataloader):\n",
        "        # get data\n",
        "        x, r = x.to(DEVICE), r.to(DEVICE)\n",
        "        i, j = x[:, 0], x[:, 1]\n",
        "        \n",
        "        # predict ratings\n",
        "        pred = model_dmf(i, j)\n",
        "        \n",
        "        # get loss\n",
        "        loss = criterion_dmf(pred, r)\n",
        "        test_mse += loss.item()\n",
        "    \n",
        "    test_rmse = (test_mse/(batch_idx+1))**.5\n",
        "    \n",
        "    end_time = time.time()\n",
        "    print(f'[{end_time-start_time:.2f}] Epoch: {epoch+1:3d}, '\n",
        "          f'TrnRMSE: {train_rmse:.4f}, TestRMSE: {test_rmse:.4f}')"
      ],
      "metadata": {
        "colab": {
          "base_uri": "https://localhost:8080/"
        },
        "id": "NZ-cPknB9zsG",
        "outputId": "2ef2de08-309e-49e7-c4a9-3a293c352e9e"
      },
      "execution_count": 56,
      "outputs": [
        {
          "output_type": "stream",
          "name": "stdout",
          "text": [
            "[21.07] Epoch:   1, TrnRMSE: 1.8357, TestRMSE: 1.0878\n",
            "[19.46] Epoch:   2, TrnRMSE: 1.0364, TestRMSE: 1.0068\n",
            "[19.73] Epoch:   3, TrnRMSE: 0.9777, TestRMSE: 0.9675\n",
            "[19.72] Epoch:   4, TrnRMSE: 0.9425, TestRMSE: 0.9412\n",
            "[20.19] Epoch:   5, TrnRMSE: 0.9210, TestRMSE: 0.9274\n",
            "[20.34] Epoch:   6, TrnRMSE: 0.9103, TestRMSE: 0.9210\n",
            "[21.65] Epoch:   7, TrnRMSE: 0.9044, TestRMSE: 0.9179\n",
            "[20.10] Epoch:   8, TrnRMSE: 0.9010, TestRMSE: 0.9155\n",
            "[20.05] Epoch:   9, TrnRMSE: 0.8984, TestRMSE: 0.9149\n",
            "[20.14] Epoch:  10, TrnRMSE: 0.8966, TestRMSE: 0.9135\n",
            "[20.03] Epoch:  11, TrnRMSE: 0.8951, TestRMSE: 0.9135\n",
            "[21.24] Epoch:  12, TrnRMSE: 0.8938, TestRMSE: 0.9137\n",
            "[20.85] Epoch:  13, TrnRMSE: 0.8927, TestRMSE: 0.9120\n",
            "[20.51] Epoch:  14, TrnRMSE: 0.8916, TestRMSE: 0.9115\n",
            "[19.37] Epoch:  15, TrnRMSE: 0.8906, TestRMSE: 0.9109\n",
            "[19.63] Epoch:  16, TrnRMSE: 0.8896, TestRMSE: 0.9106\n",
            "[19.91] Epoch:  17, TrnRMSE: 0.8887, TestRMSE: 0.9105\n",
            "[21.44] Epoch:  18, TrnRMSE: 0.8879, TestRMSE: 0.9101\n",
            "[19.54] Epoch:  19, TrnRMSE: 0.8869, TestRMSE: 0.9100\n",
            "[19.52] Epoch:  20, TrnRMSE: 0.8862, TestRMSE: 0.9095\n"
          ]
        }
      ]
    }
  ],
  "metadata": {
    "kernelspec": {
      "display_name": "Python 3 (ipykernel)",
      "language": "python",
      "name": "python3"
    },
    "language_info": {
      "codemirror_mode": {
        "name": "ipython",
        "version": 3
      },
      "file_extension": ".py",
      "mimetype": "text/x-python",
      "name": "python",
      "nbconvert_exporter": "python",
      "pygments_lexer": "ipython3",
      "version": "3.9.12"
    },
    "colab": {
      "name": "Deep_Matrix_Factorization.ipynb",
      "provenance": [],
      "collapsed_sections": [],
      "include_colab_link": true
    },
    "accelerator": "GPU",
    "gpuClass": "standard"
  },
  "nbformat": 4,
  "nbformat_minor": 0
}
