{
  "cells": [
    {
      "cell_type": "markdown",
      "metadata": {
        "id": "view-in-github",
        "colab_type": "text"
      },
      "source": [
        "<a href=\"https://colab.research.google.com/github/JHyunjun/SNU/blob/main/LSTM_NoveltyDetection.ipynb\" target=\"_parent\"><img src=\"https://colab.research.google.com/assets/colab-badge.svg\" alt=\"Open In Colab\"/></a>"
      ]
    },
    {
      "cell_type": "markdown",
      "metadata": {
        "id": "w-015JtvD8ls"
      },
      "source": [
        "# Anomalies in Streaming Data"
      ]
    },
    {
      "cell_type": "code",
      "source": [
        "from google.colab import drive\n",
        "drive.mount('/content/drive')"
      ],
      "metadata": {
        "colab": {
          "base_uri": "https://localhost:8080/"
        },
        "id": "BPlosOU_YDjs",
        "outputId": "f795bb60-cba2-43d9-8bda-4925043cc450"
      },
      "execution_count": 2,
      "outputs": [
        {
          "output_type": "stream",
          "name": "stdout",
          "text": [
            "Drive already mounted at /content/drive; to attempt to forcibly remount, call drive.mount(\"/content/drive\", force_remount=True).\n"
          ]
        }
      ]
    },
    {
      "cell_type": "code",
      "execution_count": 3,
      "metadata": {
        "id": "3fvF6Sg4D8lw"
      },
      "outputs": [],
      "source": [
        "import numpy as np\n",
        "import pandas as pd\n",
        "import tensorflow as tf\n",
        "\n",
        "from sklearn import preprocessing\n",
        "from matplotlib import pyplot as plt"
      ]
    },
    {
      "cell_type": "markdown",
      "metadata": {
        "id": "PinuDpedD8lx"
      },
      "source": [
        "# 1. Read the dataset"
      ]
    },
    {
      "cell_type": "code",
      "execution_count": 4,
      "metadata": {
        "scrolled": true,
        "id": "7Jb9YILVD8lx",
        "colab": {
          "base_uri": "https://localhost:8080/",
          "height": 206
        },
        "outputId": "b859e464-54fb-4c0f-ec6c-630247787ed6"
      },
      "outputs": [
        {
          "output_type": "execute_result",
          "data": {
            "text/plain": [
              "             timestamp      value\n",
              "0  2013-07-04 00:00:00  69.880835\n",
              "1  2013-07-04 01:00:00  71.220227\n",
              "2  2013-07-04 02:00:00  70.877805\n",
              "3  2013-07-04 03:00:00  68.959400\n",
              "4  2013-07-04 04:00:00  69.283551"
            ],
            "text/html": [
              "\n",
              "  <div id=\"df-61b9d1ad-47dd-4444-a259-acf706d8b458\">\n",
              "    <div class=\"colab-df-container\">\n",
              "      <div>\n",
              "<style scoped>\n",
              "    .dataframe tbody tr th:only-of-type {\n",
              "        vertical-align: middle;\n",
              "    }\n",
              "\n",
              "    .dataframe tbody tr th {\n",
              "        vertical-align: top;\n",
              "    }\n",
              "\n",
              "    .dataframe thead th {\n",
              "        text-align: right;\n",
              "    }\n",
              "</style>\n",
              "<table border=\"1\" class=\"dataframe\">\n",
              "  <thead>\n",
              "    <tr style=\"text-align: right;\">\n",
              "      <th></th>\n",
              "      <th>timestamp</th>\n",
              "      <th>value</th>\n",
              "    </tr>\n",
              "  </thead>\n",
              "  <tbody>\n",
              "    <tr>\n",
              "      <th>0</th>\n",
              "      <td>2013-07-04 00:00:00</td>\n",
              "      <td>69.880835</td>\n",
              "    </tr>\n",
              "    <tr>\n",
              "      <th>1</th>\n",
              "      <td>2013-07-04 01:00:00</td>\n",
              "      <td>71.220227</td>\n",
              "    </tr>\n",
              "    <tr>\n",
              "      <th>2</th>\n",
              "      <td>2013-07-04 02:00:00</td>\n",
              "      <td>70.877805</td>\n",
              "    </tr>\n",
              "    <tr>\n",
              "      <th>3</th>\n",
              "      <td>2013-07-04 03:00:00</td>\n",
              "      <td>68.959400</td>\n",
              "    </tr>\n",
              "    <tr>\n",
              "      <th>4</th>\n",
              "      <td>2013-07-04 04:00:00</td>\n",
              "      <td>69.283551</td>\n",
              "    </tr>\n",
              "  </tbody>\n",
              "</table>\n",
              "</div>\n",
              "      <button class=\"colab-df-convert\" onclick=\"convertToInteractive('df-61b9d1ad-47dd-4444-a259-acf706d8b458')\"\n",
              "              title=\"Convert this dataframe to an interactive table.\"\n",
              "              style=\"display:none;\">\n",
              "        \n",
              "  <svg xmlns=\"http://www.w3.org/2000/svg\" height=\"24px\"viewBox=\"0 0 24 24\"\n",
              "       width=\"24px\">\n",
              "    <path d=\"M0 0h24v24H0V0z\" fill=\"none\"/>\n",
              "    <path d=\"M18.56 5.44l.94 2.06.94-2.06 2.06-.94-2.06-.94-.94-2.06-.94 2.06-2.06.94zm-11 1L8.5 8.5l.94-2.06 2.06-.94-2.06-.94L8.5 2.5l-.94 2.06-2.06.94zm10 10l.94 2.06.94-2.06 2.06-.94-2.06-.94-.94-2.06-.94 2.06-2.06.94z\"/><path d=\"M17.41 7.96l-1.37-1.37c-.4-.4-.92-.59-1.43-.59-.52 0-1.04.2-1.43.59L10.3 9.45l-7.72 7.72c-.78.78-.78 2.05 0 2.83L4 21.41c.39.39.9.59 1.41.59.51 0 1.02-.2 1.41-.59l7.78-7.78 2.81-2.81c.8-.78.8-2.07 0-2.86zM5.41 20L4 18.59l7.72-7.72 1.47 1.35L5.41 20z\"/>\n",
              "  </svg>\n",
              "      </button>\n",
              "      \n",
              "  <style>\n",
              "    .colab-df-container {\n",
              "      display:flex;\n",
              "      flex-wrap:wrap;\n",
              "      gap: 12px;\n",
              "    }\n",
              "\n",
              "    .colab-df-convert {\n",
              "      background-color: #E8F0FE;\n",
              "      border: none;\n",
              "      border-radius: 50%;\n",
              "      cursor: pointer;\n",
              "      display: none;\n",
              "      fill: #1967D2;\n",
              "      height: 32px;\n",
              "      padding: 0 0 0 0;\n",
              "      width: 32px;\n",
              "    }\n",
              "\n",
              "    .colab-df-convert:hover {\n",
              "      background-color: #E2EBFA;\n",
              "      box-shadow: 0px 1px 2px rgba(60, 64, 67, 0.3), 0px 1px 3px 1px rgba(60, 64, 67, 0.15);\n",
              "      fill: #174EA6;\n",
              "    }\n",
              "\n",
              "    [theme=dark] .colab-df-convert {\n",
              "      background-color: #3B4455;\n",
              "      fill: #D2E3FC;\n",
              "    }\n",
              "\n",
              "    [theme=dark] .colab-df-convert:hover {\n",
              "      background-color: #434B5C;\n",
              "      box-shadow: 0px 1px 3px 1px rgba(0, 0, 0, 0.15);\n",
              "      filter: drop-shadow(0px 1px 2px rgba(0, 0, 0, 0.3));\n",
              "      fill: #FFFFFF;\n",
              "    }\n",
              "  </style>\n",
              "\n",
              "      <script>\n",
              "        const buttonEl =\n",
              "          document.querySelector('#df-61b9d1ad-47dd-4444-a259-acf706d8b458 button.colab-df-convert');\n",
              "        buttonEl.style.display =\n",
              "          google.colab.kernel.accessAllowed ? 'block' : 'none';\n",
              "\n",
              "        async function convertToInteractive(key) {\n",
              "          const element = document.querySelector('#df-61b9d1ad-47dd-4444-a259-acf706d8b458');\n",
              "          const dataTable =\n",
              "            await google.colab.kernel.invokeFunction('convertToInteractive',\n",
              "                                                     [key], {});\n",
              "          if (!dataTable) return;\n",
              "\n",
              "          const docLinkHtml = 'Like what you see? Visit the ' +\n",
              "            '<a target=\"_blank\" href=https://colab.research.google.com/notebooks/data_table.ipynb>data table notebook</a>'\n",
              "            + ' to learn more about interactive tables.';\n",
              "          element.innerHTML = '';\n",
              "          dataTable['output_type'] = 'display_data';\n",
              "          await google.colab.output.renderOutput(dataTable, element);\n",
              "          const docLink = document.createElement('div');\n",
              "          docLink.innerHTML = docLinkHtml;\n",
              "          element.appendChild(docLink);\n",
              "        }\n",
              "      </script>\n",
              "    </div>\n",
              "  </div>\n",
              "  "
            ]
          },
          "metadata": {},
          "execution_count": 4
        }
      ],
      "source": [
        "df = pd.read_csv('/content/drive/MyDrive/Colab Notebooks/snu/w4/실습자료/hw-rnn-anomalystream-skeleton/data/ambient_temperature_system_failure.csv')\n",
        "df.head()"
      ]
    },
    {
      "cell_type": "markdown",
      "metadata": {
        "id": "RcfXdoCMD8ly"
      },
      "source": [
        "# 2. Preprocess the dataset"
      ]
    },
    {
      "cell_type": "code",
      "execution_count": 5,
      "metadata": {
        "id": "En6zOAMnD8ly",
        "colab": {
          "base_uri": "https://localhost:8080/",
          "height": 296
        },
        "outputId": "645387a2-2173-4cfb-8b28-d38013839581"
      },
      "outputs": [
        {
          "output_type": "execute_result",
          "data": {
            "text/plain": [
              "<matplotlib.axes._subplots.AxesSubplot at 0x7f36531fe450>"
            ]
          },
          "metadata": {},
          "execution_count": 5
        },
        {
          "output_type": "display_data",
          "data": {
            "text/plain": [
              "<Figure size 432x288 with 1 Axes>"
            ],
            "image/png": "[encoded data removed]"
          },
          "metadata": {
            "needs_background": "light"
          }
        }
      ],
      "source": [
        "df['timestamp'] = pd.to_datetime(df['timestamp'])\n",
        "df['value'] = (df['value'] - 32) * 5 / 9\n",
        "df.plot(x='timestamp', y='value')"
      ]
    },
    {
      "cell_type": "markdown",
      "metadata": {
        "id": "qEEkkHSuD8lz"
      },
      "source": [
        "### Create four additional features"
      ]
    },
    {
      "cell_type": "code",
      "execution_count": 6,
      "metadata": {
        "id": "7SUdkRQoD8lz"
      },
      "outputs": [],
      "source": [
        "df['hours'] = df['timestamp'].dt.hour\n",
        "df['daylight'] = ((df['hours'] >= 7) & \n",
        "                  (df['hours'] <= 22)).astype(int)\n",
        "df['dayofweek'] = df['timestamp'].dt.dayofweek\n",
        "df['weekday'] = (df['dayofweek'] < 5).astype(int)"
      ]
    },
    {
      "cell_type": "markdown",
      "metadata": {
        "id": "P_DAB1TAD8l0"
      },
      "source": [
        "### Standardize the added features"
      ]
    },
    {
      "cell_type": "code",
      "execution_count": 7,
      "metadata": {
        "id": "78ekMsSED8l0"
      },
      "outputs": [],
      "source": [
        "data_n = df[['value', 'hours', 'daylight', \n",
        "             'dayofweek', 'weekday']]\n",
        "scaler = preprocessing.StandardScaler()\n",
        "scaled = scaler.fit_transform(data_n)\n",
        "data_n = pd.DataFrame(scaled)"
      ]
    },
    {
      "cell_type": "code",
      "execution_count": 19,
      "metadata": {
        "id": "qvW42ZcqD8l1",
        "colab": {
          "base_uri": "https://localhost:8080/",
          "height": 206
        },
        "outputId": "204ac7e6-317c-4c0f-b75c-d89c8261ca12"
      },
      "outputs": [
        {
          "output_type": "execute_result",
          "data": {
            "text/plain": [
              "          0         1         2         3        4\n",
              "0 -0.320586 -1.661537 -1.414798  0.005769  0.62132\n",
              "1 -0.005228 -1.517172 -1.414798  0.005769  0.62132\n",
              "2 -0.085851 -1.372807 -1.414798  0.005769  0.62132\n",
              "3 -0.537536 -1.228442 -1.414798  0.005769  0.62132\n",
              "4 -0.461215 -1.084077 -1.414798  0.005769  0.62132"
            ],
            "text/html": [
              "\n",
              "  <div id=\"df-a694741c-8496-4fe0-8363-3a5fe8e1538b\">\n",
              "    <div class=\"colab-df-container\">\n",
              "      <div>\n",
              "<style scoped>\n",
              "    .dataframe tbody tr th:only-of-type {\n",
              "        vertical-align: middle;\n",
              "    }\n",
              "\n",
              "    .dataframe tbody tr th {\n",
              "        vertical-align: top;\n",
              "    }\n",
              "\n",
              "    .dataframe thead th {\n",
              "        text-align: right;\n",
              "    }\n",
              "</style>\n",
              "<table border=\"1\" class=\"dataframe\">\n",
              "  <thead>\n",
              "    <tr style=\"text-align: right;\">\n",
              "      <th></th>\n",
              "      <th>0</th>\n",
              "      <th>1</th>\n",
              "      <th>2</th>\n",
              "      <th>3</th>\n",
              "      <th>4</th>\n",
              "    </tr>\n",
              "  </thead>\n",
              "  <tbody>\n",
              "    <tr>\n",
              "      <th>0</th>\n",
              "      <td>-0.320586</td>\n",
              "      <td>-1.661537</td>\n",
              "      <td>-1.414798</td>\n",
              "      <td>0.005769</td>\n",
              "      <td>0.62132</td>\n",
              "    </tr>\n",
              "    <tr>\n",
              "      <th>1</th>\n",
              "      <td>-0.005228</td>\n",
              "      <td>-1.517172</td>\n",
              "      <td>-1.414798</td>\n",
              "      <td>0.005769</td>\n",
              "      <td>0.62132</td>\n",
              "    </tr>\n",
              "    <tr>\n",
              "      <th>2</th>\n",
              "      <td>-0.085851</td>\n",
              "      <td>-1.372807</td>\n",
              "      <td>-1.414798</td>\n",
              "      <td>0.005769</td>\n",
              "      <td>0.62132</td>\n",
              "    </tr>\n",
              "    <tr>\n",
              "      <th>3</th>\n",
              "      <td>-0.537536</td>\n",
              "      <td>-1.228442</td>\n",
              "      <td>-1.414798</td>\n",
              "      <td>0.005769</td>\n",
              "      <td>0.62132</td>\n",
              "    </tr>\n",
              "    <tr>\n",
              "      <th>4</th>\n",
              "      <td>-0.461215</td>\n",
              "      <td>-1.084077</td>\n",
              "      <td>-1.414798</td>\n",
              "      <td>0.005769</td>\n",
              "      <td>0.62132</td>\n",
              "    </tr>\n",
              "  </tbody>\n",
              "</table>\n",
              "</div>\n",
              "      <button class=\"colab-df-convert\" onclick=\"convertToInteractive('df-a694741c-8496-4fe0-8363-3a5fe8e1538b')\"\n",
              "              title=\"Convert this dataframe to an interactive table.\"\n",
              "              style=\"display:none;\">\n",
              "        \n",
              "  <svg xmlns=\"http://www.w3.org/2000/svg\" height=\"24px\"viewBox=\"0 0 24 24\"\n",
              "       width=\"24px\">\n",
              "    <path d=\"M0 0h24v24H0V0z\" fill=\"none\"/>\n",
              "    <path d=\"M18.56 5.44l.94 2.06.94-2.06 2.06-.94-2.06-.94-.94-2.06-.94 2.06-2.06.94zm-11 1L8.5 8.5l.94-2.06 2.06-.94-2.06-.94L8.5 2.5l-.94 2.06-2.06.94zm10 10l.94 2.06.94-2.06 2.06-.94-2.06-.94-.94-2.06-.94 2.06-2.06.94z\"/><path d=\"M17.41 7.96l-1.37-1.37c-.4-.4-.92-.59-1.43-.59-.52 0-1.04.2-1.43.59L10.3 9.45l-7.72 7.72c-.78.78-.78 2.05 0 2.83L4 21.41c.39.39.9.59 1.41.59.51 0 1.02-.2 1.41-.59l7.78-7.78 2.81-2.81c.8-.78.8-2.07 0-2.86zM5.41 20L4 18.59l7.72-7.72 1.47 1.35L5.41 20z\"/>\n",
              "  </svg>\n",
              "      </button>\n",
              "      \n",
              "  <style>\n",
              "    .colab-df-container {\n",
              "      display:flex;\n",
              "      flex-wrap:wrap;\n",
              "      gap: 12px;\n",
              "    }\n",
              "\n",
              "    .colab-df-convert {\n",
              "      background-color: #E8F0FE;\n",
              "      border: none;\n",
              "      border-radius: 50%;\n",
              "      cursor: pointer;\n",
              "      display: none;\n",
              "      fill: #1967D2;\n",
              "      height: 32px;\n",
              "      padding: 0 0 0 0;\n",
              "      width: 32px;\n",
              "    }\n",
              "\n",
              "    .colab-df-convert:hover {\n",
              "      background-color: #E2EBFA;\n",
              "      box-shadow: 0px 1px 2px rgba(60, 64, 67, 0.3), 0px 1px 3px 1px rgba(60, 64, 67, 0.15);\n",
              "      fill: #174EA6;\n",
              "    }\n",
              "\n",
              "    [theme=dark] .colab-df-convert {\n",
              "      background-color: #3B4455;\n",
              "      fill: #D2E3FC;\n",
              "    }\n",
              "\n",
              "    [theme=dark] .colab-df-convert:hover {\n",
              "      background-color: #434B5C;\n",
              "      box-shadow: 0px 1px 3px 1px rgba(0, 0, 0, 0.15);\n",
              "      filter: drop-shadow(0px 1px 2px rgba(0, 0, 0, 0.3));\n",
              "      fill: #FFFFFF;\n",
              "    }\n",
              "  </style>\n",
              "\n",
              "      <script>\n",
              "        const buttonEl =\n",
              "          document.querySelector('#df-a694741c-8496-4fe0-8363-3a5fe8e1538b button.colab-df-convert');\n",
              "        buttonEl.style.display =\n",
              "          google.colab.kernel.accessAllowed ? 'block' : 'none';\n",
              "\n",
              "        async function convertToInteractive(key) {\n",
              "          const element = document.querySelector('#df-a694741c-8496-4fe0-8363-3a5fe8e1538b');\n",
              "          const dataTable =\n",
              "            await google.colab.kernel.invokeFunction('convertToInteractive',\n",
              "                                                     [key], {});\n",
              "          if (!dataTable) return;\n",
              "\n",
              "          const docLinkHtml = 'Like what you see? Visit the ' +\n",
              "            '<a target=\"_blank\" href=https://colab.research.google.com/notebooks/data_table.ipynb>data table notebook</a>'\n",
              "            + ' to learn more about interactive tables.';\n",
              "          element.innerHTML = '';\n",
              "          dataTable['output_type'] = 'display_data';\n",
              "          await google.colab.output.renderOutput(dataTable, element);\n",
              "          const docLink = document.createElement('div');\n",
              "          docLink.innerHTML = docLinkHtml;\n",
              "          element.appendChild(docLink);\n",
              "        }\n",
              "      </script>\n",
              "    </div>\n",
              "  </div>\n",
              "  "
            ]
          },
          "metadata": {},
          "execution_count": 19
        }
      ],
      "source": [
        "data_n.head()"
      ]
    },
    {
      "cell_type": "markdown",
      "metadata": {
        "id": "84rT7nhjD8l1"
      },
      "source": [
        "### Unroll the features"
      ]
    },
    {
      "cell_type": "code",
      "execution_count": 9,
      "metadata": {
        "id": "YuJKiQYpD8l2"
      },
      "outputs": [],
      "source": [
        "#unroll: create sequence of 50 previous data points for each data points\n",
        "def unroll(data,length=50):\n",
        "    result = []\n",
        "    for i in range(len(data) - length + 1):\n",
        "        result.append(data[i : i + length])\n",
        "    return np.asarray(result)"
      ]
    },
    {
      "cell_type": "code",
      "execution_count": 10,
      "metadata": {
        "id": "z-0arQ4KD8l2",
        "colab": {
          "base_uri": "https://localhost:8080/"
        },
        "outputId": "f3d80bee-97ea-459f-ea83-4c53cabca35d"
      },
      "outputs": [
        {
          "output_type": "stream",
          "name": "stdout",
          "text": [
            "X shape: (7217, 50, 5)\n"
          ]
        }
      ],
      "source": [
        "X = data_n[:-1].values\n",
        "X = unroll(X, length = 50)\n",
        "print(f\"X shape: {X.shape}\")"
      ]
    },
    {
      "cell_type": "code",
      "execution_count": 11,
      "metadata": {
        "id": "VZIpEzXTD8l2",
        "colab": {
          "base_uri": "https://localhost:8080/"
        },
        "outputId": "3eccca12-52d4-440a-e4a5-75f77b5a8a66"
      },
      "outputs": [
        {
          "output_type": "stream",
          "name": "stdout",
          "text": [
            "Y shape: (7217,)\n"
          ]
        }
      ],
      "source": [
        "y = data_n[1:][0].values\n",
        "y = y[-X.shape[0]:]\n",
        "\n",
        "print(f\"Y shape: {y.shape}\")"
      ]
    },
    {
      "cell_type": "code",
      "execution_count": 12,
      "metadata": {
        "id": "m24rJtrqD8l3"
      },
      "outputs": [],
      "source": [
        "test_size = 1000\n",
        "\n",
        "X_train = X[:-test_size]\n",
        "X_test = X[-test_size:]\n",
        "\n",
        "y_train = y[:-test_size]\n",
        "y_test = y[-test_size:]"
      ]
    },
    {
      "cell_type": "code",
      "execution_count": 13,
      "metadata": {
        "id": "FMBNPqmMD8l3",
        "colab": {
          "base_uri": "https://localhost:8080/"
        },
        "outputId": "6bf2de36-7e6e-40f6-cec5-ef10fa1834f7"
      },
      "outputs": [
        {
          "output_type": "stream",
          "name": "stdout",
          "text": [
            "x_train: (6217, 50, 5) y_train: (6217,)\n",
            "x_test : (1000, 50, 5) y_test : (1000,)\n"
          ]
        }
      ],
      "source": [
        "# see the shape\n",
        "print(f\"x_train: {X_train.shape} \" \n",
        "      f\"y_train: {y_train.shape}\")\n",
        "\n",
        "print(f\"x_test : {X_test.shape} \"\n",
        "      f\"y_test : {y_test.shape}\")"
      ]
    },
    {
      "cell_type": "markdown",
      "metadata": {
        "id": "gMUScMwbD8l3"
      },
      "source": [
        "# 3. Now make the RNN model to predict"
      ]
    },
    {
      "cell_type": "code",
      "execution_count": 14,
      "metadata": {
        "id": "DRXSeR_6D8l3"
      },
      "outputs": [],
      "source": [
        "from tensorflow.keras import Sequential, Input\n",
        "from tensorflow.keras.layers import Dense\n",
        "from tensorflow.keras.layers import LSTM\n",
        "from tensorflow.keras.layers import Dropout\n",
        "from tensorflow.keras.callbacks import EarlyStopping"
      ]
    },
    {
      "cell_type": "markdown",
      "metadata": {
        "id": "41Xzu5ziD8l4"
      },
      "source": [
        "#### (a) Define LSTM models"
      ]
    },
    {
      "cell_type": "code",
      "execution_count": 15,
      "metadata": {
        "id": "Guz4g4GcD8l4"
      },
      "outputs": [],
      "source": [
        "def create_lstm(pkeep, hid1=50, hid2=100):\n",
        "    model = Sequential()\n",
        "    model.add(LSTM(hid1, return_sequences = True))\n",
        "    model.add(Dropout(1-pkeep))\n",
        "\n",
        "    model.add(LSTM(hid2))\n",
        "    model.add(Dropout(1-pkeep))\n",
        "\n",
        "    model.add(Dense(units = 1))\n",
        "    \n",
        "    return model"
      ]
    },
    {
      "cell_type": "markdown",
      "metadata": {
        "id": "5qtXqdRED8l4"
      },
      "source": [
        "#### (b) Train the model\n",
        "* Configure the epoch and batch size \n",
        "* Set loss function and optimizer\n",
        "* Train the model"
      ]
    },
    {
      "cell_type": "code",
      "execution_count": 16,
      "metadata": {
        "id": "V4TFjFyrD8l4"
      },
      "outputs": [],
      "source": [
        "pkeep = 0.7\n",
        "batch_size = 256\n",
        "epochs = 10"
      ]
    },
    {
      "cell_type": "code",
      "execution_count": 18,
      "metadata": {
        "id": "dVuJLT4rD8l5",
        "colab": {
          "base_uri": "https://localhost:8080/"
        },
        "outputId": "3f40901d-1d1f-41bd-b5d0-4674f2e5d688"
      },
      "outputs": [
        {
          "output_type": "stream",
          "name": "stdout",
          "text": [
            "Epoch 1/10\n",
            "22/22 [==============================] - 12s 333ms/step - loss: 0.2209 - val_loss: 0.1835\n",
            "Epoch 2/10\n",
            "22/22 [==============================] - 6s 291ms/step - loss: 0.0768 - val_loss: 0.1350\n",
            "Epoch 3/10\n",
            "22/22 [==============================] - 6s 289ms/step - loss: 0.0633 - val_loss: 0.1057\n",
            "Epoch 4/10\n",
            "22/22 [==============================] - 6s 287ms/step - loss: 0.0568 - val_loss: 0.1013\n",
            "Epoch 5/10\n",
            "22/22 [==============================] - 6s 294ms/step - loss: 0.0562 - val_loss: 0.0928\n",
            "Epoch 6/10\n",
            "22/22 [==============================] - 6s 293ms/step - loss: 0.0545 - val_loss: 0.0923\n",
            "Epoch 7/10\n",
            "22/22 [==============================] - 6s 289ms/step - loss: 0.0521 - val_loss: 0.0868\n",
            "Epoch 8/10\n",
            "22/22 [==============================] - 6s 284ms/step - loss: 0.0508 - val_loss: 0.0801\n",
            "Epoch 9/10\n",
            "22/22 [==============================] - 6s 286ms/step - loss: 0.0502 - val_loss: 0.0812\n",
            "Epoch 10/10\n",
            "22/22 [==============================] - 6s 290ms/step - loss: 0.0492 - val_loss: 0.0855\n"
          ]
        },
        {
          "output_type": "execute_result",
          "data": {
            "text/plain": [
              "<keras.callbacks.History at 0x7f364ec73610>"
            ]
          },
          "metadata": {},
          "execution_count": 18
        }
      ],
      "source": [
        "model = create_lstm(pkeep)\n",
        "model.compile(loss = 'mse', optimizer = 'adam')\n",
        "model.fit(X_train, y_train, batch_size = batch_size, epochs = epochs, validation_split = 0.1, callbacks = [EarlyStopping(monitor=\"val_loss\", patience = 7)])"
      ]
    },
    {
      "cell_type": "markdown",
      "metadata": {
        "id": "xgIQgRedD8l5"
      },
      "source": [
        "#### (c) Check the result and detect 10 anomalies with maximum differences \n",
        "* Compute the differences for the test instances (absolute value).\n",
        "    \n",
        "* Plot the true and predicted value using `matplotlib`.\n",
        "    \n",
        "* Find the 10 anomalies and plot into the previus figure.\n",
        "\n"
      ]
    },
    {
      "cell_type": "code",
      "source": [
        "preds = model.predict(X_test)\n",
        "diffs = list(abs(y_test - preds.flatten()))"
      ],
      "metadata": {
        "id": "C5QxuNLld7hr"
      },
      "execution_count": 20,
      "outputs": []
    },
    {
      "cell_type": "code",
      "source": [
        "fig, axs = plt.subplots()\n",
        "axs.plot(preds, color = 'red', label = 'prediction')\n",
        "axs.plot(y_test, color = 'blue', label = 'y_test')\n",
        "plt.legend(loc = 'upper left')\n",
        "plt.show()"
      ],
      "metadata": {
        "colab": {
          "base_uri": "https://localhost:8080/",
          "height": 268
        },
        "id": "_krkHPp3bcO6",
        "outputId": "5da7d730-4fed-4ba6-8274-04e37e02c046"
      },
      "execution_count": 21,
      "outputs": [
        {
          "output_type": "display_data",
          "data": {
            "text/plain": [
              "<Figure size 432x288 with 1 Axes>"
            ],
            "image/png": "[encoded data removed]"
          },
          "metadata": {
            "needs_background": "light"
          }
        }
      ]
    },
    {
      "cell_type": "code",
      "source": [
        "# ★★★★★\n",
        "# Prediction과 Real의 차이가 얼마 이상이면 문제라고 볼 수 있다\n",
        "# Difference Top 10을 뽑겠다\n",
        "n_outliers = 10\n",
        "argsorted = np.array(diffs).argsort() #argsort는 오름차순 sorting을 하는데 list의 value가 아니라 Index를 return하는것\n",
        "anomalies = argsorted[-n_outliers:][::-1] # 뒤에서부터 10개를 가지고 오겠다.(Top10), [::-1] 은 순서변경으로 재정렬하겠다.\n",
        "# 즉, anomalies에 담긴 값은, [10번째 Value가 작은 Index, 9번째, ...., 가장 Value가 작은 Index]\n",
        "print(argsorted)\n",
        "print(anomalies)"
      ],
      "metadata": {
        "colab": {
          "base_uri": "https://localhost:8080/"
        },
        "id": "C_k_NknQbsEe",
        "outputId": "19a539af-cd27-49e7-f2b8-f553ce5e6a13"
      },
      "execution_count": 29,
      "outputs": [
        {
          "output_type": "stream",
          "name": "stdout",
          "text": [
            "[246 879 884 564 205 480 675 230 164 129 382 172 655 174 523 360 707 344\n",
            " 426  64 580 361 152 668 917 679 615 586 424 714 183 151 339 317 695 226\n",
            " 208  21 194 554 497 362 291 637 926 113 940 108 123 941 154 718 553 987\n",
            " 223 464 923 414 276 912 772 555 690 233 407 294 146 649 266 640 881 165\n",
            " 639 257 314 366 134 389 441 633 415 324 919 521 911 491 104 809 651 786\n",
            "  39 261  62 626 686 149 546 872 975 885  24 207 320  58 187 724 143 533\n",
            " 274 963 422 630 348 271 720 369 482 252  66 749 346 392 882 823 777 418\n",
            " 857 381 731 611 606 275 722  71 345 628 495 394 778 460 998 592 588 147\n",
            " 507  33 916 612 565 698 650 419 404  86 228 173 604 296 518 556  32 363\n",
            " 530 499 144 487 213 856 532 977  63 309 247 150 648 680 236 216  43 243\n",
            " 531 729 153 614 571 169 224 708 465 417 126 909 137 681  14 409 535  25\n",
            "  16 365  54 248 508 334 703 385 498 672 171 109 701 566 774  20 687 270\n",
            "  67 222 585 999 102 272 387 583 522 199 910 160 138 613 484 836 155 454\n",
            " 673   9 107 184 536 810 609 665 705  69 666 500 925 206 245 176 322 393\n",
            " 380 124 325 312 311 730 568 267 260 574 541 323 579 237 321  44 694  27\n",
            " 225 402 340 485 439 932 575 398 416 114 195 293 954 599 451 131 607  56\n",
            " 989 559  18 203 589  19 112 232 148 544 631 391 463 401 671 408 976 711\n",
            " 723 170 704 584  68 338 103  89 128 386 295 557 253 563 313 638 581 689\n",
            "  17 860 952 250 337 920  55 741 319 526 642 558 289 101 359 140 742 878\n",
            " 221 288  93 371 907 231 400 162 244 351 685 936  70 543 833 239 520 421\n",
            " 377 858 620 601 157 268 699 937 914  45  47 661 578 709 396 332 349 375\n",
            " 929 185 329 721 145   7  36 922 461 347 969 510 175  52 135 744 287 913\n",
            " 691 105 238 370 991 519 197 934 254 110 622 234 562  48 367 597 397 509\n",
            " 179 717 883 548  23 928  35 290 130 632 735  38  57 657 249 511 712 980\n",
            " 887 811  98 700 435 974 242 198 713  53 944 336 466 702 560 915 474 168\n",
            " 427 527 506 773 384 481 812 621 343 942 656 188 136 423  15 880 364 180\n",
            " 627 284 955 438  59 677 119 215  26  37 737 376 616 390 517 251 664 514\n",
            " 775 477 181 861 646 728 182 258 577  65 342 747 388 908 269 573  12 430\n",
            " 163 547 189 240 726 525 399 106 425 350 489 292 374 450 727 241 641 434\n",
            "  83 264  10 801 529 492 212 734 871 951 697 800 368 505 486 277  29 318\n",
            " 442 956 256 355  85  73 483  22 733 943 220 210 178 156 899 122  60 992\n",
            " 211 200 939 938 676 751 196  72 784  75 125 619 545 593 443 488 357 667\n",
            " 286 306 127 490 835 512 534 453 273 802 921 395 824 315 310 420 471 214\n",
            " 837 116 591 693  61 993 433  50 888 759 636 570 413 625 600  99 462 715\n",
            " 219   5 692  34 383 333 540 848 659 139 820   0   8 886 644  42 259 496\n",
            " 629 537 610 121 227 834 776 494 653 501 652 341 587 710 654 262 141 358\n",
            " 785 582  28  88 328 502 307 696 469 660 218 716 745  51 635 561 968 905\n",
            " 748 984 542 467 120 997 935 115 847 468 513 964 771 979 674 551 504 988\n",
            " 204  97 278 670 706 957 549 265 750 190 493 209 186 617 567 688 965 603\n",
            " 623 201 167 825 412 406 594 528 411 605 177  94 918 864 873 316  30 797\n",
            " 550 378 444 166 799 816  46 924  95 459 608 405 255 843 647 539  41 719\n",
            " 161 754 840 449 111 624 859 524 645 403 515 725  49  78 447 602 953 100\n",
            " 235 854 475 978 457 669 229 634 572 335 352  76 472 596 455  91   3 516\n",
            " 838 832 643 142 752  31 440 746 473 158 682 538 372  87 986   2 436 118\n",
            " 684 990 458 760 192 740 753 678 410 159 930 263 193 133 808 755 191 758\n",
            " 901 452 428 927 862  80  11  92 618 552 437 798 576 479 732 795 900 743\n",
            "  96 432 569 906 281 950  40 822 982 476 842 448 983 770 478 280 373 931\n",
            " 470  82 895 217 117  79 379 739 132 663 285 807 356 202 662 985 817 966\n",
            " 896 904 933 590 456 814 870 326 446  77  90 658 598   4 279 962 805 898\n",
            " 305  13 327 855 961 431 757 967 841 821 803 787 818 890 429 683 330 819\n",
            " 308 756 796 297 868 331 283 595 839 945 779 738 981  84 503 766  74 893\n",
            " 764 826 996 761 849 445 736 973  81   1 845 903 298 959 762 844 874 354\n",
            "   6 815 866 794 852 302 897 829 949 763 902 806 892 768 788 994 875 869\n",
            " 958 831 960 769 867 353 891 780 303 783 877 830 813 865 765 972 846 863\n",
            " 946 970 828 767 282 853 792 804 782 299 894 850 304 889 947 876 971 851\n",
            " 995 301 793 781 300 827 948 789 791 790]\n",
            "[790 791 789 948 827 300 781 793 301 995]\n"
          ]
        }
      ]
    },
    {
      "cell_type": "code",
      "source": [
        "fig,axs = plt.subplots()\n",
        "axs.plot(preds, color = 'red', label = 'prediction')\n",
        "axs.plot(y_test, color = 'blue', label='y_test')\n",
        "axs.scatter(anomalies, [y_test[i] for i in anomalies], color = 'black', zorder = 10)\n",
        "plt.legend(loc = 'upper left')\n",
        "plt.show()"
      ],
      "metadata": {
        "colab": {
          "base_uri": "https://localhost:8080/",
          "height": 268
        },
        "id": "te-swtKfcQh-",
        "outputId": "59cdce60-5033-4e3d-bb1f-e0866b025796"
      },
      "execution_count": 27,
      "outputs": [
        {
          "output_type": "display_data",
          "data": {
            "text/plain": [
              "<Figure size 432x288 with 1 Axes>"
            ],
            "image/png": "[encoded data removed]"
          },
          "metadata": {
            "needs_background": "light"
          }
        }
      ]
    }
  ],
  "metadata": {
    "anaconda-cloud": {},
    "kernelspec": {
      "display_name": "tf2",
      "language": "python",
      "name": "tf2"
    },
    "language_info": {
      "codemirror_mode": {
        "name": "ipython",
        "version": 3
      },
      "file_extension": ".py",
      "mimetype": "text/x-python",
      "name": "python",
      "nbconvert_exporter": "python",
      "pygments_lexer": "ipython3",
      "version": "3.7.0"
    },
    "colab": {
      "name": "hw-rnn-anomalystream-skeleton-TFv2.ipynb",
      "provenance": [],
      "collapsed_sections": [],
      "include_colab_link": true
    }
  },
  "nbformat": 4,
  "nbformat_minor": 0
}
