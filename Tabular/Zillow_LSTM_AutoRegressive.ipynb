{
  "cells": [
    {
      "cell_type": "markdown",
      "metadata": {
        "id": "view-in-github",
        "colab_type": "text"
      },
      "source": [
        "<a href=\"https://colab.research.google.com/github/JHyunjun/SNU/blob/main/Zillow_LSTM_AutoRegressive.ipynb\" target=\"_parent\"><img src=\"https://colab.research.google.com/assets/colab-badge.svg\" alt=\"Open In Colab\"/></a>"
      ]
    },
    {
      "cell_type": "code",
      "execution_count": 59,
      "metadata": {
        "id": "qCJF5Il5rHxU"
      },
      "outputs": [],
      "source": [
        "import pandas as pd\n",
        "import numpy as np\n",
        "\n",
        "from sklearn.metrics import mean_squared_error\n",
        "from sklearn.preprocessing import MinMaxScaler\n",
        "\n",
        "import matplotlib.pyplot as plt\n",
        "import matplotlib.dates as mdates\n",
        "plt.style.use('ggplot')\n",
        "%matplotlib inline"
      ]
    },
    {
      "cell_type": "code",
      "source": [
        "from google.colab import drive\n",
        "drive.mount('/content/drive')"
      ],
      "metadata": {
        "colab": {
          "base_uri": "https://localhost:8080/"
        },
        "id": "3VkwglcOBTyP",
        "outputId": "35c7bd67-07c0-4796-b403-4d90b0575604"
      },
      "execution_count": 60,
      "outputs": [
        {
          "output_type": "stream",
          "name": "stdout",
          "text": [
            "Drive already mounted at /content/drive; to attempt to forcibly remount, call drive.mount(\"/content/drive\", force_remount=True).\n"
          ]
        }
      ]
    },
    {
      "cell_type": "markdown",
      "metadata": {
        "id": "cHyjoy5erHxU"
      },
      "source": [
        "# Load the data"
      ]
    },
    {
      "cell_type": "code",
      "source": [
        "path = '/content/drive/MyDrive/Colab Notebooks/snu/w4/실습자료/hw-rnn-zillow-housingprice/data'"
      ],
      "metadata": {
        "id": "-wwB6LNSwtB5"
      },
      "execution_count": 61,
      "outputs": []
    },
    {
      "cell_type": "code",
      "execution_count": 62,
      "metadata": {
        "id": "rk-_qBq7rHxU",
        "colab": {
          "base_uri": "https://localhost:8080/",
          "height": 386
        },
        "outputId": "2b6ac348-ee24-44aa-acc2-e5923f06268e"
      },
      "outputs": [
        {
          "output_type": "execute_result",
          "data": {
            "text/plain": [
              "        Date            RegionName  InventorySeasonallyAdjusted_AllHomes  \\\n",
              "1 1996-04-30     aberdeenbinghamid                                   NaN   \n",
              "2 1996-04-30     aberdeenharfordmd                                   NaN   \n",
              "5 1996-04-30       abernathyhaletx                                   NaN   \n",
              "7 1996-04-30     abingdonharfordmd                                   NaN   \n",
              "9 1996-04-30  abingdonwashingtonva                                   NaN   \n",
              "\n",
              "   InventoryRaw_AllHomes  MedianListingPricePerSqft_1Bedroom  \\\n",
              "1                    NaN                                 NaN   \n",
              "2                    NaN                                 NaN   \n",
              "5                    NaN                                 NaN   \n",
              "7                    NaN                                 NaN   \n",
              "9                    NaN                                 NaN   \n",
              "\n",
              "   MedianListingPricePerSqft_2Bedroom  MedianListingPricePerSqft_3Bedroom  \\\n",
              "1                                 NaN                                 NaN   \n",
              "2                                 NaN                                 NaN   \n",
              "5                                 NaN                                 NaN   \n",
              "7                                 NaN                                 NaN   \n",
              "9                                 NaN                                 NaN   \n",
              "\n",
              "   MedianListingPricePerSqft_4Bedroom  \\\n",
              "1                                 NaN   \n",
              "2                                 NaN   \n",
              "5                                 NaN   \n",
              "7                                 NaN   \n",
              "9                                 NaN   \n",
              "\n",
              "   MedianListingPricePerSqft_5BedroomOrMore  \\\n",
              "1                                       NaN   \n",
              "2                                       NaN   \n",
              "5                                       NaN   \n",
              "7                                       NaN   \n",
              "9                                       NaN   \n",
              "\n",
              "   MedianListingPricePerSqft_AllHomes  ...  ZHVI_BottomTier  ZHVI_CondoCoop  \\\n",
              "1                                 NaN  ...              NaN             NaN   \n",
              "2                                 NaN  ...          81300.0        137900.0   \n",
              "5                                 NaN  ...              NaN             NaN   \n",
              "7                                 NaN  ...          91000.0         87600.0   \n",
              "9                                 NaN  ...              NaN             NaN   \n",
              "\n",
              "   ZHVI_MiddleTier  ZHVI_SingleFamilyResidence  ZHVI_TopTier  ZRI_AllHomes  \\\n",
              "1              NaN                         NaN      168400.0           NaN   \n",
              "2         109600.0                    108600.0      147900.0           NaN   \n",
              "5              NaN                         NaN           NaN           NaN   \n",
              "7         123900.0                    125600.0      169700.0           NaN   \n",
              "9          89400.0                     89400.0      155000.0           NaN   \n",
              "\n",
              "   ZRI_AllHomesPlusMultifamily  ZriPerSqft_AllHomes  \\\n",
              "1                          NaN                  NaN   \n",
              "2                          NaN                  NaN   \n",
              "5                          NaN                  NaN   \n",
              "7                          NaN                  NaN   \n",
              "9                          NaN                  NaN   \n",
              "\n",
              "   Zri_MultiFamilyResidenceRental  Zri_SingleFamilyResidenceRental  \n",
              "1                             NaN                              NaN  \n",
              "2                             NaN                              NaN  \n",
              "5                             NaN                              NaN  \n",
              "7                             NaN                              NaN  \n",
              "9                             NaN                              NaN  \n",
              "\n",
              "[5 rows x 81 columns]"
            ],
            "text/html": [
              "\n",
              "  <div id=\"df-38ba6e6f-d08b-4292-9d90-71a14bc22dbe\">\n",
              "    <div class=\"colab-df-container\">\n",
              "      <div>\n",
              "<style scoped>\n",
              "    .dataframe tbody tr th:only-of-type {\n",
              "        vertical-align: middle;\n",
              "    }\n",
              "\n",
              "    .dataframe tbody tr th {\n",
              "        vertical-align: top;\n",
              "    }\n",
              "\n",
              "    .dataframe thead th {\n",
              "        text-align: right;\n",
              "    }\n",
              "</style>\n",
              "<table border=\"1\" class=\"dataframe\">\n",
              "  <thead>\n",
              "    <tr style=\"text-align: right;\">\n",
              "      <th></th>\n",
              "      <th>Date</th>\n",
              "      <th>RegionName</th>\n",
              "      <th>InventorySeasonallyAdjusted_AllHomes</th>\n",
              "      <th>InventoryRaw_AllHomes</th>\n",
              "      <th>MedianListingPricePerSqft_1Bedroom</th>\n",
              "      <th>MedianListingPricePerSqft_2Bedroom</th>\n",
              "      <th>MedianListingPricePerSqft_3Bedroom</th>\n",
              "      <th>MedianListingPricePerSqft_4Bedroom</th>\n",
              "      <th>MedianListingPricePerSqft_5BedroomOrMore</th>\n",
              "      <th>MedianListingPricePerSqft_AllHomes</th>\n",
              "      <th>...</th>\n",
              "      <th>ZHVI_BottomTier</th>\n",
              "      <th>ZHVI_CondoCoop</th>\n",
              "      <th>ZHVI_MiddleTier</th>\n",
              "      <th>ZHVI_SingleFamilyResidence</th>\n",
              "      <th>ZHVI_TopTier</th>\n",
              "      <th>ZRI_AllHomes</th>\n",
              "      <th>ZRI_AllHomesPlusMultifamily</th>\n",
              "      <th>ZriPerSqft_AllHomes</th>\n",
              "      <th>Zri_MultiFamilyResidenceRental</th>\n",
              "      <th>Zri_SingleFamilyResidenceRental</th>\n",
              "    </tr>\n",
              "  </thead>\n",
              "  <tbody>\n",
              "    <tr>\n",
              "      <th>1</th>\n",
              "      <td>1996-04-30</td>\n",
              "      <td>aberdeenbinghamid</td>\n",
              "      <td>NaN</td>\n",
              "      <td>NaN</td>\n",
              "      <td>NaN</td>\n",
              "      <td>NaN</td>\n",
              "      <td>NaN</td>\n",
              "      <td>NaN</td>\n",
              "      <td>NaN</td>\n",
              "      <td>NaN</td>\n",
              "      <td>...</td>\n",
              "      <td>NaN</td>\n",
              "      <td>NaN</td>\n",
              "      <td>NaN</td>\n",
              "      <td>NaN</td>\n",
              "      <td>168400.0</td>\n",
              "      <td>NaN</td>\n",
              "      <td>NaN</td>\n",
              "      <td>NaN</td>\n",
              "      <td>NaN</td>\n",
              "      <td>NaN</td>\n",
              "    </tr>\n",
              "    <tr>\n",
              "      <th>2</th>\n",
              "      <td>1996-04-30</td>\n",
              "      <td>aberdeenharfordmd</td>\n",
              "      <td>NaN</td>\n",
              "      <td>NaN</td>\n",
              "      <td>NaN</td>\n",
              "      <td>NaN</td>\n",
              "      <td>NaN</td>\n",
              "      <td>NaN</td>\n",
              "      <td>NaN</td>\n",
              "      <td>NaN</td>\n",
              "      <td>...</td>\n",
              "      <td>81300.0</td>\n",
              "      <td>137900.0</td>\n",
              "      <td>109600.0</td>\n",
              "      <td>108600.0</td>\n",
              "      <td>147900.0</td>\n",
              "      <td>NaN</td>\n",
              "      <td>NaN</td>\n",
              "      <td>NaN</td>\n",
              "      <td>NaN</td>\n",
              "      <td>NaN</td>\n",
              "    </tr>\n",
              "    <tr>\n",
              "      <th>5</th>\n",
              "      <td>1996-04-30</td>\n",
              "      <td>abernathyhaletx</td>\n",
              "      <td>NaN</td>\n",
              "      <td>NaN</td>\n",
              "      <td>NaN</td>\n",
              "      <td>NaN</td>\n",
              "      <td>NaN</td>\n",
              "      <td>NaN</td>\n",
              "      <td>NaN</td>\n",
              "      <td>NaN</td>\n",
              "      <td>...</td>\n",
              "      <td>NaN</td>\n",
              "      <td>NaN</td>\n",
              "      <td>NaN</td>\n",
              "      <td>NaN</td>\n",
              "      <td>NaN</td>\n",
              "      <td>NaN</td>\n",
              "      <td>NaN</td>\n",
              "      <td>NaN</td>\n",
              "      <td>NaN</td>\n",
              "      <td>NaN</td>\n",
              "    </tr>\n",
              "    <tr>\n",
              "      <th>7</th>\n",
              "      <td>1996-04-30</td>\n",
              "      <td>abingdonharfordmd</td>\n",
              "      <td>NaN</td>\n",
              "      <td>NaN</td>\n",
              "      <td>NaN</td>\n",
              "      <td>NaN</td>\n",
              "      <td>NaN</td>\n",
              "      <td>NaN</td>\n",
              "      <td>NaN</td>\n",
              "      <td>NaN</td>\n",
              "      <td>...</td>\n",
              "      <td>91000.0</td>\n",
              "      <td>87600.0</td>\n",
              "      <td>123900.0</td>\n",
              "      <td>125600.0</td>\n",
              "      <td>169700.0</td>\n",
              "      <td>NaN</td>\n",
              "      <td>NaN</td>\n",
              "      <td>NaN</td>\n",
              "      <td>NaN</td>\n",
              "      <td>NaN</td>\n",
              "    </tr>\n",
              "    <tr>\n",
              "      <th>9</th>\n",
              "      <td>1996-04-30</td>\n",
              "      <td>abingdonwashingtonva</td>\n",
              "      <td>NaN</td>\n",
              "      <td>NaN</td>\n",
              "      <td>NaN</td>\n",
              "      <td>NaN</td>\n",
              "      <td>NaN</td>\n",
              "      <td>NaN</td>\n",
              "      <td>NaN</td>\n",
              "      <td>NaN</td>\n",
              "      <td>...</td>\n",
              "      <td>NaN</td>\n",
              "      <td>NaN</td>\n",
              "      <td>89400.0</td>\n",
              "      <td>89400.0</td>\n",
              "      <td>155000.0</td>\n",
              "      <td>NaN</td>\n",
              "      <td>NaN</td>\n",
              "      <td>NaN</td>\n",
              "      <td>NaN</td>\n",
              "      <td>NaN</td>\n",
              "    </tr>\n",
              "  </tbody>\n",
              "</table>\n",
              "<p>5 rows × 81 columns</p>\n",
              "</div>\n",
              "      <button class=\"colab-df-convert\" onclick=\"convertToInteractive('df-38ba6e6f-d08b-4292-9d90-71a14bc22dbe')\"\n",
              "              title=\"Convert this dataframe to an interactive table.\"\n",
              "              style=\"display:none;\">\n",
              "        \n",
              "  <svg xmlns=\"http://www.w3.org/2000/svg\" height=\"24px\"viewBox=\"0 0 24 24\"\n",
              "       width=\"24px\">\n",
              "    <path d=\"M0 0h24v24H0V0z\" fill=\"none\"/>\n",
              "    <path d=\"M18.56 5.44l.94 2.06.94-2.06 2.06-.94-2.06-.94-.94-2.06-.94 2.06-2.06.94zm-11 1L8.5 8.5l.94-2.06 2.06-.94-2.06-.94L8.5 2.5l-.94 2.06-2.06.94zm10 10l.94 2.06.94-2.06 2.06-.94-2.06-.94-.94-2.06-.94 2.06-2.06.94z\"/><path d=\"M17.41 7.96l-1.37-1.37c-.4-.4-.92-.59-1.43-.59-.52 0-1.04.2-1.43.59L10.3 9.45l-7.72 7.72c-.78.78-.78 2.05 0 2.83L4 21.41c.39.39.9.59 1.41.59.51 0 1.02-.2 1.41-.59l7.78-7.78 2.81-2.81c.8-.78.8-2.07 0-2.86zM5.41 20L4 18.59l7.72-7.72 1.47 1.35L5.41 20z\"/>\n",
              "  </svg>\n",
              "      </button>\n",
              "      \n",
              "  <style>\n",
              "    .colab-df-container {\n",
              "      display:flex;\n",
              "      flex-wrap:wrap;\n",
              "      gap: 12px;\n",
              "    }\n",
              "\n",
              "    .colab-df-convert {\n",
              "      background-color: #E8F0FE;\n",
              "      border: none;\n",
              "      border-radius: 50%;\n",
              "      cursor: pointer;\n",
              "      display: none;\n",
              "      fill: #1967D2;\n",
              "      height: 32px;\n",
              "      padding: 0 0 0 0;\n",
              "      width: 32px;\n",
              "    }\n",
              "\n",
              "    .colab-df-convert:hover {\n",
              "      background-color: #E2EBFA;\n",
              "      box-shadow: 0px 1px 2px rgba(60, 64, 67, 0.3), 0px 1px 3px 1px rgba(60, 64, 67, 0.15);\n",
              "      fill: #174EA6;\n",
              "    }\n",
              "\n",
              "    [theme=dark] .colab-df-convert {\n",
              "      background-color: #3B4455;\n",
              "      fill: #D2E3FC;\n",
              "    }\n",
              "\n",
              "    [theme=dark] .colab-df-convert:hover {\n",
              "      background-color: #434B5C;\n",
              "      box-shadow: 0px 1px 3px 1px rgba(0, 0, 0, 0.15);\n",
              "      filter: drop-shadow(0px 1px 2px rgba(0, 0, 0, 0.3));\n",
              "      fill: #FFFFFF;\n",
              "    }\n",
              "  </style>\n",
              "\n",
              "      <script>\n",
              "        const buttonEl =\n",
              "          document.querySelector('#df-38ba6e6f-d08b-4292-9d90-71a14bc22dbe button.colab-df-convert');\n",
              "        buttonEl.style.display =\n",
              "          google.colab.kernel.accessAllowed ? 'block' : 'none';\n",
              "\n",
              "        async function convertToInteractive(key) {\n",
              "          const element = document.querySelector('#df-38ba6e6f-d08b-4292-9d90-71a14bc22dbe');\n",
              "          const dataTable =\n",
              "            await google.colab.kernel.invokeFunction('convertToInteractive',\n",
              "                                                     [key], {});\n",
              "          if (!dataTable) return;\n",
              "\n",
              "          const docLinkHtml = 'Like what you see? Visit the ' +\n",
              "            '<a target=\"_blank\" href=https://colab.research.google.com/notebooks/data_table.ipynb>data table notebook</a>'\n",
              "            + ' to learn more about interactive tables.';\n",
              "          element.innerHTML = '';\n",
              "          dataTable['output_type'] = 'display_data';\n",
              "          await google.colab.output.renderOutput(dataTable, element);\n",
              "          const docLink = document.createElement('div');\n",
              "          docLink.innerHTML = docLinkHtml;\n",
              "          element.appendChild(docLink);\n",
              "        }\n",
              "      </script>\n",
              "    </div>\n",
              "  </div>\n",
              "  "
            ]
          },
          "metadata": {},
          "execution_count": 62
        }
      ],
      "source": [
        "df_city_time_series = pd.read_csv(f'{path}/City_time_series.csv',parse_dates=['Date'])\n",
        "# drop null values in ZHVIPerSqft_AllHomes because we are interested in this column\n",
        "df_city_time_series = df_city_time_series.dropna(subset=['ZHVIPerSqft_AllHomes'])\n",
        "df_city_time_series.head()"
      ]
    },
    {
      "cell_type": "code",
      "source": [
        "df_city_time_series.info()"
      ],
      "metadata": {
        "colab": {
          "base_uri": "https://localhost:8080/"
        },
        "id": "f3NrJGlHWxuL",
        "outputId": "dedc996d-3a55-4265-fd92-efdbf0627427"
      },
      "execution_count": 63,
      "outputs": [
        {
          "output_type": "stream",
          "name": "stdout",
          "text": [
            "<class 'pandas.core.frame.DataFrame'>\n",
            "Int64Index: 2953445 entries, 1 to 3762565\n",
            "Data columns (total 81 columns):\n",
            " #   Column                                                         Dtype         \n",
            "---  ------                                                         -----         \n",
            " 0   Date                                                           datetime64[ns]\n",
            " 1   RegionName                                                     object        \n",
            " 2   InventorySeasonallyAdjusted_AllHomes                           float64       \n",
            " 3   InventoryRaw_AllHomes                                          float64       \n",
            " 4   MedianListingPricePerSqft_1Bedroom                             float64       \n",
            " 5   MedianListingPricePerSqft_2Bedroom                             float64       \n",
            " 6   MedianListingPricePerSqft_3Bedroom                             float64       \n",
            " 7   MedianListingPricePerSqft_4Bedroom                             float64       \n",
            " 8   MedianListingPricePerSqft_5BedroomOrMore                       float64       \n",
            " 9   MedianListingPricePerSqft_AllHomes                             float64       \n",
            " 10  MedianListingPricePerSqft_CondoCoop                            float64       \n",
            " 11  MedianListingPricePerSqft_DuplexTriplex                        float64       \n",
            " 12  MedianListingPricePerSqft_SingleFamilyResidence                float64       \n",
            " 13  MedianListingPrice_1Bedroom                                    float64       \n",
            " 14  MedianListingPrice_2Bedroom                                    float64       \n",
            " 15  MedianListingPrice_3Bedroom                                    float64       \n",
            " 16  MedianListingPrice_4Bedroom                                    float64       \n",
            " 17  MedianListingPrice_5BedroomOrMore                              float64       \n",
            " 18  MedianListingPrice_AllHomes                                    float64       \n",
            " 19  MedianListingPrice_CondoCoop                                   float64       \n",
            " 20  MedianListingPrice_DuplexTriplex                               float64       \n",
            " 21  MedianListingPrice_SingleFamilyResidence                       float64       \n",
            " 22  MedianPctOfPriceReduction_AllHomes                             float64       \n",
            " 23  MedianPctOfPriceReduction_CondoCoop                            float64       \n",
            " 24  MedianPctOfPriceReduction_SingleFamilyResidence                float64       \n",
            " 25  MedianPriceCutDollar_AllHomes                                  float64       \n",
            " 26  MedianPriceCutDollar_CondoCoop                                 float64       \n",
            " 27  MedianPriceCutDollar_SingleFamilyResidence                     float64       \n",
            " 28  MedianRentalPricePerSqft_1Bedroom                              float64       \n",
            " 29  MedianRentalPricePerSqft_2Bedroom                              float64       \n",
            " 30  MedianRentalPricePerSqft_3Bedroom                              float64       \n",
            " 31  MedianRentalPricePerSqft_4Bedroom                              float64       \n",
            " 32  MedianRentalPricePerSqft_5BedroomOrMore                        float64       \n",
            " 33  MedianRentalPricePerSqft_AllHomes                              float64       \n",
            " 34  MedianRentalPricePerSqft_CondoCoop                             float64       \n",
            " 35  MedianRentalPricePerSqft_DuplexTriplex                         float64       \n",
            " 36  MedianRentalPricePerSqft_MultiFamilyResidence5PlusUnits        float64       \n",
            " 37  MedianRentalPricePerSqft_SingleFamilyResidence                 float64       \n",
            " 38  MedianRentalPricePerSqft_Studio                                float64       \n",
            " 39  MedianRentalPrice_1Bedroom                                     float64       \n",
            " 40  MedianRentalPrice_2Bedroom                                     float64       \n",
            " 41  MedianRentalPrice_3Bedroom                                     float64       \n",
            " 42  MedianRentalPrice_4Bedroom                                     float64       \n",
            " 43  MedianRentalPrice_5BedroomOrMore                               float64       \n",
            " 44  MedianRentalPrice_AllHomes                                     float64       \n",
            " 45  MedianRentalPrice_CondoCoop                                    float64       \n",
            " 46  MedianRentalPrice_DuplexTriplex                                float64       \n",
            " 47  MedianRentalPrice_MultiFamilyResidence5PlusUnits               float64       \n",
            " 48  MedianRentalPrice_SingleFamilyResidence                        float64       \n",
            " 49  MedianRentalPrice_Studio                                       float64       \n",
            " 50  ZHVIPerSqft_AllHomes                                           float64       \n",
            " 51  PctOfHomesDecreasingInValues_AllHomes                          float64       \n",
            " 52  PctOfHomesIncreasingInValues_AllHomes                          float64       \n",
            " 53  PctOfHomesSellingForGain_AllHomes                              float64       \n",
            " 54  PctOfHomesSellingForLoss_AllHomes                              float64       \n",
            " 55  PctOfListingsWithPriceReductionsSeasAdj_AllHomes               float64       \n",
            " 56  PctOfListingsWithPriceReductionsSeasAdj_CondoCoop              float64       \n",
            " 57  PctOfListingsWithPriceReductionsSeasAdj_SingleFamilyResidence  float64       \n",
            " 58  PctOfListingsWithPriceReductions_AllHomes                      float64       \n",
            " 59  PctOfListingsWithPriceReductions_CondoCoop                     float64       \n",
            " 60  PctOfListingsWithPriceReductions_SingleFamilyResidence         float64       \n",
            " 61  PriceToRentRatio_AllHomes                                      float64       \n",
            " 62  Sale_Counts                                                    float64       \n",
            " 63  Sale_Counts_Seas_Adj                                           float64       \n",
            " 64  Sale_Prices                                                    float64       \n",
            " 65  ZHVI_1bedroom                                                  float64       \n",
            " 66  ZHVI_2bedroom                                                  float64       \n",
            " 67  ZHVI_3bedroom                                                  float64       \n",
            " 68  ZHVI_4bedroom                                                  float64       \n",
            " 69  ZHVI_5BedroomOrMore                                            float64       \n",
            " 70  ZHVI_AllHomes                                                  float64       \n",
            " 71  ZHVI_BottomTier                                                float64       \n",
            " 72  ZHVI_CondoCoop                                                 float64       \n",
            " 73  ZHVI_MiddleTier                                                float64       \n",
            " 74  ZHVI_SingleFamilyResidence                                     float64       \n",
            " 75  ZHVI_TopTier                                                   float64       \n",
            " 76  ZRI_AllHomes                                                   float64       \n",
            " 77  ZRI_AllHomesPlusMultifamily                                    float64       \n",
            " 78  ZriPerSqft_AllHomes                                            float64       \n",
            " 79  Zri_MultiFamilyResidenceRental                                 float64       \n",
            " 80  Zri_SingleFamilyResidenceRental                                float64       \n",
            "dtypes: datetime64[ns](1), float64(79), object(1)\n",
            "memory usage: 1.8+ GB\n"
          ]
        }
      ]
    },
    {
      "cell_type": "code",
      "execution_count": 64,
      "metadata": {
        "id": "zrazEh9_rHxU",
        "colab": {
          "base_uri": "https://localhost:8080/",
          "height": 845
        },
        "outputId": "99fb44ae-28d6-4b64-807d-20289852e1f9"
      },
      "outputs": [
        {
          "output_type": "stream",
          "name": "stdout",
          "text": [
            "Date\n",
            "1996-04-30     72.056369\n",
            "1996-05-31     72.021660\n",
            "1996-06-30     71.979891\n",
            "1996-07-31     71.976152\n",
            "1996-08-31     71.964629\n",
            "                 ...    \n",
            "2017-08-31    144.095938\n",
            "2017-09-30    144.777011\n",
            "2017-10-31    145.517059\n",
            "2017-11-30    146.236881\n",
            "2017-12-31    146.824695\n",
            "Name: ZHVIPerSqft_AllHomes, Length: 261, dtype: float64\n"
          ]
        },
        {
          "output_type": "display_data",
          "data": {
            "text/plain": [
              "<Figure size 1080x720 with 1 Axes>"
            ],
            "image/png": "[encoded data removed]"
          },
          "metadata": {
            "needs_background": "light"
          }
        }
      ],
      "source": [
        "# the ZHVIPerSqft_AllHomes column has many value in same date but for different location. \n",
        "# For this notebook we are not interested in location. We mean all the value in same date\n",
        "#freq = d : date별로 groupby를 하겠다.\n",
        "#null값은 dropna\n",
        "df_zhvi_sqft_all = df_city_time_series.set_index('Date') \\\n",
        "                    .groupby(pd.Grouper(freq='d')).mean().dropna(how='all') \\\n",
        "                    .ZHVIPerSqft_AllHomes\n",
        "print(df_zhvi_sqft_all)\n",
        "\n",
        "fig,ax = plt.subplots(figsize = (15,10))\n",
        "ax.scatter(df_zhvi_sqft_all.index, df_zhvi_sqft_all)\n",
        "ax.xaxis.set_major_locator(mdates.YearLocator(1))\n",
        "plt.title('zillow home value index in per square foot in different year', fontsize = 16)\n",
        "plt.xlabel('year', fontsize = 16)\n",
        "plt.ylabel('zillow home value index in per square foot', fontsize = 16)\n",
        "fig.autofmt_xdate()\n",
        "plt.show()"
      ]
    },
    {
      "cell_type": "markdown",
      "metadata": {
        "id": "yYpaQqh1rHxU"
      },
      "source": [
        "# Pre-process the data\n",
        "- transform data to stationary\n",
        "- transform data to supervised learning\n",
        "- scale data to (-1, 1)"
      ]
    },
    {
      "cell_type": "code",
      "execution_count": 65,
      "metadata": {
        "id": "eqOZESfSrHxU"
      },
      "outputs": [],
      "source": [
        "# frame a sequence as a supervised learning problem\n",
        "# this methods will create a column and column value will be 1 shift from the data. \n",
        "# it will make our data to supervised so that we can feed into network\n",
        "# 한칸 후의 값을 예측하도록(lag+1)\n",
        "def timeseries_to_supervised(data, lag=1):\n",
        "    df = pd.DataFrame(data)\n",
        "    columns = [df.shift(i) for i in range(1, lag+1)]\n",
        "    columns.append(df)\n",
        "    df = pd.concat(columns, axis=1)\n",
        "    df.fillna(0, inplace=True)\n",
        "    return df"
      ]
    },
    {
      "cell_type": "code",
      "execution_count": 66,
      "metadata": {
        "id": "NfXw6TpQrHxU"
      },
      "outputs": [],
      "source": [
        "# create a differenced series\n",
        "# this is to make time series stationary\n",
        "# why stationarity? => https://towardsdatascience.com/stationarity-in-time-series-analysis-90c94f27322\n",
        "def difference(dataset, interval=1):\n",
        "    diff = list()\n",
        "    for i in range(interval, len(dataset)):\n",
        "        value = dataset[i] - dataset[i - interval]\n",
        "        diff.append(value)\n",
        "    return pd.Series(diff)"
      ]
    },
    {
      "cell_type": "code",
      "execution_count": 67,
      "metadata": {
        "id": "214nF5qIrHxU"
      },
      "outputs": [],
      "source": [
        "# scale train and test data to [-1, 1]\n",
        "def scale(train, test):\n",
        "    # fit scaler\n",
        "    scaler = MinMaxScaler(feature_range=(-1, 1))\n",
        "    scaler = scaler.fit(train)\n",
        "    # transform train\n",
        "    train_scaled = scaler.transform(train)\n",
        "    # transform test\n",
        "    test_scaled = scaler.transform(test)\n",
        "    return scaler, train_scaled, test_scaled"
      ]
    },
    {
      "cell_type": "code",
      "execution_count": 68,
      "metadata": {
        "id": "pca9d9j0rHxU"
      },
      "outputs": [],
      "source": [
        "\n",
        "def invert_scale(scaler, X, value):\n",
        "    new_row = [x for x in X] + [value]\n",
        "    array = np.array(new_row)\n",
        "    array = array.reshape(1, len(array))\n",
        "    inverted = scaler.inverse_transform(array)\n",
        "\n",
        "    return inverted[0,-1]\n",
        "\n",
        "    raise NotImplementedError\n",
        "\n",
        "  #yhat = inverse_difference(raw_values, yhat, len(test_scaled)+1-i)\n",
        "def invert_difference(history, yhat, interval=1):\n",
        "    x = yhat + history[-interval]\n",
        "    return x\n",
        "    raise NotImplementedError\n"
      ]
    },
    {
      "cell_type": "markdown",
      "metadata": {
        "id": "L6kMktBArHxU"
      },
      "source": [
        "# Define model"
      ]
    },
    {
      "cell_type": "code",
      "execution_count": 69,
      "metadata": {
        "id": "ykUxJrbr_Kks"
      },
      "outputs": [],
      "source": [
        "from tensorflow.keras.models import Sequential\n",
        "from tensorflow.keras.layers import Dense\n",
        "from tensorflow.keras.layers import LSTM"
      ]
    },
    {
      "cell_type": "code",
      "execution_count": 70,
      "metadata": {
        "id": "9UEAXW1LrHxU"
      },
      "outputs": [],
      "source": [
        "def fit_lstm(train, batch_size, nb_epoch, neurons):\n",
        "    X, y = train[:, 0:-1], train[:, -1]\n",
        "    X = X.reshape(X.shape[0], 1, X.shape[1])\n",
        "# One to One LSTM이지만 stateful = True라고 함으로써 x초값을 추정하기위해 0~x-1초까지의 데이터를 모두 누적해서 추정(가변 Window)\n",
        "# Epoch이 끝나면 State Reset\n",
        "    model = Sequential()\n",
        "    model.add(LSTM(neurons, batch_input_shape = (batch_size, X.shape[1], X.shape[2]), stateful = True))\n",
        "    model.add(Dense(1))\n",
        "    model.compile(loss = 'mean_squared_error' , optimizer = 'adam')\n",
        "    for i in range(nb_epoch) : \n",
        "      model.fit(X, y, epochs = 1, batch_size = batch_size, verbose = 0, shuffle = False)\n",
        "      model.reset_states()\n",
        "    return model"
      ]
    },
    {
      "cell_type": "code",
      "execution_count": 71,
      "metadata": {
        "id": "ePYEaTP_rHxU"
      },
      "outputs": [],
      "source": [
        "# make a one-step forecast\n",
        "def forecast_lstm(model, batch_size, X):\n",
        "    X = X.reshape(1, 1, len(X))\n",
        "    yhat = model.predict(X, batch_size=batch_size, verbose=0)\n",
        "    return yhat[0,0]"
      ]
    },
    {
      "cell_type": "markdown",
      "metadata": {
        "id": "xwgU3CLXrHxU"
      },
      "source": [
        "# Train the model\n",
        "\n"
      ]
    },
    {
      "cell_type": "markdown",
      "metadata": {
        "id": "xTHtmhP8rHxU"
      },
      "source": [
        "### Preprocess the data"
      ]
    },
    {
      "cell_type": "code",
      "execution_count": 72,
      "metadata": {
        "id": "7dWaoBqRrHxU"
      },
      "outputs": [],
      "source": [
        "series = df_zhvi_sqft_all\n",
        "# transform data to be stationary\n",
        "raw_values = series.values\n",
        "diff_values = difference(raw_values, 1) # interval : 1\n",
        "\n",
        "# transform data to be supervised learning\n",
        "supervised = timeseries_to_supervised(diff_values, 1) # column 2개를 만듬\n",
        "supervised_values = supervised.values\n",
        "\n",
        "# split data into train and test-sets\n",
        "train_size = int(len(supervised_values) * 0.80) # 80% trainm 20% test\n",
        "train = supervised_values[0:train_size]\n",
        "test = supervised_values[train_size:len(supervised_values)]\n",
        "\n",
        "# transform the scale of the data\n",
        "scaler, train_scaled, test_scaled = scale(train, test)"
      ]
    },
    {
      "cell_type": "markdown",
      "metadata": {
        "id": "sSedap1nrHxU"
      },
      "source": [
        "### Train the model and predict the value"
      ]
    },
    {
      "cell_type": "code",
      "execution_count": 73,
      "metadata": {
        "id": "OZp8mDB1_Kkv",
        "colab": {
          "base_uri": "https://localhost:8080/"
        },
        "outputId": "1e158a43-d02a-4eb7-913b-d0d73a5f97f9"
      },
      "outputs": [
        {
          "output_type": "stream",
          "name": "stdout",
          "text": [
            "1) Test RMSE : 0.529\n",
            "2) Test RMSE : 0.523\n",
            "3) Test RMSE : 0.519\n",
            "4) Test RMSE : 0.505\n",
            "5) Test RMSE : 0.517\n"
          ]
        }
      ],
      "source": [
        "repeats = 5\n",
        "\n",
        "error_scores = list()\n",
        "for r in range(repeats) : \n",
        "  lstm_model = fit_lstm(train_scaled, 1, 30, 4)\n",
        "  prediction = list()\n",
        "\n",
        "  for i in range(len(test_scaled)) : \n",
        "    X,y =  test_scaled[i, 0:-1], test_scaled[i,-1]\n",
        "    yhat = forecast_lstm(lstm_model, 1, X)\n",
        "    yhat = invert_scale(scaler, X, yhat)\n",
        "    yhat = invert_difference(raw_values, yhat, len(test_scaled)+1-i)\n",
        "    prediction.append(yhat)\n",
        "\n",
        "  rmse = np.sqrt(mean_squared_error(raw_values[train_size:len(supervised_values)], prediction))\n",
        "  print('%d) Test RMSE : %.3f' % (r+1, rmse))\n",
        "  error_scores.append(rmse)"
      ]
    },
    {
      "cell_type": "code",
      "source": [
        "print(prediction)"
      ],
      "metadata": {
        "colab": {
          "base_uri": "https://localhost:8080/"
        },
        "id": "YliEIN9MdH4D",
        "outputId": "adc1920a-91fe-44d5-d87f-95575232e32a"
      },
      "execution_count": 74,
      "outputs": [
        {
          "output_type": "stream",
          "name": "stdout",
          "text": [
            "[119.39021501972711, 120.14902299472165, 120.58428716896317, 120.89032152236733, 121.25594733435429, 121.66629841480729, 122.08177299537756, 122.52799441262763, 123.0121502533153, 123.4730073820724, 123.9297762181175, 124.36912899120884, 124.74787133277998, 125.04230876909489, 125.33096913911436, 125.6234832325531, 125.96323622865638, 126.42971626841835, 127.06312446647715, 127.78980189946913, 128.46394501146546, 129.04760550040433, 129.6054886737096, 130.21046859388267, 130.758955129858, 131.2235387089215, 131.67951249217603, 132.115855313915, 132.64584408636975, 133.21434109182425, 133.787509511814, 134.40113323519884, 135.00685471841155, 135.44960800479504, 135.81463432495661, 136.264858830301, 136.88504020827483, 137.73797404411857, 138.5988719782897, 139.46334569081682, 140.27118355019314, 140.9988054630848, 141.58994503962563, 142.1178439588199, 142.61714981962666, 143.14809945846483, 143.58303366348142, 143.98466337581664, 144.56277985672835, 145.35846143643062, 146.17946125997238, 146.91834921563697]\n"
          ]
        }
      ]
    },
    {
      "cell_type": "markdown",
      "metadata": {
        "id": "DRYf-svVrHxU"
      },
      "source": [
        "### line plot of observed vs predicted"
      ]
    },
    {
      "cell_type": "code",
      "execution_count": 75,
      "metadata": {
        "id": "IIqEwzRZrHxU",
        "colab": {
          "base_uri": "https://localhost:8080/",
          "height": 611
        },
        "outputId": "59401327-2777-401a-e3a9-0512c6aa3733"
      },
      "outputs": [
        {
          "output_type": "display_data",
          "data": {
            "text/plain": [
              "<Figure size 1080x720 with 1 Axes>"
            ],
            "image/png": "[encoded data removed]"
          },
          "metadata": {
            "needs_background": "light"
          }
        }
      ],
      "source": [
        "plt.figure(figsize=(15, 10))\n",
        "plt.plot(raw_values[train_size:len(supervised_values)], label='true')\n",
        "plt.plot(prediction, label='pred')\n",
        "plt.legend(fontsize=15)\n",
        "plt.title('Original data vs predicted data', fontsize=18)\n",
        "plt.show()"
      ]
    },
    {
      "cell_type": "markdown",
      "metadata": {
        "id": "wCoAoPPNrHxU"
      },
      "source": [
        "# Predict the house price for next years"
      ]
    },
    {
      "cell_type": "code",
      "execution_count": 76,
      "metadata": {
        "id": "X8zP8i7hrHxU"
      },
      "outputs": [],
      "source": [
        "# last value of our dataset\n",
        "last_value = np.array([test_scaled[-1][0]])"
      ]
    },
    {
      "cell_type": "code",
      "execution_count": 77,
      "metadata": {
        "id": "TDwVaYbDrHxU"
      },
      "outputs": [],
      "source": [
        "# initial record\n",
        "initial = last_value\n",
        "# store prediction\n",
        "prediction = []\n",
        "# range 40 because we want the prediction for next 40 months\n",
        "# AutoRegressive\n",
        "for i in range(40):\n",
        "    yhat = forecast_lstm(lstm_model, 1, initial)\n",
        "    yhat_inver = invert_scale(scaler, initial, yhat)\n",
        "    if i == 0 : \n",
        "      yhat_diff = yhat_inver + raw_values[-1]\n",
        "    else : \n",
        "      yhat_diff = yhat_inver + prediction[i-1]\n",
        "    prediction.append(yhat_diff)\n",
        "\n",
        "    initial = np.array([yhat])\n"
      ]
    },
    {
      "cell_type": "markdown",
      "metadata": {
        "id": "MccYOZMWrHxU"
      },
      "source": [
        "### Plot housing price prediction"
      ]
    },
    {
      "cell_type": "code",
      "execution_count": 78,
      "metadata": {
        "id": "AdvuWcYZrHxV",
        "colab": {
          "base_uri": "https://localhost:8080/",
          "height": 251
        },
        "outputId": "362dd2f4-f56b-4fed-c3b2-f8807f46196b"
      },
      "outputs": [
        {
          "output_type": "error",
          "ename": "ValueError",
          "evalue": "ignored",
          "traceback": [
            "\u001b[0;31m---------------------------------------------------------------------------\u001b[0m",
            "\u001b[0;31mValueError\u001b[0m                                Traceback (most recent call last)",
            "\u001b[0;32m<ipython-input-78-b9620f9f257a>\u001b[0m in \u001b[0;36m<module>\u001b[0;34m()\u001b[0m\n\u001b[0;32m----> 1\u001b[0;31m \u001b[0mprediction\u001b[0m \u001b[0;34m=\u001b[0m \u001b[0mnp\u001b[0m\u001b[0;34m.\u001b[0m\u001b[0mconcatenate\u001b[0m\u001b[0;34m(\u001b[0m\u001b[0mprediction\u001b[0m\u001b[0;34m,\u001b[0m \u001b[0maxis\u001b[0m \u001b[0;34m=\u001b[0m \u001b[0;36m0\u001b[0m\u001b[0;34m)\u001b[0m\u001b[0;34m.\u001b[0m\u001b[0mtolist\u001b[0m\u001b[0;34m(\u001b[0m\u001b[0;34m)\u001b[0m\u001b[0;34m\u001b[0m\u001b[0;34m\u001b[0m\u001b[0m\n\u001b[0m\u001b[1;32m      2\u001b[0m \u001b[0mprediction\u001b[0m \u001b[0;34m=\u001b[0m \u001b[0;34m[\u001b[0m\u001b[0mitem\u001b[0m \u001b[0;32mfor\u001b[0m \u001b[0msublist\u001b[0m \u001b[0;32min\u001b[0m \u001b[0mprediction\u001b[0m \u001b[0;32mfor\u001b[0m \u001b[0mitem\u001b[0m \u001b[0;32min\u001b[0m \u001b[0msublist\u001b[0m\u001b[0;34m]\u001b[0m\u001b[0;34m\u001b[0m\u001b[0;34m\u001b[0m\u001b[0m\n\u001b[1;32m      3\u001b[0m \u001b[0mprediction\u001b[0m \u001b[0;34m=\u001b[0m \u001b[0mpd\u001b[0m\u001b[0;34m.\u001b[0m\u001b[0mDataFrame\u001b[0m\u001b[0;34m(\u001b[0m\u001b[0mprediction\u001b[0m\u001b[0;34m)\u001b[0m\u001b[0;34m\u001b[0m\u001b[0;34m\u001b[0m\u001b[0m\n",
            "\u001b[0;32m<__array_function__ internals>\u001b[0m in \u001b[0;36mconcatenate\u001b[0;34m(*args, **kwargs)\u001b[0m\n",
            "\u001b[0;31mValueError\u001b[0m: zero-dimensional arrays cannot be concatenated"
          ]
        }
      ],
      "source": [
        "prediction = np.concatenate(prediction, axis = 0).tolist()\n",
        "prediction = [item for sublist in prediction for item in sublist]\n",
        "prediction = pd.DataFrame(prediction)"
      ]
    },
    {
      "cell_type": "code",
      "execution_count": null,
      "metadata": {
        "id": "mkC-gruu_Kky"
      },
      "outputs": [],
      "source": [
        "rng = pd.date_range('2018-01-31 00:00:00', preiods = 40, freq = 'M')\n",
        "rng = pd.DataFrame(rng)\n",
        "prediction = pd.merge(rng, prediction, left_index = True, right_index = True, how = 'outer')\n",
        "prediction.set_index('0_x')\n",
        "prediction.columns = ['Date', 'ZHVIPerSqft_AllHomes']\n",
        "prediction"
      ]
    },
    {
      "cell_type": "code",
      "source": [
        "original = pd.DataFrame({'Date':df_zhvi_sqft_all.index, 'ZHVIPerSqft_AllHomes':df_zhvi_sqft_all.values})\n",
        "middle = original.shape[0]\n",
        "original"
      ],
      "metadata": {
        "id": "UknkdWLbecmd"
      },
      "execution_count": null,
      "outputs": []
    },
    {
      "cell_type": "code",
      "source": [
        "frames = [original, prediction]\n",
        "df_final = pd.concat(frames)\n",
        "df_final.set_index(['Date'], inplace = True)"
      ],
      "metadata": {
        "id": "hujnoPkhenYU"
      },
      "execution_count": null,
      "outputs": []
    },
    {
      "cell_type": "code",
      "source": [
        "df_final = pd.Series(df_final.ZHVIPerSqft_AllHomes)"
      ],
      "metadata": {
        "id": "yCcUmMcUeto9"
      },
      "execution_count": null,
      "outputs": []
    },
    {
      "cell_type": "code",
      "source": [
        "plt.rc('figure', figsize = (15,10))"
      ],
      "metadata": {
        "id": "w1J3BEtHexd1"
      },
      "execution_count": null,
      "outputs": []
    },
    {
      "cell_type": "code",
      "source": [
        "fig,ax = plt.subplots(figsize = (15,10))\n",
        "ax.scatter(df_final.index[:middle]. df_final[:middle], label = 'past')\n",
        "ax.scatter(df_final.index[middle:], df_final[middle:], label = 'future')\n",
        "ax.xaxis.set_major_locator(mdates.YearLocator(1))\n",
        "\n",
        "plt.title('zillow home value index in different year', fontsize = 16)\n",
        "plt.xlabel('year', fontsize = 16)\n",
        "plt.ylabel('zillow home value index in per square foot', fontsize = 16)\n",
        "ax.legend(fontsize = 10, loc = 'upper left')\n",
        "fig.autofmt_xdate()\n",
        "plt.show()"
      ],
      "metadata": {
        "id": "om3lnN54e0Gd"
      },
      "execution_count": null,
      "outputs": []
    }
  ],
  "metadata": {
    "colab": {
      "collapsed_sections": [],
      "name": "hw-rnn-zillow-housingprice-LSTM-skeleton-TFv2.ipynb",
      "provenance": [],
      "include_colab_link": true
    },
    "kernelspec": {
      "display_name": "Python 3",
      "language": "python",
      "name": "python3"
    },
    "language_info": {
      "codemirror_mode": {
        "name": "ipython",
        "version": 3
      },
      "file_extension": ".py",
      "mimetype": "text/x-python",
      "name": "python",
      "nbconvert_exporter": "python",
      "pygments_lexer": "ipython3",
      "version": "3.8.5"
    },
    "accelerator": "GPU",
    "gpuClass": "standard"
  },
  "nbformat": 4,
  "nbformat_minor": 0
}
