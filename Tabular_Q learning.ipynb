{
  "cells": [
    {
      "cell_type": "markdown",
      "metadata": {
        "id": "view-in-github",
        "colab_type": "text"
      },
      "source": [
        "<a href=\"https://colab.research.google.com/github/JHyunjun/SNU/blob/main/Tabular_Q%20learning.ipynb\" target=\"_parent\"><img src=\"https://colab.research.google.com/assets/colab-badge.svg\" alt=\"Open In Colab\"/></a>"
      ]
    },
    {
      "cell_type": "markdown",
      "metadata": {
        "id": "OFoqTA-WPoz6"
      },
      "source": [
        "If you run in jupyter, turn \n",
        "\n",
        "```\n",
        "colab = False\n",
        "```\n",
        "\n"
      ]
    },
    {
      "cell_type": "code",
      "source": [
        "from google.colab import drive\n",
        "drive.mount('/content/drive')"
      ],
      "metadata": {
        "colab": {
          "base_uri": "https://localhost:8080/"
        },
        "id": "ibw0QjgIcLR5",
        "outputId": "b2b48b1a-cbe9-4042-a937-6af9a79be960"
      },
      "execution_count": 2,
      "outputs": [
        {
          "output_type": "stream",
          "name": "stdout",
          "text": [
            "Drive already mounted at /content/drive; to attempt to forcibly remount, call drive.mount(\"/content/drive\", force_remount=True).\n"
          ]
        }
      ]
    },
    {
      "cell_type": "code",
      "execution_count": 3,
      "metadata": {
        "colab": {
          "base_uri": "https://localhost:8080/",
          "height": 364
        },
        "id": "apg1TJg_ODA1",
        "outputId": "92e79d88-104a-4abf-d943-be49b0b8a3ce"
      },
      "outputs": [
        {
          "output_type": "stream",
          "name": "stdout",
          "text": [
            "Looking in indexes: https://pypi.org/simple, https://us-python.pkg.dev/colab-wheels/public/simple/\n",
            "Requirement already satisfied: setuptools in /usr/local/lib/python3.7/dist-packages (57.4.0)\n",
            "Collecting setuptools\n",
            "  Downloading setuptools-65.2.0-py3-none-any.whl (1.2 MB)\n",
            "\u001b[K     |████████████████████████████████| 1.2 MB 4.9 MB/s \n",
            "\u001b[?25hInstalling collected packages: setuptools\n",
            "  Attempting uninstall: setuptools\n",
            "    Found existing installation: setuptools 57.4.0\n",
            "    Uninstalling setuptools-57.4.0:\n",
            "      Successfully uninstalled setuptools-57.4.0\n",
            "\u001b[31mERROR: pip's dependency resolver does not currently take into account all the packages that are installed. This behaviour is the source of the following dependency conflicts.\n",
            "ipython 7.9.0 requires jedi>=0.10, which is not installed.\u001b[0m\n",
            "Successfully installed setuptools-65.2.0\n"
          ]
        },
        {
          "output_type": "display_data",
          "data": {
            "application/vnd.colab-display-data+json": {
              "pip_warning": {
                "packages": [
                  "pkg_resources"
                ]
              }
            }
          },
          "metadata": {}
        }
      ],
      "source": [
        "colab = True\n",
        "if colab:\n",
        "    !pip install gym pyvirtualdisplay > /dev/null 2>&1\n",
        "    !apt-get install -y xvfb python-opengl ffmpeg > /dev/null 2>&1\n",
        "    !apt-get update > /dev/null 2>&1\n",
        "    !apt-get install cmake > /dev/null 2>&1\n",
        "    !pip install --upgrade setuptools 2>&1\n",
        "    !pip install ez_setup > /dev/null 2>&1"
      ]
    },
    {
      "cell_type": "code",
      "execution_count": 4,
      "metadata": {
        "id": "r2b4pUKfNSPK",
        "colab": {
          "base_uri": "https://localhost:8080/"
        },
        "outputId": "51e10f79-ca61-4ceb-f705-d8ad42bd6d81"
      },
      "outputs": [
        {
          "output_type": "stream",
          "name": "stdout",
          "text": [
            "Drive already mounted at /content/drive; to attempt to forcibly remount, call drive.mount(\"/content/drive\", force_remount=True).\n",
            "/content/drive/MyDrive/Colab Notebooks/snu/8주_RL/강의자료/실습강의/day2/q_learning\n",
            "assets\t\t\t     main.py\t       schedule.py\n",
            "compare.py\t\t     optimum.npy       table.npy\n",
            "day2_tabular_q_learning.pdf  optimum.png       table.py\n",
            "discrete_pendulum.py\t     plot.py\t       test.py\n",
            "learned_value.png\t     q_learning.ipynb  trajectory.png\n"
          ]
        }
      ],
      "source": [
        "if colab:\n",
        "    from google.colab import drive\n",
        "    drive.mount('/content/drive')\n",
        "    \n",
        "    %cd /content/drive/MyDrive/Colab Notebooks/snu/8주_RL/강의자료/실습강의/day2/q_learning\n",
        "    !ls"
      ]
    },
    {
      "cell_type": "markdown",
      "metadata": {
        "id": "JZ-kDzNINOPh"
      },
      "source": [
        "# Tabular Q-learning Practice"
      ]
    },
    {
      "cell_type": "code",
      "execution_count": 5,
      "metadata": {
        "id": "EQbv3yRcNOPj"
      },
      "outputs": [],
      "source": [
        "import numpy as np\n",
        "import matplotlib.pyplot as plt\n",
        "from tqdm import tqdm\n",
        "from discrete_pendulum import DiscretePendulumEnv"
      ]
    },
    {
      "cell_type": "markdown",
      "metadata": {
        "id": "6CgkfEVcNOPk"
      },
      "source": [
        "# 0. Basic definitions"
      ]
    },
    {
      "cell_type": "markdown",
      "metadata": {
        "id": "dm52tSrONOPk"
      },
      "source": [
        "## 0.0. Q-table"
      ]
    },
    {
      "cell_type": "code",
      "execution_count": 6,
      "metadata": {
        "id": "3gHbbASFNOPk"
      },
      "outputs": [],
      "source": [
        "class QTable:\n",
        "    def __init__(self, num_states, num_actions, gamma=0.99, pth=None):\n",
        "        self.gamma = gamma\n",
        "        if pth is None:\n",
        "            self.Q = -300. * np.ones(shape=(num_states, num_actions))\n",
        "        else:\n",
        "            self.Q = np.load(pth, allow_pickle=True)\n",
        "\n",
        "    def update(self, state, action, reward, next_state, alpha):\n",
        "        # update Q-table according to the following update rule:\n",
        "        # Q(s, a) <- Q(s, a) + alpha * (r + gamma max_{a'} Q(s', a') - Q(s, a))\n",
        "        target = reward + self.gamma * np.max(self.Q[next_state]) - self.Q[state, action]\n",
        "        # TODO2 : Build incremental update of Q-function\n",
        "        self.Q[state, action] += alpha * target\n",
        "\n",
        "    def act(self, state):\n",
        "        return np.argmax(self.Q[state])\n",
        "\n",
        "    def save(self, pth=None):\n",
        "        if pth is None:\n",
        "            pth = './table.npy'\n",
        "        np.save(pth, self.Q)\n",
        "\n",
        "    @property\n",
        "    def value_ftn(self):\n",
        "        return np.max(self.Q, axis=1)"
      ]
    },
    {
      "cell_type": "markdown",
      "metadata": {
        "id": "loCG8x6RNOPl"
      },
      "source": [
        "## 0.1. Stepsize rule & Exploration Schedule"
      ]
    },
    {
      "cell_type": "code",
      "execution_count": 7,
      "metadata": {
        "id": "BSgydQcENOPl"
      },
      "outputs": [],
      "source": [
        "class LinearExplorationSchedule:\n",
        "    def __init__(self, rollout_len, initial_epsilon=1., final_epsilon=0.02):\n",
        "        # linear exploration schedule\n",
        "        self.decrement = (initial_epsilon - final_epsilon) / rollout_len\n",
        "        self.initial_epsilon = initial_epsilon\n",
        "        self.final_epsilon = final_epsilon\n",
        "\n",
        "    def __call__(self, t):\n",
        "        # define this as callable object so that the schedule is stateless\n",
        "        return max(self.initial_epsilon - t * self.decrement, self.final_epsilon)\n",
        "    \n",
        "# TODO : try exponentially decaying schedule!\n",
        "class ExponentialExplorationSchedule:\n",
        "    def __init__(self, decay_rate, initial_epsilon=1., final_epsilon=0.02):\n",
        "        self.decay_rate = decay_rate\n",
        "        self.initial_epsilon = initial_epsilon\n",
        "        self.final_epsilon = final_epsilon\n",
        "\n",
        "    def __call__(self, t):\n",
        "        epsilon = self.decay_rate ** t * self.initial_epsilon\n",
        "        return max(epsilon, self.final)"
      ]
    },
    {
      "cell_type": "markdown",
      "metadata": {
        "id": "Ag8alOj2NOPm"
      },
      "source": [
        "# 1. Q-learning"
      ]
    },
    {
      "cell_type": "code",
      "execution_count": 8,
      "metadata": {
        "id": "97_DojYsNOPm"
      },
      "outputs": [],
      "source": [
        "env = DiscretePendulumEnv()\n",
        "num_states = env.observation_space.n\n",
        "num_actions = env.action_space.n\n",
        "gamma = 0.99\n",
        "\n",
        "learner = QTable(num_states=env.observation_space.n, num_actions=env.action_space.n, gamma=gamma)\n",
        "rollout_len = 1000000\n",
        "\n",
        "\n",
        "epsilon_schedule = LinearExplorationSchedule(rollout_len, final_epsilon=0.4)\n",
        "# TODO : alternative\n",
        "# \\epsilon = ExponentialExplorationSchedule(decay_rate=0.99, final_epsilon=0.02)\n",
        "\n",
        "checkpoint_interval = rollout_len // 20"
      ]
    },
    {
      "cell_type": "code",
      "execution_count": 9,
      "metadata": {
        "id": "OgmnuF0dNOPn",
        "colab": {
          "base_uri": "https://localhost:8080/"
        },
        "outputId": "28db3906-e481-432b-8446-00f4d30494d0"
      },
      "outputs": [
        {
          "output_type": "stream",
          "name": "stderr",
          "text": [
            "100%|██████████| 1000001/1000001 [05:42<00:00, 2918.82it/s]\n"
          ]
        }
      ],
      "source": [
        "class VisitCountStepsizeSchedule:\n",
        "    def __init__(self, deg=1.0):\n",
        "        # polynomial stepsize schedule : $\\Theta(N_t(s, a)^{-d})$\n",
        "        # $N_t(s, a)$ is the number of visits of (s, a)-pair until step t\n",
        "        # to satisfy Robbins-Monro condition, d must satisfy $d \\in (1/2, 1]$\n",
        "        assert .5 < deg <= 1\n",
        "        self.deg = deg\n",
        "\n",
        "    def __call__(self, n):\n",
        "        return 1. / ((n + 1.) ** self.deg)\n",
        "    \n",
        "visit_count = np.zeros(shape=(num_states, num_actions))     # save visit counts N(s, a) of all state-action pairs\n",
        "alpha_schedule = VisitCountStepsizeSchedule(deg=0.5001)\n",
        "\n",
        "s = env.reset()\n",
        "for t in tqdm(range(rollout_len + 1)):\n",
        "    u = np.random.rand()\n",
        "    if u < epsilon_schedule(t):\n",
        "        a = env.action_space.sample()\n",
        "    else:\n",
        "        a = learner.act(state=s)\n",
        "\n",
        "    s_next, r, _, _ = env.step(action=a)\n",
        "    \n",
        "    # TODO3 : Fill the below line which determines the stepsize. \n",
        "    n = visit_count[s, a]\n",
        "    learner.update(state=s, action=a, reward=r, next_state=s_next, alpha=alpha_schedule(n))\n",
        "    visit_count[s, a] += 1\n",
        "    s = s_next\n",
        "    if t % checkpoint_interval == 0:\n",
        "        learner.save()"
      ]
    },
    {
      "cell_type": "markdown",
      "metadata": {
        "id": "wDdUvKVlNOPo"
      },
      "source": [
        "# 2. Let's see if the Q-function is learned properly!"
      ]
    },
    {
      "cell_type": "markdown",
      "metadata": {
        "id": "0E-fnx9bNOPo"
      },
      "source": [
        "## 2.0. Visualization"
      ]
    },
    {
      "cell_type": "code",
      "execution_count": 10,
      "metadata": {
        "colab": {
          "base_uri": "https://localhost:8080/",
          "height": 390
        },
        "id": "TAp7okx3N03k",
        "outputId": "d12d4d3e-ee5b-443a-f937-f8c703a8c765"
      },
      "outputs": [
        {
          "output_type": "error",
          "ename": "ImportError",
          "evalue": "ignored",
          "traceback": [
            "\u001b[0;31m---------------------------------------------------------------------------\u001b[0m",
            "\u001b[0;31mImportError\u001b[0m                               Traceback (most recent call last)",
            "\u001b[0;32m<ipython-input-10-816db65bb9bb>\u001b[0m in \u001b[0;36m<module>\u001b[0;34m\u001b[0m\n\u001b[1;32m      1\u001b[0m \u001b[0;32mif\u001b[0m \u001b[0mcolab\u001b[0m\u001b[0;34m:\u001b[0m\u001b[0;34m\u001b[0m\u001b[0;34m\u001b[0m\u001b[0m\n\u001b[1;32m      2\u001b[0m   \u001b[0;32mimport\u001b[0m \u001b[0mgym\u001b[0m\u001b[0;34m\u001b[0m\u001b[0;34m\u001b[0m\u001b[0m\n\u001b[0;32m----> 3\u001b[0;31m   \u001b[0;32mfrom\u001b[0m \u001b[0mgym\u001b[0m\u001b[0;34m.\u001b[0m\u001b[0mwrappers\u001b[0m \u001b[0;32mimport\u001b[0m \u001b[0mMonitor\u001b[0m\u001b[0;34m\u001b[0m\u001b[0;34m\u001b[0m\u001b[0m\n\u001b[0m\u001b[1;32m      4\u001b[0m   \u001b[0;32mimport\u001b[0m \u001b[0mglob\u001b[0m\u001b[0;34m\u001b[0m\u001b[0;34m\u001b[0m\u001b[0m\n\u001b[1;32m      5\u001b[0m   \u001b[0;32mimport\u001b[0m \u001b[0mio\u001b[0m\u001b[0;34m\u001b[0m\u001b[0;34m\u001b[0m\u001b[0m\n",
            "\u001b[0;31mImportError\u001b[0m: cannot import name 'Monitor' from 'gym.wrappers' (/usr/local/lib/python3.7/dist-packages/gym/wrappers/__init__.py)",
            "",
            "\u001b[0;31m---------------------------------------------------------------------------\u001b[0;32m\nNOTE: If your import is failing due to a missing package, you can\nmanually install dependencies using either !pip or !apt.\n\nTo view examples of installing some common dependencies, click the\n\"Open Examples\" button below.\n\u001b[0;31m---------------------------------------------------------------------------\u001b[0m\n"
          ],
          "errorDetails": {
            "actions": [
              {
                "action": "open_url",
                "actionText": "Open Examples",
                "url": "/notebooks/snippets/importing_libraries.ipynb"
              }
            ]
          }
        }
      ],
      "source": [
        "if colab:\n",
        "  import gym\n",
        "  from gym.wrappers import Monitor\n",
        "  import glob\n",
        "  import io\n",
        "  import base64\n",
        "  from IPython.display import HTML\n",
        "  from pyvirtualdisplay import Display\n",
        "  from IPython import display as ipythondisplay\n",
        "\n",
        "  display = Display(visible=0, size=(1400, 900))\n",
        "  display.start()\n",
        "\n",
        "  def show_video():\n",
        "    mp4list = glob.glob('video/*.mp4')\n",
        "    if len(mp4list) > 0:\n",
        "      mp4 = mp4list[0]\n",
        "      video = io.open(mp4, 'r+b').read()\n",
        "      encoded = base64.b64encode(video)\n",
        "      ipythondisplay.display(HTML(data='''<video alt=\"test\" autoplay \n",
        "                  loop controls style=\"height: 400px;\">\n",
        "                  <source src=\"data:video/mp4;base64,{0}\" type=\"video/mp4\" />\n",
        "              </video>'''.format(encoded.decode('ascii'))))\n",
        "    else: \n",
        "      print(\"Could not find video\")\n",
        "      \n",
        "\n",
        "  def wrap_env(env):\n",
        "    env = Monitor(env, './video', force=True)\n",
        "    return env\n",
        "\n",
        "  env = wrap_env(env)"
      ]
    },
    {
      "cell_type": "code",
      "execution_count": null,
      "metadata": {
        "id": "YpdGqLaFNOPp"
      },
      "outputs": [],
      "source": [
        "ep_len = 400\n",
        "# test learned result!\n",
        "trajectory = np.zeros((ep_len, 2))      # store continuous states\n",
        "reward = 0.\n",
        "\n",
        "np.random.seed(2021)\n",
        "env = DiscretePendulumEnv()\n",
        "if colab:\n",
        "  env = wrap_env(env)\n",
        "s = env.reset(deterministic=True)\n",
        "\n",
        "for t in range(ep_len):\n",
        "    trajectory[t] = np.copy(env.x)\n",
        "    a = learner.act(s)\n",
        "    s, r, _, _ = env.step(a)\n",
        "    reward += (gamma ** t) * r\n",
        "    env.render()\n",
        "print('total reward =', reward)\n",
        "env.close()\n",
        "\n",
        "if colab:\n",
        "  show_video()"
      ]
    },
    {
      "cell_type": "markdown",
      "metadata": {
        "id": "Vro4h79fNOPp"
      },
      "source": [
        "## 2.1. Trajectory Plot"
      ]
    },
    {
      "cell_type": "code",
      "execution_count": null,
      "metadata": {
        "id": "kltxc7mZNOPp",
        "scrolled": true
      },
      "outputs": [],
      "source": [
        "fig, ax = plt.subplots(2, 1, figsize=(8, 10), sharex=True)\n",
        "x = env.dt * np.arange(ep_len)\n",
        "ylabels = [r'$\\theta$ (rad)', r'$\\dot\\theta$ (rad/s)']\n",
        "ax[1].set_xlabel(r'$t$ (s)', fontsize=20)\n",
        "ax[0].set_ylim(-np.pi, np.pi)\n",
        "ax[1].set_ylim(-8., 8.)\n",
        "ax[0].set_yticks([-np.pi, -np.pi / 2, 0, np.pi / 2, np.pi])\n",
        "ax[0].set_yticklabels([r'$-\\pi$', r'$-\\pi/2$', r'$0$', r'$\\pi/2$', r'$\\pi$'])\n",
        "ax[1].set_yticks([-8, -4, 0, 4, 8])\n",
        "for i in range(2):\n",
        "    ax[i].plot(x, trajectory[:, i])\n",
        "    ax[i].set_xlim(0, x[-1])\n",
        "    ax[i].grid(True)\n",
        "    ax[i].set_ylabel(ylabels[i], fontsize=20)\n",
        "    ax[i].tick_params(axis='both', which='major', labelsize=18)\n",
        "fig.tight_layout()"
      ]
    },
    {
      "cell_type": "markdown",
      "metadata": {
        "id": "iHpvCABNNOPq"
      },
      "source": [
        "# 2.2. Q-learning Result vs Optimal Solution"
      ]
    },
    {
      "cell_type": "code",
      "execution_count": null,
      "metadata": {
        "id": "kgBIGzVfNOPq"
      },
      "outputs": [],
      "source": [
        "optimal_agent = QTable(num_states=env.observation_space.n, num_actions=env.action_space.n, pth='./optimum.npy')\n",
        "if colab:\n",
        "  env = wrap_env(DiscretePendulumEnv())"
      ]
    },
    {
      "cell_type": "code",
      "execution_count": null,
      "metadata": {
        "id": "z_cetZFcNOPq"
      },
      "outputs": [],
      "source": [
        "ep_len = 400\n",
        "# test learned result!\n",
        "trajectory = np.zeros((ep_len, 2))      # store continuous states\n",
        "reward = 0.\n",
        "\n",
        "s = env.reset(deterministic=True)\n",
        "\n",
        "for t in range(ep_len):\n",
        "    trajectory[t] = np.copy(env.x)\n",
        "    a = optimal_agent.act(s)\n",
        "    s, r, _, _ = env.step(a)\n",
        "    reward += (gamma ** t) * r\n",
        "    env.render()\n",
        "print('total reward =', reward)\n",
        "env.close()\n",
        "\n",
        "if colab:\n",
        "  show_video()"
      ]
    }
  ],
  "metadata": {
    "colab": {
      "collapsed_sections": [],
      "name": "q_learning.ipynb",
      "provenance": [],
      "include_colab_link": true
    },
    "kernelspec": {
      "display_name": "Python 3",
      "language": "python",
      "name": "python3"
    },
    "language_info": {
      "codemirror_mode": {
        "name": "ipython",
        "version": 3
      },
      "file_extension": ".py",
      "mimetype": "text/x-python",
      "name": "python",
      "nbconvert_exporter": "python",
      "pygments_lexer": "ipython3",
      "version": "3.6.10"
    },
    "accelerator": "GPU",
    "gpuClass": "standard"
  },
  "nbformat": 4,
  "nbformat_minor": 0
}